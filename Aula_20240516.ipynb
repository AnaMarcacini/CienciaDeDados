{
  "nbformat": 4,
  "nbformat_minor": 0,
  "metadata": {
    "colab": {
      "provenance": [],
      "authorship_tag": "ABX9TyOz36vzWzJx6JfrpSUTFlbt",
      "include_colab_link": true
    },
    "kernelspec": {
      "name": "python3",
      "display_name": "Python 3"
    },
    "language_info": {
      "name": "python"
    }
  },
  "cells": [
    {
      "cell_type": "markdown",
      "metadata": {
        "id": "view-in-github",
        "colab_type": "text"
      },
      "source": [
        "<a href=\"https://colab.research.google.com/github/Rogerio-mack/IMT_CD_2024/blob/main/Aula_20240516.ipynb\" target=\"_parent\"><img src=\"https://colab.research.google.com/assets/colab-badge.svg\" alt=\"Open In Colab\"/></a>"
      ]
    },
    {
      "cell_type": "code",
      "execution_count": 4,
      "metadata": {
        "id": "wQQ7qw25nIv_"
      },
      "outputs": [],
      "source": [
        "import numpy as np\n",
        "import pandas as pd\n",
        "import matplotlib.pyplot as plt\n",
        "import seaborn as sns"
      ]
    },
    {
      "cell_type": "code",
      "source": [
        "from scipy.stats import norm"
      ],
      "metadata": {
        "id": "qK-Muz-vnOy1"
      },
      "execution_count": 7,
      "outputs": []
    },
    {
      "cell_type": "code",
      "source": [
        "np.random.seed(42)\n",
        "x = np.random.randint(36,43,30)\n",
        "x"
      ],
      "metadata": {
        "colab": {
          "base_uri": "https://localhost:8080/"
        },
        "id": "tG4YKNKtom4K",
        "outputId": "b2a64554-4028-47f8-d6e8-f7b5dee8995b"
      },
      "execution_count": 8,
      "outputs": [
        {
          "output_type": "execute_result",
          "data": {
            "text/plain": [
              "array([42, 39, 40, 42, 38, 40, 40, 42, 37, 38, 42, 38, 38, 40, 39, 38, 41,\n",
              "       40, 37, 39, 41, 41, 37, 39, 40, 36, 39, 37, 41, 40])"
            ]
          },
          "metadata": {},
          "execution_count": 8
        }
      ]
    },
    {
      "cell_type": "markdown",
      "source": [
        "# PDF\n",
        "\n",
        "$$= P(X=x_0)$$\n",
        "\n",
        "Função de probabilidade"
      ],
      "metadata": {
        "id": "fQybkRUnqXmZ"
      }
    },
    {
      "cell_type": "code",
      "source": [
        "mu = x.mean()\n",
        "sigma = x.std()\n",
        "mu, sigma"
      ],
      "metadata": {
        "colab": {
          "base_uri": "https://localhost:8080/"
        },
        "id": "eZEBVQ9krdHn",
        "outputId": "3a0f5c49-51c2-43bd-fa19-6386b072073c"
      },
      "execution_count": 9,
      "outputs": [
        {
          "output_type": "execute_result",
          "data": {
            "text/plain": [
              "(39.36666666666667, 1.682920741515245)"
            ]
          },
          "metadata": {},
          "execution_count": 9
        }
      ]
    },
    {
      "cell_type": "code",
      "source": [
        "funcao_sapatos = norm(loc=mu,scale=sigma)\n"
      ],
      "metadata": {
        "id": "xr7FX7-VqW8J"
      },
      "execution_count": 11,
      "outputs": []
    },
    {
      "cell_type": "code",
      "source": [
        "funcao_sapatos.pdf(39)"
      ],
      "metadata": {
        "colab": {
          "base_uri": "https://localhost:8080/"
        },
        "id": "35fiaL29rskv",
        "outputId": "71c2ead9-5d5b-4296-e636-9b74252b0d82"
      },
      "execution_count": 13,
      "outputs": [
        {
          "output_type": "execute_result",
          "data": {
            "text/plain": [
              "0.23149334534231303"
            ]
          },
          "metadata": {},
          "execution_count": 13
        }
      ]
    },
    {
      "cell_type": "code",
      "source": [
        "funcao_sapatos.pdf(np.linspace(33,46,100))"
      ],
      "metadata": {
        "colab": {
          "base_uri": "https://localhost:8080/"
        },
        "id": "fao2_My_sMSX",
        "outputId": "32430e88-2f89-4721-c006-39d92cd03b9c"
      },
      "execution_count": 14,
      "outputs": [
        {
          "output_type": "execute_result",
          "data": {
            "text/plain": [
              "array([1.84952252e-04, 2.47704793e-04, 3.29735056e-04, 4.36266397e-04,\n",
              "       5.73712525e-04, 7.49881825e-04, 9.74198041e-04, 1.25793327e-03,\n",
              "       1.61444734e-03, 2.05942553e-03, 2.61110434e-03, 3.29047269e-03,\n",
              "       4.12143336e-03, 5.13090768e-03, 6.34886434e-03, 7.80825203e-03,\n",
              "       9.54481522e-03, 1.15967730e-02, 1.40043422e-02, 1.68090899e-02,\n",
              "       2.00531044e-02, 2.37779800e-02, 2.80236194e-02, 3.28268661e-02,\n",
              "       3.82199883e-02, 4.42290492e-02, 5.08722076e-02, 5.81580041e-02,\n",
              "       6.60836969e-02, 7.46337211e-02, 8.37783471e-02, 9.34726184e-02,\n",
              "       1.03655645e-01, 1.14250322e-01, 1.25163540e-01, 1.36286918e-01,\n",
              "       1.47498101e-01, 1.58662618e-01, 1.69636277e-01, 1.80268056e-01,\n",
              "       1.90403421e-01, 1.99887965e-01, 2.08571264e-01, 2.16310812e-01,\n",
              "       2.22975892e-01, 2.28451241e-01, 2.32640359e-01, 2.35468342e-01,\n",
              "       2.36884105e-01, 2.36861918e-01, 2.35402186e-01, 2.32531434e-01,\n",
              "       2.28301505e-01, 2.22788007e-01, 2.16088060e-01, 2.08317454e-01,\n",
              "       1.99607325e-01, 1.90100483e-01, 1.79947531e-01, 1.69302938e-01,\n",
              "       1.58321181e-01, 1.47153121e-01, 1.35942691e-01, 1.24824023e-01,\n",
              "       1.13919066e-01, 1.03335747e-01, 9.31666924e-02, 8.34885081e-02,\n",
              "       7.43615874e-02, 6.58304056e-02, 5.79242392e-02, 5.06582372e-02,\n",
              "       4.40347703e-02, 3.80449770e-02, 3.26704295e-02, 2.78848486e-02,\n",
              "       2.36558014e-02, 1.99463285e-02, 1.67164555e-02, 1.39245559e-02,\n",
              "       1.15285434e-02, 9.48688100e-03, 7.75940453e-03, 6.30796483e-03,\n",
              "       5.09689938e-03, 4.09334910e-03, 3.26743862e-03, 2.59234034e-03,\n",
              "       2.04424303e-03, 1.60224514e-03, 1.24819181e-03, 9.66472762e-04,\n",
              "       7.43796000e-04, 5.68949849e-04, 4.32563691e-04, 3.26875270e-04,\n",
              "       2.45510458e-04, 1.83279485e-04, 1.35992088e-04, 1.00292708e-04])"
            ]
          },
          "metadata": {},
          "execution_count": 14
        }
      ]
    },
    {
      "cell_type": "code",
      "source": [
        "plt.plot(np.linspace(33,46,100),funcao_sapatos.pdf(np.linspace(33,46,100)))\n",
        "plt.show()"
      ],
      "metadata": {
        "colab": {
          "base_uri": "https://localhost:8080/",
          "height": 430
        },
        "id": "-Ma2-O3CsVy2",
        "outputId": "04d12b2b-6257-4649-9299-c6610b542eb3"
      },
      "execution_count": 15,
      "outputs": [
        {
          "output_type": "display_data",
          "data": {
            "text/plain": [
              "<Figure size 640x480 with 1 Axes>"
            ],
            "image/png": "[encoded data removed]"
          },
          "metadata": {}
        }
      ]
    },
    {
      "cell_type": "markdown",
      "source": [
        "# CDF\n",
        "\n",
        "$$= P(X \\le x_0)$$\n",
        "\n",
        "Distribuição de Probabilidade Acumulada"
      ],
      "metadata": {
        "id": "0oCBrt5otAHl"
      }
    },
    {
      "cell_type": "code",
      "source": [
        "funcao_sapatos.cdf(40)"
      ],
      "metadata": {
        "colab": {
          "base_uri": "https://localhost:8080/"
        },
        "id": "E8qBhtFVt149",
        "outputId": "6d4fd97f-1771-40ec-b120-af9a52630cee"
      },
      "execution_count": 16,
      "outputs": [
        {
          "output_type": "execute_result",
          "data": {
            "text/plain": [
              "0.6466641598445435"
            ]
          },
          "metadata": {},
          "execution_count": 16
        }
      ]
    },
    {
      "cell_type": "code",
      "source": [
        "plt.plot(np.linspace(33,46,100),funcao_sapatos.cdf(np.linspace(33,46,100)))\n",
        "plt.show()"
      ],
      "metadata": {
        "colab": {
          "base_uri": "https://localhost:8080/",
          "height": 430
        },
        "id": "92ruz78HuCiL",
        "outputId": "49383141-8075-4901-e2ec-bfc743a0a4f9"
      },
      "execution_count": 17,
      "outputs": [
        {
          "output_type": "display_data",
          "data": {
            "text/plain": [
              "<Figure size 640x480 with 1 Axes>"
            ],
            "image/png": "[encoded data removed]"
          },
          "metadata": {}
        }
      ]
    },
    {
      "cell_type": "markdown",
      "source": [
        "# PPF\n",
        "\n",
        "$$= x_0 | P(X \\le x_0) = P_0 $$\n",
        "\n",
        "Distribuição de Probabilidade Acumulada"
      ],
      "metadata": {
        "id": "FRCuZK1eueTs"
      }
    },
    {
      "cell_type": "code",
      "source": [
        "funcao_sapatos.ppf(0.9)"
      ],
      "metadata": {
        "colab": {
          "base_uri": "https://localhost:8080/"
        },
        "outputId": "faa0bb71-95ac-4c01-c687-b2a103eeb44a",
        "id": "sBhqA4P6ueTt"
      },
      "execution_count": 18,
      "outputs": [
        {
          "output_type": "execute_result",
          "data": {
            "text/plain": [
              "41.52341637764301"
            ]
          },
          "metadata": {},
          "execution_count": 18
        }
      ]
    },
    {
      "cell_type": "code",
      "source": [
        "funcao_sapatos.cdf(40), funcao_sapatos.ppf(funcao_sapatos.cdf(40))"
      ],
      "metadata": {
        "id": "L2cczBqlFXH8",
        "outputId": "77a2d8da-30c4-4b8e-e8a4-95b2c29e4bc0",
        "colab": {
          "base_uri": "https://localhost:8080/"
        }
      },
      "execution_count": 19,
      "outputs": [
        {
          "output_type": "execute_result",
          "data": {
            "text/plain": [
              "(0.6466641598445435, 40.0)"
            ]
          },
          "metadata": {},
          "execution_count": 19
        }
      ]
    },
    {
      "cell_type": "code",
      "source": [
        "plt.plot(np.linspace(0,1,100),funcao_sapatos.ppf(np.linspace(0,1,100)))\n",
        "plt.show()"
      ],
      "metadata": {
        "colab": {
          "base_uri": "https://localhost:8080/",
          "height": 430
        },
        "id": "YhHQAug_vRB8",
        "outputId": "ead3bbaa-4452-4a34-f4ff-3bb5218cb9b0"
      },
      "execution_count": null,
      "outputs": [
        {
          "output_type": "display_data",
          "data": {
            "text/plain": [
              "<Figure size 640x480 with 1 Axes>"
            ],
            "image/png": "[encoded data removed]"
          },
          "metadata": {}
        }
      ]
    },
    {
      "cell_type": "code",
      "source": [
        "funcao_sapatos.rvs(size=1000)"
      ],
      "metadata": {
        "id": "YvPlaq8gF1ar",
        "outputId": "e19158cd-8009-43a1-cb75-7e0155f58e95",
        "colab": {
          "base_uri": "https://localhost:8080/"
        }
      },
      "execution_count": 20,
      "outputs": [
        {
          "output_type": "execute_result",
          "data": {
            "text/plain": [
              "array([36.46376667, 38.42038132, 37.66215217, 39.89552002, 37.83853412,\n",
              "       36.98987147, 41.83323738, 38.98670305, 39.48031128, 36.96892839,\n",
              "       38.45051369, 39.55334059, 37.4296357 , 39.99893665, 38.35583936,\n",
              "       38.8757692 , 38.35404213, 42.48390404, 39.34395191, 37.58662301,\n",
              "       40.75094456, 37.31208357, 39.71816754, 36.06869717, 37.13143482,\n",
              "       39.69796852, 40.60944739, 39.6550659 , 39.17203977, 38.85993301,\n",
              "       36.87843134, 38.15522592, 38.59144812, 41.14571959, 39.94494901,\n",
              "       36.39960982, 39.9120743 , 38.71860371, 38.22746059, 40.39606938,\n",
              "       41.10175715, 40.9339373 , 37.95433009, 38.84628675, 39.92415677,\n",
              "       41.0084318 , 38.5602544 , 39.05421732, 37.50479259, 37.35354573,\n",
              "       40.73408323, 41.64911114, 39.24547934, 41.055533  , 39.97527143,\n",
              "       38.28098125, 39.97486683, 41.95506031, 39.30637428, 41.99983793,\n",
              "       34.95784329, 40.74986344, 39.51315998, 38.86346099, 39.52109278,\n",
              "       36.02174572, 38.99697629, 39.96765882, 41.85384521, 38.49445897,\n",
              "       38.00603601, 38.52224933, 40.90721588, 39.91992873, 38.47512223,\n",
              "       40.23045508, 39.53004049, 40.99681941, 38.18516695, 38.81523724,\n",
              "       38.70677972, 36.903687  , 39.86501362, 39.806002  , 39.37527221,\n",
              "       38.97187511, 36.98470989, 38.65875393, 38.7899053 , 38.01649761,\n",
              "       39.0952356 , 40.04665223, 42.54096804, 39.66046729, 39.80010356,\n",
              "       39.24138009, 36.13752679, 39.32204592, 39.46802934, 43.51210791,\n",
              "       39.04293841, 39.87414694, 39.30824951, 37.39987416, 41.28994689,\n",
              "       40.63211036, 40.69791074, 37.83623966, 41.72745831, 37.00746244,\n",
              "       40.35430064, 43.05302987, 37.69967254, 38.41363247, 39.53437202,\n",
              "       38.51935705, 36.75702302, 39.48205272, 37.57889371, 40.16368519,\n",
              "       37.81934855, 41.97508342, 38.04851346, 38.82466266, 40.73575167,\n",
              "       37.29521958, 39.74946371, 41.56648432, 36.66139979, 39.67739082,\n",
              "       39.80402881, 40.68241259, 37.28497666, 37.14444284, 40.24505295,\n",
              "       39.86646833, 39.78822628, 39.94971154, 38.22223896, 39.75753123,\n",
              "       39.85988441, 38.16446985, 42.50661729, 40.16408992, 37.3617973 ,\n",
              "       40.47159435, 37.72635467, 40.69126767, 41.3164912 , 37.98552337,\n",
              "       40.98795234, 40.06134425, 40.75012876, 42.55881892, 38.95369792,\n",
              "       38.09818844, 37.86968438, 37.99372262, 39.2369106 , 39.9407984 ,\n",
              "       39.83231535, 40.75875051, 39.38854782, 41.81284931, 38.92127019,\n",
              "       43.94449578, 40.41961522, 37.92413844, 37.56443947, 40.1786295 ,\n",
              "       38.99059651, 40.56827291, 40.16308808, 39.24410138, 37.94157995,\n",
              "       36.81729885, 38.61521739, 40.80791796, 39.72696947, 37.27018704,\n",
              "       39.65811644, 40.01512528, 37.87920465, 39.62537384, 39.46462733,\n",
              "       37.44313825, 39.96879444, 40.31042258, 41.18935607, 41.140132  ,\n",
              "       37.04815831, 37.78838146, 40.2334302 , 40.2313277 , 40.2334511 ,\n",
              "       45.8505084 , 40.32743015, 41.27773364, 40.97217602, 40.46290651,\n",
              "       38.83609352, 40.64395171, 38.06606308, 38.96811972, 38.54983828,\n",
              "       39.50445435, 43.26205358, 36.22420734, 40.52158818, 36.65259368,\n",
              "       38.57244274, 41.19928421, 39.47484484, 37.55290763, 38.16286722,\n",
              "       40.51037581, 38.13751751, 39.73094932, 39.44336046, 38.27007493,\n",
              "       42.97475464, 40.43350214, 35.9585122 , 39.6804545 , 38.2529325 ,\n",
              "       40.80124441, 38.03291708, 39.17357433, 40.21652023, 40.82366404,\n",
              "       37.34666295, 38.8037276 , 38.56737135, 38.26716535, 42.33778623,\n",
              "       40.04821879, 37.24469891, 40.91135558, 42.93808735, 41.10422387,\n",
              "       36.80968744, 38.5517391 , 41.49877772, 38.17571504, 40.11357959,\n",
              "       40.67031438, 37.80671615, 39.26649021, 33.91187063, 37.64270346,\n",
              "       38.94161449, 37.26674647, 42.11388551, 36.95985208, 38.62610667,\n",
              "       39.5866927 , 41.79221538, 36.95022447, 41.32417907, 39.3838881 ,\n",
              "       37.7148654 , 40.14435019, 39.70166836, 38.35654923, 39.48413804,\n",
              "       38.71821442, 39.55770736, 40.48098011, 42.03580726, 37.28352129,\n",
              "       42.95639278, 36.08145762, 39.11122438, 40.3567579 , 39.83955371,\n",
              "       38.31871273, 39.01641341, 38.53698517, 38.37481249, 40.79647966,\n",
              "       39.96749543, 38.20055474, 40.88062196, 39.8838274 , 40.73464919,\n",
              "       40.4262821 , 37.97153377, 38.42392638, 40.62430257, 40.39387145,\n",
              "       39.33149094, 39.56411935, 41.51687542, 38.37109891, 40.2873882 ,\n",
              "       39.02639246, 39.00032645, 41.21582102, 40.75577696, 40.73573891,\n",
              "       41.56368403, 39.40201447, 40.51433947, 38.84451231, 39.91221294,\n",
              "       39.14764622, 39.52990319, 40.36826877, 37.98966611, 42.88798861,\n",
              "       37.67361915, 37.32328347, 41.31567548, 40.69897223, 40.41701085,\n",
              "       40.42412236, 39.34605632, 37.85665867, 39.49423973, 38.22705718,\n",
              "       41.00771589, 39.11918075, 37.97742031, 38.82579977, 40.06159758,\n",
              "       38.41796292, 37.98293491, 39.77677293, 39.77892599, 38.51352148,\n",
              "       38.57394653, 39.75718832, 36.92965549, 36.99801669, 38.15758199,\n",
              "       39.00745203, 39.88989946, 41.84957425, 40.81003984, 39.0975028 ,\n",
              "       39.3346639 , 37.6794892 , 39.33551053, 38.88087706, 39.90977643,\n",
              "       37.97450255, 40.24068569, 41.94614477, 39.18363196, 40.04271566,\n",
              "       40.5281243 , 38.69144441, 39.74379655, 39.38785868, 39.5310478 ,\n",
              "       38.06575247, 39.40791535, 40.20475832, 41.80882634, 40.98104344,\n",
              "       42.99030208, 38.07528154, 40.83471316, 39.67521673, 43.05193144,\n",
              "       38.00636472, 37.95348136, 38.35793635, 35.7923185 , 38.48186264,\n",
              "       38.08910656, 39.61976749, 39.94181489, 42.52411349, 40.96615466,\n",
              "       38.39578354, 37.85470598, 40.19452764, 37.14481882, 42.44886661,\n",
              "       41.35157091, 38.57708123, 36.48359703, 41.64512657, 39.17390519,\n",
              "       41.44981341, 36.68337129, 38.35796601, 39.3754914 , 39.44573128,\n",
              "       38.60924215, 40.41487374, 37.5699461 , 39.12705328, 39.56911468,\n",
              "       40.23242645, 40.5642581 , 37.47398316, 36.78487411, 41.51689549,\n",
              "       39.92592481, 38.10702315, 41.9771325 , 39.56133791, 41.35133036,\n",
              "       39.48029492, 42.83474209, 42.32076618, 38.94767974, 41.00174357,\n",
              "       40.45278324, 41.6699651 , 37.74277696, 40.5212369 , 41.14791119,\n",
              "       36.40684751, 37.37533637, 35.93480054, 38.91327632, 40.57423341,\n",
              "       41.89501451, 39.49136231, 42.10749755, 37.0440653 , 36.50000903,\n",
              "       39.27318429, 40.01301838, 39.311644  , 35.88732547, 39.2166847 ,\n",
              "       37.17134789, 40.49367249, 39.98362246, 37.78492348, 38.50186937,\n",
              "       37.58409426, 39.26118271, 40.97409549, 37.70776786, 40.214937  ,\n",
              "       38.47428512, 38.03232453, 39.18654305, 37.62443589, 38.43491877,\n",
              "       37.35073312, 42.67314334, 39.42601243, 38.1890841 , 39.7267779 ,\n",
              "       39.17762746, 38.99479234, 40.40026054, 40.6414921 , 38.47387528,\n",
              "       38.39761021, 38.90377646, 35.49271579, 36.8167202 , 41.66700772,\n",
              "       42.13501695, 38.94755875, 40.33696634, 39.89047601, 44.54817904,\n",
              "       41.25082251, 39.1513915 , 37.75856784, 36.66314483, 39.70907984,\n",
              "       38.09378831, 36.9731264 , 38.27853575, 37.5465071 , 42.20599232,\n",
              "       40.8503965 , 39.35324934, 41.85729535, 39.4968714 , 37.91719362,\n",
              "       41.92996377, 40.27360956, 37.6210636 , 39.04634176, 37.89307055,\n",
              "       37.03952432, 40.92535007, 42.58006354, 37.01298829, 40.31409927,\n",
              "       38.27168679, 38.54687325, 38.36971464, 37.91263868, 39.44832472,\n",
              "       37.96824348, 39.82182407, 39.28211991, 38.96453604, 37.83930896,\n",
              "       38.39600623, 40.63793023, 40.20967059, 37.72151867, 39.53383506,\n",
              "       40.63119164, 36.55718989, 40.2810988 , 38.2515234 , 40.326939  ,\n",
              "       38.082162  , 36.32919314, 36.62764174, 39.44758982, 39.80375905,\n",
              "       37.84477346, 40.44136716, 36.57046009, 39.2554596 , 37.32862239,\n",
              "       38.26967816, 39.44643487, 37.91865917, 38.71949017, 41.06017771,\n",
              "       38.39580337, 40.77307026, 37.46545957, 40.25828511, 41.7927124 ,\n",
              "       35.20708487, 38.02555511, 40.33783332, 39.02495738, 39.99127576,\n",
              "       38.35020747, 39.51239042, 39.10467422, 41.33195132, 39.79483678,\n",
              "       39.93482519, 38.67351038, 38.54606404, 38.63870552, 40.03049836,\n",
              "       38.65818315, 39.85433478, 42.85940172, 40.8327005 , 38.8179949 ,\n",
              "       41.38821449, 38.67990816, 35.93666461, 37.6701373 , 36.21827214,\n",
              "       38.77509733, 39.39766334, 42.18797779, 39.91685952, 38.99793784,\n",
              "       40.76249052, 35.64550119, 39.76318729, 40.66397169, 36.87832321,\n",
              "       41.29151407, 39.93632929, 38.66777002, 40.43158839, 43.18806277,\n",
              "       39.67273316, 39.78440224, 38.59359868, 37.93644595, 40.76405603,\n",
              "       37.92594544, 39.48710697, 38.56280704, 40.17275175, 39.92819354,\n",
              "       41.11276416, 38.50834949, 38.91248854, 37.71948491, 38.61895632,\n",
              "       40.00163349, 40.64061851, 37.81473552, 40.83014451, 41.64809774,\n",
              "       40.06244484, 42.52516527, 38.06444077, 37.27201145, 36.37322147,\n",
              "       41.88439067, 40.4679122 , 39.27312207, 39.83783167, 37.4725578 ,\n",
              "       43.4826734 , 39.58413567, 39.55076944, 40.58807437, 40.17616708,\n",
              "       39.74344573, 38.03636081, 40.16011054, 42.53396473, 41.63090197,\n",
              "       42.04787349, 38.5063312 , 37.70124019, 39.15497725, 39.46044728,\n",
              "       41.20810427, 36.51838284, 41.94077862, 39.1007519 , 38.64825966,\n",
              "       37.66337522, 36.58167405, 40.75199752, 39.49005499, 37.19576471,\n",
              "       37.18715174, 38.80156763, 42.17549761, 38.929795  , 36.83699621,\n",
              "       38.95310057, 38.90769451, 34.8280202 , 39.27529271, 38.97802216,\n",
              "       40.5383268 , 42.47831323, 41.26258632, 38.91414831, 37.50447126,\n",
              "       43.69742725, 39.4663266 , 39.39010856, 39.32606606, 39.70002762,\n",
              "       39.12371954, 38.40123898, 38.44634641, 39.31154551, 38.45212585,\n",
              "       38.16700371, 39.5457803 , 38.93756022, 41.89776766, 34.90529459,\n",
              "       41.20358619, 41.46372928, 35.87731524, 38.78995061, 38.74156113,\n",
              "       36.99793604, 38.05766283, 37.49765554, 42.31559894, 40.94133924,\n",
              "       41.50659311, 40.58118355, 37.46656202, 38.48394063, 40.19024527,\n",
              "       37.30992243, 40.56658651, 38.96221807, 38.73587296, 40.56315594,\n",
              "       40.11432661, 38.75918922, 41.31772684, 37.54732277, 40.40323748,\n",
              "       40.36480908, 38.84572454, 39.91552269, 37.26114168, 40.9217309 ,\n",
              "       39.05549103, 38.48696525, 41.13206605, 38.18131206, 36.99633794,\n",
              "       36.74698314, 40.38653338, 37.21180555, 42.31984619, 35.86294448,\n",
              "       42.22166828, 39.72179234, 39.20390616, 38.44961103, 40.03838111,\n",
              "       39.30333045, 41.22343629, 39.55890275, 39.61961262, 38.75473613,\n",
              "       39.2708317 , 39.88467265, 36.48858881, 37.09777746, 40.61752123,\n",
              "       39.65421966, 39.05703729, 39.39768951, 39.95161913, 38.45829391,\n",
              "       38.0568415 , 39.69625871, 37.72014283, 40.0537237 , 36.5013534 ,\n",
              "       41.09865403, 40.16201077, 39.79754442, 41.02045771, 42.16952815,\n",
              "       41.07377109, 36.26862124, 37.21324005, 38.31514652, 39.41057584,\n",
              "       40.23784577, 38.14529735, 39.68098033, 38.09541706, 38.33753067,\n",
              "       36.99936753, 37.81293829, 37.09188861, 37.72434933, 41.1398623 ,\n",
              "       37.76890358, 43.79675704, 40.19688159, 39.67773121, 37.92211855,\n",
              "       40.54523269, 38.39791383, 39.57199951, 43.67508604, 39.20500547,\n",
              "       41.30080259, 38.18327648, 39.30778381, 42.34678379, 38.3115308 ,\n",
              "       42.41687394, 40.55775708, 38.42007966, 40.43095877, 41.00339872,\n",
              "       40.41312355, 36.72410292, 38.14295243, 38.95011242, 39.2414011 ,\n",
              "       40.41120861, 39.66572337, 37.11938795, 40.00650952, 40.39423408,\n",
              "       40.30874962, 41.18553497, 40.77009156, 40.13943035, 39.24858334,\n",
              "       36.57140106, 40.08968008, 39.71618858, 39.82371232, 37.21800001,\n",
              "       37.54733419, 41.13903945, 39.30009848, 40.51357833, 39.41432425,\n",
              "       39.41674389, 40.94572395, 38.49820429, 39.52843032, 38.588694  ,\n",
              "       38.63544395, 38.84635449, 39.7405002 , 38.56097068, 41.4800047 ,\n",
              "       37.86111348, 39.0521765 , 38.62663415, 41.80181576, 39.69745278,\n",
              "       41.10317924, 36.8665863 , 39.8160911 , 40.86384478, 39.5051441 ,\n",
              "       41.15978569, 38.4961112 , 41.73848671, 43.23553   , 38.75603813,\n",
              "       38.61692123, 41.81259755, 42.02496139, 38.48673468, 38.65952556,\n",
              "       38.8924455 , 37.10406302, 37.82064825, 37.67677734, 38.07452422,\n",
              "       39.30829475, 39.7608315 , 41.97603611, 37.68651594, 41.02320325,\n",
              "       39.0065404 , 39.28342316, 40.50233439, 37.47721449, 40.01023196,\n",
              "       39.64679254, 40.19542311, 39.85331458, 43.4987422 , 38.29340082,\n",
              "       38.47304088, 38.31797055, 38.4318427 , 38.29399465, 41.36768725,\n",
              "       41.75726273, 38.40614589, 37.96587821, 40.16002168, 38.43731905,\n",
              "       40.43184075, 39.70817003, 36.81578946, 41.97099527, 42.38898645,\n",
              "       38.33539187, 38.71419567, 39.84775546, 39.92953094, 40.47494448,\n",
              "       42.74968158, 39.06887851, 38.02319568, 37.04538173, 38.13656934,\n",
              "       39.3109166 , 42.38676532, 38.49556788, 39.74328405, 39.33902823,\n",
              "       41.36663836, 43.61929366, 38.4732566 , 38.54297888, 41.12390666,\n",
              "       40.514236  , 42.47452873, 40.34937152, 38.76200655, 40.36069193,\n",
              "       41.23252692, 40.74747315, 40.22036866, 41.16179563, 41.33449847,\n",
              "       41.6927307 , 40.45839399, 39.08542018, 39.61357417, 41.39712563,\n",
              "       37.99182868, 39.98711463, 38.70470862, 39.41504193, 41.51819982,\n",
              "       39.68827125, 39.4448157 , 37.07813656, 40.62255227, 40.45296538,\n",
              "       43.00725291, 38.84870029, 39.7354793 , 39.78635964, 42.02139551,\n",
              "       39.20629184, 39.83623778, 40.38970831, 39.68071503, 38.61535428,\n",
              "       39.69330474, 41.17350381, 37.63912278, 39.59044409, 38.18841883,\n",
              "       41.37783543, 36.80326383, 38.4260455 , 40.00148436, 42.00131953,\n",
              "       39.25601419, 38.43230987, 42.53250492, 36.92977404, 35.66625052,\n",
              "       40.10717611, 38.5217492 , 37.64801278, 40.55877442, 39.77696394,\n",
              "       38.41736704, 37.21201584, 40.8349432 , 40.46090372, 39.19976155,\n",
              "       42.47441037, 37.56579882, 36.79932871, 38.20224022, 39.28994901,\n",
              "       39.77618767, 38.9606855 , 39.959148  , 37.26042501, 41.79640806,\n",
              "       39.22841274, 41.246987  , 39.94344626, 40.13534613, 40.32553984,\n",
              "       40.12012469, 40.44831813, 41.60352503, 39.69739622, 40.5598638 ,\n",
              "       39.21564861, 41.7902698 , 38.22835203, 42.39750668, 39.29908402,\n",
              "       36.95878557, 39.58225624, 38.22051071, 40.78140313, 38.26835224,\n",
              "       38.61577531, 36.18671938, 38.60547098, 35.28746987, 36.70108375,\n",
              "       40.64638426, 40.68910605, 40.08267802, 37.73932246, 39.28637224,\n",
              "       39.36060388, 37.4172307 , 41.89676685, 40.84319786, 38.99480148,\n",
              "       39.4119134 , 39.71735842, 35.93058871, 38.95068672, 38.21894123,\n",
              "       37.68101958, 38.89359715, 42.39203061, 40.44515441, 38.4054177 ,\n",
              "       40.33027811, 41.72167096, 40.92275187, 39.46701985, 38.27792335,\n",
              "       40.54172116, 40.02887138, 40.8732059 , 40.43561047, 41.1329807 ,\n",
              "       38.46590823, 41.58373646, 39.69921114, 42.85916623, 38.20681819])"
            ]
          },
          "metadata": {},
          "execution_count": 20
        }
      ]
    },
    {
      "cell_type": "code",
      "source": [
        "sns.histplot(funcao_sapatos.rvs(size=1000),kde=True)\n",
        "plt.show()"
      ],
      "metadata": {
        "id": "tpAkO19AGDRz",
        "outputId": "65324967-3353-43f2-8291-72647f3dbdee",
        "colab": {
          "base_uri": "https://localhost:8080/",
          "height": 430
        }
      },
      "execution_count": 21,
      "outputs": [
        {
          "output_type": "display_data",
          "data": {
            "text/plain": [
              "<Figure size 640x480 with 1 Axes>"
            ],
            "image/png": "[encoded data removed]"
          },
          "metadata": {}
        }
      ]
    }
  ]
}