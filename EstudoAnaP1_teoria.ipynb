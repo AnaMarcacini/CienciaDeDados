{
 "cells": [
  {
   "cell_type": "markdown",
   "metadata": {},
   "source": [
    "# Teoria\n",
    "\n",
    "<br>\n",
    "\n",
    "| Tipo  | Ciência de Dados | Análise Tradicional |\n",
    "| --- | --- | --- |\n",
    "| Tipo de Dados | Não estruturados | Estruturados (linhas e colunas) |\n",
    "| Volume de Dados | Big Data (centenas de Terabytes) | Dezenas de Terabytes ou menos |\n",
    "| Fluxo de Dados | Contínuo, Big Data | Estático |\n",
    "| Métodos de Análise | Machine Learning | Visual, Hypothesis-Based |\n",
    "| Propósito | Data-base Products | Internal Support Decision |\n",
    "\n",
    "<br>\n",
    "<br>\n",
    "\n",
    "Algumas pessoas usam os termos Inteligência Artificial e Aprendizado de Máquina quase como sinônimos. Mas o mais provável quando vemos  empresas fazendo uso de Inteligência Artificial, é que estejam mesmo empregando o Aprendizado de Máquina que é um subcampo da IA que permite aos computadores aprender e realizar tarefas sem serem explicitamente programados. \n",
    "\n",
    "Em 2020, mais de 65% das empresas já fazem do Aprendizado de Máquina e a quase a totalidade das empresas acredita que ele será um fator crítico de sucesso para os negócios e, embora nem todos precisem conhecer os detalhes de como isso é feito, todos precisaremos saber o que Aprendizado de Máquina pode e não pode fazer por nós, e as implicações dessa enorme transformação."
   ]
  },
  {
   "cell_type": "markdown",
   "metadata": {},
   "source": [
    "## Aprendizado de Máquina: Um Novo Paradigma\n",
    "\n",
    "O Aprendizado de Máquina, ou *Machine Learning* (ML), é um subcampo da Inteligência Artificial. A IA busca criar sistemas capazes de imitar o comportamento humano inteligente o que pode ser feito de várias formas.\n",
    "\n",
    "$$  Homem  \\rightarrow  Mortal $$\n",
    "$$ Sócrates \\rightarrow  Homem $$\n",
    "$$ Sócrates \\rightarrow  Mortal $$\n",
    "\n",
    "O uso da lógica formal como acima, ou um circuito autômato finito que controla a porta automática em um shopping, podem reproduzir comportamentos inteligentes. Eles fazem parte do estudo da IA, mas não são parte do Aprendizado de Máquina. Há também uma série de outros termos correlatos e as Ciência de Dados e Deep Learning (Redes Neurais Profundas) são áreas de comumente de interceptam e que, embora não haja fronteiras nitidamente definidas, não são a mesma coisa.\n",
    "\n",
    "\n"
   ]
  },
  {
   "cell_type": "markdown",
   "metadata": {},
   "source": [
    "<img src=\"https://github.com/Rogerio-mack/work/raw/main/IMT/MLparadigmas_IAxDS.png\" width=800, align=\"center\">"
   ]
  },
  {
   "cell_type": "code",
   "execution_count": 1,
   "metadata": {},
   "outputs": [
    {
     "name": "stdout",
     "output_type": "stream",
     "text": [
      "32.0\n",
      "80.6\n"
     ]
    }
   ],
   "source": [
    "def Celsius2Fahrenheit(Celsius):\n",
    "  return Celsius * 9/5 + 32\n",
    "\n",
    "print( Celsius2Fahrenheit(0) )\n",
    "print( Celsius2Fahrenheit(27) )"
   ]
  },
  {
   "cell_type": "code",
   "execution_count": 2,
   "metadata": {},
   "outputs": [],
   "source": [
    "import numpy as np\n",
    "import pandas as pd\n",
    "import matplotlib.pyplot as plt\n",
    "%matplotlib inline\n",
    "import seaborn as sns\n"
   ]
  },
  {
   "cell_type": "code",
   "execution_count": 3,
   "metadata": {},
   "outputs": [
    {
     "data": {
      "text/html": [
       "<div>\n",
       "<style scoped>\n",
       "    .dataframe tbody tr th:only-of-type {\n",
       "        vertical-align: middle;\n",
       "    }\n",
       "\n",
       "    .dataframe tbody tr th {\n",
       "        vertical-align: top;\n",
       "    }\n",
       "\n",
       "    .dataframe thead th {\n",
       "        text-align: right;\n",
       "    }\n",
       "</style>\n",
       "<table border=\"1\" class=\"dataframe\">\n",
       "  <thead>\n",
       "    <tr style=\"text-align: right;\">\n",
       "      <th></th>\n",
       "      <th>celsius</th>\n",
       "      <th>fahrenheit</th>\n",
       "    </tr>\n",
       "  </thead>\n",
       "  <tbody>\n",
       "    <tr>\n",
       "      <th>0</th>\n",
       "      <td>-20</td>\n",
       "      <td>-4.0</td>\n",
       "    </tr>\n",
       "    <tr>\n",
       "      <th>1</th>\n",
       "      <td>-19</td>\n",
       "      <td>-2.2</td>\n",
       "    </tr>\n",
       "    <tr>\n",
       "      <th>2</th>\n",
       "      <td>-18</td>\n",
       "      <td>-0.4</td>\n",
       "    </tr>\n",
       "    <tr>\n",
       "      <th>3</th>\n",
       "      <td>-17</td>\n",
       "      <td>1.4</td>\n",
       "    </tr>\n",
       "    <tr>\n",
       "      <th>4</th>\n",
       "      <td>-16</td>\n",
       "      <td>3.2</td>\n",
       "    </tr>\n",
       "  </tbody>\n",
       "</table>\n",
       "</div>"
      ],
      "text/plain": [
       "   celsius  fahrenheit\n",
       "0      -20        -4.0\n",
       "1      -19        -2.2\n",
       "2      -18        -0.4\n",
       "3      -17         1.4\n",
       "4      -16         3.2"
      ]
     },
     "execution_count": 3,
     "metadata": {},
     "output_type": "execute_result"
    }
   ],
   "source": [
    "df = pd.DataFrame()\n",
    "df['celsius'] = np.arange(-20,60)\n",
    "df['fahrenheit'] = Celsius2Fahrenheit( df['celsius'] )\n",
    "df.head()"
   ]
  },
  {
   "cell_type": "code",
   "execution_count": 4,
   "metadata": {},
   "outputs": [
    {
     "data": {
      "text/plain": [
       "LinearRegression()"
      ]
     },
     "execution_count": 4,
     "metadata": {},
     "output_type": "execute_result"
    }
   ],
   "source": [
    "from sklearn.linear_model import LinearRegression\n",
    "\n",
    "X = df[['celsius']]\n",
    "y = df['fahrenheit']\n",
    "\n",
    "regressor = LinearRegression()\n",
    "regressor.fit(X, y)\n"
   ]
  },
  {
   "cell_type": "code",
   "execution_count": 7,
   "metadata": {},
   "outputs": [
    {
     "name": "stdout",
     "output_type": "stream",
     "text": [
      "[32.  80.6]\n",
      "Coefficients: \n",
      " [1.8] 31.999999999999986\n"
     ]
    }
   ],
   "source": [
    "Fahrenheit_prediction = regressor.predict(pd.DataFrame({'celsius':[0,27]}))\n",
    "print(Fahrenheit_prediction)\n",
    "print(\"Coefficients: \\n\", regressor.coef_, regressor.intercept_)"
   ]
  },
  {
   "cell_type": "code",
   "execution_count": 9,
   "metadata": {},
   "outputs": [
    {
     "data": {
      "text/plain": [
       "LinearRegression()"
      ]
     },
     "execution_count": 9,
     "metadata": {},
     "output_type": "execute_result"
    }
   ],
   "source": [
    "from sklearn.linear_model import LinearRegression\n",
    "\n",
    "X = df[['fahrenheit']]\n",
    "y = df['celsius']\n",
    "\n",
    "regressor = LinearRegression()\n",
    "regressor.fit(X, y)"
   ]
  },
  {
   "cell_type": "code",
   "execution_count": 10,
   "metadata": {},
   "outputs": [
    {
     "name": "stdout",
     "output_type": "stream",
     "text": [
      "[3.55271368e-15 2.70000000e+01]\n"
     ]
    }
   ],
   "source": [
    "Celsius_prediction = regressor.predict(pd.DataFrame({'fahrenheit':[32,80.6]}))\n",
    "print(Celsius_prediction)"
   ]
  },
  {
   "cell_type": "markdown",
   "metadata": {},
   "source": [
    "## Tipos de Aprendizado de Máquina\n",
    "\n",
    "Os sistemas de Aprendizado de Máquina nem sempre são empregados para inferência e, embora aqui nos dediquemos unicamente a esse tipo de aprendizado (o Aprendizado Supervisionado), é importante você entender que há outras formas de aprendizado e que você aprenderá nas disciplinas subsequentes.\n",
    "\n",
    "Sistemas de Aprendizado de Máquina podem simplesmente ser **descritivos**, o que significa que o sistema emprega os dados para explicar o que aconteceu. Por exemplo, podemos *segmentar* um conjunto de consumidores com base em suas características (idade, perfil de consumo etc.) e, com isso, direcionar uma campanha de marketing. Você não faz aqui qualquer inferência. Eles são **preditivos**, quando o sistema usa os dados para prever o que pode acontecer. É o caso dos exemplos que vimos antes: você prevê que uma certa transação de cartão de crédito com base em um conjunto de exemplos de outras transações com valor, local, horário, uso do cartão nas últimas 24h etc. é com uma certa probabilidade uma fraude (e neste caso impede que isso ocorra!). E há ainda os sistemas **prescritivos**, em que o sistema usará os dados para fazer sugestões sobre quais ações tomar, como no caso de um robô-aspirador que vai tomando ações no ambiente e se tornando mais eficiente à medida que *aprende*, isto é, à medida que obtêm mais dados sobre o ambiente. Os sistemas de Aprendizado de Máquina são assim divididos em três subcategorias,\n",
    "\n",
    "* **Aprendizado Supervisionado**  \n",
    "* **Aprendizado Não Supervisionado**\n",
    "* **Aprendizado de Reforço**\n",
    "\n",
    "Havendo ainda sistemas híbridos que combinam descrição, predição e precrição."
   ]
  },
  {
   "cell_type": "markdown",
   "metadata": {},
   "source": []
  }
 ],
 "metadata": {
  "kernelspec": {
   "display_name": "base",
   "language": "python",
   "name": "python3"
  },
  "language_info": {
   "codemirror_mode": {
    "name": "ipython",
    "version": 3
   },
   "file_extension": ".py",
   "mimetype": "text/x-python",
   "name": "python",
   "nbconvert_exporter": "python",
   "pygments_lexer": "ipython3",
   "version": "3.9.13"
  },
  "orig_nbformat": 4
 },
 "nbformat": 4,
 "nbformat_minor": 2
}
