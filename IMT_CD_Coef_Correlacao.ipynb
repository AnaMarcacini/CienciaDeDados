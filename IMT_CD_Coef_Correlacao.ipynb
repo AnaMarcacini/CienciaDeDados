{
  "nbformat": 4,
  "nbformat_minor": 0,
  "metadata": {
    "colab": {
      "provenance": [],
      "mount_file_id": "1ixtIR7XWefEElyebfgzlJBPAnjxdX-Ei",
      "authorship_tag": "ABX9TyMXpUwJay87XF133DwyvDDW",
      "include_colab_link": true
    },
    "kernelspec": {
      "name": "python3",
      "display_name": "Python 3"
    },
    "language_info": {
      "name": "python"
    }
  },
  "cells": [
    {
      "cell_type": "markdown",
      "metadata": {
        "id": "view-in-github",
        "colab_type": "text"
      },
      "source": [
        "<a href=\"https://colab.research.google.com/github/Rogerio-mack/IMT_CD_2024/blob/main/IMT_CD_Coef_Correlacao.ipynb\" target=\"_parent\"><img src=\"https://colab.research.google.com/assets/colab-badge.svg\" alt=\"Open In Colab\"/></a>"
      ]
    },
    {
      "cell_type": "markdown",
      "metadata": {
        "id": "80CF3Eq9EXDW"
      },
      "source": [
        "<head>\n",
        "  <meta name=\"author\" content=\"Rogério de Oliveira\">\n",
        "  <meta institution=\"author\" content=\"ITM\">\n",
        "</head>\n",
        "\n",
        "<img src=\"https://maua.br/images/selo-60-anos-maua.svg\" width=300, align=\"right\">\n",
        "<!-- <h1 align=left><font size = 6, style=\"color:rgb(200,0,0)\"> optional title </font></h1> -->\n"
      ]
    },
    {
      "cell_type": "code",
      "source": [
        "import numpy as np\n",
        "import matplotlib.pyplot as plt\n",
        "%matplotlib inline\n",
        "import seaborn as sns"
      ],
      "metadata": {
        "id": "ZCup4hpP6eSm"
      },
      "execution_count": null,
      "outputs": []
    },
    {
      "cell_type": "markdown",
      "source": [
        "# Coeficientes de Correlação (Duas Variáveis Quantitativas)"
      ],
      "metadata": {
        "id": "O92z_HtO7fbc"
      }
    },
    {
      "cell_type": "markdown",
      "source": [
        "## **Coeficiente de Pearson (r)**\n",
        "\n",
        "* O coeficiente de correlação de Pearson mede a relação linear entre duas variáveis contínuas.\n",
        "* Ele varia de -1 a 1, onde 1 indica uma correlação positiva perfeita, -1 indica uma correlação negativa perfeita e 0 indica ausência de correlação linear.\n",
        "* É sensível a outliers e assume que as variáveis seguem uma distribuição normal e homocedasticidade\n",
        "* É adequado para variáveis quantitativas com distribuição aproximadamente normal.\n",
        "\n",
        "<br>\n",
        "\n",
        "\n",
        "$$\n",
        "r = \\frac{{\\sum_{i=1}^{n} (x_i - \\bar{x})(y_i - \\bar{y})}}{{\\sqrt{\\sum_{i=1}^{n} (x_i - \\bar{x})^2 \\sum_{i=1}^{n} (y_i - \\bar{y})^2}}}\n",
        "$$\n",
        "\n",
        "onde:\n",
        "- $x_i$ e $y_i$: Valores individuais das variáveis $x$ e $y$.\n",
        "- $ \\bar{x} $ e $\\bar{y}$: Médias das variáveis $x$ e $y$.\n",
        "- $ n $: Número total de observações.\n",
        "\n",
        "<br>\n",
        "\n"
      ],
      "metadata": {
        "id": "7aMt0xpKr30v"
      }
    },
    {
      "cell_type": "markdown",
      "source": [
        "## **Coeficiente de Spearman (ρ)**:\n",
        "\n",
        "* O coeficiente de correlação de Spearman mede a relação monótona entre duas variáveis, independentemente do tipo de relação (linear ou não).\n",
        "* Ele é baseado nos postos (ordem) dos dados, em vez dos próprios valores.\n",
        "Varia de -1 a 1, onde 1 indica uma correlação positiva perfeita, -1 indica uma correlação negativa perfeita e 0 indica ausência de correlação monotônica.\n",
        "* É menos sensível a outliers do que o coeficiente de Pearson, e pode ser aplicado a qualquer tipo de distribuição.\n",
        "* É adequado para variáveis quantitativas ou ordinais.\n",
        "\n",
        "<br>\n",
        "\n",
        "$$\n",
        "r = \\frac{{\\sum_{i=1}^{n} (R_i - \\bar{R})(S_i - \\bar{S})}}{{\\sqrt{\\sum_{i=1}^{n} (R_i - \\bar{R})^2 \\sum_{i=1}^{n} (S_i - \\bar{S})^2}}}\n",
        "$$\n",
        "\n",
        "ou\n",
        "\n",
        "$$\n",
        "\\rho = 1 - \\frac{{6 \\sum_{i=1}^{n} d_i^2}}{{n(n^2 - 1)}}\n",
        "$$\n",
        "\n",
        "onde:\n",
        "- $d_i $: Diferença entre os postos das observações de $ x $ e $ y $.\n",
        "- $ n $: Número total de observações.\n",
        "\n",
        "<br>\n",
        "\n",
        "\n",
        "\n"
      ],
      "metadata": {
        "id": "IN775F0y8Le8"
      }
    },
    {
      "cell_type": "markdown",
      "source": [
        "### Posto*"
      ],
      "metadata": {
        "id": "cquiR9jTt7pp"
      }
    },
    {
      "cell_type": "code",
      "source": [
        "import numpy as np\n",
        "x = np.array([5, 3, 8, 2, 7])\n",
        "\n",
        "rank_x = np.argsort(x) + 1\n",
        "\n",
        "print(\"Postos x:\", rank_x)\n"
      ],
      "metadata": {
        "id": "XmBgT2Jrt463",
        "outputId": "18a1f711-128e-4b24-b862-c1af2570703b",
        "colab": {
          "base_uri": "https://localhost:8080/"
        }
      },
      "execution_count": null,
      "outputs": [
        {
          "output_type": "stream",
          "name": "stdout",
          "text": [
            "Postos x: [4 2 1 5 3]\n"
          ]
        }
      ]
    },
    {
      "cell_type": "code",
      "source": [
        "import numpy as np\n",
        "\n",
        "x = np.array([5, 3, 8, 2, 7, 5])\n",
        "\n",
        "rank_x = np.argsort(x) + 1\n",
        "\n",
        "unique_x, unique_indices_x = np.unique(x, return_index=True)\n",
        "rank_x_unique = np.argsort(unique_x) + 1\n",
        "rank_x_dict = dict(zip(unique_x, rank_x_unique))\n",
        "rank_x_final = np.array([rank_x_dict[value] for value in x])\n",
        "\n",
        "print(\"Postos x:\", rank_x_final)\n",
        "\n"
      ],
      "metadata": {
        "id": "VguTp0mwuzaE",
        "outputId": "1688c9b1-1e11-4911-8b50-fa4a24aa08c6",
        "colab": {
          "base_uri": "https://localhost:8080/"
        }
      },
      "execution_count": null,
      "outputs": [
        {
          "output_type": "stream",
          "name": "stdout",
          "text": [
            "Postos x: [3 2 5 1 4 3]\n"
          ]
        }
      ]
    },
    {
      "cell_type": "markdown",
      "source": [
        "3. **Coeficiente de Kendall (τ)**:\n",
        "\n",
        "* O coeficiente de correlação de Kendall mede a relação de concordância ou discordância entre duas variáveis ordinais.\n",
        "* Ele é baseado na contagem de pares concordantes e discordantes.\n",
        "* Varia de -1 a 1, onde 1 indica concordância perfeita, -1 indica discordância perfeita e 0 indica ausência de concordância ou discordância.\n",
        "* É robusto a outliers e adequado para variáveis ordinais.\n",
        "\n",
        "<br>\n",
        "\n",
        "$\n",
        "\\tau = \\frac{{\\text{Número de pares concordantes} - \\text{Número de pares discordantes}}}{{\\frac{{n(n-1)}}{2}}}\n",
        "$\n",
        "\n",
        "onde:\n",
        "- Número de pares concordantes: Pares de casos onde a ordem de $ x $ é a mesma que a ordem de $ y $.\n",
        "- Número de pares discordantes: Pares de casos onde a ordem de $ x$ é diferente da ordem de $ y $.\n",
        "- $ n $: Número total de casos."
      ],
      "metadata": {
        "id": "F7ijXO6s8N0j"
      }
    },
    {
      "cell_type": "markdown",
      "source": [
        "### Pares Concordantes*\n",
        "\n",
        "$$\n",
        "x = [3, 6, 8, 4, 7] \\\\\n",
        "y = [5, 9, 7, 6, 8]\n",
        "$$\n",
        "\n",
        "- O par $(3, 5)$, $ x_1 < x_2 $ e $ y_1 < y_2 $, então é um par concordante.\n",
        "- O par $(6, 9)$, $ x_1 < x_2 $ e $ y_1 < y_2 $, então é um par concordante.\n",
        "- O par $(8, 7)$, $ x_1 > x_2 $ e $ y_1 < y_2 $, então não é um par concordante.\n",
        "- O par $(4, 6)$, $ x_1 < x_2 $ e $ y_1 < y_2 $, então é um par concordante.\n",
        "- O par $(7, 8)$, $ x_1 < x_2 $ e $ y_1 < y_2 $, então é um par concordante.\n"
      ],
      "metadata": {
        "id": "EoSvs-bOwOqe"
      }
    },
    {
      "cell_type": "code",
      "source": [
        "n_concordantes = 0\n",
        "\n",
        "x = np.array([5, 3, 8, 2, 7])\n",
        "y = np.array([10, 7, 5, 4, 8])\n",
        "# y = np.array([10, 7, 5, 4, 8])\n",
        "\n",
        "for i in range(len(x)):\n",
        "    for j in range(i + 1, len(x)):\n",
        "        if (x[i] - x[j]) * (y[i] - y[j]) > 0:\n",
        "            n_concordantes += 1\n",
        "\n",
        "print(\"Pares concordantes:\", n_concordantes)\n"
      ],
      "metadata": {
        "id": "wwLc6nNNvbry",
        "outputId": "9d8010f0-26c2-48ea-955b-201a84a679d4",
        "colab": {
          "base_uri": "https://localhost:8080/"
        }
      },
      "execution_count": null,
      "outputs": [
        {
          "output_type": "stream",
          "name": "stdout",
          "text": [
            "Pares concordantes: 6\n"
          ]
        }
      ]
    },
    {
      "cell_type": "markdown",
      "source": [
        "# Cálculo dos Coeficientes em Python"
      ],
      "metadata": {
        "id": "umC3qJLl7xFs"
      }
    },
    {
      "cell_type": "code",
      "source": [
        "from scipy.stats import pearsonr, spearmanr, kendalltau\n",
        "\n",
        "np.random.seed(0)\n",
        "x = np.random.normal(0, 1, 100)\n",
        "y = 2 * x + np.random.normal(0, 1, 100)  # linear\n",
        "\n",
        "sns.regplot(x=x, y=y, color='r')\n",
        "plt.xlabel('X')\n",
        "plt.ylabel('Y')\n",
        "\n",
        "r, _ = pearsonr(x, y)\n",
        "rho, _ = spearmanr(x, y)\n",
        "tau, _ = kendalltau(x, y)\n",
        "\n",
        "print(\"Pearson (r):\", r)\n",
        "print(\"Spearman (ρ):\", rho)\n",
        "print(\"Kendall (τ):\", tau)\n",
        "\n",
        "plt.show()\n"
      ],
      "metadata": {
        "id": "upWsykEB6X6t",
        "outputId": "04db23d8-4fe1-4324-8c2b-22f8bd99d431",
        "colab": {
          "base_uri": "https://localhost:8080/",
          "height": 506
        }
      },
      "execution_count": null,
      "outputs": [
        {
          "output_type": "stream",
          "name": "stdout",
          "text": [
            "Pearson (r): 0.9006752160894268\n",
            "Spearman (ρ): 0.8760516051605161\n",
            "Kendall (τ): 0.707878787878788\n"
          ]
        },
        {
          "output_type": "display_data",
          "data": {
            "text/plain": [
              "<Figure size 640x480 with 1 Axes>"
            ],
            "image/png": "[encoded data removed]"
          },
          "metadata": {}
        }
      ]
    },
    {
      "cell_type": "markdown",
      "source": [
        "## **Coeficiente Cohen's d**\n",
        "\n",
        " *d-Cohen*, ou medida de tamanho de efeito d, é uma estatística para quantificar a diferença entre as médias de dois grupos em termos de desvio padrão e empregado para avaliar a magnitude da diferença entre grupos. Os valores positivos indicam que o grupo 1 tem uma média maior do que o grupo 2, e valores negativos indicam que o grupo 1 tem uma média menor do que o grupo 2. Um valor de 0 indica que não há diferença entre as médias dos dois grupos. Seu cálculo é feido do seguinte modo:\n",
        "\n",
        "$$d = \\frac{\\bar{x}_1 - \\bar{x}_2}{s}$$\n",
        "\n",
        "Onde $\\bar{x}_1$ e $\\bar{x}_2$ são as médias dos dois grupos e $s$ é o desvio padrão agrupado, calculado como:\n",
        "\n",
        "$$s = \\sqrt{\\frac{(n_1 - 1)s_1^2 + (n_2 - 1)s_2^2}{n_1 + n_2 - 2}}$$\n",
        "\n",
        "O valor do d-Cohen pode ser interpretado da seguinte forma:\n",
        "\n",
        "- $\\le$ 0,2: efeito pequeno\n",
        "- $>$ 0,5: efeito médio\n",
        "- $>$ 0,8: efeito grande  \n",
        "\n",
        "\n"
      ],
      "metadata": {
        "id": "jCdumiKylmRx"
      }
    },
    {
      "cell_type": "code",
      "source": [
        "def cohen_d(x1, x2):\n",
        "    mean_x1 = np.mean(x1)\n",
        "    mean_x2 = np.mean(x2)\n",
        "\n",
        "    std_x1 = np.std(x1, ddof=1)\n",
        "    std_x2 = np.std(x2, ddof=1)\n",
        "\n",
        "    n1 = len(x1)\n",
        "    n2 = len(x2)\n",
        "\n",
        "    pooled_std = np.sqrt(((n1 - 1) * std_x1 ** 2 + (n2 - 1) * std_x2 ** 2) / (n1 + n2 - 2))\n",
        "    d = (mean_x1 - mean_x2) / pooled_std\n",
        "\n",
        "    return d\n",
        "\n",
        "x1 = np.array([1, 2, 3, 4, 5])\n",
        "x2 = np.array([6, 7, 8, 9, 10, 11, 12])\n",
        "\n",
        "d = cohen_d(x1, x2)\n",
        "print(\"Coeficiente de Cohen's d:\", d)\n",
        "\n",
        "d = cohen_d(x2, x1)\n",
        "print(\"Coeficiente de Cohen's d:\", d)\n",
        "\n",
        "d = cohen_d(x2, x2)\n",
        "print(\"Coeficiente de Cohen's d:\", d)\n",
        "\n",
        "d = cohen_d(x2, 2*x2)\n",
        "print(\"Coeficiente de Cohen's d:\", d)\n",
        "\n",
        "d = cohen_d(x2, 3*x2)\n",
        "print(\"Coeficiente de Cohen's d:\", d)\n",
        "\n",
        "d = cohen_d(x2, 4*x2)\n",
        "print(\"Coeficiente de Cohen's d:\", d)\n"
      ],
      "metadata": {
        "id": "qMfzONn29nKl",
        "outputId": "185ec271-8935-4e33-a0b8-aad50c5b461b",
        "colab": {
          "base_uri": "https://localhost:8080/"
        }
      },
      "execution_count": null,
      "outputs": [
        {
          "output_type": "stream",
          "name": "stdout",
          "text": [
            "Coeficiente de Cohen's d: -3.077935056255462\n",
            "Coeficiente de Cohen's d: 3.077935056255462\n",
            "Coeficiente de Cohen's d: 0.0\n",
            "Coeficiente de Cohen's d: -2.6349301969610393\n",
            "Coeficiente de Cohen's d: -3.7263540204487127\n",
            "Coeficiente de Cohen's d: -4.286974604602201\n"
          ]
        }
      ]
    },
    {
      "cell_type": "markdown",
      "source": [
        "# Homocedasticidade\n",
        "\n",
        "A suposição de homocedasticidade (= \"mesma variância\") é central para modelos de regressão linear. Ela descreve uma situação em que o termo de erro (ou seja, o \"ruído\" ou perturbação aleatória na relação entre as variáveis ​​independentes e a variável dependente) é o mesmo em todos os valores das variáveis ​​independentes. A heterocedasticidade (a violação da homocedasticidade) está presente quando o tamanho do termo de erro difere entre os valores de uma variável independente. O impacto da violação do pressuposto da homocedasticidade é uma questão de grau, aumentando à medida que a heterocedasticidade aumenta.\n",
        "\n",
        "Imagine dados sobre a renda familiar e os gastos com itens de luxo. Utilizando a regressão bivariada, utilizamos a renda familiar para prever os gastos de luxo. Como esperado, existe uma associação forte e positiva entre receitas e despesas. Ao examinar os resíduos detectamos um problema – os resíduos são muito pequenos para valores baixos de renda familiar (quase todas as famílias com baixos rendimentos não gastam muito em itens de luxo) enquanto há grande variação no tamanho dos resíduos para famílias mais ricas (algumas famílias gastam muito em artigos de luxo, enquanto outras são mais moderadas nos seus gastos de luxo). Esta situação representa heterocedasticidade porque o tamanho do erro varia entre os valores da variável independente. O exame de um gráfico de dispersão dos resíduos em relação aos valores previstos da variável dependente mostraria um padrão clássico de heterocedasticidade em forma de cone.\n",
        "\n",
        "O problema que a heterocedasticidade apresenta para modelos de regressão é que a regressão de mínimos quadrados ordinários (OLS) procura minimizar os resíduos e dá peso igual a todas as observações. Quando a heterocedasticidade está presente, os casos com perturbações maiores têm mais \"atração\" do que outras observações. Neste caso, a regressão de mínimos quadrados ponderados ou log seria mais apropriada, pois reduz o peso das observações com perturbações maiores.\n",
        "\n"
      ],
      "metadata": {
        "id": "OWU1XE0rAI6a"
      }
    }
  ]
}