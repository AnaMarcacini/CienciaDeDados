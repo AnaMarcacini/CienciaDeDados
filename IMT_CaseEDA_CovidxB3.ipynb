{
  "nbformat": 4,
  "nbformat_minor": 0,
  "metadata": {
    "colab": {
      "provenance": [],
      "authorship_tag": "ABX9TyNBoxL7dZhPcdIb7ehzzeN/",
      "include_colab_link": true
    },
    "kernelspec": {
      "name": "python3",
      "display_name": "Python 3"
    },
    "language_info": {
      "name": "python"
    }
  },
  "cells": [
    {
      "cell_type": "markdown",
      "metadata": {
        "id": "view-in-github",
        "colab_type": "text"
      },
      "source": [
        "<a href=\"https://colab.research.google.com/github/Rogerio-mack/IMT_CD_2024/blob/main/IMT_CaseEDA_CovidxB3.ipynb\" target=\"_parent\"><img src=\"https://colab.research.google.com/assets/colab-badge.svg\" alt=\"Open In Colab\"/></a>"
      ]
    },
    {
      "cell_type": "markdown",
      "metadata": {
        "id": "80CF3Eq9EXDW"
      },
      "source": [
        "<img src=\"https://github.com/Rogerio-mack/IMT_CD_2024/blob/main/maua_logo.png?raw=true\" width=300, align=\"right\">\n",
        "\n"
      ]
    },
    {
      "cell_type": "markdown",
      "source": [
        "# **Case**: Covid $\\times$ B3, *Exploratory Data Analysis (EDA)*\n",
        "\n",
        "* **Objetivo da atividade:** O objetivo deste exercício é uma realizar uma análise exploratória focada na **evolução** da pandemia de Covid-19 e de ativos da Bolsa Brasileira (B3) de Fev de 2020 até a data atual (Abr 2024).\n",
        "\n",
        "* **Atividade em grupo:** min 2 máx 5 alunos\n",
        "\n",
        "* **Entregáveis**\n",
        "\n",
        "  * Notebook Python (.ipynb), 100% executável, contendo códigos, gráficos e as conclusões da análise.\n",
        "\n",
        "* **Requisitos mínimos**\n",
        "\n",
        "  * Os ativos da bolsa (mínimo 2) são de livre escolha do grupo, bem como os indicadores que serão empregados, tanto da bolsa como da Covid.\n",
        "  * A análise deve cobrir todo o período de Fev 2020 ao atual (Abr 2024)\n",
        "  * A análise deve incluir ao menos um gráfico. Além dos elementos obrigatórios, como títulos e rótulos, os seguintes recursos devem obrigatoriamente ser empregados:\n",
        "\n",
        "    * Anotações, linhas indicativas de pontos de interesse/análise, sobreamento faixas (opcional)\n",
        "    * Uma ou mais linhas de tendências\n",
        "    * Uma ou mais linhas de valores médios\n",
        "\n",
        "  * Ao final, análise deve destacar ao menos 2 pontos de interesse e suas conclusões.\n",
        "\n",
        "* **Fonte dos Dados**\n",
        "\n",
        "  * **Covid**\n",
        "\n",
        "    * https://covid.saude.gov.br/\n",
        "\n",
        "    * Alternativamente (dados até 06.04.2024)\n",
        "https://drive.google.com/drive/folders/1JBd2lb1l40a5J2YHtQ6tsq9pNFA-Rl7U?usp=sharing\n",
        "\n",
        "  * **Ativos B3**\n",
        "\n",
        "    * Empregue: https://pypi.org/project/yfinance/\n",
        "\n",
        "* **Complementar (+5,0):** Análises complementares com outros dados podem ser incluídas opcionalmente com até +5,0 adicionais na atividade.\n",
        "\n",
        "  * Dados Complementares de Saúde https://opendatasus.saude.gov.br/  \n",
        "  > Dados sobre síndrome gripal, ocupação hospitalar, vacinação, síndrome respiratória aguda (SRAG), dados demográficos etc.\n",
        "  >\n",
        "  > Para outros dados, consulte o professor.\n",
        "\n",
        "* **Recomendações**\n",
        "\n",
        "1. Os dados de Covid precisam ser baixados e compartilhados, por exemplo em um Drive.\n",
        "2. Os dados de Covid encontram-se zipados. Empregue `import zipfile` e acesse os dados diretamente dos arquivos compactados.\n",
        "3. Normalize os dados ou empregue `ax.twinx()` para apresentação de dados em diferentes escalas.\n",
        "\n",
        "<br>\n",
        "<br>\n",
        "\n",
        "---\n",
        "\n"
      ],
      "metadata": {
        "id": "dEyV_GqcqtL1"
      }
    },
    {
      "cell_type": "markdown",
      "source": [
        "# **Exploratory Data Analysis (EDA)**\n",
        "## <Coloque aqui o Título da Análise>"
      ],
      "metadata": {
        "id": "egMY3jx-rhtd"
      }
    },
    {
      "cell_type": "code",
      "metadata": {
        "id": "rYx9D4GZA5o9",
        "cellView": "form"
      },
      "source": [
        "#@title **Identificação do Grupo**\n",
        "\n",
        "#@markdown Nomes completos em ordem alfabética (*\\<nome\\>, \\<RA\\>*)\n",
        "Aluno1 = 'Adriana Fujita, 1115665' #@param {type:\"string\"}\n",
        "Aluno2 = 'Daniel Henrique, 9456177' #@param {type:\"string\"}\n",
        "Aluno3 = 'None' #@param {type:\"string\"}\n",
        "Aluno4 = 'None' #@param {type:\"string\"}\n",
        "Aluno5 = 'None' #@param {type:\"string\"}\n",
        "\n",
        "\n",
        "\n"
      ],
      "execution_count": null,
      "outputs": []
    },
    {
      "cell_type": "markdown",
      "source": [
        "# **Introdução**\n",
        "\n",
        "*Descreva aqui o propósito da sua análise*."
      ],
      "metadata": {
        "id": "6AsPs0GIlyle"
      }
    },
    {
      "cell_type": "markdown",
      "source": [
        "# **Resultados**"
      ],
      "metadata": {
        "id": "52lB3vpisxE8"
      }
    },
    {
      "cell_type": "code",
      "source": [
        "Código e gráficos"
      ],
      "metadata": {
        "id": "hAU9_La0svd-"
      },
      "execution_count": null,
      "outputs": []
    },
    {
      "cell_type": "markdown",
      "source": [
        "# **Discussão e Conclusões**\n",
        "\n",
        "*Discuta e apresente suas conclusões.*"
      ],
      "metadata": {
        "id": "7dBH7fH0sn5s"
      }
    }
  ]
}