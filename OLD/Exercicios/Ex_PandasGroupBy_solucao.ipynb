{
  "cells": [
    {
      "cell_type": "markdown",
      "metadata": {
        "id": "80CF3Eq9EXDW"
      },
      "source": [
        "<head>\n",
        "  <meta name=\"author\" content=\"Rogério de Oliveira\">\n",
        "  <meta institution=\"author\" content=\"ITM\">\n",
        "</head>\n",
        "\n",
        "<img src=\"https://maua.br/images/selo-60-anos-maua.svg\" width=300, align=\"right\">\n",
        "<!-- <h1 align=left><font size = 6, style=\"color:rgb(200,0,0)\"> optional title </font></h1> -->\n"
      ]
    },
    {
      "cell_type": "markdown",
      "metadata": {
        "id": "dEyV_GqcqtL1"
      },
      "source": [
        "# Lab: Seleção de Dados em Pandas\n",
        "\n",
        "Referências e Materiais úteis para este Lab:\n",
        "\n",
        "- [Notas de Aula](https://colab.research.google.com/github/Rogerio-mack/IMT_Ciencia_de_Dados/blob/main/IMT_Pandas_I.ipynb)\n",
        "- [Pandas User Guide](https://pandas.pydata.org/docs/user_guide/index.html#user-guide)\n",
        "\n",
        "---\n",
        "\n"
      ]
    },
    {
      "cell_type": "markdown",
      "metadata": {
        "id": "iwkJNynX5HtL"
      },
      "source": []
    },
    {
      "cell_type": "markdown",
      "metadata": {},
      "source": [
        "Colocar isin no estudo"
      ]
    },
    {
      "cell_type": "markdown",
      "metadata": {
        "id": "bRjSPcmG5Haf"
      },
      "source": []
    },
    {
      "cell_type": "code",
      "execution_count": 2,
      "metadata": {
        "id": "aA7x9VBqEhqM"
      },
      "outputs": [],
      "source": [
        "import pandas as pd\n",
        "import numpy as np"
      ]
    },
    {
      "cell_type": "markdown",
      "metadata": {
        "id": "0bRkqJl0GMSV"
      },
      "source": [
        "## **CASE Tips**"
      ]
    },
    {
      "cell_type": "markdown",
      "metadata": {
        "id": "kZJJx_XxUcIi"
      },
      "source": [
        "# Q1.\n",
        "\n",
        "Considere a base de dados [`tips`](https://github.com/Rogerio-mack/IMT_Ciencia_de_Dados/raw/main/data/tips.csv). Considerando somente os finais de semana, quem tem média de participantes na mesa maior, fumantes ou não fumantes? **`[NoGroup | GroupBy]`**\n",
        "\n"
      ]
    },
    {
      "cell_type": "code",
      "execution_count": 3,
      "metadata": {
        "id": "7p52NBYk5WpU"
      },
      "outputs": [],
      "source": [
        "df = pd.read_csv('https://github.com/Rogerio-mack/IMT_Ciencia_de_Dados/raw/main/data/tips.csv')"
      ]
    },
    {
      "cell_type": "code",
      "execution_count": 7,
      "metadata": {},
      "outputs": [],
      "source": [
        "tips = pd.read_csv('https://github.com/Rogerio-mack/IMT_Ciencia_de_Dados/raw/main/data/tips.csv')"
      ]
    },
    {
      "cell_type": "code",
      "execution_count": 8,
      "metadata": {},
      "outputs": [
        {
          "data": {
            "text/plain": [
              "array(['Sun', 'Sat', 'Thur', 'Fri'], dtype=object)"
            ]
          },
          "execution_count": 8,
          "metadata": {},
          "output_type": "execute_result"
        }
      ],
      "source": [
        "tips.day.unique()"
      ]
    },
    {
      "cell_type": "code",
      "execution_count": 15,
      "metadata": {},
      "outputs": [
        {
          "data": {
            "text/html": [
              "<div>\n",
              "<style scoped>\n",
              "    .dataframe tbody tr th:only-of-type {\n",
              "        vertical-align: middle;\n",
              "    }\n",
              "\n",
              "    .dataframe tbody tr th {\n",
              "        vertical-align: top;\n",
              "    }\n",
              "\n",
              "    .dataframe thead th {\n",
              "        text-align: right;\n",
              "    }\n",
              "</style>\n",
              "<table border=\"1\" class=\"dataframe\">\n",
              "  <thead>\n",
              "    <tr style=\"text-align: right;\">\n",
              "      <th></th>\n",
              "      <th>total_bill</th>\n",
              "      <th>tip</th>\n",
              "      <th>size</th>\n",
              "    </tr>\n",
              "    <tr>\n",
              "      <th>smoker</th>\n",
              "      <th></th>\n",
              "      <th></th>\n",
              "      <th></th>\n",
              "    </tr>\n",
              "  </thead>\n",
              "  <tbody>\n",
              "    <tr>\n",
              "      <th>No</th>\n",
              "      <td>20.133922</td>\n",
              "      <td>3.139216</td>\n",
              "      <td>2.764706</td>\n",
              "    </tr>\n",
              "    <tr>\n",
              "      <th>Yes</th>\n",
              "      <td>22.162295</td>\n",
              "      <td>3.075246</td>\n",
              "      <td>2.508197</td>\n",
              "    </tr>\n",
              "  </tbody>\n",
              "</table>\n",
              "</div>"
            ],
            "text/plain": [
              "        total_bill       tip      size\n",
              "smoker                                \n",
              "No       20.133922  3.139216  2.764706\n",
              "Yes      22.162295  3.075246  2.508197"
            ]
          },
          "execution_count": 15,
          "metadata": {},
          "output_type": "execute_result"
        }
      ],
      "source": [
        "tips[df.day.isin(['Sat','Sun'])].groupby([\"smoker\"]).mean()\n"
      ]
    },
    {
      "cell_type": "code",
      "execution_count": 17,
      "metadata": {},
      "outputs": [
        {
          "data": {
            "text/html": [
              "<div>\n",
              "<style scoped>\n",
              "    .dataframe tbody tr th:only-of-type {\n",
              "        vertical-align: middle;\n",
              "    }\n",
              "\n",
              "    .dataframe tbody tr th {\n",
              "        vertical-align: top;\n",
              "    }\n",
              "\n",
              "    .dataframe thead th {\n",
              "        text-align: right;\n",
              "    }\n",
              "</style>\n",
              "<table border=\"1\" class=\"dataframe\">\n",
              "  <thead>\n",
              "    <tr style=\"text-align: right;\">\n",
              "      <th></th>\n",
              "      <th>total_bill</th>\n",
              "      <th>tip</th>\n",
              "      <th>size</th>\n",
              "    </tr>\n",
              "    <tr>\n",
              "      <th>smoker</th>\n",
              "      <th></th>\n",
              "      <th></th>\n",
              "      <th></th>\n",
              "    </tr>\n",
              "  </thead>\n",
              "  <tbody>\n",
              "    <tr>\n",
              "      <th>No</th>\n",
              "      <td>20.133922</td>\n",
              "      <td>3.139216</td>\n",
              "      <td>2.764706</td>\n",
              "    </tr>\n",
              "    <tr>\n",
              "      <th>Yes</th>\n",
              "      <td>22.162295</td>\n",
              "      <td>3.075246</td>\n",
              "      <td>2.508197</td>\n",
              "    </tr>\n",
              "  </tbody>\n",
              "</table>\n",
              "</div>"
            ],
            "text/plain": [
              "        total_bill       tip      size\n",
              "smoker                                \n",
              "No       20.133922  3.139216  2.764706\n",
              "Yes      22.162295  3.075246  2.508197"
            ]
          },
          "execution_count": 17,
          "metadata": {},
          "output_type": "execute_result"
        }
      ],
      "source": [
        "tips[(tips.day == \"Sun\") | (tips.day == \"Sat\")].groupby([\"smoker\"]).mean()\n"
      ]
    },
    {
      "cell_type": "code",
      "execution_count": 14,
      "metadata": {},
      "outputs": [
        {
          "data": {
            "text/html": [
              "<div>\n",
              "<style scoped>\n",
              "    .dataframe tbody tr th:only-of-type {\n",
              "        vertical-align: middle;\n",
              "    }\n",
              "\n",
              "    .dataframe tbody tr th {\n",
              "        vertical-align: top;\n",
              "    }\n",
              "\n",
              "    .dataframe thead th {\n",
              "        text-align: right;\n",
              "    }\n",
              "</style>\n",
              "<table border=\"1\" class=\"dataframe\">\n",
              "  <thead>\n",
              "    <tr style=\"text-align: right;\">\n",
              "      <th></th>\n",
              "      <th></th>\n",
              "      <th>total_bill</th>\n",
              "      <th>tip</th>\n",
              "      <th>size</th>\n",
              "    </tr>\n",
              "    <tr>\n",
              "      <th>smoker</th>\n",
              "      <th>day</th>\n",
              "      <th></th>\n",
              "      <th></th>\n",
              "      <th></th>\n",
              "    </tr>\n",
              "  </thead>\n",
              "  <tbody>\n",
              "    <tr>\n",
              "      <th rowspan=\"2\" valign=\"top\">No</th>\n",
              "      <th>Sat</th>\n",
              "      <td>19.661778</td>\n",
              "      <td>3.102889</td>\n",
              "      <td>2.555556</td>\n",
              "    </tr>\n",
              "    <tr>\n",
              "      <th>Sun</th>\n",
              "      <td>20.506667</td>\n",
              "      <td>3.167895</td>\n",
              "      <td>2.929825</td>\n",
              "    </tr>\n",
              "    <tr>\n",
              "      <th rowspan=\"2\" valign=\"top\">Yes</th>\n",
              "      <th>Sat</th>\n",
              "      <td>21.276667</td>\n",
              "      <td>2.875476</td>\n",
              "      <td>2.476190</td>\n",
              "    </tr>\n",
              "    <tr>\n",
              "      <th>Sun</th>\n",
              "      <td>24.120000</td>\n",
              "      <td>3.516842</td>\n",
              "      <td>2.578947</td>\n",
              "    </tr>\n",
              "  </tbody>\n",
              "</table>\n",
              "</div>"
            ],
            "text/plain": [
              "            total_bill       tip      size\n",
              "smoker day                                \n",
              "No     Sat   19.661778  3.102889  2.555556\n",
              "       Sun   20.506667  3.167895  2.929825\n",
              "Yes    Sat   21.276667  2.875476  2.476190\n",
              "       Sun   24.120000  3.516842  2.578947"
            ]
          },
          "execution_count": 14,
          "metadata": {},
          "output_type": "execute_result"
        }
      ],
      "source": [
        "tips[df.day.isin(['Sat','Sun'])].groupby([\"smoker\",\"day\"]).mean()"
      ]
    },
    {
      "cell_type": "markdown",
      "metadata": {},
      "source": [
        "## Gabarito"
      ]
    },
    {
      "cell_type": "markdown",
      "metadata": {
        "id": "JrafpAy85akw"
      },
      "source": [
        "Não é necessário fazer assim..."
      ]
    },
    {
      "cell_type": "code",
      "execution_count": null,
      "metadata": {
        "colab": {
          "base_uri": "https://localhost:8080/"
        },
        "id": "eGw1NvK_FScM",
        "outputId": "360e4530-ae03-47f4-8ef7-1fef7cb8ae5a"
      },
      "outputs": [
        {
          "name": "stdout",
          "output_type": "stream",
          "text": [
            "Não fumantes tem média de participantes na mesa maior que fumantes?  True\n"
          ]
        }
      ],
      "source": [
        "print('Não fumantes tem média de participantes na mesa maior que fumantes? ',\n",
        "      df[ (df.smoker == 'Yes') & (df.day.isin(['Sat','Sun'])) ]['size'].mean() <\n",
        "      df[ (df.smoker == 'No') & (df.day.isin(['Sat','Sun'])) ]['size'].mean())"
      ]
    },
    {
      "cell_type": "markdown",
      "metadata": {
        "id": "_qnufZN95gc2"
      },
      "source": [
        "Assim, é suficientemente bom..."
      ]
    },
    {
      "cell_type": "code",
      "execution_count": null,
      "metadata": {
        "colab": {
          "base_uri": "https://localhost:8080/"
        },
        "id": "JMxFI0WVUcIj",
        "outputId": "573ae1f5-189d-4d10-f3a3-e939ed733ec6"
      },
      "outputs": [
        {
          "data": {
            "text/plain": [
              "2.5081967213114753"
            ]
          },
          "execution_count": 4,
          "metadata": {},
          "output_type": "execute_result"
        }
      ],
      "source": [
        "df[ (df.smoker == 'Yes') & (df.day.isin(['Sat','Sun'])) ]['size'].mean()"
      ]
    },
    {
      "cell_type": "code",
      "execution_count": null,
      "metadata": {
        "colab": {
          "base_uri": "https://localhost:8080/"
        },
        "id": "ekbmaeDIVj70",
        "outputId": "413b27af-94af-440d-8917-ac45805eb955"
      },
      "outputs": [
        {
          "data": {
            "text/plain": [
              "2.764705882352941"
            ]
          },
          "execution_count": 5,
          "metadata": {},
          "output_type": "execute_result"
        }
      ],
      "source": [
        "df[ (df.smoker == 'No') & (df.day.isin(['Sat','Sun'])) ]['size'].mean()"
      ]
    },
    {
      "cell_type": "markdown",
      "metadata": {
        "id": "UlC0zTrm54mc"
      },
      "source": [
        "Usando `groupby()`..."
      ]
    },
    {
      "cell_type": "code",
      "execution_count": null,
      "metadata": {
        "colab": {
          "base_uri": "https://localhost:8080/"
        },
        "id": "Nec47alQ44ju",
        "outputId": "627679e2-9757-4468-8dc0-3b0b7d054b35"
      },
      "outputs": [
        {
          "data": {
            "text/plain": [
              "smoker\n",
              "No     2.764706\n",
              "Yes    2.508197\n",
              "Name: size, dtype: float64"
            ]
          },
          "execution_count": 6,
          "metadata": {},
          "output_type": "execute_result"
        }
      ],
      "source": [
        "df[ df.day.isin(['Sat','Sun']) ].groupby('smoker')['size'].mean()"
      ]
    },
    {
      "cell_type": "markdown",
      "metadata": {
        "id": "k0HzcIvWZ6Vp"
      },
      "source": [
        "## **CASE Insurance**\n",
        "\n",
        "Acesse a base de dados [`insurance`](https://github.com/Rogerio-mack/IMT_Ciencia_de_Dados/raw/main/data/insurance.csv) para as questões a seguir.\n",
        "\n"
      ]
    },
    {
      "cell_type": "code",
      "execution_count": 22,
      "metadata": {
        "colab": {
          "base_uri": "https://localhost:8080/",
          "height": 206
        },
        "id": "LRND8mdAZ5of",
        "outputId": "65d5cf72-c786-4ea2-89f7-bbc21bce8460"
      },
      "outputs": [
        {
          "data": {
            "text/html": [
              "<div>\n",
              "<style scoped>\n",
              "    .dataframe tbody tr th:only-of-type {\n",
              "        vertical-align: middle;\n",
              "    }\n",
              "\n",
              "    .dataframe tbody tr th {\n",
              "        vertical-align: top;\n",
              "    }\n",
              "\n",
              "    .dataframe thead th {\n",
              "        text-align: right;\n",
              "    }\n",
              "</style>\n",
              "<table border=\"1\" class=\"dataframe\">\n",
              "  <thead>\n",
              "    <tr style=\"text-align: right;\">\n",
              "      <th></th>\n",
              "      <th>age</th>\n",
              "      <th>sex</th>\n",
              "      <th>bmi</th>\n",
              "      <th>children</th>\n",
              "      <th>smoker</th>\n",
              "      <th>region</th>\n",
              "      <th>charges</th>\n",
              "    </tr>\n",
              "  </thead>\n",
              "  <tbody>\n",
              "    <tr>\n",
              "      <th>0</th>\n",
              "      <td>19</td>\n",
              "      <td>female</td>\n",
              "      <td>27.900</td>\n",
              "      <td>0</td>\n",
              "      <td>yes</td>\n",
              "      <td>southwest</td>\n",
              "      <td>16884.92400</td>\n",
              "    </tr>\n",
              "    <tr>\n",
              "      <th>1</th>\n",
              "      <td>18</td>\n",
              "      <td>male</td>\n",
              "      <td>33.770</td>\n",
              "      <td>1</td>\n",
              "      <td>no</td>\n",
              "      <td>southeast</td>\n",
              "      <td>1725.55230</td>\n",
              "    </tr>\n",
              "    <tr>\n",
              "      <th>2</th>\n",
              "      <td>28</td>\n",
              "      <td>male</td>\n",
              "      <td>33.000</td>\n",
              "      <td>3</td>\n",
              "      <td>no</td>\n",
              "      <td>southeast</td>\n",
              "      <td>4449.46200</td>\n",
              "    </tr>\n",
              "    <tr>\n",
              "      <th>3</th>\n",
              "      <td>33</td>\n",
              "      <td>male</td>\n",
              "      <td>22.705</td>\n",
              "      <td>0</td>\n",
              "      <td>no</td>\n",
              "      <td>northwest</td>\n",
              "      <td>21984.47061</td>\n",
              "    </tr>\n",
              "    <tr>\n",
              "      <th>4</th>\n",
              "      <td>32</td>\n",
              "      <td>male</td>\n",
              "      <td>28.880</td>\n",
              "      <td>0</td>\n",
              "      <td>no</td>\n",
              "      <td>northwest</td>\n",
              "      <td>3866.85520</td>\n",
              "    </tr>\n",
              "  </tbody>\n",
              "</table>\n",
              "</div>"
            ],
            "text/plain": [
              "   age     sex     bmi  children smoker     region      charges\n",
              "0   19  female  27.900         0    yes  southwest  16884.92400\n",
              "1   18    male  33.770         1     no  southeast   1725.55230\n",
              "2   28    male  33.000         3     no  southeast   4449.46200\n",
              "3   33    male  22.705         0     no  northwest  21984.47061\n",
              "4   32    male  28.880         0     no  northwest   3866.85520"
            ]
          },
          "execution_count": 22,
          "metadata": {},
          "output_type": "execute_result"
        }
      ],
      "source": [
        "df = pd.read_csv('https://github.com/Rogerio-mack/IMT_Ciencia_de_Dados/raw/main/data/insurance.csv')\n",
        "df.head()"
      ]
    },
    {
      "cell_type": "markdown",
      "metadata": {
        "id": "GC2yWSkjNwY8"
      },
      "source": [
        "# Q2.\n",
        "\n",
        "Qual percentual de homens e mulheres assegurados na base? **`[NoGroup | GroupBy]`**"
      ]
    },
    {
      "cell_type": "code",
      "execution_count": 19,
      "metadata": {},
      "outputs": [
        {
          "data": {
            "text/plain": [
              "sex\n",
              "female    49.476831\n",
              "male      50.523169\n",
              "Name: sex, dtype: float64"
            ]
          },
          "execution_count": 19,
          "metadata": {},
          "output_type": "execute_result"
        }
      ],
      "source": [
        "df.groupby([\"sex\"])[\"sex\"].count()/df[\"sex\"].count()*100"
      ]
    },
    {
      "cell_type": "markdown",
      "metadata": {},
      "source": [
        "## gabarito"
      ]
    },
    {
      "cell_type": "code",
      "execution_count": null,
      "metadata": {
        "colab": {
          "base_uri": "https://localhost:8080/"
        },
        "id": "pb7aErmzN3Nm",
        "outputId": "137da15b-9c4c-4382-eb5b-44e9c8561432"
      },
      "outputs": [
        {
          "name": "stdout",
          "output_type": "stream",
          "text": [
            "Percentual de Mulheres seguradas: 0.4948\n",
            "Percentual de Homens segurados: 0.5052\n"
          ]
        }
      ],
      "source": [
        "fem = len( df[df.sex == 'female'] ) / len(df)\n",
        "print(f'Percentual de Mulheres seguradas: {fem:.4f}')\n",
        "\n",
        "masc = len( df[df.sex == 'male'] ) / len(df)\n",
        "print(f'Percentual de Homens segurados: {masc:.4f}')\n"
      ]
    },
    {
      "cell_type": "markdown",
      "metadata": {
        "id": "BqfQvArc6Xx1"
      },
      "source": [
        "Usando `groupby()`..."
      ]
    },
    {
      "cell_type": "code",
      "execution_count": null,
      "metadata": {
        "colab": {
          "base_uri": "https://localhost:8080/"
        },
        "id": "PKdbPQdI6Cm8",
        "outputId": "001d8cc7-9efc-4943-bf2d-31189df9df17"
      },
      "outputs": [
        {
          "data": {
            "text/plain": [
              "sex\n",
              "female    0.494768\n",
              "male      0.505232\n",
              "Name: sex, dtype: float64"
            ]
          },
          "execution_count": 10,
          "metadata": {},
          "output_type": "execute_result"
        }
      ],
      "source": [
        "df.groupby('sex').sex.count() / df.sex.count()"
      ]
    },
    {
      "cell_type": "markdown",
      "metadata": {
        "id": "n7X7Xuow8Yfl"
      },
      "source": [
        "`count()`... Calcula a contagem do grupo, excluindo os valores ausentes..."
      ]
    },
    {
      "cell_type": "code",
      "execution_count": null,
      "metadata": {
        "colab": {
          "base_uri": "https://localhost:8080/"
        },
        "id": "xzUI1vja6-Jt",
        "outputId": "699213dc-4e52-4991-c5a8-c1f8faee14f5"
      },
      "outputs": [
        {
          "data": {
            "text/plain": [
              "sex\n",
              "female    662\n",
              "male      676\n",
              "Name: sex, dtype: int64"
            ]
          },
          "execution_count": 11,
          "metadata": {},
          "output_type": "execute_result"
        }
      ],
      "source": [
        "df.groupby('sex').sex.count()"
      ]
    },
    {
      "cell_type": "code",
      "execution_count": null,
      "metadata": {
        "colab": {
          "base_uri": "https://localhost:8080/"
        },
        "id": "nXQjWQrk9IBO",
        "outputId": "053eefef-0e3d-48ac-f8f9-292eff59e085"
      },
      "outputs": [
        {
          "data": {
            "text/plain": [
              "sex\n",
              "female    661\n",
              "male      676\n",
              "Name: sex, dtype: int64"
            ]
          },
          "execution_count": 12,
          "metadata": {},
          "output_type": "execute_result"
        }
      ],
      "source": [
        "df.loc[0,'sex'] = None\n",
        "\n",
        "df.groupby('sex').sex.count()"
      ]
    },
    {
      "cell_type": "code",
      "execution_count": null,
      "metadata": {
        "colab": {
          "base_uri": "https://localhost:8080/"
        },
        "id": "SP9rGLRuIueU",
        "outputId": "50759641-6b73-4bc0-c920-12f8d9127a90"
      },
      "outputs": [
        {
          "data": {
            "text/plain": [
              "sex\n",
              "female    661\n",
              "male      676\n",
              "NaN         0\n",
              "Name: sex, dtype: int64"
            ]
          },
          "execution_count": 13,
          "metadata": {},
          "output_type": "execute_result"
        }
      ],
      "source": [
        "df.groupby('sex',dropna=False).sex.count()"
      ]
    },
    {
      "cell_type": "markdown",
      "metadata": {
        "id": "__VBwOtBQIHR"
      },
      "source": [
        "# Q3.\n",
        "\n",
        "Qual o total do valor de seguro pago por homens e mulheres segurados na base? **`[NoGroup | GroupBy]`**"
      ]
    },
    {
      "cell_type": "code",
      "execution_count": 23,
      "metadata": {},
      "outputs": [
        {
          "data": {
            "text/plain": [
              "sex\n",
              "female    8.321061e+06\n",
              "male      9.434764e+06\n",
              "Name: charges, dtype: float64"
            ]
          },
          "execution_count": 23,
          "metadata": {},
          "output_type": "execute_result"
        }
      ],
      "source": [
        "df.groupby('sex').charges.sum()"
      ]
    },
    {
      "cell_type": "markdown",
      "metadata": {},
      "source": [
        "## GABARITO"
      ]
    },
    {
      "cell_type": "code",
      "execution_count": null,
      "metadata": {
        "colab": {
          "base_uri": "https://localhost:8080/"
        },
        "id": "YMNKSOayQIHS",
        "outputId": "702dd22f-48f2-4778-d454-66c2c623abbf"
      },
      "outputs": [
        {
          "name": "stdout",
          "output_type": "stream",
          "text": [
            "Total dos Seguros (Mulheres):  8321061.19\n",
            "Total dos Seguros (Homens):  9434763.80\n"
          ]
        }
      ],
      "source": [
        "fem = sum( df[df.sex == 'female'].charges )\n",
        "print(f'Total dos Seguros (Mulheres):  {fem:.2f}')\n",
        "\n",
        "masc = sum( df[df.sex == 'male'].charges )\n",
        "print(f'Total dos Seguros (Homens):  {masc:.2f}')\n"
      ]
    },
    {
      "cell_type": "code",
      "execution_count": null,
      "metadata": {
        "colab": {
          "base_uri": "https://localhost:8080/"
        },
        "id": "d8dMsiv0_lhs",
        "outputId": "58af325a-a602-40ba-ea92-690b862f486f"
      },
      "outputs": [
        {
          "data": {
            "text/plain": [
              "sex\n",
              "female    8321061.19\n",
              "male      9434763.80\n",
              "Name: charges, dtype: object"
            ]
          },
          "execution_count": 17,
          "metadata": {},
          "output_type": "execute_result"
        }
      ],
      "source": [
        "df.groupby('sex').charges.sum().apply(lambda x: '{:.2f}'.format(x))"
      ]
    },
    {
      "cell_type": "markdown",
      "metadata": {
        "id": "qgs0dgQ3RTVw"
      },
      "source": [
        "# Q4.\n",
        "\n",
        "Qual o percentual de valor de seguros pagos por homens e mulheres segurados na base? **`[NoGroup | GroupBy]`**"
      ]
    },
    {
      "cell_type": "code",
      "execution_count": 24,
      "metadata": {},
      "outputs": [
        {
          "data": {
            "text/plain": [
              "sex\n",
              "female    0.468638\n",
              "male      0.531362\n",
              "Name: charges, dtype: float64"
            ]
          },
          "execution_count": 24,
          "metadata": {},
          "output_type": "execute_result"
        }
      ],
      "source": [
        "df.groupby('sex').charges.sum()/df.charges.sum()"
      ]
    },
    {
      "cell_type": "markdown",
      "metadata": {},
      "source": [
        "## Gabarito"
      ]
    },
    {
      "cell_type": "code",
      "execution_count": null,
      "metadata": {
        "colab": {
          "base_uri": "https://localhost:8080/"
        },
        "id": "H4tx05jCRTVy",
        "outputId": "117f226e-b036-4d22-e582-f74d1bd6c469"
      },
      "outputs": [
        {
          "name": "stdout",
          "output_type": "stream",
          "text": [
            "Total dos Seguros (Mulheres):  0.47\n",
            "Total dos Seguros (Homens):  0.53\n"
          ]
        }
      ],
      "source": [
        "fem = sum( df[df.sex == 'female'].charges ) / sum( df.charges )\n",
        "print(f'Total dos Seguros (Mulheres):  {fem:.2f}')\n",
        "\n",
        "masc = sum( df[df.sex == 'male'].charges ) / sum( df.charges )\n",
        "print(f'Total dos Seguros (Homens):  {masc:.2f}')\n"
      ]
    },
    {
      "cell_type": "markdown",
      "metadata": {
        "id": "p6hD084h_5CB"
      },
      "source": [
        "Com `groupby()`..."
      ]
    },
    {
      "cell_type": "code",
      "execution_count": null,
      "metadata": {
        "colab": {
          "base_uri": "https://localhost:8080/"
        },
        "id": "wSOy53Bh_yQd",
        "outputId": "a934eeb7-165d-44d7-d864-e68432bc42f3"
      },
      "outputs": [
        {
          "data": {
            "text/plain": [
              "sex\n",
              "female    0.468638\n",
              "male      0.531362\n",
              "Name: charges, dtype: float64"
            ]
          },
          "execution_count": 19,
          "metadata": {},
          "output_type": "execute_result"
        }
      ],
      "source": [
        "df.groupby('sex').charges.sum() / df.charges.sum()"
      ]
    },
    {
      "cell_type": "markdown",
      "metadata": {
        "id": "M_Zokf5QRp3b"
      },
      "source": [
        "# Q5.\n",
        "\n",
        "Não fumantes apresentam em média mais filhos? **`[NoGroup | GroupBy]`**"
      ]
    },
    {
      "cell_type": "code",
      "execution_count": 25,
      "metadata": {},
      "outputs": [
        {
          "data": {
            "text/plain": [
              "smoker\n",
              "no     1.090226\n",
              "yes    1.113139\n",
              "Name: children, dtype: float64"
            ]
          },
          "execution_count": 25,
          "metadata": {},
          "output_type": "execute_result"
        }
      ],
      "source": [
        "df.groupby(\"smoker\")[\"children\"].mean()"
      ]
    },
    {
      "cell_type": "markdown",
      "metadata": {},
      "source": [
        "## Gabarito"
      ]
    },
    {
      "cell_type": "code",
      "execution_count": null,
      "metadata": {
        "colab": {
          "base_uri": "https://localhost:8080/"
        },
        "id": "Gj55McfqRp3c",
        "outputId": "e729e4c9-daeb-4d6b-d962-0c2d16d55483"
      },
      "outputs": [
        {
          "data": {
            "text/plain": [
              "True"
            ]
          },
          "execution_count": 20,
          "metadata": {},
          "output_type": "execute_result"
        }
      ],
      "source": [
        "df[df.smoker == 'yes'].children.mean() > df[df.smoker == 'no'].children.mean()"
      ]
    },
    {
      "cell_type": "markdown",
      "metadata": {
        "id": "QiP9mjFkAaoc"
      },
      "source": [
        "Ou..."
      ]
    },
    {
      "cell_type": "code",
      "execution_count": null,
      "metadata": {
        "colab": {
          "base_uri": "https://localhost:8080/"
        },
        "id": "_79kjQLXAD1X",
        "outputId": "d90664aa-a755-4cd5-bcb0-5222f7ee8254"
      },
      "outputs": [
        {
          "data": {
            "text/plain": [
              "smoker\n",
              "no     False\n",
              "yes     True\n",
              "Name: children, dtype: bool"
            ]
          },
          "execution_count": 21,
          "metadata": {},
          "output_type": "execute_result"
        }
      ],
      "source": [
        "df.groupby('smoker').children.mean() >= df.groupby('smoker').children.mean().max()"
      ]
    },
    {
      "cell_type": "markdown",
      "metadata": {
        "id": "jFUFT8VAWV88"
      },
      "source": [
        "# Q6.\n",
        "\n",
        "Qual a média e maior de idade dentre os segurados homem, das regiões northwest ou northeast? **`[NoGroup | GroupBy]`**"
      ]
    },
    {
      "cell_type": "code",
      "execution_count": 26,
      "metadata": {},
      "outputs": [
        {
          "data": {
            "text/html": [
              "<div>\n",
              "<style scoped>\n",
              "    .dataframe tbody tr th:only-of-type {\n",
              "        vertical-align: middle;\n",
              "    }\n",
              "\n",
              "    .dataframe tbody tr th {\n",
              "        vertical-align: top;\n",
              "    }\n",
              "\n",
              "    .dataframe thead th {\n",
              "        text-align: right;\n",
              "    }\n",
              "</style>\n",
              "<table border=\"1\" class=\"dataframe\">\n",
              "  <thead>\n",
              "    <tr style=\"text-align: right;\">\n",
              "      <th></th>\n",
              "      <th>mean</th>\n",
              "      <th>max</th>\n",
              "    </tr>\n",
              "    <tr>\n",
              "      <th>sex</th>\n",
              "      <th></th>\n",
              "      <th></th>\n",
              "    </tr>\n",
              "  </thead>\n",
              "  <tbody>\n",
              "    <tr>\n",
              "      <th>female</th>\n",
              "      <td>39.615385</td>\n",
              "      <td>64</td>\n",
              "    </tr>\n",
              "    <tr>\n",
              "      <th>male</th>\n",
              "      <td>38.848765</td>\n",
              "      <td>64</td>\n",
              "    </tr>\n",
              "  </tbody>\n",
              "</table>\n",
              "</div>"
            ],
            "text/plain": [
              "             mean  max\n",
              "sex                   \n",
              "female  39.615385   64\n",
              "male    38.848765   64"
            ]
          },
          "execution_count": 26,
          "metadata": {},
          "output_type": "execute_result"
        }
      ],
      "source": [
        "df[df.region.isin([\"northeast\",\"northwest\"])].groupby(\"sex\").age.agg(['mean','max'])"
      ]
    },
    {
      "cell_type": "code",
      "execution_count": 36,
      "metadata": {},
      "outputs": [
        {
          "data": {
            "text/plain": [
              "mean    38.848765\n",
              "max     64.000000\n",
              "Name: age, dtype: float64"
            ]
          },
          "execution_count": 36,
          "metadata": {},
          "output_type": "execute_result"
        }
      ],
      "source": [
        "# ou\n",
        "\n",
        "df[(df.region.isin([\"northeast\",\"northwest\"])) & (df[\"sex\"] == \"male\") ].age.agg(['mean','max'])\n"
      ]
    },
    {
      "cell_type": "code",
      "execution_count": 35,
      "metadata": {},
      "outputs": [
        {
          "data": {
            "text/html": [
              "<div>\n",
              "<style scoped>\n",
              "    .dataframe tbody tr th:only-of-type {\n",
              "        vertical-align: middle;\n",
              "    }\n",
              "\n",
              "    .dataframe tbody tr th {\n",
              "        vertical-align: top;\n",
              "    }\n",
              "\n",
              "    .dataframe thead th {\n",
              "        text-align: right;\n",
              "    }\n",
              "</style>\n",
              "<table border=\"1\" class=\"dataframe\">\n",
              "  <thead>\n",
              "    <tr style=\"text-align: right;\">\n",
              "      <th></th>\n",
              "      <th>age</th>\n",
              "      <th>sex</th>\n",
              "      <th>bmi</th>\n",
              "      <th>children</th>\n",
              "      <th>smoker</th>\n",
              "      <th>region</th>\n",
              "      <th>charges</th>\n",
              "    </tr>\n",
              "  </thead>\n",
              "  <tbody>\n",
              "  </tbody>\n",
              "</table>\n",
              "</div>"
            ],
            "text/plain": [
              "Empty DataFrame\n",
              "Columns: [age, sex, bmi, children, smoker, region, charges]\n",
              "Index: []"
            ]
          },
          "metadata": {},
          "output_type": "display_data"
        },
        {
          "data": {
            "text/html": [
              "<div>\n",
              "<style scoped>\n",
              "    .dataframe tbody tr th:only-of-type {\n",
              "        vertical-align: middle;\n",
              "    }\n",
              "\n",
              "    .dataframe tbody tr th {\n",
              "        vertical-align: top;\n",
              "    }\n",
              "\n",
              "    .dataframe thead th {\n",
              "        text-align: right;\n",
              "    }\n",
              "</style>\n",
              "<table border=\"1\" class=\"dataframe\">\n",
              "  <thead>\n",
              "    <tr style=\"text-align: right;\">\n",
              "      <th></th>\n",
              "      <th>age</th>\n",
              "      <th>sex</th>\n",
              "      <th>bmi</th>\n",
              "      <th>children</th>\n",
              "      <th>smoker</th>\n",
              "      <th>region</th>\n",
              "      <th>charges</th>\n",
              "    </tr>\n",
              "  </thead>\n",
              "  <tbody>\n",
              "    <tr>\n",
              "      <th>3</th>\n",
              "      <td>33</td>\n",
              "      <td>male</td>\n",
              "      <td>22.705</td>\n",
              "      <td>0</td>\n",
              "      <td>no</td>\n",
              "      <td>northwest</td>\n",
              "      <td>21984.47061</td>\n",
              "    </tr>\n",
              "    <tr>\n",
              "      <th>4</th>\n",
              "      <td>32</td>\n",
              "      <td>male</td>\n",
              "      <td>28.880</td>\n",
              "      <td>0</td>\n",
              "      <td>no</td>\n",
              "      <td>northwest</td>\n",
              "      <td>3866.85520</td>\n",
              "    </tr>\n",
              "    <tr>\n",
              "      <th>8</th>\n",
              "      <td>37</td>\n",
              "      <td>male</td>\n",
              "      <td>29.830</td>\n",
              "      <td>2</td>\n",
              "      <td>no</td>\n",
              "      <td>northeast</td>\n",
              "      <td>6406.41070</td>\n",
              "    </tr>\n",
              "    <tr>\n",
              "      <th>10</th>\n",
              "      <td>25</td>\n",
              "      <td>male</td>\n",
              "      <td>26.220</td>\n",
              "      <td>0</td>\n",
              "      <td>no</td>\n",
              "      <td>northeast</td>\n",
              "      <td>2721.32080</td>\n",
              "    </tr>\n",
              "    <tr>\n",
              "      <th>17</th>\n",
              "      <td>23</td>\n",
              "      <td>male</td>\n",
              "      <td>23.845</td>\n",
              "      <td>0</td>\n",
              "      <td>no</td>\n",
              "      <td>northeast</td>\n",
              "      <td>2395.17155</td>\n",
              "    </tr>\n",
              "    <tr>\n",
              "      <th>...</th>\n",
              "      <td>...</td>\n",
              "      <td>...</td>\n",
              "      <td>...</td>\n",
              "      <td>...</td>\n",
              "      <td>...</td>\n",
              "      <td>...</td>\n",
              "      <td>...</td>\n",
              "    </tr>\n",
              "    <tr>\n",
              "      <th>1320</th>\n",
              "      <td>31</td>\n",
              "      <td>male</td>\n",
              "      <td>31.065</td>\n",
              "      <td>3</td>\n",
              "      <td>no</td>\n",
              "      <td>northwest</td>\n",
              "      <td>5425.02335</td>\n",
              "    </tr>\n",
              "    <tr>\n",
              "      <th>1321</th>\n",
              "      <td>62</td>\n",
              "      <td>male</td>\n",
              "      <td>26.695</td>\n",
              "      <td>0</td>\n",
              "      <td>yes</td>\n",
              "      <td>northeast</td>\n",
              "      <td>28101.33305</td>\n",
              "    </tr>\n",
              "    <tr>\n",
              "      <th>1324</th>\n",
              "      <td>31</td>\n",
              "      <td>male</td>\n",
              "      <td>25.935</td>\n",
              "      <td>1</td>\n",
              "      <td>no</td>\n",
              "      <td>northwest</td>\n",
              "      <td>4239.89265</td>\n",
              "    </tr>\n",
              "    <tr>\n",
              "      <th>1325</th>\n",
              "      <td>61</td>\n",
              "      <td>male</td>\n",
              "      <td>33.535</td>\n",
              "      <td>0</td>\n",
              "      <td>no</td>\n",
              "      <td>northeast</td>\n",
              "      <td>13143.33665</td>\n",
              "    </tr>\n",
              "    <tr>\n",
              "      <th>1333</th>\n",
              "      <td>50</td>\n",
              "      <td>male</td>\n",
              "      <td>30.970</td>\n",
              "      <td>3</td>\n",
              "      <td>no</td>\n",
              "      <td>northwest</td>\n",
              "      <td>10600.54830</td>\n",
              "    </tr>\n",
              "  </tbody>\n",
              "</table>\n",
              "<p>324 rows × 7 columns</p>\n",
              "</div>"
            ],
            "text/plain": [
              "      age   sex     bmi  children smoker     region      charges\n",
              "3      33  male  22.705         0     no  northwest  21984.47061\n",
              "4      32  male  28.880         0     no  northwest   3866.85520\n",
              "8      37  male  29.830         2     no  northeast   6406.41070\n",
              "10     25  male  26.220         0     no  northeast   2721.32080\n",
              "17     23  male  23.845         0     no  northeast   2395.17155\n",
              "...   ...   ...     ...       ...    ...        ...          ...\n",
              "1320   31  male  31.065         3     no  northwest   5425.02335\n",
              "1321   62  male  26.695         0    yes  northeast  28101.33305\n",
              "1324   31  male  25.935         1     no  northwest   4239.89265\n",
              "1325   61  male  33.535         0     no  northeast  13143.33665\n",
              "1333   50  male  30.970         3     no  northwest  10600.54830\n",
              "\n",
              "[324 rows x 7 columns]"
            ]
          },
          "metadata": {},
          "output_type": "display_data"
        }
      ],
      "source": [
        "# CUIDADO AND E OR NO FILTRO DEVE TER ()\n",
        "display(df[df.region.isin([\"northeast\",\"northwest\"]) & df[\"sex\"] == \"male\" ])\n",
        "display(df[(df.region.isin([\"northeast\",\"northwest\"]) )& (df[\"sex\"] == \"male\" )])"
      ]
    },
    {
      "cell_type": "markdown",
      "metadata": {},
      "source": [
        "## Gabarito"
      ]
    },
    {
      "cell_type": "code",
      "execution_count": null,
      "metadata": {
        "colab": {
          "base_uri": "https://localhost:8080/"
        },
        "id": "SisC8u02WITC",
        "outputId": "e74f1363-7816-4964-d42d-6db1ac6bf635"
      },
      "outputs": [
        {
          "data": {
            "text/plain": [
              "38.848765432098766"
            ]
          },
          "execution_count": 22,
          "metadata": {},
          "output_type": "execute_result"
        }
      ],
      "source": [
        "df[ (df.sex == 'male') & (df.region.isin(['northwest','northeast']) ) ].age.mean()"
      ]
    },
    {
      "cell_type": "code",
      "execution_count": null,
      "metadata": {
        "colab": {
          "base_uri": "https://localhost:8080/"
        },
        "id": "yYkyi70_XDCT",
        "outputId": "d986c58a-9d12-487b-9b93-bb475b3a4f93"
      },
      "outputs": [
        {
          "data": {
            "text/plain": [
              "64"
            ]
          },
          "execution_count": 23,
          "metadata": {},
          "output_type": "execute_result"
        }
      ],
      "source": [
        "df[ (df.sex == 'male') & (df.region.isin(['northwest','northeast']) ) ].age.max()"
      ]
    },
    {
      "cell_type": "markdown",
      "metadata": {
        "id": "m3QhuTDFA7OE"
      },
      "source": [
        "Ou..."
      ]
    },
    {
      "cell_type": "code",
      "execution_count": null,
      "metadata": {
        "colab": {
          "base_uri": "https://localhost:8080/",
          "height": 143
        },
        "id": "H0tdbVmxAlNV",
        "outputId": "59f7d0fd-fad1-4bb0-c686-229d17a4d52e"
      },
      "outputs": [
        {
          "data": {
            "application/vnd.google.colaboratory.intrinsic+json": {
              "summary": "{\n  \"name\": \"df[ df\",\n  \"rows\": 2,\n  \"fields\": [\n    {\n      \"column\": \"sex\",\n      \"properties\": {\n        \"dtype\": \"string\",\n        \"num_unique_values\": 2,\n        \"samples\": [\n          \"male\",\n          \"female\"\n        ],\n        \"semantic_type\": \"\",\n        \"description\": \"\"\n      }\n    },\n    {\n      \"column\": \"mean\",\n      \"properties\": {\n        \"dtype\": \"number\",\n        \"std\": 0.5420816230891154,\n        \"min\": 38.848765432098766,\n        \"max\": 39.61538461538461,\n        \"num_unique_values\": 2,\n        \"samples\": [\n          38.848765432098766,\n          39.61538461538461\n        ],\n        \"semantic_type\": \"\",\n        \"description\": \"\"\n      }\n    },\n    {\n      \"column\": \"max\",\n      \"properties\": {\n        \"dtype\": \"number\",\n        \"std\": 0,\n        \"min\": 64,\n        \"max\": 64,\n        \"num_unique_values\": 1,\n        \"samples\": [\n          64\n        ],\n        \"semantic_type\": \"\",\n        \"description\": \"\"\n      }\n    }\n  ]\n}",
              "type": "dataframe"
            },
            "text/html": [
              "\n",
              "  <div id=\"df-1e75ab5b-62d3-4999-8d66-a73189b9dbe5\" class=\"colab-df-container\">\n",
              "    <div>\n",
              "<style scoped>\n",
              "    .dataframe tbody tr th:only-of-type {\n",
              "        vertical-align: middle;\n",
              "    }\n",
              "\n",
              "    .dataframe tbody tr th {\n",
              "        vertical-align: top;\n",
              "    }\n",
              "\n",
              "    .dataframe thead th {\n",
              "        text-align: right;\n",
              "    }\n",
              "</style>\n",
              "<table border=\"1\" class=\"dataframe\">\n",
              "  <thead>\n",
              "    <tr style=\"text-align: right;\">\n",
              "      <th></th>\n",
              "      <th>mean</th>\n",
              "      <th>max</th>\n",
              "    </tr>\n",
              "    <tr>\n",
              "      <th>sex</th>\n",
              "      <th></th>\n",
              "      <th></th>\n",
              "    </tr>\n",
              "  </thead>\n",
              "  <tbody>\n",
              "    <tr>\n",
              "      <th>female</th>\n",
              "      <td>39.615385</td>\n",
              "      <td>64</td>\n",
              "    </tr>\n",
              "    <tr>\n",
              "      <th>male</th>\n",
              "      <td>38.848765</td>\n",
              "      <td>64</td>\n",
              "    </tr>\n",
              "  </tbody>\n",
              "</table>\n",
              "</div>\n",
              "    <div class=\"colab-df-buttons\">\n",
              "\n",
              "  <div class=\"colab-df-container\">\n",
              "    <button class=\"colab-df-convert\" onclick=\"convertToInteractive('df-1e75ab5b-62d3-4999-8d66-a73189b9dbe5')\"\n",
              "            title=\"Convert this dataframe to an interactive table.\"\n",
              "            style=\"display:none;\">\n",
              "\n",
              "  <svg xmlns=\"http://www.w3.org/2000/svg\" height=\"24px\" viewBox=\"0 -960 960 960\">\n",
              "    <path d=\"M120-120v-720h720v720H120Zm60-500h600v-160H180v160Zm220 220h160v-160H400v160Zm0 220h160v-160H400v160ZM180-400h160v-160H180v160Zm440 0h160v-160H620v160ZM180-180h160v-160H180v160Zm440 0h160v-160H620v160Z\"/>\n",
              "  </svg>\n",
              "    </button>\n",
              "\n",
              "  <style>\n",
              "    .colab-df-container {\n",
              "      display:flex;\n",
              "      gap: 12px;\n",
              "    }\n",
              "\n",
              "    .colab-df-convert {\n",
              "      background-color: #E8F0FE;\n",
              "      border: none;\n",
              "      border-radius: 50%;\n",
              "      cursor: pointer;\n",
              "      display: none;\n",
              "      fill: #1967D2;\n",
              "      height: 32px;\n",
              "      padding: 0 0 0 0;\n",
              "      width: 32px;\n",
              "    }\n",
              "\n",
              "    .colab-df-convert:hover {\n",
              "      background-color: #E2EBFA;\n",
              "      box-shadow: 0px 1px 2px rgba(60, 64, 67, 0.3), 0px 1px 3px 1px rgba(60, 64, 67, 0.15);\n",
              "      fill: #174EA6;\n",
              "    }\n",
              "\n",
              "    .colab-df-buttons div {\n",
              "      margin-bottom: 4px;\n",
              "    }\n",
              "\n",
              "    [theme=dark] .colab-df-convert {\n",
              "      background-color: #3B4455;\n",
              "      fill: #D2E3FC;\n",
              "    }\n",
              "\n",
              "    [theme=dark] .colab-df-convert:hover {\n",
              "      background-color: #434B5C;\n",
              "      box-shadow: 0px 1px 3px 1px rgba(0, 0, 0, 0.15);\n",
              "      filter: drop-shadow(0px 1px 2px rgba(0, 0, 0, 0.3));\n",
              "      fill: #FFFFFF;\n",
              "    }\n",
              "  </style>\n",
              "\n",
              "    <script>\n",
              "      const buttonEl =\n",
              "        document.querySelector('#df-1e75ab5b-62d3-4999-8d66-a73189b9dbe5 button.colab-df-convert');\n",
              "      buttonEl.style.display =\n",
              "        google.colab.kernel.accessAllowed ? 'block' : 'none';\n",
              "\n",
              "      async function convertToInteractive(key) {\n",
              "        const element = document.querySelector('#df-1e75ab5b-62d3-4999-8d66-a73189b9dbe5');\n",
              "        const dataTable =\n",
              "          await google.colab.kernel.invokeFunction('convertToInteractive',\n",
              "                                                    [key], {});\n",
              "        if (!dataTable) return;\n",
              "\n",
              "        const docLinkHtml = 'Like what you see? Visit the ' +\n",
              "          '<a target=\"_blank\" href=https://colab.research.google.com/notebooks/data_table.ipynb>data table notebook</a>'\n",
              "          + ' to learn more about interactive tables.';\n",
              "        element.innerHTML = '';\n",
              "        dataTable['output_type'] = 'display_data';\n",
              "        await google.colab.output.renderOutput(dataTable, element);\n",
              "        const docLink = document.createElement('div');\n",
              "        docLink.innerHTML = docLinkHtml;\n",
              "        element.appendChild(docLink);\n",
              "      }\n",
              "    </script>\n",
              "  </div>\n",
              "\n",
              "\n",
              "<div id=\"df-2783660a-663a-4f30-be54-254d76bcbc57\">\n",
              "  <button class=\"colab-df-quickchart\" onclick=\"quickchart('df-2783660a-663a-4f30-be54-254d76bcbc57')\"\n",
              "            title=\"Suggest charts\"\n",
              "            style=\"display:none;\">\n",
              "\n",
              "<svg xmlns=\"http://www.w3.org/2000/svg\" height=\"24px\"viewBox=\"0 0 24 24\"\n",
              "     width=\"24px\">\n",
              "    <g>\n",
              "        <path d=\"M19 3H5c-1.1 0-2 .9-2 2v14c0 1.1.9 2 2 2h14c1.1 0 2-.9 2-2V5c0-1.1-.9-2-2-2zM9 17H7v-7h2v7zm4 0h-2V7h2v10zm4 0h-2v-4h2v4z\"/>\n",
              "    </g>\n",
              "</svg>\n",
              "  </button>\n",
              "\n",
              "<style>\n",
              "  .colab-df-quickchart {\n",
              "      --bg-color: #E8F0FE;\n",
              "      --fill-color: #1967D2;\n",
              "      --hover-bg-color: #E2EBFA;\n",
              "      --hover-fill-color: #174EA6;\n",
              "      --disabled-fill-color: #AAA;\n",
              "      --disabled-bg-color: #DDD;\n",
              "  }\n",
              "\n",
              "  [theme=dark] .colab-df-quickchart {\n",
              "      --bg-color: #3B4455;\n",
              "      --fill-color: #D2E3FC;\n",
              "      --hover-bg-color: #434B5C;\n",
              "      --hover-fill-color: #FFFFFF;\n",
              "      --disabled-bg-color: #3B4455;\n",
              "      --disabled-fill-color: #666;\n",
              "  }\n",
              "\n",
              "  .colab-df-quickchart {\n",
              "    background-color: var(--bg-color);\n",
              "    border: none;\n",
              "    border-radius: 50%;\n",
              "    cursor: pointer;\n",
              "    display: none;\n",
              "    fill: var(--fill-color);\n",
              "    height: 32px;\n",
              "    padding: 0;\n",
              "    width: 32px;\n",
              "  }\n",
              "\n",
              "  .colab-df-quickchart:hover {\n",
              "    background-color: var(--hover-bg-color);\n",
              "    box-shadow: 0 1px 2px rgba(60, 64, 67, 0.3), 0 1px 3px 1px rgba(60, 64, 67, 0.15);\n",
              "    fill: var(--button-hover-fill-color);\n",
              "  }\n",
              "\n",
              "  .colab-df-quickchart-complete:disabled,\n",
              "  .colab-df-quickchart-complete:disabled:hover {\n",
              "    background-color: var(--disabled-bg-color);\n",
              "    fill: var(--disabled-fill-color);\n",
              "    box-shadow: none;\n",
              "  }\n",
              "\n",
              "  .colab-df-spinner {\n",
              "    border: 2px solid var(--fill-color);\n",
              "    border-color: transparent;\n",
              "    border-bottom-color: var(--fill-color);\n",
              "    animation:\n",
              "      spin 1s steps(1) infinite;\n",
              "  }\n",
              "\n",
              "  @keyframes spin {\n",
              "    0% {\n",
              "      border-color: transparent;\n",
              "      border-bottom-color: var(--fill-color);\n",
              "      border-left-color: var(--fill-color);\n",
              "    }\n",
              "    20% {\n",
              "      border-color: transparent;\n",
              "      border-left-color: var(--fill-color);\n",
              "      border-top-color: var(--fill-color);\n",
              "    }\n",
              "    30% {\n",
              "      border-color: transparent;\n",
              "      border-left-color: var(--fill-color);\n",
              "      border-top-color: var(--fill-color);\n",
              "      border-right-color: var(--fill-color);\n",
              "    }\n",
              "    40% {\n",
              "      border-color: transparent;\n",
              "      border-right-color: var(--fill-color);\n",
              "      border-top-color: var(--fill-color);\n",
              "    }\n",
              "    60% {\n",
              "      border-color: transparent;\n",
              "      border-right-color: var(--fill-color);\n",
              "    }\n",
              "    80% {\n",
              "      border-color: transparent;\n",
              "      border-right-color: var(--fill-color);\n",
              "      border-bottom-color: var(--fill-color);\n",
              "    }\n",
              "    90% {\n",
              "      border-color: transparent;\n",
              "      border-bottom-color: var(--fill-color);\n",
              "    }\n",
              "  }\n",
              "</style>\n",
              "\n",
              "  <script>\n",
              "    async function quickchart(key) {\n",
              "      const quickchartButtonEl =\n",
              "        document.querySelector('#' + key + ' button');\n",
              "      quickchartButtonEl.disabled = true;  // To prevent multiple clicks.\n",
              "      quickchartButtonEl.classList.add('colab-df-spinner');\n",
              "      try {\n",
              "        const charts = await google.colab.kernel.invokeFunction(\n",
              "            'suggestCharts', [key], {});\n",
              "      } catch (error) {\n",
              "        console.error('Error during call to suggestCharts:', error);\n",
              "      }\n",
              "      quickchartButtonEl.classList.remove('colab-df-spinner');\n",
              "      quickchartButtonEl.classList.add('colab-df-quickchart-complete');\n",
              "    }\n",
              "    (() => {\n",
              "      let quickchartButtonEl =\n",
              "        document.querySelector('#df-2783660a-663a-4f30-be54-254d76bcbc57 button');\n",
              "      quickchartButtonEl.style.display =\n",
              "        google.colab.kernel.accessAllowed ? 'block' : 'none';\n",
              "    })();\n",
              "  </script>\n",
              "</div>\n",
              "\n",
              "    </div>\n",
              "  </div>\n"
            ],
            "text/plain": [
              "             mean  max\n",
              "sex                   \n",
              "female  39.615385   64\n",
              "male    38.848765   64"
            ]
          },
          "execution_count": 24,
          "metadata": {},
          "output_type": "execute_result"
        }
      ],
      "source": [
        "df[ df.region.isin(['northwest','northeast']) ].groupby('sex').age.agg(['mean','max'])"
      ]
    },
    {
      "cell_type": "markdown",
      "metadata": {
        "id": "dokziaB0XLtj"
      },
      "source": [
        "\n",
        "\n",
        "## **CASE European Energy**\n",
        "\n",
        "Qual o tipo de Energia mais produzido na Europa? O uso de fontes renováveis já é significativo?\n",
        "\n",
        "<br>\n",
        "<br>\n",
        "\n",
        "<img src=\"https://camo.githubusercontent.com/b0257fd62fcf5d4f9c3742026c1e8509aec09e8710e688101e5957f64ff8b181/68747470733a2f2f696d616765732e756e73706c6173682e636f6d2f70686f746f2d313533323630313232343437362d3135633739663266376135313f69786c69623d72622d312e322e3126697869643d65794a6863484266615751694f6a45794d446439266175746f3d666f726d6174266669743d63726f7026773d3133353026713d3830\" width=300, align=\"left\">\n",
        "\n",
        "<br>\n",
        "<br>\n",
        "<br>\n",
        "<br>\n",
        "<br>\n",
        "<br>\n",
        "<br>\n",
        "<br>\n",
        "<br>\n",
        "\n",
        "[European Energy link](https://github.com/rfordatascience/tidytuesday/blob/master/data/2020/2020-08-04/readme.md)\n",
        "\n",
        "Explore aqui como é a produção de Energia na Europa empregando a base de dados [`energy_types`](https://github.com/Rogerio-mack/IMT_Ciencia_de_Dados/raw/main/data/energy_types.csv). Você pode achar útil fazer uma exploração inicial dos dados antes de começar."
      ]
    },
    {
      "cell_type": "code",
      "execution_count": 37,
      "metadata": {
        "colab": {
          "base_uri": "https://localhost:8080/",
          "height": 206
        },
        "id": "1SMkGyMYXga8",
        "outputId": "7322daf7-57c8-4e2c-fc33-1fc688470bc5"
      },
      "outputs": [
        {
          "data": {
            "text/html": [
              "<div>\n",
              "<style scoped>\n",
              "    .dataframe tbody tr th:only-of-type {\n",
              "        vertical-align: middle;\n",
              "    }\n",
              "\n",
              "    .dataframe tbody tr th {\n",
              "        vertical-align: top;\n",
              "    }\n",
              "\n",
              "    .dataframe thead th {\n",
              "        text-align: right;\n",
              "    }\n",
              "</style>\n",
              "<table border=\"1\" class=\"dataframe\">\n",
              "  <thead>\n",
              "    <tr style=\"text-align: right;\">\n",
              "      <th></th>\n",
              "      <th>country</th>\n",
              "      <th>country_name</th>\n",
              "      <th>type</th>\n",
              "      <th>level</th>\n",
              "      <th>2016</th>\n",
              "      <th>2017</th>\n",
              "      <th>2018</th>\n",
              "    </tr>\n",
              "  </thead>\n",
              "  <tbody>\n",
              "    <tr>\n",
              "      <th>0</th>\n",
              "      <td>BE</td>\n",
              "      <td>Belgium</td>\n",
              "      <td>Conventional thermal</td>\n",
              "      <td>Level 1</td>\n",
              "      <td>30728.0</td>\n",
              "      <td>31316.0</td>\n",
              "      <td>30092.635</td>\n",
              "    </tr>\n",
              "    <tr>\n",
              "      <th>1</th>\n",
              "      <td>BE</td>\n",
              "      <td>Belgium</td>\n",
              "      <td>Nuclear</td>\n",
              "      <td>Level 1</td>\n",
              "      <td>41430.0</td>\n",
              "      <td>40128.5</td>\n",
              "      <td>26995.628</td>\n",
              "    </tr>\n",
              "    <tr>\n",
              "      <th>2</th>\n",
              "      <td>BE</td>\n",
              "      <td>Belgium</td>\n",
              "      <td>Hydro</td>\n",
              "      <td>Level 1</td>\n",
              "      <td>1476.0</td>\n",
              "      <td>1360.9</td>\n",
              "      <td>1239.248</td>\n",
              "    </tr>\n",
              "    <tr>\n",
              "      <th>3</th>\n",
              "      <td>BE</td>\n",
              "      <td>Belgium</td>\n",
              "      <td>Pumped hydro power</td>\n",
              "      <td>Level 2</td>\n",
              "      <td>1110.0</td>\n",
              "      <td>1093.2</td>\n",
              "      <td>983.190</td>\n",
              "    </tr>\n",
              "    <tr>\n",
              "      <th>4</th>\n",
              "      <td>BE</td>\n",
              "      <td>Belgium</td>\n",
              "      <td>Wind</td>\n",
              "      <td>Level 1</td>\n",
              "      <td>5340.0</td>\n",
              "      <td>6387.9</td>\n",
              "      <td>7177.346</td>\n",
              "    </tr>\n",
              "  </tbody>\n",
              "</table>\n",
              "</div>"
            ],
            "text/plain": [
              "  country country_name                  type    level     2016     2017  \\\n",
              "0      BE      Belgium  Conventional thermal  Level 1  30728.0  31316.0   \n",
              "1      BE      Belgium               Nuclear  Level 1  41430.0  40128.5   \n",
              "2      BE      Belgium                 Hydro  Level 1   1476.0   1360.9   \n",
              "3      BE      Belgium    Pumped hydro power  Level 2   1110.0   1093.2   \n",
              "4      BE      Belgium                  Wind  Level 1   5340.0   6387.9   \n",
              "\n",
              "        2018  \n",
              "0  30092.635  \n",
              "1  26995.628  \n",
              "2   1239.248  \n",
              "3    983.190  \n",
              "4   7177.346  "
            ]
          },
          "execution_count": 37,
          "metadata": {},
          "output_type": "execute_result"
        }
      ],
      "source": [
        "import pandas as pd\n",
        "df = pd.read_csv('https://github.com/Rogerio-mack/IMT_Ciencia_de_Dados/raw/main/data/energy_types.csv')\n",
        "\n",
        "df.head()"
      ]
    },
    {
      "cell_type": "markdown",
      "metadata": {
        "id": "lY7B1YMKNVB9"
      },
      "source": [
        "# Q7.\n",
        "\n",
        "Quantos tipos de energia e países diferentes há na base? **`[NoGroup | GroupBy]`**\n"
      ]
    },
    {
      "cell_type": "code",
      "execution_count": null,
      "metadata": {
        "colab": {
          "base_uri": "https://localhost:8080/"
        },
        "id": "XwkuAHq0YSZc",
        "outputId": "6657bdb7-c21f-48a4-ec9e-465b05fe39a0"
      },
      "outputs": [
        {
          "data": {
            "text/plain": [
              "array(['Conventional thermal', 'Nuclear', 'Hydro', 'Pumped hydro power',\n",
              "       'Wind', 'Solar', 'Geothermal', 'Other'], dtype=object)"
            ]
          },
          "execution_count": 26,
          "metadata": {},
          "output_type": "execute_result"
        }
      ],
      "source": [
        "df.type.unique()"
      ]
    },
    {
      "cell_type": "code",
      "execution_count": null,
      "metadata": {
        "colab": {
          "base_uri": "https://localhost:8080/"
        },
        "id": "8uNQLXlttuKK",
        "outputId": "ccd320b1-e602-423e-96f3-4748f60ba3b3"
      },
      "outputs": [
        {
          "data": {
            "text/plain": [
              "dict_keys(['Conventional thermal', 'Geothermal', 'Hydro', 'Nuclear', 'Other', 'Pumped hydro power', 'Solar', 'Wind'])"
            ]
          },
          "execution_count": 27,
          "metadata": {},
          "output_type": "execute_result"
        }
      ],
      "source": [
        "df.groupby('type').groups.keys()"
      ]
    },
    {
      "cell_type": "code",
      "execution_count": null,
      "metadata": {
        "colab": {
          "base_uri": "https://localhost:8080/"
        },
        "id": "xKmWLaiwbqk9",
        "outputId": "5ec16c61-6dee-4728-d0a0-36036303968c"
      },
      "outputs": [
        {
          "data": {
            "text/plain": [
              "37"
            ]
          },
          "execution_count": 28,
          "metadata": {},
          "output_type": "execute_result"
        }
      ],
      "source": [
        "len( df.country_name.unique() )"
      ]
    },
    {
      "cell_type": "code",
      "execution_count": null,
      "metadata": {
        "colab": {
          "base_uri": "https://localhost:8080/"
        },
        "id": "0D3-Y9jquRWD",
        "outputId": "e5d04d93-65cf-4ece-b669-3b1cf9e42983"
      },
      "outputs": [
        {
          "data": {
            "text/plain": [
              "36"
            ]
          },
          "execution_count": 29,
          "metadata": {},
          "output_type": "execute_result"
        }
      ],
      "source": [
        "df.country_name.nunique()"
      ]
    },
    {
      "cell_type": "code",
      "execution_count": null,
      "metadata": {
        "colab": {
          "base_uri": "https://localhost:8080/"
        },
        "id": "nxm-tTTLuCHx",
        "outputId": "231d7f02-c6a0-4de4-9aec-50412ee678ad"
      },
      "outputs": [
        {
          "data": {
            "text/plain": [
              "36"
            ]
          },
          "execution_count": 30,
          "metadata": {},
          "output_type": "execute_result"
        }
      ],
      "source": [
        "len( df.groupby('country_name').groups.keys() )"
      ]
    },
    {
      "cell_type": "code",
      "execution_count": null,
      "metadata": {
        "colab": {
          "base_uri": "https://localhost:8080/"
        },
        "id": "-ZBP2-_bu_H8",
        "outputId": "79dd256d-fb22-461f-e0ea-fa96a037995c"
      },
      "outputs": [
        {
          "name": "stdout",
          "output_type": "stream",
          "text": [
            "skipping error\n"
          ]
        }
      ],
      "source": [
        "%%script echo skipping error\n",
        "len( df.groupby('country_name',dropna=False).groups.keys() )\n"
      ]
    },
    {
      "cell_type": "markdown",
      "metadata": {
        "id": "qiOu7P13BSfS"
      },
      "source": [
        "*Cuidado*, `count()`... Calcula a contagem do grupo, excluindo os valores ausentes..."
      ]
    },
    {
      "cell_type": "code",
      "execution_count": null,
      "metadata": {
        "colab": {
          "base_uri": "https://localhost:8080/"
        },
        "id": "XqrxSOayBQmC",
        "outputId": "052b9f39-54eb-445f-dd59-149b215a10f6"
      },
      "outputs": [
        {
          "data": {
            "text/plain": [
              "country         0\n",
              "country_name    8\n",
              "type            0\n",
              "level           0\n",
              "2016            0\n",
              "2017            0\n",
              "2018            0\n",
              "dtype: int64"
            ]
          },
          "execution_count": 32,
          "metadata": {},
          "output_type": "execute_result"
        }
      ],
      "source": [
        "df.isnull().sum()"
      ]
    },
    {
      "cell_type": "code",
      "execution_count": null,
      "metadata": {
        "colab": {
          "base_uri": "https://localhost:8080/",
          "height": 300
        },
        "id": "W2LbsivPBhK8",
        "outputId": "fb5185be-a57d-4aa9-d036-7ffd2e8d3bea"
      },
      "outputs": [
        {
          "data": {
            "application/vnd.google.colaboratory.intrinsic+json": {
              "repr_error": "0",
              "type": "dataframe"
            },
            "text/html": [
              "\n",
              "  <div id=\"df-87b19e60-b5d5-4ab1-be66-80964522cce8\" class=\"colab-df-container\">\n",
              "    <div>\n",
              "<style scoped>\n",
              "    .dataframe tbody tr th:only-of-type {\n",
              "        vertical-align: middle;\n",
              "    }\n",
              "\n",
              "    .dataframe tbody tr th {\n",
              "        vertical-align: top;\n",
              "    }\n",
              "\n",
              "    .dataframe thead th {\n",
              "        text-align: right;\n",
              "    }\n",
              "</style>\n",
              "<table border=\"1\" class=\"dataframe\">\n",
              "  <thead>\n",
              "    <tr style=\"text-align: right;\">\n",
              "      <th></th>\n",
              "      <th>country</th>\n",
              "      <th>country_name</th>\n",
              "      <th>type</th>\n",
              "      <th>level</th>\n",
              "      <th>2016</th>\n",
              "      <th>2017</th>\n",
              "      <th>2018</th>\n",
              "    </tr>\n",
              "  </thead>\n",
              "  <tbody>\n",
              "    <tr>\n",
              "      <th>216</th>\n",
              "      <td>UK</td>\n",
              "      <td>NaN</td>\n",
              "      <td>Conventional thermal</td>\n",
              "      <td>Level 1</td>\n",
              "      <td>203165.188</td>\n",
              "      <td>189296.528</td>\n",
              "      <td>180837.905</td>\n",
              "    </tr>\n",
              "    <tr>\n",
              "      <th>217</th>\n",
              "      <td>UK</td>\n",
              "      <td>NaN</td>\n",
              "      <td>Nuclear</td>\n",
              "      <td>Level 1</td>\n",
              "      <td>65149.080</td>\n",
              "      <td>63886.860</td>\n",
              "      <td>59097.753</td>\n",
              "    </tr>\n",
              "    <tr>\n",
              "      <th>218</th>\n",
              "      <td>UK</td>\n",
              "      <td>NaN</td>\n",
              "      <td>Hydro</td>\n",
              "      <td>Level 1</td>\n",
              "      <td>8286.510</td>\n",
              "      <td>8723.430</td>\n",
              "      <td>7678.659</td>\n",
              "    </tr>\n",
              "    <tr>\n",
              "      <th>219</th>\n",
              "      <td>UK</td>\n",
              "      <td>NaN</td>\n",
              "      <td>Pumped hydro power</td>\n",
              "      <td>Level 2</td>\n",
              "      <td>2948.890</td>\n",
              "      <td>2862.010</td>\n",
              "      <td>2515.998</td>\n",
              "    </tr>\n",
              "    <tr>\n",
              "      <th>220</th>\n",
              "      <td>UK</td>\n",
              "      <td>NaN</td>\n",
              "      <td>Wind</td>\n",
              "      <td>Level 1</td>\n",
              "      <td>37262.699</td>\n",
              "      <td>50003.654</td>\n",
              "      <td>56903.961</td>\n",
              "    </tr>\n",
              "    <tr>\n",
              "      <th>221</th>\n",
              "      <td>UK</td>\n",
              "      <td>NaN</td>\n",
              "      <td>Solar</td>\n",
              "      <td>Level 1</td>\n",
              "      <td>10410.948</td>\n",
              "      <td>11524.870</td>\n",
              "      <td>12857.349</td>\n",
              "    </tr>\n",
              "    <tr>\n",
              "      <th>222</th>\n",
              "      <td>UK</td>\n",
              "      <td>NaN</td>\n",
              "      <td>Geothermal</td>\n",
              "      <td>Level 1</td>\n",
              "      <td>0.000</td>\n",
              "      <td>0.000</td>\n",
              "      <td>0.000</td>\n",
              "    </tr>\n",
              "    <tr>\n",
              "      <th>223</th>\n",
              "      <td>UK</td>\n",
              "      <td>NaN</td>\n",
              "      <td>Other</td>\n",
              "      <td>Level 1</td>\n",
              "      <td>0.000</td>\n",
              "      <td>0.000</td>\n",
              "      <td>0.000</td>\n",
              "    </tr>\n",
              "  </tbody>\n",
              "</table>\n",
              "</div>\n",
              "    <div class=\"colab-df-buttons\">\n",
              "\n",
              "  <div class=\"colab-df-container\">\n",
              "    <button class=\"colab-df-convert\" onclick=\"convertToInteractive('df-87b19e60-b5d5-4ab1-be66-80964522cce8')\"\n",
              "            title=\"Convert this dataframe to an interactive table.\"\n",
              "            style=\"display:none;\">\n",
              "\n",
              "  <svg xmlns=\"http://www.w3.org/2000/svg\" height=\"24px\" viewBox=\"0 -960 960 960\">\n",
              "    <path d=\"M120-120v-720h720v720H120Zm60-500h600v-160H180v160Zm220 220h160v-160H400v160Zm0 220h160v-160H400v160ZM180-400h160v-160H180v160Zm440 0h160v-160H620v160ZM180-180h160v-160H180v160Zm440 0h160v-160H620v160Z\"/>\n",
              "  </svg>\n",
              "    </button>\n",
              "\n",
              "  <style>\n",
              "    .colab-df-container {\n",
              "      display:flex;\n",
              "      gap: 12px;\n",
              "    }\n",
              "\n",
              "    .colab-df-convert {\n",
              "      background-color: #E8F0FE;\n",
              "      border: none;\n",
              "      border-radius: 50%;\n",
              "      cursor: pointer;\n",
              "      display: none;\n",
              "      fill: #1967D2;\n",
              "      height: 32px;\n",
              "      padding: 0 0 0 0;\n",
              "      width: 32px;\n",
              "    }\n",
              "\n",
              "    .colab-df-convert:hover {\n",
              "      background-color: #E2EBFA;\n",
              "      box-shadow: 0px 1px 2px rgba(60, 64, 67, 0.3), 0px 1px 3px 1px rgba(60, 64, 67, 0.15);\n",
              "      fill: #174EA6;\n",
              "    }\n",
              "\n",
              "    .colab-df-buttons div {\n",
              "      margin-bottom: 4px;\n",
              "    }\n",
              "\n",
              "    [theme=dark] .colab-df-convert {\n",
              "      background-color: #3B4455;\n",
              "      fill: #D2E3FC;\n",
              "    }\n",
              "\n",
              "    [theme=dark] .colab-df-convert:hover {\n",
              "      background-color: #434B5C;\n",
              "      box-shadow: 0px 1px 3px 1px rgba(0, 0, 0, 0.15);\n",
              "      filter: drop-shadow(0px 1px 2px rgba(0, 0, 0, 0.3));\n",
              "      fill: #FFFFFF;\n",
              "    }\n",
              "  </style>\n",
              "\n",
              "    <script>\n",
              "      const buttonEl =\n",
              "        document.querySelector('#df-87b19e60-b5d5-4ab1-be66-80964522cce8 button.colab-df-convert');\n",
              "      buttonEl.style.display =\n",
              "        google.colab.kernel.accessAllowed ? 'block' : 'none';\n",
              "\n",
              "      async function convertToInteractive(key) {\n",
              "        const element = document.querySelector('#df-87b19e60-b5d5-4ab1-be66-80964522cce8');\n",
              "        const dataTable =\n",
              "          await google.colab.kernel.invokeFunction('convertToInteractive',\n",
              "                                                    [key], {});\n",
              "        if (!dataTable) return;\n",
              "\n",
              "        const docLinkHtml = 'Like what you see? Visit the ' +\n",
              "          '<a target=\"_blank\" href=https://colab.research.google.com/notebooks/data_table.ipynb>data table notebook</a>'\n",
              "          + ' to learn more about interactive tables.';\n",
              "        element.innerHTML = '';\n",
              "        dataTable['output_type'] = 'display_data';\n",
              "        await google.colab.output.renderOutput(dataTable, element);\n",
              "        const docLink = document.createElement('div');\n",
              "        docLink.innerHTML = docLinkHtml;\n",
              "        element.appendChild(docLink);\n",
              "      }\n",
              "    </script>\n",
              "  </div>\n",
              "\n",
              "\n",
              "<div id=\"df-a434d29e-bf0f-49ae-8b38-57b799814b6e\">\n",
              "  <button class=\"colab-df-quickchart\" onclick=\"quickchart('df-a434d29e-bf0f-49ae-8b38-57b799814b6e')\"\n",
              "            title=\"Suggest charts\"\n",
              "            style=\"display:none;\">\n",
              "\n",
              "<svg xmlns=\"http://www.w3.org/2000/svg\" height=\"24px\"viewBox=\"0 0 24 24\"\n",
              "     width=\"24px\">\n",
              "    <g>\n",
              "        <path d=\"M19 3H5c-1.1 0-2 .9-2 2v14c0 1.1.9 2 2 2h14c1.1 0 2-.9 2-2V5c0-1.1-.9-2-2-2zM9 17H7v-7h2v7zm4 0h-2V7h2v10zm4 0h-2v-4h2v4z\"/>\n",
              "    </g>\n",
              "</svg>\n",
              "  </button>\n",
              "\n",
              "<style>\n",
              "  .colab-df-quickchart {\n",
              "      --bg-color: #E8F0FE;\n",
              "      --fill-color: #1967D2;\n",
              "      --hover-bg-color: #E2EBFA;\n",
              "      --hover-fill-color: #174EA6;\n",
              "      --disabled-fill-color: #AAA;\n",
              "      --disabled-bg-color: #DDD;\n",
              "  }\n",
              "\n",
              "  [theme=dark] .colab-df-quickchart {\n",
              "      --bg-color: #3B4455;\n",
              "      --fill-color: #D2E3FC;\n",
              "      --hover-bg-color: #434B5C;\n",
              "      --hover-fill-color: #FFFFFF;\n",
              "      --disabled-bg-color: #3B4455;\n",
              "      --disabled-fill-color: #666;\n",
              "  }\n",
              "\n",
              "  .colab-df-quickchart {\n",
              "    background-color: var(--bg-color);\n",
              "    border: none;\n",
              "    border-radius: 50%;\n",
              "    cursor: pointer;\n",
              "    display: none;\n",
              "    fill: var(--fill-color);\n",
              "    height: 32px;\n",
              "    padding: 0;\n",
              "    width: 32px;\n",
              "  }\n",
              "\n",
              "  .colab-df-quickchart:hover {\n",
              "    background-color: var(--hover-bg-color);\n",
              "    box-shadow: 0 1px 2px rgba(60, 64, 67, 0.3), 0 1px 3px 1px rgba(60, 64, 67, 0.15);\n",
              "    fill: var(--button-hover-fill-color);\n",
              "  }\n",
              "\n",
              "  .colab-df-quickchart-complete:disabled,\n",
              "  .colab-df-quickchart-complete:disabled:hover {\n",
              "    background-color: var(--disabled-bg-color);\n",
              "    fill: var(--disabled-fill-color);\n",
              "    box-shadow: none;\n",
              "  }\n",
              "\n",
              "  .colab-df-spinner {\n",
              "    border: 2px solid var(--fill-color);\n",
              "    border-color: transparent;\n",
              "    border-bottom-color: var(--fill-color);\n",
              "    animation:\n",
              "      spin 1s steps(1) infinite;\n",
              "  }\n",
              "\n",
              "  @keyframes spin {\n",
              "    0% {\n",
              "      border-color: transparent;\n",
              "      border-bottom-color: var(--fill-color);\n",
              "      border-left-color: var(--fill-color);\n",
              "    }\n",
              "    20% {\n",
              "      border-color: transparent;\n",
              "      border-left-color: var(--fill-color);\n",
              "      border-top-color: var(--fill-color);\n",
              "    }\n",
              "    30% {\n",
              "      border-color: transparent;\n",
              "      border-left-color: var(--fill-color);\n",
              "      border-top-color: var(--fill-color);\n",
              "      border-right-color: var(--fill-color);\n",
              "    }\n",
              "    40% {\n",
              "      border-color: transparent;\n",
              "      border-right-color: var(--fill-color);\n",
              "      border-top-color: var(--fill-color);\n",
              "    }\n",
              "    60% {\n",
              "      border-color: transparent;\n",
              "      border-right-color: var(--fill-color);\n",
              "    }\n",
              "    80% {\n",
              "      border-color: transparent;\n",
              "      border-right-color: var(--fill-color);\n",
              "      border-bottom-color: var(--fill-color);\n",
              "    }\n",
              "    90% {\n",
              "      border-color: transparent;\n",
              "      border-bottom-color: var(--fill-color);\n",
              "    }\n",
              "  }\n",
              "</style>\n",
              "\n",
              "  <script>\n",
              "    async function quickchart(key) {\n",
              "      const quickchartButtonEl =\n",
              "        document.querySelector('#' + key + ' button');\n",
              "      quickchartButtonEl.disabled = true;  // To prevent multiple clicks.\n",
              "      quickchartButtonEl.classList.add('colab-df-spinner');\n",
              "      try {\n",
              "        const charts = await google.colab.kernel.invokeFunction(\n",
              "            'suggestCharts', [key], {});\n",
              "      } catch (error) {\n",
              "        console.error('Error during call to suggestCharts:', error);\n",
              "      }\n",
              "      quickchartButtonEl.classList.remove('colab-df-spinner');\n",
              "      quickchartButtonEl.classList.add('colab-df-quickchart-complete');\n",
              "    }\n",
              "    (() => {\n",
              "      let quickchartButtonEl =\n",
              "        document.querySelector('#df-a434d29e-bf0f-49ae-8b38-57b799814b6e button');\n",
              "      quickchartButtonEl.style.display =\n",
              "        google.colab.kernel.accessAllowed ? 'block' : 'none';\n",
              "    })();\n",
              "  </script>\n",
              "</div>\n",
              "\n",
              "    </div>\n",
              "  </div>\n"
            ],
            "text/plain": [
              "    country country_name                  type    level        2016  \\\n",
              "216      UK          NaN  Conventional thermal  Level 1  203165.188   \n",
              "217      UK          NaN               Nuclear  Level 1   65149.080   \n",
              "218      UK          NaN                 Hydro  Level 1    8286.510   \n",
              "219      UK          NaN    Pumped hydro power  Level 2    2948.890   \n",
              "220      UK          NaN                  Wind  Level 1   37262.699   \n",
              "221      UK          NaN                 Solar  Level 1   10410.948   \n",
              "222      UK          NaN            Geothermal  Level 1       0.000   \n",
              "223      UK          NaN                 Other  Level 1       0.000   \n",
              "\n",
              "           2017        2018  \n",
              "216  189296.528  180837.905  \n",
              "217   63886.860   59097.753  \n",
              "218    8723.430    7678.659  \n",
              "219    2862.010    2515.998  \n",
              "220   50003.654   56903.961  \n",
              "221   11524.870   12857.349  \n",
              "222       0.000       0.000  \n",
              "223       0.000       0.000  "
            ]
          },
          "execution_count": 33,
          "metadata": {},
          "output_type": "execute_result"
        }
      ],
      "source": [
        "df[ df.country_name.isnull() ]"
      ]
    },
    {
      "cell_type": "markdown",
      "metadata": {
        "id": "GypmvP3lZEWR"
      },
      "source": [
        "# Q8.\n",
        "\n",
        "Qual o percentual de energia nuclear produzido na Europa no ano de 2018?"
      ]
    },
    {
      "cell_type": "code",
      "execution_count": null,
      "metadata": {
        "colab": {
          "base_uri": "https://localhost:8080/"
        },
        "id": "cBWWU46WZpdM",
        "outputId": "11456eed-0fee-495a-8ac7-9784432ee3c4"
      },
      "outputs": [
        {
          "data": {
            "text/plain": [
              "0.22925252769137672"
            ]
          },
          "execution_count": 34,
          "metadata": {},
          "output_type": "execute_result"
        }
      ],
      "source": [
        "df[df.type == 'Nuclear']['2018'].sum() / df['2018'].sum()"
      ]
    },
    {
      "cell_type": "markdown",
      "metadata": {
        "id": "1cIu6LriZ1N7"
      },
      "source": [
        "# Q9.\n",
        "\n",
        "Qual o percentual de energia nuclear produzido na França no ano de 2018?"
      ]
    },
    {
      "cell_type": "code",
      "execution_count": null,
      "metadata": {
        "colab": {
          "base_uri": "https://localhost:8080/"
        },
        "id": "efoD6J23Z1OF",
        "outputId": "378720f3-8bb1-49c7-9c71-8c1ef5ae14de"
      },
      "outputs": [
        {
          "data": {
            "text/plain": [
              "0.7010980377654339"
            ]
          },
          "execution_count": 35,
          "metadata": {},
          "output_type": "execute_result"
        }
      ],
      "source": [
        "df[ (df.type == 'Nuclear') & (df.country_name == 'France')]['2018'].sum() / df[(df.country_name == 'France')]['2018'].sum()"
      ]
    },
    {
      "cell_type": "markdown",
      "metadata": {
        "id": "rEnUCFVtaNTa"
      },
      "source": [
        "# Q10.\n",
        "\n",
        "Qual o percentual de energias limpas produzida na Europa no ano de 2018? **`[NoGroup | GroupBy]`**\n",
        "\n",
        "*Energias limpas somente Hidroelétrica, Eólica, Solar e Geotérmica.*"
      ]
    },
    {
      "cell_type": "code",
      "execution_count": null,
      "metadata": {
        "colab": {
          "base_uri": "https://localhost:8080/"
        },
        "id": "arpwk7ZBaNTb",
        "outputId": "2af1ef04-1f49-47ec-eead-981a9cd727b8"
      },
      "outputs": [
        {
          "data": {
            "text/plain": [
              "0.3053953330199326"
            ]
          },
          "execution_count": 36,
          "metadata": {},
          "output_type": "execute_result"
        }
      ],
      "source": [
        "df[ df.type.isin(['Hydro',\n",
        "                  'Wind',\n",
        "                  'Solar',\n",
        "                  'Geothermal']) ]['2018'].sum() / df['2018'].sum()"
      ]
    },
    {
      "cell_type": "code",
      "execution_count": null,
      "metadata": {
        "colab": {
          "base_uri": "https://localhost:8080/"
        },
        "id": "tMZv7M5NwOCh",
        "outputId": "d63268fa-54c4-49ed-d4af-a4bd1cccb527"
      },
      "outputs": [
        {
          "data": {
            "text/plain": [
              "0.30539533301993255"
            ]
          },
          "execution_count": 37,
          "metadata": {},
          "output_type": "execute_result"
        }
      ],
      "source": [
        "df[ df.type.isin(['Hydro',\n",
        "                  'Wind',\n",
        "                  'Solar',\n",
        "                  'Geothermal']) ].groupby('type')['2018'].sum().sum() / df['2018'].sum()"
      ]
    },
    {
      "cell_type": "markdown",
      "metadata": {
        "id": "7pY3c6iabNag"
      },
      "source": [
        "# Q11.\n",
        "\n",
        "Considerando os anos de 2016, 2017 e 2018, a produção de energias limpas tem aumentado na Europa? Verifique em termos absolutos e percentuais.\n",
        "\n",
        "*Energias limpas somente Hidroelétrica, Eólica, Solar e Geotérmica.*"
      ]
    },
    {
      "cell_type": "code",
      "execution_count": null,
      "metadata": {
        "colab": {
          "base_uri": "https://localhost:8080/",
          "height": 208
        },
        "id": "FSjd5aCdsbnQ",
        "outputId": "484dd330-0efb-4b81-b8a2-3aaedf43c45d"
      },
      "outputs": [
        {
          "name": "stdout",
          "output_type": "stream",
          "text": [
            "*** Absolute values ***\n"
          ]
        },
        {
          "data": {
            "text/plain": [
              "2016    1072303.537\n",
              "2017    1077515.942\n",
              "2018    1156738.155\n",
              "dtype: float64"
            ]
          },
          "metadata": {},
          "output_type": "display_data"
        },
        {
          "name": "stdout",
          "output_type": "stream",
          "text": [
            "\n",
            "*** Percentual values ***\n"
          ]
        },
        {
          "data": {
            "text/plain": [
              "2016    0.283388\n",
              "2017    0.281951\n",
              "2018    0.305395\n",
              "dtype: float64"
            ]
          },
          "metadata": {},
          "output_type": "display_data"
        }
      ],
      "source": [
        "clean_energy = ['Hydro', 'Wind', 'Solar', 'Geothermal']\n",
        "years = ['2016','2017','2018']\n",
        "\n",
        "print('*** Absolute values ***')\n",
        "display( df[ df.type.isin(clean_energy) ][years].sum() )\n",
        "print()\n",
        "print('*** Percentual values ***')\n",
        "display( df[ df.type.isin(clean_energy) ][years].sum() / df[years].sum() )"
      ]
    },
    {
      "cell_type": "code",
      "execution_count": null,
      "metadata": {
        "colab": {
          "base_uri": "https://localhost:8080/"
        },
        "id": "Ro829nGlbNaj",
        "outputId": "615c3c0e-072b-4531-bcc8-a2fe19ff5d46"
      },
      "outputs": [
        {
          "name": "stdout",
          "output_type": "stream",
          "text": [
            "2016 \n",
            "Total: \t\t  1072303.537\n",
            "Percentual: \t 0.2834\n",
            "\n",
            "2017 \n",
            "Total: \t\t  1077515.942\n",
            "Percentual: \t 0.2820\n",
            "\n",
            "2018 \n",
            "Total: \t\t  1156738.155\n",
            "Percentual: \t 0.3054\n",
            "\n"
          ]
        }
      ],
      "source": [
        "# Você pode fazer separadamente, mas se empregar os recursos de programação\n",
        "# que aprendeu até aqui, como o for, listas etc. ficará bem mais inteligente...\n",
        "\n",
        "clean_energy = ['Hydro', 'Wind', 'Solar', 'Geothermal']\n",
        "years = ['2016','2017','2018']\n",
        "\n",
        "for year in years:\n",
        "  print(year, '\\nTotal: \\t\\t ', df[ df.type.isin(clean_energy) ][year].sum() )\n",
        "  print('Percentual: \\t', f'{df[ df.type.isin(clean_energy) ][year].sum() / df[year].sum():.4f}')\n",
        "  print()"
      ]
    },
    {
      "cell_type": "code",
      "execution_count": null,
      "metadata": {
        "colab": {
          "base_uri": "https://localhost:8080/",
          "height": 407
        },
        "id": "WSy8AFeVCsYV",
        "outputId": "ab5f3ba2-a174-491e-8d4b-94df85b500da"
      },
      "outputs": [
        {
          "data": {
            "image/png": "[encoded data removed]",
            "text/plain": [
              "<Figure size 1200x400 with 2 Axes>"
            ]
          },
          "metadata": {},
          "output_type": "display_data"
        }
      ],
      "source": [
        "import matplotlib.pyplot as plt\n",
        "%matplotlib inline\n",
        "import numpy as np\n",
        "\n",
        "plt.figure(figsize=(12,4))\n",
        "plt.subplot(1,2,1)\n",
        "for year in years:\n",
        "  plt.bar(year, df[ df.type.isin(clean_energy) ][year].sum(), color='orange', alpha=0.6)\n",
        "\n",
        "plt.ylim([10**6,1.2*10**6])\n",
        "plt.title('Valores Absolutos')\n",
        "\n",
        "plt.subplot(1,2,2)\n",
        "for year in years:\n",
        "  plt.bar(year, df[ df.type.isin(clean_energy) ][year].sum() / df[year].sum(), color='blue', alpha=0.6)\n",
        "\n",
        "plt.ylim([0.25,0.32])\n",
        "plt.title('Valores Percentuais')\n",
        "\n",
        "plt.tight_layout()\n",
        "plt.show()"
      ]
    }
  ],
  "metadata": {
    "colab": {
      "provenance": []
    },
    "kernelspec": {
      "display_name": "Python 3",
      "language": "python",
      "name": "python3"
    },
    "language_info": {
      "codemirror_mode": {
        "name": "ipython",
        "version": 3
      },
      "file_extension": ".py",
      "mimetype": "text/x-python",
      "name": "python",
      "nbconvert_exporter": "python",
      "pygments_lexer": "ipython3",
      "version": "3.9.13"
    }
  },
  "nbformat": 4,
  "nbformat_minor": 0
}
