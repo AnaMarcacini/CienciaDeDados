{
  "nbformat": 4,
  "nbformat_minor": 0,
  "metadata": {
    "kernelspec": {
      "display_name": "Python 3",
      "language": "python",
      "name": "python3"
    },
    "language_info": {
      "codemirror_mode": {
        "name": "ipython",
        "version": 3
      },
      "file_extension": ".py",
      "mimetype": "text/x-python",
      "name": "python",
      "nbconvert_exporter": "python",
      "pygments_lexer": "ipython3",
      "version": "3.7.4"
    },
    "colab": {
      "name": "c0_parte_1.ipynb",
      "provenance": [],
      "collapsed_sections": [
        "BZMmkF32xYEt",
        "bBO8cKayouUr"
      ],
      "include_colab_link": true
    }
  },
  "cells": [
    {
      "cell_type": "markdown",
      "metadata": {
        "id": "view-in-github",
        "colab_type": "text"
      },
      "source": [
        "<a href=\"https://colab.research.google.com/github/Rogerio-mack/Visualizacao-de-Dados-em-Python/blob/main/c0_parte_1.ipynb\" target=\"_parent\"><img src=\"https://colab.research.google.com/assets/colab-badge.svg\" alt=\"Open In Colab\"/></a>"
      ]
    },
    {
      "cell_type": "markdown",
      "metadata": {
        "id": "KL4z4PmunhQj"
      },
      "source": [
        "# **Básico: Colab,  Python, NumPy e Pandas**\n",
        "<hr>"
      ]
    },
    {
      "cell_type": "markdown",
      "metadata": {
        "id": "n6MzxAxCxXsb"
      },
      "source": [
        "Para uma introdução à visualização de dados com `Python` é esperado que você tenha alguma familiaridade com linguagens de programação, `Python` e mesmo alguns pacotes como o `NumPy` e o `Pandas`. Isso é essencial se você estiver fazendo a Trilha de Programação de leitura deste livro. De qualquer modo, cobriremos aqui os principais recursos e funções do `Python`, `NumPy` e `Pandas` que empregaremos neste livro e você pode recorrer à documentação ou outras referências online desses pacotes para maiores detalhes. Há também uma introdução ao ambiente Google Colab que empregamos para criar este livro e que você pode empregar para executar e explorar os códigos aqui apresentados. \n",
        "\n",
        "Caso você já domine ou esteja confortável com esses recursos você seguir diretamente para o próximo capítulo."
      ]
    },
    {
      "cell_type": "markdown",
      "metadata": {
        "id": "5fCEDCU_qrC0"
      },
      "source": [
        "## Ambiente Google Colaboratory ou `Colab`\n",
        "\n",
        "O Google Colaboratory ou *Colab* é um ambiente que permite você  escrever código `Python` diretamente em seu navegador, sem nenhuma configuração ou instalação de software, e que ainda fornece  fácil acesso a recursos para processamento e compartilhamentode código (GitHub, Google Drive etc.). Para acesso a esse ambiente basta você entrar no seu navegador com https://colab.research.google.com/. "
      ]
    },
    {
      "cell_type": "markdown",
      "metadata": {
        "id": "GJBs_flRovLc"
      },
      "source": [
        "### `Python Notebooks`\n",
        "\n",
        "`Python notebooks` (ou `Jupyter notebooks`) combinam em um único documento **código executável**, **texto** e  **saídas de programas**, e podem incluir imagens, HTML e até textos LaTeX. Em um ambiente interativo como o Colab, você pode editar esses documentos, executar os programas e produzir suas saídas. É uma forma bastante útil de criar e publicar códigos. Todo o material deste livro foi criado em `Python notebooks` para que você possa executar e empregar os códigos fornecidos.\n",
        "\n",
        "Se você está este conteúdo por um `Python notebook`, aqui está uma célula de código com um script `Python` que você poderá executar. Ele calcula um valor, armazena-o em uma variável e exibe em seguida o seu resultado:"
      ]
    },
    {
      "cell_type": "code",
      "metadata": {
        "colab": {
          "base_uri": "https://localhost:8080/"
        },
        "id": "gJr_9dXGpJ05",
        "outputId": "b4971549-445d-4bde-9b0e-d40e5958d887"
      },
      "source": [
        "segundos_do_dia = 24 * 60 * 60\n",
        "segundos_do_dia"
      ],
      "execution_count": null,
      "outputs": [
        {
          "output_type": "execute_result",
          "data": {
            "text/plain": [
              "86400"
            ]
          },
          "metadata": {
            "tags": []
          },
          "execution_count": 1
        }
      ]
    },
    {
      "cell_type": "markdown",
      "metadata": {
        "id": "pPZLdhy5Q6TZ"
      },
      "source": [
        "### Células de Código\n",
        "\n",
        "As células de código podem conter qualquer script ou conjunto de comandos `Python`."
      ]
    },
    {
      "cell_type": "code",
      "metadata": {
        "id": "fXmiIc01RHWR",
        "colab": {
          "base_uri": "https://localhost:8080/",
          "height": 282
        },
        "outputId": "4c6c0d72-18b6-413a-81f0-71589511fd84"
      },
      "source": [
        "# imports\n",
        "import numpy as np\n",
        "import matplotlib.pyplot as plt\n",
        "\n",
        "cores = 'rgbcmyk'\n",
        "label = ['red','green','blue','cyan','magenta','yellow','black']\n",
        "\n",
        "# 'input' não suportado para edição de JupyterBooks, comente e tire os comentários conforme indicado para execução no Colab\n",
        "\n",
        "# n = int( input('Entre com um número inteiro: ') )  # Tire o comentário\n",
        "n = 12                                               # Comente aqui\n",
        "\n",
        "cor = n % len(cores)\n",
        "\n",
        "x = 200 + np.random.randn(100)\n",
        "plt.plot(x,color=cores[cor])\n",
        "\n",
        "plt.title(label[cor].upper(),fontsize=14)\n",
        "plt.show()"
      ],
      "execution_count": null,
      "outputs": [
        {
          "output_type": "display_data",
          "data": {
            "image/png": "[encoded data removed]",
            "text/plain": [
              "<Figure size 432x288 with 1 Axes>"
            ]
          },
          "metadata": {
            "tags": [],
            "needs_background": "light"
          }
        }
      ]
    },
    {
      "cell_type": "markdown",
      "metadata": {
        "id": "HJgLO7mVYyNp"
      },
      "source": [
        "$\\rightarrow$ *Alerta importante: ao trabalhar **com  um `Python notebook` todas as células compartilham o mesmo espaço de execução**. Assim as variáveis de criadas e alteradas em uma célula são imediatamente acessíveis a todas as demais células. Isso é independente da ordem em que elas aparecem.* \n",
        "\n",
        "As células de código não são programas independentes e seus resultados persistem após cada execução. Como você pode executar qualquer célula a qualquer momento a ideia de execução *sequencial* do programa é aqui um pouco modificada. O resultado depende da ordem em que *você* executa as células."
      ]
    },
    {
      "cell_type": "code",
      "metadata": {
        "id": "coolEma-YxTp"
      },
      "source": [
        "x = np.random.randint(10) # gera um valor aleatório entre 0 e 100"
      ],
      "execution_count": null,
      "outputs": []
    },
    {
      "cell_type": "code",
      "metadata": {
        "id": "SDcMbPM0YqIi",
        "colab": {
          "base_uri": "https://localhost:8080/"
        },
        "outputId": "00c90e01-4f27-488b-f110-23d9b001be02"
      },
      "source": [
        "# Você pode executar essa célula uma vez, mas ganhará um erro ao executá-la novamente\n",
        "print(x) \n",
        "del x"
      ],
      "execution_count": null,
      "outputs": [
        {
          "output_type": "stream",
          "text": [
            "3\n"
          ],
          "name": "stdout"
        }
      ]
    },
    {
      "cell_type": "markdown",
      "metadata": {
        "id": "HeFMabhHUFax"
      },
      "source": [
        "### Células de Texto\n",
        "\n",
        "As células de texto são criadas em formato `Markdown`. Se você estiver empregando o Colab pode clicar duas vezes no texto para editar uma célula e  empregar barra de ferramentas para formatar o texto ou, se estiver mais familiarizado com a notação `Markdown`, pode escrever diretamente a formatação. "
      ]
    },
    {
      "cell_type": "markdown",
      "metadata": {
        "id": "2fhs6GZ4qFMx"
      },
      "source": [
        "#### Formatando Títulos\n",
        "--- \n",
        "```\n",
        "### **Título 3**\n",
        "#### **Título 4**\n",
        "##### **Título 5**\n",
        "```\n",
        "Produz:\n",
        "### **Título 3**\n",
        "#### **Título 4**\n",
        "##### **Título 5**\n",
        "\n",
        "#### Formatando Textos \n",
        "--- \n",
        "```\n",
        "**bold**\n",
        "\n",
        "*italic*\n",
        "```\n",
        "Produz:\n",
        "\n",
        "**bold**\n",
        "\n",
        "*italic*\n",
        "\n",
        "#### Identação\n",
        "---\n",
        "\n",
        "<small> '>' (ident) não suportado para edição de JupyterBooks, tire os comentários ``` para execução no Colab.</small>\n",
        "\n",
        "``` \n",
        "> indent 1\n",
        "\n",
        ">> indent 2\n",
        "```\n",
        "\n",
        "#### Formatando Listas\n",
        "---\n",
        "```\n",
        "* item  \n",
        "* item\n",
        "* item\n",
        "ou\n",
        "1. item 1\n",
        "2. item 2\n",
        "3. item 3\n",
        "```\n",
        "Produz: \n",
        "* item  \n",
        "* item\n",
        "* item\n",
        "ou\n",
        "1. item 1\n",
        "2. item 2\n",
        "3. item 3\n",
        "\n",
        "\n"
      ]
    },
    {
      "cell_type": "markdown",
      "metadata": {
        "id": "-Rh3-Vt9Nev9"
      },
      "source": [
        "Você ainda pode editar textos em formato HTML ou Latex e, para saber mais, ,explore a barra de ferramentas do Colab e consulte os tutoriais disponíveis do Colab. \n"
      ]
    },
    {
      "cell_type": "markdown",
      "metadata": {
        "id": "aIBwXwOCYSXp"
      },
      "source": [
        "### Salvando e abrindo um Colab notebook\n",
        "\n",
        "Seus `Python notebooks` podem ser salvos no Google Drive ou ainda no `GitHub`. Eu dou preferência por usar o `GitHub` e lá você poderá acessar os códigos deste livro. Se empregar o Google Drive tenha em mente que as alterações no seu notebook são salvas automaticamente enquanto você edita. Se você não tem familiaridade com esses ambientes recomendo que você empregue a opção `Arquivo >` na barra de ferramentas para carregar e salvar seu notebooks em um arquivo local `.ipynb` na sua máquina. \n",
        "\n",
        "* `Arquivo > Fazer download > Fazer download do .ipynb`\n",
        "* `Arquivo > Fazer upload de um notebook`"
      ]
    },
    {
      "cell_type": "markdown",
      "metadata": {
        "id": "eGCYLQKCcWEq"
      },
      "source": [
        "### `Python` notebook $\\times$ IDE's\n",
        "\n",
        "O uso de `Python notebooks` é de fácil acesso, compartilha em um só documento código, texto e as saídas dos programas, e facilita o trabalho colaborativo permitindo o compartilhamento de código na internet (Google Drive, `GitHub`). É  uma opção bastante aplicada para **Ciência de Dados** e vem sendo a opção preferencial para aplicações no ensino e, por isso, empregamos essa opção em todo o desenvolvimento deste texto.\n",
        "\n",
        "Entretanto, projetos mais complexos, com vários programas e programas com centenas de linhas de código, podem exigir o uso de ambientes integrados de desenvolvimento (IDE's) como o `PyCharm`, `Visual Code` ou o `Spyder` para maior produtividade no desenvolvimento. Note que scripts `Python` e `Python notebooks` são arquivos criados com extensões diferentes:\n",
        "\n",
        "- notebooks `Python`, extensão `.ipynb`\n",
        "- scripts `Python`, extensão `.py`\n",
        "\n",
        "Caso você opte em explorar os códigos deste livro em um ambiente `Python` local recomendo a instalação do ambiente **Anaconda**. Ele é um eco sistema profissional de desenvolvimento `Python` que inclui, além da linguagem `Python`, ambientes para edição local de Jupyter notebooks e o IDE `Spyder` dentre muitos outros pacotes. Você poderá encontrar o link para download no final do livro."
      ]
    },
    {
      "cell_type": "markdown",
      "metadata": {
        "id": "8XowDN9Etvef"
      },
      "source": [
        "## Python\n",
        "\n",
        "`Python` é uma linguagem bastante poderosa e com muitos recursos. Nesta introdução vamos apenas apresentar um conjunto de recursos essenciais para que possamos prosseguir na visualização de dados com `Python`, e você pode consultar diversas fontes online e livros de introdução ao `Python` para saber mais sobre a linguagem."
      ]
    },
    {
      "cell_type": "markdown",
      "metadata": {
        "id": "kuSOumUSw142"
      },
      "source": [
        "### Imports básicos \n",
        "\n",
        "Os `import` de bibliotecas permite estender o `Python` adicionando funcionalidades de uma biblioteca ou pacote `Python`. Os seguintes imports são suficientes para a maior parte deste livro."
      ]
    },
    {
      "cell_type": "code",
      "metadata": {
        "id": "qRTKp_OVwxEq"
      },
      "source": [
        "import pandas as pd                  # Pandas para acesso e manipulação de dados\n",
        "import numpy as np                   # NumPy para operações de vetores e matrizes numéricas (arrays)\n",
        "import matplotlib.pyplot as plt      # Bibliotecas de gráficos e visuallização de dados\n",
        "import matplotlib as mpl\n",
        "import seaborn as sns\n",
        "%matplotlib inline\n"
      ],
      "execution_count": null,
      "outputs": []
    },
    {
      "cell_type": "markdown",
      "metadata": {
        "id": "oTM8Qhy2tqPj"
      },
      "source": [
        "### Variáveis e Atribuições\n",
        "\n",
        "O `Python` implementa tipos fracos, isto é, você não precisa declarar uma variável antes de empregá-la. A variável é criada e seu tipo definido automaticamente na primeira atribuição a um rótulo (nome da variável)."
      ]
    },
    {
      "cell_type": "code",
      "metadata": {
        "id": "RyTJOsK5qdtB",
        "colab": {
          "base_uri": "https://localhost:8080/"
        },
        "outputId": "661fd9f6-8c55-46cd-c8ee-999d11ab4434"
      },
      "source": [
        "inteiro = 123\n",
        "real = np.pi\n",
        "texto1 = '123'\n",
        "texto2 = 'Led Zeppelin'\n",
        "\n",
        "print(type(inteiro), inteiro)\n",
        "print(type(real), real)\n",
        "print(type(texto1), texto1)    \n",
        "print(type(texto2), texto2)  "
      ],
      "execution_count": null,
      "outputs": [
        {
          "output_type": "stream",
          "text": [
            "<class 'int'> 123\n",
            "<class 'float'> 3.141592653589793\n",
            "<class 'str'> 123\n",
            "<class 'str'> Led Zeppelin\n"
          ],
          "name": "stdout"
        }
      ]
    },
    {
      "cell_type": "markdown",
      "metadata": {
        "id": "4JP3gsGP0ZdZ"
      },
      "source": [
        "### Caracteres e Valores Numéricos\n",
        "\n",
        "Como outras linguagens o `Python` implementa valores numéricos inteiros e de ponto flutuante com as operações matemáticas básicas, e cadeias de caracteres (`strings`)."
      ]
    },
    {
      "cell_type": "code",
      "metadata": {
        "id": "5waHa86uur4C",
        "colab": {
          "base_uri": "https://localhost:8080/"
        },
        "outputId": "42c02a98-516e-4b76-d683-836c52b2cd0b"
      },
      "source": [
        "inteiro = inteiro + 1\n",
        "real = real + 1\n",
        "texto1 = texto1 + '4'\n",
        "texto2 = texto2 + ': Stairway to Heaven'\n",
        "\n",
        "print(type(inteiro), inteiro)\n",
        "print(type(real), real)\n",
        "print(type(texto1), texto1)    \n",
        "print(type(texto2), texto2)  \n",
        "\n",
        "# edição de valores no estilo C com controles de linha e formatação\n",
        "print(inteiro, '\\n', '\\t'*4 , texto2)          \n",
        "print('Valor real {:0.2f}'.format(real))"
      ],
      "execution_count": null,
      "outputs": [
        {
          "output_type": "stream",
          "text": [
            "<class 'int'> 124\n",
            "<class 'float'> 4.141592653589793\n",
            "<class 'str'> 1234\n",
            "<class 'str'> Led Zeppelin: Stairway to Heaven\n",
            "124 \n",
            " \t\t\t\t Led Zeppelin: Stairway to Heaven\n",
            "Valor real 4.14\n"
          ],
          "name": "stdout"
        }
      ]
    },
    {
      "cell_type": "markdown",
      "metadata": {
        "id": "bBO8cKayouUr"
      },
      "source": [
        "#### Integer, Float-point, Boolean "
      ]
    },
    {
      "cell_type": "code",
      "metadata": {
        "id": "PwIVdvKBouUt",
        "colab": {
          "base_uri": "https://localhost:8080/"
        },
        "outputId": "40e31057-d8de-4c17-e7f4-ac38ee58663c"
      },
      "source": [
        "print(3 * 4, 3 + 4, 3 - 4, 3 / 4, 3.14, 4.2e-4 ) \n",
        "print(type(3 * 4), type(3.14), type(4.2e-4) ) \n",
        "print(3 ** 2, 3 // 4, 3 % 4 )                       # potência, divisão inteira e resto da divisão (mod)\n",
        "print(4 > 3, 4 >= 3, 3 == 3.0, 3 != 4, 3 <= 4 )\n",
        "print(1 < 2 < 9)                                    # boolean\n",
        "\n"
      ],
      "execution_count": null,
      "outputs": [
        {
          "output_type": "stream",
          "text": [
            "12 7 -1 0.75 3.14 0.00042\n",
            "<class 'int'> <class 'float'> <class 'float'>\n",
            "9 0 3\n",
            "True True True True True\n",
            "True\n"
          ],
          "name": "stdout"
        }
      ]
    },
    {
      "cell_type": "markdown",
      "metadata": {
        "id": "MwYZaE9rd2Pm"
      },
      "source": [
        "#### NumPy functions\n",
        "\n",
        "As funções básicas estão disponíveis nativamente, mas para muitas funções matemáticas como funções trigonométricas, randomização e constantes como o $\\pi$ e $e$ é necessário recorrer a bibliotecas numéricas como o `NumPy` ou  `math` e, em geral, empregaremos o `NumPy`. \n",
        "\n"
      ]
    },
    {
      "cell_type": "code",
      "metadata": {
        "id": "Ud0GcfPXouUy",
        "colab": {
          "base_uri": "https://localhost:8080/"
        },
        "outputId": "e46f8845-d0fa-446c-8d7d-26ad3e2fec2d"
      },
      "source": [
        "import numpy as np\n",
        "              \n",
        "print(np.pi)            # pi \n",
        "print(np.exp(1))        # e\n",
        "\n",
        "print(5 % 2)\n",
        "# o mesmo que\n",
        "print(np.mod(5,2))\n",
        "\n",
        "print(np.random.rand(1))\n",
        "print(np.random.sample(10))"
      ],
      "execution_count": null,
      "outputs": [
        {
          "output_type": "stream",
          "text": [
            "3.141592653589793\n",
            "2.718281828459045\n",
            "1\n",
            "1\n",
            "[0.11077583]\n",
            "[0.70828206 0.98569622 0.41165035 0.07971794 0.6341663  0.34175151\n",
            " 0.68575985 0.38810094 0.32550541 0.60233199]\n"
          ],
          "name": "stdout"
        }
      ]
    },
    {
      "cell_type": "markdown",
      "metadata": {
        "id": "RDwLsBxk1JYj"
      },
      "source": [
        "### Strings  \n",
        "\n",
        "As strings em `Python` são como arrays de caracteres. Em `Python` elas são estruturas *imutáveis*. Isto significa que você não poderá atribuir um valor a uma posição específica de um array em uma string. \n",
        "\n",
        "A indexação de *slices* de strings é feita do seguinte modo:\n",
        "\n",
        "<br>\n",
        "\n",
        "`str[ inicio : tamanho ]` \n",
        "\n",
        "ou\n",
        "\n",
        "`str[ inicio : fim+1 ]`\n",
        "\n",
        "ou ainda\n",
        "\n",
        "`str[ inicio : menor-que ]` \n",
        "\n",
        "<br>\n",
        "<br>\n",
        "\n",
        "$\\rightarrow$ *As strings são arrays que iniciam em 0. Em `Python` o limite superior indica um valor $<$ do índice do caracter que será exibido e não um índice $\\le$ como em outras linguagens como C ou Java.*\n",
        "\n",
        "\n",
        "\n"
      ]
    },
    {
      "cell_type": "code",
      "metadata": {
        "id": "YfIiwfR71MaH",
        "colab": {
          "base_uri": "https://localhost:8080/"
        },
        "outputId": "66a4a1a4-e46b-4ca9-ed7f-7f6bcc7a59c2"
      },
      "source": [
        "print(texto2[0:7])\n",
        "print('0123456789012'[0:7])\n",
        "\n",
        "# e, \n",
        "\n",
        "# texto2[1] = 'x'\n",
        "# não funciona uma vez que uma string é imutável em Python"
      ],
      "execution_count": null,
      "outputs": [
        {
          "output_type": "stream",
          "text": [
            "Led Zep\n",
            "0123456\n"
          ],
          "name": "stdout"
        }
      ]
    },
    {
      "cell_type": "markdown",
      "metadata": {
        "id": "LbKjbRuaouVL"
      },
      "source": [
        "### Operações com Strings  \n",
        "\n",
        "As operações com strings são implementadas como métodos da classe `string`. Empregue o comando `help(str)` para listar os métodos da classe `string`, ou `dir(var)` para os métodos de uma variável. Não faremos grandes operações com strings de dados aqui e os métodos essenciais que precisamos encontram-se abaixo."
      ]
    },
    {
      "cell_type": "code",
      "metadata": {
        "scrolled": true,
        "id": "Pugx1dQpouVM",
        "colab": {
          "base_uri": "https://localhost:8080/"
        },
        "outputId": "da1ca937-dd4e-45a7-a182-819dc4bb78fb"
      },
      "source": [
        "str1 ='A arte existe porque a vida não basta. – Ferreira Gullar'\n",
        "\n",
        "print(str1.find('arte'))\n",
        "print(str1.lower())\n",
        "\n",
        "str2 = str1.replace('arte','life')\n",
        "print(str2)"
      ],
      "execution_count": null,
      "outputs": [
        {
          "output_type": "stream",
          "text": [
            "2\n",
            "a arte existe porque a vida não basta. – ferreira gullar\n",
            "A life existe porque a vida não basta. – Ferreira Gullar\n"
          ],
          "name": "stdout"
        }
      ]
    },
    {
      "cell_type": "markdown",
      "metadata": {
        "id": "j3S7qoJTouUb"
      },
      "source": [
        "### Print & Input\n",
        "\n",
        "O comando `input` permite a entrada de dados pelo terminal, mesmo que você esteja executando um `Python notebook`. O `print` exibe a saída de caracteres e emprega caracteres de controle como `\\n` para salto de linha, `\\t` para *tab* etc. ao estilo da linguagem C.\n"
      ]
    },
    {
      "cell_type": "code",
      "metadata": {
        "id": "AajnwWcebwRB",
        "colab": {
          "base_uri": "https://localhost:8080/"
        },
        "outputId": "e3bf50d4-0e09-43a9-84b1-fd42c21b2c63"
      },
      "source": [
        "# Print & Input...\n",
        "\n",
        "# 'input' não suportado para edição de JupyterBooks, comente e tire os comentários conforme indicado para execução no Colab\n",
        "\n",
        "# text = input('Entre com um texto: ')  # Tire o comentário aqui\n",
        "text = 'Texto'                          # Comente aqui\n",
        "print(type(text))\n",
        "\n",
        "# numero = float(input('Entre com um número: '))  # Tire o comentário aqui\n",
        "numero = 2.25                                     # Comente aqui\n",
        "\n",
        "print('Seu texto: ', text, '\\n', 'Seu número: ', '%0.2f'%numero)"
      ],
      "execution_count": null,
      "outputs": [
        {
          "output_type": "stream",
          "text": [
            "Entre com um texto: Texto\n",
            "<class 'str'>\n",
            "Entre com um número: 2.25\n",
            "Seu texto:  Texto \n",
            " Seu número:  2.25\n"
          ],
          "name": "stdout"
        }
      ]
    },
    {
      "cell_type": "markdown",
      "metadata": {
        "id": "ZAvDpRw6N2lT"
      },
      "source": [
        "### Controles de Fluxo nos Programa"
      ]
    },
    {
      "cell_type": "markdown",
      "metadata": {
        "id": "pFNaHFSEtNow"
      },
      "source": [
        "### If-Then-Else \n",
        "\n",
        "Em  `Python` as instruções **aninhadas** são **identadas** (*tab*), o que corresponde ao `{}` de linguagens como Java e C. Assim, instruções *aninhadas* a uma condição ou laço do programa devem estar identadas à direita da instrução inicial da condição ou do laço.\n",
        "\n",
        "```\n",
        "Condição 1 ...\n",
        " \n",
        " Instrução 1.1 ...\n",
        " Instrução 1.2 ...\n",
        " \n",
        " Condição 2 ...\n",
        "   Instrução 2.1 ...\n",
        "\n",
        " Instrução 1.3...\n",
        "\n",
        "Instrução N\n",
        "```\n",
        "\n",
        "Instrução 1.3 executará dentro da condição 1, mas fora da condição 2.\n",
        "\n"
      ]
    },
    {
      "cell_type": "code",
      "metadata": {
        "id": "10t2mTyQouWI",
        "colab": {
          "base_uri": "https://localhost:8080/"
        },
        "outputId": "7a40a05a-6816-4e96-fb1b-772f5261f0ec"
      },
      "source": [
        "a = 1964\n",
        "b = 1984\n",
        "if b > a:\n",
        "  print(\"b is greater than a\")\n",
        "else:\n",
        "  print(\"a is greater than b\")  \n",
        "\n",
        "if b > a:\n",
        "  print(\"b is greater than a\")\n",
        "elif a == b:\n",
        "  print(\"a and b are equal\")\n",
        "else:\n",
        "  print(\"a is greater than b\")\n"
      ],
      "execution_count": null,
      "outputs": [
        {
          "output_type": "stream",
          "text": [
            "b is greater than a\n",
            "b is greater than a\n"
          ],
          "name": "stdout"
        }
      ]
    },
    {
      "cell_type": "markdown",
      "metadata": {
        "id": "85vgt2Xattqe"
      },
      "source": [
        "$\\rightarrow$ *Fique atento a identação do seu código. Em `Python` é ela que faz o aninhamento das instruções, tendo assim o mesmo papel dos { } que empregamos em Java ou C. Não ficar atento a isso é um dos erros mais comuns para quem está iniciando em `Python`.*"
      ]
    },
    {
      "cell_type": "markdown",
      "metadata": {
        "id": "fDIvl1BCouWM"
      },
      "source": [
        "### For & While \n",
        "\n",
        "`For` e `While` são empregados para implementar *loops* ou laços nos programas. Neste livro na maior parte dos casos empregamos o `for` para criar laços de programa. O comando `range(inicio, fim, incremento)` pode ser usado para definir os limites e o incremento de uma variável em um laço do tipo `for`. Do mesmo modo que na indexação de strings o limite indicado é um limite superior ($<$ e não $\\le$) e, portanto, o último valor nunca é atingido."
      ]
    },
    {
      "cell_type": "code",
      "metadata": {
        "id": "f4JG3Y2AouWO",
        "colab": {
          "base_uri": "https://localhost:8080/"
        },
        "outputId": "8ff1f8c7-6774-4945-d25e-8e9961d3f742"
      },
      "source": [
        "for i in range(5): # Para em 4, < 5\n",
        "  print(i)\n",
        "\n",
        "# O mesmo resultado pode ser obtido aqui\n",
        "for i in range(0,5,1): # range(início,fim+1,incremento)  \n",
        "  print(i)\n",
        "\n",
        "\n"
      ],
      "execution_count": null,
      "outputs": [
        {
          "output_type": "stream",
          "text": [
            "0\n",
            "1\n",
            "2\n",
            "3\n",
            "4\n",
            "0\n",
            "1\n",
            "2\n",
            "3\n",
            "4\n"
          ],
          "name": "stdout"
        }
      ]
    },
    {
      "cell_type": "code",
      "metadata": {
        "id": "Q85BucqfpEgs"
      },
      "source": [
        "for i in range(5): \n",
        "  print(i)\n",
        "  if i == 3:\n",
        "    break             # interrompeo laço"
      ],
      "execution_count": null,
      "outputs": []
    },
    {
      "cell_type": "code",
      "metadata": {
        "id": "4SBHpLUiPC-D"
      },
      "source": [
        "i = 1\n",
        "while i < 6:\n",
        "  print(i)\n",
        "  if i == 3:\n",
        "    break             # interrompeo laço\n",
        "  i += 1"
      ],
      "execution_count": null,
      "outputs": []
    },
    {
      "cell_type": "markdown",
      "metadata": {
        "id": "kxhHxbpycwXi"
      },
      "source": [
        "As iterações também podem ser feitas sobre listas de valores, numéricos ou não."
      ]
    },
    {
      "cell_type": "code",
      "metadata": {
        "colab": {
          "base_uri": "https://localhost:8080/"
        },
        "id": "SPsO7IpDculz",
        "outputId": "36d4abf8-54fc-4f87-c990-14e0d9b7232e"
      },
      "source": [
        "for i in [12,18,84]:\n",
        "  print(i)\n",
        "\n",
        "for nome in ['Adriana','Daniel','Henrique']:\n",
        "  print(nome)    "
      ],
      "execution_count": null,
      "outputs": [
        {
          "output_type": "stream",
          "text": [
            "12\n",
            "18\n",
            "84\n",
            "Adriana\n",
            "Daniel\n",
            "Henrique\n"
          ],
          "name": "stdout"
        }
      ]
    },
    {
      "cell_type": "markdown",
      "metadata": {
        "id": "5incAwfJouWS"
      },
      "source": [
        "### Funções\n",
        "\n",
        "Funções em `Python` são definidas com a instrução `def`. As variáveis de uma função tem escopo local, mas as funções podem também acessar variáveis globais do seu programa.\n"
      ]
    },
    {
      "cell_type": "code",
      "metadata": {
        "id": "43Mk7FeNouWU",
        "colab": {
          "base_uri": "https://localhost:8080/",
          "height": 34
        },
        "outputId": "7a295374-02c4-4bf7-ca1a-237e23dc5a76"
      },
      "source": [
        "def mymax(a,b):\n",
        "  if a > b:\n",
        "    return a\n",
        "  else:\n",
        "    return b\n",
        "\n",
        "mymax(1984,1964)"
      ],
      "execution_count": null,
      "outputs": [
        {
          "output_type": "execute_result",
          "data": {
            "text/plain": [
              "1984"
            ]
          },
          "metadata": {
            "tags": []
          },
          "execution_count": 43
        }
      ]
    },
    {
      "cell_type": "markdown",
      "metadata": {
        "id": "rSR3gzKFPRcH"
      },
      "source": [
        "### Coleções de Dados Básicas\n",
        "\n",
        "Coleções de dados como `Lists`, `Sets`, `Tuples` e `Dictionary` desempenham um papel importante tanto para a programação em geral como para aplicações de análise de dados. \n",
        "\n",
        "O `Python` implementa quatro tipos básicos de coleções de dados:\n",
        "\n",
        "- Lista (`list( )`, `[ ]`) é uma coleção que é ordenada e mutável podendo ter membros duplicados.\n",
        "- Tupla (`tuple( )`, `( )`) é uma coleção que é ordenada e imutável podendo ter membros duplicados.\n",
        "- Conjunto (`set( )`, `{ }`) é uma coleção não ordenada e não indexada que não permite membros duplicados.\n",
        "- Dicionário (`dict( )`, `{'key':value}` ) é uma coleção desordenada de itens, mutável e indexada, e que não permite membros duplicados.\n",
        "\n",
        "Vamos nos deter apenas nas estruturas de listas e dicionários que terão mais utilidade aqui."
      ]
    },
    {
      "cell_type": "markdown",
      "metadata": {
        "id": "tECT16U2ouVX"
      },
      "source": [
        "#### List\n",
        "\n",
        "Lista (**list**) é uma coleção que é **ordenada** e **mutável**, e permite ter membros **duplicados**. Uma série métodos implementam funções úteis para manipular esses objetos como funções para adição, busca e remoção de elementos na lista."
      ]
    },
    {
      "cell_type": "code",
      "metadata": {
        "id": "ee3FM2LxR5Ot"
      },
      "source": [
        "mylist = ['A', 'B', 'C', 'A', 'B']\n",
        "\n",
        "'''\n",
        "Empregue...\n",
        "> help(mylist) \n",
        "para ver todos os métodos associados a listas\n",
        "\n",
        "Help on list object:\n",
        " | class list(object)\n",
        " |  list(iterable=(), /)\n",
        " |  \n",
        " |  Built-in mutable sequence.\n",
        " |  \n",
        " |  If no argument is given, the constructor creates a new empty list.\n",
        " |  The argument must be an iterable if specified.\n",
        " |  \n",
        " |  Methods defined here:\n",
        " |  \n",
        " |  __add__(self, value, /)\n",
        " |      Return self+value.\n",
        " |  \n",
        " |  __contains__(self, key, /)\n",
        " |      Return key in self.\n",
        " \n",
        "'''"
      ],
      "execution_count": null,
      "outputs": []
    },
    {
      "cell_type": "code",
      "metadata": {
        "id": "EkLCApTBouVe",
        "colab": {
          "base_uri": "https://localhost:8080/"
        },
        "outputId": "26732e30-36cd-4e9c-f7a6-44c23c8b1ceb"
      },
      "source": [
        "# Métodos comuns associados a listas\n",
        "len(mylist)                     # tamanho\n",
        "\n",
        "print(mylist.count('B'))        # quantos 'B's      \n",
        "print(mylist.index('B'))        # índice do primeiro 'B'   \n",
        "print(mylist.index('B', 2))     # índice do primeiro 'B' a partir do índice 2\n",
        "\n",
        "mylist.append('D')               \n",
        "print(mylist, 'depois de inserir D')\n",
        "\n",
        "mylist.sort()  \n",
        "print(mylist, 'depois de ordenar a lista')\n",
        "\n",
        "mylist[1] = 'ZZ'\n",
        "print(mylist, 'depois de alterar o elementos de índice 1')\n",
        "\n",
        "print('A' in mylist)      \n",
        "if 'A' in mylist:\n",
        "  print('Sim, A está na lista')\n"
      ],
      "execution_count": null,
      "outputs": [
        {
          "output_type": "stream",
          "text": [
            "2\n",
            "1\n",
            "4\n",
            "['A', 'B', 'C', 'A', 'B', 'D'] depois de inserir D\n",
            "['A', 'A', 'B', 'B', 'C', 'D'] depois de ordenar a lista\n",
            "['A', 'ZZ', 'B', 'B', 'C', 'D'] depois de alterar o elementos de índice 1\n",
            "True\n",
            "Sim, A está na lista\n"
          ],
          "name": "stdout"
        }
      ]
    },
    {
      "cell_type": "markdown",
      "metadata": {
        "id": "DZHZn1Opfaj8"
      },
      "source": [
        "Listas podem conter quaisquer tipos de elementos, incluindo outras listas, e podem ser empregadas para implementar arrays numéricos em `Python`. Para operações eficientes sobre arrays numéricos, entretanto, é preferível empregar arrays do pacote `NumPy`.\n",
        "\n",
        "$\\rightarrow$ *Para operações eficientes sobre arrays numéricos é preferível empregar arrays do pacote `NumPy`.*"
      ]
    },
    {
      "cell_type": "code",
      "metadata": {
        "colab": {
          "base_uri": "https://localhost:8080/"
        },
        "id": "XUgfLp0heou7",
        "outputId": "6caec799-ff47-4edf-f987-39923f47917d"
      },
      "source": [
        "# Arrays numéricos\n",
        "mylist = [[1,2,3], [11,22,33], [9,9,9]]\n",
        "print(mylist[1])  # [11,22,33]\n",
        "print(mylist[1][0])  # 11\n",
        "\n",
        "# Arrays de quaisquer tipos de dados\n",
        "print([ [1,2,3], ['Adriana','Daniel','Henrique'], 3, 'Anna', 2.5 ])"
      ],
      "execution_count": null,
      "outputs": [
        {
          "output_type": "stream",
          "text": [
            "[11, 22, 33]\n",
            "11\n",
            "[[1, 2, 3], ['Adriana', 'Daniel', 'Henrique'], 3, 'Anna', 2.5]\n"
          ],
          "name": "stdout"
        }
      ]
    },
    {
      "cell_type": "markdown",
      "metadata": {
        "id": "Zn4bWeeuouVp"
      },
      "source": [
        "#### Percorrendo listas\n",
        "\n",
        "Percorrer listas é uma operação que empregamos bastante. Existem basicamente duas forma de percorrer uma lista.\n",
        "\n",
        "* **Por índice**, empregamos essa forma quando precisamos do índice (posição) ou precisamos alterar os elementos ao percorrer a lista\n",
        "\n",
        "* **Por iterador**, empregamos essa forma quando desejamos apenas recuperar (ler) os elementos. Ela não permite alterar os elementos enquanto percorre a lista\n",
        "\n",
        "A segunda forma é um modo elegante que o `Python` implementa e você não encontrará esse modo em linguagens como Java ou C. Se não for necessário alterar os elementos ou obter seus índices ao percorrer a lista esta é a melhor forma a ser empregada.\n"
      ]
    },
    {
      "cell_type": "code",
      "metadata": {
        "id": "L2nN1HjGouVq",
        "colab": {
          "base_uri": "https://localhost:8080/"
        },
        "outputId": "b294a07c-827e-4aff-cd53-4aa117ed26cc"
      },
      "source": [
        "mylist = ['A', 'B', 'C', 'A', 'B']\n",
        " \n",
        "for i in range(len(mylist)):    # empregue esse modo para obter o índice ou alterar os elementos ao percorrer a lista\n",
        "    print(i, mylist[i])\n",
        "\n",
        "for item in mylist:             # prefira esse modo se não precisar do índice ou alterar os elementos ao percorrer a lista\n",
        "    print(item) \n",
        "    \n",
        "   "
      ],
      "execution_count": null,
      "outputs": [
        {
          "output_type": "stream",
          "text": [
            "0 A\n",
            "1 B\n",
            "2 C\n",
            "3 A\n",
            "4 B\n",
            "A\n",
            "B\n",
            "C\n",
            "A\n",
            "B\n"
          ],
          "name": "stdout"
        }
      ]
    },
    {
      "cell_type": "markdown",
      "metadata": {
        "id": "sC5hqb0fZ3M1"
      },
      "source": [
        "Também é útil entendermos como popular uma lista com o método `append()`:"
      ]
    },
    {
      "cell_type": "code",
      "metadata": {
        "id": "wkk_jCtGZ3M5",
        "colab": {
          "base_uri": "https://localhost:8080/"
        },
        "outputId": "39b2ed13-a6a6-45eb-f561-9f0cfc5be7df"
      },
      "source": [
        "mylist = []                                                   # cria a lista vazia \n",
        " \n",
        "for elem in ['Beatriz', 'Henrique', 'Adriana', 'Daniel']:\n",
        "    mylist.append(elem)                                       # adiciona um elemento no final da lista\n",
        "\n",
        "print(mylist)\n",
        "\n",
        "  "
      ],
      "execution_count": null,
      "outputs": [
        {
          "output_type": "stream",
          "text": [
            "['Beatriz', 'Henrique', 'Adriana', 'Daniel']\n"
          ],
          "name": "stdout"
        }
      ]
    },
    {
      "cell_type": "markdown",
      "metadata": {
        "id": "1fJXhUmiouV8"
      },
      "source": [
        "#### Dictionary\n",
        "\n",
        "Dicionários (**dictionary**) são uma coleção desordenada, mutável e indexada em formato de `chave: valor`. Elas não aceitam elementos duplicados (chaves), e se você já teve contato com uma estrutura de dados do tipo `JSON` essa é uma estrutura bastante semelhante a ela. A principal vantagem dos dicionários é permitir recuperar os valores diretamente a partir do valor da chave. \n"
      ]
    },
    {
      "cell_type": "code",
      "metadata": {
        "id": "_k8p8tFDouV9",
        "colab": {
          "base_uri": "https://localhost:8080/"
        },
        "outputId": "bf97e3d3-ae8f-49f8-be92-828ea791cce7"
      },
      "source": [
        "aniversarios = {'Beatriz':1978, 'Henrique':2004, 'Adriana':1984, 'Daniel':1996} \n",
        "  \n",
        "print(aniversarios.keys())\n",
        "print(aniversarios['Adriana'])   \n"
      ],
      "execution_count": null,
      "outputs": [
        {
          "output_type": "stream",
          "text": [
            "dict_keys(['Beatriz', 'Henrique', 'Adriana', 'Daniel'])\n",
            "1984\n"
          ],
          "name": "stdout"
        }
      ]
    },
    {
      "cell_type": "markdown",
      "metadata": {
        "id": "-SBVkxZriuSS"
      },
      "source": [
        "Assim como nas listas, os dicionários suportam quaiquer tipos de dados no campo valor, incluindo listas e outros dicionários."
      ]
    },
    {
      "cell_type": "code",
      "metadata": {
        "colab": {
          "base_uri": "https://localhost:8080/"
        },
        "id": "H9kUs8PXjHkz",
        "outputId": "64e6d409-39a0-4046-ea91-24ae9de4c76a"
      },
      "source": [
        "contatos = { 'Adriana': { 'aniversario': 1984, 'telefone': '6767-6868' , 'amigos': {'Henrique':2004, 'Anna':1988} } }\n",
        "\n",
        "print(contatos.keys())\n",
        "print(contatos['Adriana'])             \n",
        "print(contatos['Adriana']['amigos'])   \n"
      ],
      "execution_count": null,
      "outputs": [
        {
          "output_type": "stream",
          "text": [
            "dict_keys(['Adriana'])\n",
            "{'aniversario': 1984, 'telefone': '6767-6868', 'amigos': {'Henrique': 2004, 'Anna': 1988}}\n",
            "{'Henrique': 2004, 'Anna': 1988}\n"
          ],
          "name": "stdout"
        }
      ]
    },
    {
      "cell_type": "markdown",
      "metadata": {
        "id": "XmJSMfvmbQac"
      },
      "source": [
        "#### Percorrendo um Dicionário  \n",
        "\n",
        "Podemos percorrer os elementos de um dicionário de diversas formas que combinam percorrer as chaves, os valores ou ambos:"
      ]
    },
    {
      "cell_type": "code",
      "metadata": {
        "id": "ytthr2VQbZ3V",
        "colab": {
          "base_uri": "https://localhost:8080/"
        },
        "outputId": "ea22202d-726d-4c75-cbff-c3304738c50c"
      },
      "source": [
        "for key, item in aniversarios.items():\n",
        "    print(key, item)\n",
        "# ou\n",
        "for item in aniversarios:\n",
        "    print(item, aniversarios[item])    \n",
        "# ou      \n",
        "for key in aniversarios.keys():\n",
        "    print(key)   \n",
        "# ou      \n",
        "for item in aniversarios.values():\n",
        "    print(item)   \n"
      ],
      "execution_count": null,
      "outputs": [
        {
          "output_type": "stream",
          "text": [
            "Beatriz 1978\n",
            "Henrique 2004\n",
            "Adriana 1984\n",
            "Daniel 1996\n",
            "Beatriz 1978\n",
            "Henrique 2004\n",
            "Adriana 1984\n",
            "Daniel 1996\n",
            "Beatriz\n",
            "Henrique\n",
            "Adriana\n",
            "Daniel\n",
            "1978\n",
            "2004\n",
            "1984\n",
            "1996\n"
          ],
          "name": "stdout"
        }
      ]
    },
    {
      "cell_type": "markdown",
      "metadata": {
        "id": "iAnghYWGbsP2"
      },
      "source": [
        "#### Populando um Dicionário \n",
        "\n",
        "Diferente das listas os dicionários não tem um método próprio para adição de uma chave ou valor, e basta fazer uma atribuição diretamente ao dicionário.\n",
        "\n"
      ]
    },
    {
      "cell_type": "code",
      "metadata": {
        "id": "on7R1B5Xb6IQ",
        "colab": {
          "base_uri": "https://localhost:8080/",
          "height": 34
        },
        "outputId": "2c85b4c5-99e5-457b-f6a6-9f5f69a16c59"
      },
      "source": [
        "lista_nomes = [ 'Carolina', 'Henrique' ]\n",
        "lista_niver = [ 2001, 2005 ]\n",
        "\n",
        "mydict = {}\n",
        "\n",
        "for i in range(len(lista_nomes)): \n",
        "  if lista_nomes[i] not in mydict.keys(): # Se não está no dicionário acrescenta\n",
        "    mydict[lista_nomes[i]] = lista_niver[i]\n",
        "\n",
        "if 'Kate' not in mydict.keys():           # Se não está no dicionário acrescenta\n",
        "  mydict['kate'] = 2002\n",
        "\n",
        "print(mydict)"
      ],
      "execution_count": null,
      "outputs": [
        {
          "output_type": "stream",
          "text": [
            "{'Carolina': 2001, 'Henrique': 2005, 'kate': 2002}\n"
          ],
          "name": "stdout"
        }
      ]
    },
    {
      "cell_type": "markdown",
      "metadata": {
        "id": "2RsdO8GuaWo5"
      },
      "source": [
        "$\\rightarrow$ *Note que `[ ]` é o construtor de uma lista, e o mesmo que `list()`, enquanto `{ }` é o construtor de um dicionário, o o mesmo que `dict()`. Ambos, entretanto, têm os elementos referenciados empregando `[ ]`.*"
      ]
    },
    {
      "cell_type": "markdown",
      "metadata": {
        "id": "hlt2vO94ouWa"
      },
      "source": [
        "#### File Handling\n",
        "\n",
        "Operações com arquivos tipo texto terão pouco uso aqui. Na maior parte dos casos obteremos dados de tabelas e bases de dados em `DataFrames` `Pandas`. De qualquer modo isso pode ser útil para você em algum caso e um exemplo simples de gravação e leitura será suficiente aqui. \n"
      ]
    },
    {
      "cell_type": "code",
      "metadata": {
        "id": "DEet1o7iouWc",
        "colab": {
          "base_uri": "https://localhost:8080/",
          "height": 34
        },
        "outputId": "0c4a3108-56a2-460f-a20f-b3056570b6ac"
      },
      "source": [
        "note = ['This is a note'] \n",
        "\n",
        "f = open(\"note.txt\", \"w\") \n",
        "for line in note:\n",
        "    f.write(line)\n",
        "f.close()\n",
        "\n",
        "f = open(\"note.txt\", \"r\")\n",
        "for line in f:\n",
        "    print(line)\n",
        "    \n"
      ],
      "execution_count": null,
      "outputs": [
        {
          "output_type": "stream",
          "text": [
            "This is a note\n"
          ],
          "name": "stdout"
        }
      ]
    },
    {
      "cell_type": "markdown",
      "metadata": {
        "id": "JKDJ6cQwouWg"
      },
      "source": [
        "Para acesso a arquivos tipo texto via internet, que não estão locais em um diretório da sua máquina ou ambiente virtual como o Colab, você pode empregar a classe `urllib.request` ou, se tiver familiaridade com comandos `Linux`, empregar o comando `!wget` para fazer o download do arquivo e usá-lo local como fizemos acima.\n",
        "\n"
      ]
    },
    {
      "cell_type": "code",
      "metadata": {
        "id": "eQhcsWvHouWj",
        "colab": {
          "base_uri": "https://localhost:8080/"
        },
        "outputId": "28cdabdc-cfe8-4311-e0fa-32e775f65085"
      },
      "source": [
        "import urllib.request  \n",
        "\n",
        "data = urllib.request.urlopen('https://raw.githubusercontent.com/Rogerio-mack/Visualizacao-de-Dados-em-Python/main/data/PlayBallcsv.csv')\n",
        "\n",
        "for line in data:\n",
        "    print(line.decode('utf-8'))\n",
        "    break"
      ],
      "execution_count": null,
      "outputs": [
        {
          "output_type": "stream",
          "text": [
            "Day,Outlook,Temperature,Humidity,Wind,Play ball\r\n",
            "\n"
          ],
          "name": "stdout"
        }
      ]
    },
    {
      "cell_type": "markdown",
      "metadata": {
        "id": "yCSClyJ8ouWs"
      },
      "source": [
        "## NumPy \n",
        "\n",
        "O `NumPy` é um pacote para computação científica em `Python`. Ela dá suporte para arrays e matrizes multidimensionais, e implementa operações e funções matemáticas eficientes sobre esses conjuntos. \n",
        "\n",
        "Na maior parte dos casos empregaremos as funções matemáticas do `NumPy`, como operações para manipulação de matrizes e vetores, funções trigonométricas, estatísticas e de randomização. O `Pandas`, pacote de manipulação de dados que empregaremos, é construído sobre o `NumPy`.\n",
        "\n",
        "Precisamos aqui de entender apenas algumas poucas classes de `NumPy` e, assim, um pequeno conjunto de exemplos será suficiente para nossos propósitos. \n",
        "\n"
      ]
    },
    {
      "cell_type": "markdown",
      "metadata": {
        "id": "J4T0DNJLpW4T"
      },
      "source": [
        "### Criando arrays\n",
        "\n",
        "Arrays podem ser de uma ou mais dimensões mas, diferentemente de listas `Python`, todos elementos devem ser do mesmo tipo. Arrays `Numpy` são indexados e seguem as mesmas regras de indexação do `Python` de listas e strings, isto é, iniciam por $0$ e o limite superior indicará o limite $<$ de range de valores a ser selecionado. "
      ]
    },
    {
      "cell_type": "code",
      "metadata": {
        "colab": {
          "base_uri": "https://localhost:8080/"
        },
        "id": "3jyv8q38pr0D",
        "outputId": "d19ecb94-f4a6-4c96-ce42-5912e1b5f62c"
      },
      "source": [
        "import numpy as np\n",
        "\n",
        "array1D = np.array([1,2,3])\n",
        "array2D = np.array([[1,2,3,4],[11,12,13,14],[21,22,23,24]])\n",
        "\n",
        "print(array1D.ndim, array2D.ndim) # dimensões\n",
        "print(array1D.shape, array2D.shape) # tamanho de cada dimensão\n",
        "\n",
        "print(array1D)\n",
        "print(array2D)\n",
        "\n",
        "print(array1D[1])\n",
        "print(array2D[1:3])\n",
        "print(array2D[1][3])"
      ],
      "execution_count": null,
      "outputs": [
        {
          "output_type": "stream",
          "text": [
            "1 2\n",
            "(3,) (3, 4)\n",
            "[1 2 3]\n",
            "[[ 1  2  3  4]\n",
            " [11 12 13 14]\n",
            " [21 22 23 24]]\n",
            "2\n",
            "[[11 12 13 14]\n",
            " [21 22 23 24]]\n",
            "14\n"
          ],
          "name": "stdout"
        }
      ]
    },
    {
      "cell_type": "markdown",
      "metadata": {
        "id": "fiuBJuQ6qssy"
      },
      "source": [
        "Os arrays `NumPy` operam como listas indexadas e você pode empregar as mesmas formas de índices e iteração que empregamos em listas para percorrer arrays `NumPy`."
      ]
    },
    {
      "cell_type": "code",
      "metadata": {
        "colab": {
          "base_uri": "https://localhost:8080/"
        },
        "id": "ktybvoGbreFQ",
        "outputId": "52fe4de4-e5c0-401b-d170-651354ff84e1"
      },
      "source": [
        "for i in range(array1D.shape[0]):    \n",
        "    print(i, array1D[i])\n",
        "\n",
        "for i in range(array2D.shape[0]):       # percorre as linhas \n",
        "  for j in range(array2D.shape[1]):     # percorre as colunas      \n",
        "    print(i, j, array2D[i,j])\n",
        "\n",
        "for elem in array1D:    \n",
        "    print(elem)\n",
        "\n",
        "for linha in array2D:                   # percorre as linhas \n",
        "  for coluna in linha:                  # percorre as colunas      \n",
        "    print(coluna)"
      ],
      "execution_count": null,
      "outputs": [
        {
          "output_type": "stream",
          "text": [
            "0 1\n",
            "1 2\n",
            "2 3\n",
            "0 0 1\n",
            "0 1 2\n",
            "0 2 3\n",
            "0 3 4\n",
            "1 0 11\n",
            "1 1 12\n",
            "1 2 13\n",
            "1 3 14\n",
            "2 0 21\n",
            "2 1 22\n",
            "2 2 23\n",
            "2 3 24\n",
            "1\n",
            "2\n",
            "3\n",
            "1\n",
            "2\n",
            "3\n",
            "4\n",
            "11\n",
            "12\n",
            "13\n",
            "14\n",
            "21\n",
            "22\n",
            "23\n",
            "24\n"
          ],
          "name": "stdout"
        }
      ]
    },
    {
      "cell_type": "markdown",
      "metadata": {
        "id": "J_JDHeums6WB"
      },
      "source": [
        "### Operações sobre arrays `NumPy`\n",
        "\n",
        "Um dos recursos mais úteis do `NumPy`, e que não encontramos em linguagens como Java e C, é que diversas  operações podem ser executadas diretamente sobre toda a coleção de dados sem a necessidade de iterações ou laços de programa. "
      ]
    },
    {
      "cell_type": "code",
      "metadata": {
        "colab": {
          "base_uri": "https://localhost:8080/"
        },
        "id": "it89cSyVteNT",
        "outputId": "a72cff22-7916-4e0b-ab6d-60a4f0195b06"
      },
      "source": [
        "x = np.array([1,2,3])\n",
        "print( np.mean(x), np.sum(x), np.power(x,2) )\n",
        "print( 2*x, x+x, x**2 + 2*x + 1, np.log(x) )"
      ],
      "execution_count": null,
      "outputs": [
        {
          "output_type": "stream",
          "text": [
            "2.0 6 [1 4 9]\n",
            "[2 4 6] [2 4 6] [ 4  9 16] [0.         0.69314718 1.09861229]\n"
          ],
          "name": "stdout"
        }
      ]
    },
    {
      "cell_type": "markdown",
      "metadata": {
        "id": "E2CWZ8hWtvzB"
      },
      "source": [
        "### Outras Operações Úteis\n",
        "\n",
        "Ainda, algumas operações de conversão, randomização e criação de sequencias de valores são muito úteis e serão empregadas ao longo de todo o livro."
      ]
    },
    {
      "cell_type": "code",
      "metadata": {
        "id": "5YLuCzPDouWt",
        "colab": {
          "base_uri": "https://localhost:8080/"
        },
        "outputId": "34228ed4-bc5a-41b9-910c-8be5079bbd3c"
      },
      "source": [
        "x = np.array([1,2,3])\n",
        "\n",
        "x_list = x.tolist()  # convertendo um NumPy array para uma lista `Python`\n",
        "print(x, x_list)\n",
        "\n",
        "np.random.seed(1984)                                    # semente de geração aleatória \n",
        "print( np.random.randint(low=1, high=6, size=10) )      # gerando inteiros aleatórios\n",
        "print( np.random.rand(4) )                              # gerando valores aleatórios entre [0,1]\n",
        "print( np.random.sample(5) )                            # gerando um sample de dados aleatórios\n",
        "\n",
        "print( np.arange( 10, 20, 2) )     # gerando uma lista de valores no intervalo [10,20[ com incrementos de 2 \n",
        "\n",
        "print( np.linspace( 10, 20, 50) )  # gerando uma lista de valores de 50 valores no intervalo [10,20[\n"
      ],
      "execution_count": null,
      "outputs": [
        {
          "output_type": "stream",
          "text": [
            "[1 2 3] [1, 2, 3]\n",
            "[5 4 2 1 1 3 3 2 3 1]\n",
            "[0.99873856 0.89441845 0.26139183 0.73330439]\n",
            "[0.14629798 0.17234917 0.61481704 0.59564882 0.68232631]\n",
            "[10 12 14 16 18]\n",
            "[10.         10.20408163 10.40816327 10.6122449  10.81632653 11.02040816\n",
            " 11.2244898  11.42857143 11.63265306 11.83673469 12.04081633 12.24489796\n",
            " 12.44897959 12.65306122 12.85714286 13.06122449 13.26530612 13.46938776\n",
            " 13.67346939 13.87755102 14.08163265 14.28571429 14.48979592 14.69387755\n",
            " 14.89795918 15.10204082 15.30612245 15.51020408 15.71428571 15.91836735\n",
            " 16.12244898 16.32653061 16.53061224 16.73469388 16.93877551 17.14285714\n",
            " 17.34693878 17.55102041 17.75510204 17.95918367 18.16326531 18.36734694\n",
            " 18.57142857 18.7755102  18.97959184 19.18367347 19.3877551  19.59183673\n",
            " 19.79591837 20.        ]\n"
          ],
          "name": "stdout"
        }
      ]
    },
    {
      "cell_type": "markdown",
      "metadata": {
        "id": "EyFbZVilnhQp"
      },
      "source": [
        "\n",
        "## Pandas\n",
        "\n",
        "O `Pandas` é um pacote `Python` construído sobre `Numpy` para manipulação e análise de dados orientado a colunas. Ele organiza os dados em dois tipos de estruturas, `Series` e `DataFrames`, e opera seleções e transformações sobre essas coleções.\n",
        "\n",
        "* **`DataFrame`**: você pode entender um `DataFrame` como uma tabela de dados relacionais, com linhas e colunas nomeadas, como você encontra em Excel ou na SQL.\n",
        "\n",
        "* **`Series`**: é uma única coluna de dados somente com os seus valores, e o `DataFrame` contém um ou mais `Series` com um nome para cada uma delas.\n",
        "\n",
        "O `DataFrame`, implementado em `Python`, é uma abstração comumente usada para manipulação de dados que tem origem na linguagem R, mas você encontrará implementações similares também em outras linguagens.\n"
      ]
    },
    {
      "cell_type": "markdown",
      "metadata": {
        "id": "96GHLNV9nhQs"
      },
      "source": [
        "### Import da biblioteca"
      ]
    },
    {
      "cell_type": "code",
      "metadata": {
        "id": "5b3eOLDUnhQt"
      },
      "source": [
        "import pandas as pd\n",
        "import numpy as np"
      ],
      "execution_count": null,
      "outputs": []
    },
    {
      "cell_type": "markdown",
      "metadata": {
        "id": "uYc9EZFLhMmX"
      },
      "source": [
        "### Criando um `pd.Series` e um `pd.DataFrame`"
      ]
    },
    {
      "cell_type": "markdown",
      "metadata": {
        "id": "fjnAk1xcU0yc"
      },
      "source": [
        "Uma `pd.Series` pode ser criada a partir de uma lista e um `pd.Dataframe` pode ser criado empregando-se uma estrutura de dicionário."
      ]
    },
    {
      "cell_type": "code",
      "metadata": {
        "id": "DFZ42Uq7UFDj",
        "colab": {
          "base_uri": "https://localhost:8080/",
          "height": 142
        },
        "outputId": "11204751-3674-4ae9-a30a-fa8666dddc05"
      },
      "source": [
        "# Séries\n",
        "student_names = pd.Series(['Adriana', 'Carol', 'Daniel'])\n",
        "age = pd.Series([18, 19, 19])\n",
        "\n",
        "# DataFrame\n",
        "students = pd.DataFrame({ 'Student Name': student_names, 'Age': age })\n",
        "students\n"
      ],
      "execution_count": null,
      "outputs": [
        {
          "output_type": "execute_result",
          "data": {
            "text/html": [
              "<div>\n",
              "<style scoped>\n",
              "    .dataframe tbody tr th:only-of-type {\n",
              "        vertical-align: middle;\n",
              "    }\n",
              "\n",
              "    .dataframe tbody tr th {\n",
              "        vertical-align: top;\n",
              "    }\n",
              "\n",
              "    .dataframe thead th {\n",
              "        text-align: right;\n",
              "    }\n",
              "</style>\n",
              "<table border=\"1\" class=\"dataframe\">\n",
              "  <thead>\n",
              "    <tr style=\"text-align: right;\">\n",
              "      <th></th>\n",
              "      <th>Student Name</th>\n",
              "      <th>Age</th>\n",
              "    </tr>\n",
              "  </thead>\n",
              "  <tbody>\n",
              "    <tr>\n",
              "      <th>0</th>\n",
              "      <td>Adriana</td>\n",
              "      <td>18</td>\n",
              "    </tr>\n",
              "    <tr>\n",
              "      <th>1</th>\n",
              "      <td>Carol</td>\n",
              "      <td>19</td>\n",
              "    </tr>\n",
              "    <tr>\n",
              "      <th>2</th>\n",
              "      <td>Daniel</td>\n",
              "      <td>19</td>\n",
              "    </tr>\n",
              "  </tbody>\n",
              "</table>\n",
              "</div>"
            ],
            "text/plain": [
              "  Student Name  Age\n",
              "0      Adriana   18\n",
              "1        Carol   19\n",
              "2       Daniel   19"
            ]
          },
          "metadata": {
            "tags": []
          },
          "execution_count": 24
        }
      ]
    },
    {
      "cell_type": "markdown",
      "metadata": {
        "id": "8-4imx64nhQ0"
      },
      "source": [
        "### Lendo um `DataFrame`\n",
        "\n",
        "O uso mais comum do `Pandas` que faremos é para o acesso a arquivos e bases de dados e o `Pandas` permite ler e gravar dados de diferentes fontes como arquivos `.csv, .json, .xlsx` e bancos de dados `sql`, Mongo etc. \n",
        "\n",
        "\n",
        "| Format        | Read           | Save          |\n",
        "| ------------- |:--------------:| ----------------:|\n",
        "| csv           | `pd.read_csv()`  |`df.to_csv()`     |\n",
        "| json          | `pd.read_json()` |`df.to_json()`    |\n",
        "| xlsx          | `pd.read_excel()`|`df.to_excel()`   |\n",
        "| hdf           | `pd.read_hdf()`  |`df.to_hdf()`     |\n",
        "| sql           | `pd.read_sql()`  |`df.to_sql()`     |\n",
        "\n",
        "acessados local ou pela internet.\n"
      ]
    },
    {
      "cell_type": "code",
      "metadata": {
        "colab": {
          "base_uri": "https://localhost:8080/",
          "height": 204
        },
        "id": "bZ7JDDTFh1tn",
        "outputId": "51150103-c5da-4578-cf62-d7f93f0fd43d"
      },
      "source": [
        "tips = pd.read_csv('https://raw.githubusercontent.com/Rogerio-mack/Visualizacao-de-Dados-em-Python/main/data/tips.csv')\n",
        "tips.head()\n"
      ],
      "execution_count": null,
      "outputs": [
        {
          "output_type": "execute_result",
          "data": {
            "text/html": [
              "<div>\n",
              "<style scoped>\n",
              "    .dataframe tbody tr th:only-of-type {\n",
              "        vertical-align: middle;\n",
              "    }\n",
              "\n",
              "    .dataframe tbody tr th {\n",
              "        vertical-align: top;\n",
              "    }\n",
              "\n",
              "    .dataframe thead th {\n",
              "        text-align: right;\n",
              "    }\n",
              "</style>\n",
              "<table border=\"1\" class=\"dataframe\">\n",
              "  <thead>\n",
              "    <tr style=\"text-align: right;\">\n",
              "      <th></th>\n",
              "      <th>total_bill</th>\n",
              "      <th>tip</th>\n",
              "      <th>sex</th>\n",
              "      <th>smoker</th>\n",
              "      <th>day</th>\n",
              "      <th>time</th>\n",
              "      <th>size</th>\n",
              "    </tr>\n",
              "  </thead>\n",
              "  <tbody>\n",
              "    <tr>\n",
              "      <th>0</th>\n",
              "      <td>16.99</td>\n",
              "      <td>1.01</td>\n",
              "      <td>Female</td>\n",
              "      <td>No</td>\n",
              "      <td>Sun</td>\n",
              "      <td>Dinner</td>\n",
              "      <td>2</td>\n",
              "    </tr>\n",
              "    <tr>\n",
              "      <th>1</th>\n",
              "      <td>10.34</td>\n",
              "      <td>1.66</td>\n",
              "      <td>Male</td>\n",
              "      <td>No</td>\n",
              "      <td>Sun</td>\n",
              "      <td>Dinner</td>\n",
              "      <td>3</td>\n",
              "    </tr>\n",
              "    <tr>\n",
              "      <th>2</th>\n",
              "      <td>21.01</td>\n",
              "      <td>3.50</td>\n",
              "      <td>Male</td>\n",
              "      <td>No</td>\n",
              "      <td>Sun</td>\n",
              "      <td>Dinner</td>\n",
              "      <td>3</td>\n",
              "    </tr>\n",
              "    <tr>\n",
              "      <th>3</th>\n",
              "      <td>23.68</td>\n",
              "      <td>3.31</td>\n",
              "      <td>Male</td>\n",
              "      <td>No</td>\n",
              "      <td>Sun</td>\n",
              "      <td>Dinner</td>\n",
              "      <td>2</td>\n",
              "    </tr>\n",
              "    <tr>\n",
              "      <th>4</th>\n",
              "      <td>24.59</td>\n",
              "      <td>3.61</td>\n",
              "      <td>Female</td>\n",
              "      <td>No</td>\n",
              "      <td>Sun</td>\n",
              "      <td>Dinner</td>\n",
              "      <td>4</td>\n",
              "    </tr>\n",
              "  </tbody>\n",
              "</table>\n",
              "</div>"
            ],
            "text/plain": [
              "   total_bill   tip     sex smoker  day    time  size\n",
              "0       16.99  1.01  Female     No  Sun  Dinner     2\n",
              "1       10.34  1.66    Male     No  Sun  Dinner     3\n",
              "2       21.01  3.50    Male     No  Sun  Dinner     3\n",
              "3       23.68  3.31    Male     No  Sun  Dinner     2\n",
              "4       24.59  3.61  Female     No  Sun  Dinner     4"
            ]
          },
          "metadata": {
            "tags": []
          },
          "execution_count": 25
        }
      ]
    },
    {
      "cell_type": "markdown",
      "metadata": {
        "id": "bLBgbbIC2-ZT"
      },
      "source": [
        "Acima, o comando `df.head()` exibe o aspecto inicial dos dados a partir de suas primeiras linhas."
      ]
    },
    {
      "cell_type": "markdown",
      "metadata": {
        "id": "Qt1MgTahrEHU"
      },
      "source": [
        "### Explorando a estrutura básica dos dados \n",
        "\n",
        "Antes de explorarmos o conteúdo dos dados é útil acessar informações sobre a estrutura dos dados que estamos lidando, como os valores que assumem os dados, quantas linhas temos em uma tabela, o número de atributos e os tipos dos dados."
      ]
    },
    {
      "cell_type": "code",
      "metadata": {
        "colab": {
          "base_uri": "https://localhost:8080/"
        },
        "id": "DY9H5H2mr4y5",
        "outputId": "0b7b6405-b629-4ba2-8628-757d616c2b74"
      },
      "source": [
        "tips.shape # nr de linhas e colunas"
      ],
      "execution_count": null,
      "outputs": [
        {
          "output_type": "execute_result",
          "data": {
            "text/plain": [
              "(244, 7)"
            ]
          },
          "metadata": {
            "tags": []
          },
          "execution_count": 26
        }
      ]
    },
    {
      "cell_type": "code",
      "metadata": {
        "colab": {
          "base_uri": "https://localhost:8080/"
        },
        "id": "KFexepHPsCvc",
        "outputId": "bb4f3caf-a3a3-47a2-81ad-c02ba53e8f32"
      },
      "source": [
        "len(tips) # número de linhas"
      ],
      "execution_count": null,
      "outputs": [
        {
          "output_type": "execute_result",
          "data": {
            "text/plain": [
              "244"
            ]
          },
          "metadata": {
            "tags": []
          },
          "execution_count": 27
        }
      ]
    },
    {
      "cell_type": "code",
      "metadata": {
        "colab": {
          "base_uri": "https://localhost:8080/"
        },
        "id": "2p4ahOEvsF_N",
        "outputId": "9bacab95-dfe2-4e94-a01f-5b9b0f02548d"
      },
      "source": [
        "tips.columns.to_list() # ou tips.columns"
      ],
      "execution_count": null,
      "outputs": [
        {
          "output_type": "execute_result",
          "data": {
            "text/plain": [
              "['total_bill', 'tip', 'sex', 'smoker', 'day', 'time', 'size']"
            ]
          },
          "metadata": {
            "tags": []
          },
          "execution_count": 31
        }
      ]
    },
    {
      "cell_type": "code",
      "metadata": {
        "colab": {
          "base_uri": "https://localhost:8080/"
        },
        "id": "gFRccv18sMSN",
        "outputId": "50c6ce22-ada6-4a61-eb03-b956bf779345"
      },
      "source": [
        "tips.dtypes # tipo dos atributos"
      ],
      "execution_count": null,
      "outputs": [
        {
          "output_type": "execute_result",
          "data": {
            "text/plain": [
              "total_bill    float64\n",
              "tip           float64\n",
              "sex            object\n",
              "smoker         object\n",
              "day            object\n",
              "time           object\n",
              "size            int64\n",
              "dtype: object"
            ]
          },
          "metadata": {
            "tags": []
          },
          "execution_count": 32
        }
      ]
    },
    {
      "cell_type": "markdown",
      "metadata": {
        "id": "Sw8Xa5TTs8EU"
      },
      "source": [
        "O comando `describe()` exibe informações estatísticas sumarizadas dos dados."
      ]
    },
    {
      "cell_type": "code",
      "metadata": {
        "colab": {
          "base_uri": "https://localhost:8080/",
          "height": 390
        },
        "id": "LJaweMWOsZV1",
        "outputId": "75203439-11f3-42f2-dd58-45484c4b274c"
      },
      "source": [
        "tips.describe(include='all')"
      ],
      "execution_count": null,
      "outputs": [
        {
          "output_type": "execute_result",
          "data": {
            "text/html": [
              "<div>\n",
              "<style scoped>\n",
              "    .dataframe tbody tr th:only-of-type {\n",
              "        vertical-align: middle;\n",
              "    }\n",
              "\n",
              "    .dataframe tbody tr th {\n",
              "        vertical-align: top;\n",
              "    }\n",
              "\n",
              "    .dataframe thead th {\n",
              "        text-align: right;\n",
              "    }\n",
              "</style>\n",
              "<table border=\"1\" class=\"dataframe\">\n",
              "  <thead>\n",
              "    <tr style=\"text-align: right;\">\n",
              "      <th></th>\n",
              "      <th>total_bill</th>\n",
              "      <th>tip</th>\n",
              "      <th>sex</th>\n",
              "      <th>smoker</th>\n",
              "      <th>day</th>\n",
              "      <th>time</th>\n",
              "      <th>size</th>\n",
              "    </tr>\n",
              "  </thead>\n",
              "  <tbody>\n",
              "    <tr>\n",
              "      <th>count</th>\n",
              "      <td>244.000000</td>\n",
              "      <td>244.000000</td>\n",
              "      <td>244</td>\n",
              "      <td>244</td>\n",
              "      <td>244</td>\n",
              "      <td>244</td>\n",
              "      <td>244.000000</td>\n",
              "    </tr>\n",
              "    <tr>\n",
              "      <th>unique</th>\n",
              "      <td>NaN</td>\n",
              "      <td>NaN</td>\n",
              "      <td>2</td>\n",
              "      <td>2</td>\n",
              "      <td>4</td>\n",
              "      <td>2</td>\n",
              "      <td>NaN</td>\n",
              "    </tr>\n",
              "    <tr>\n",
              "      <th>top</th>\n",
              "      <td>NaN</td>\n",
              "      <td>NaN</td>\n",
              "      <td>Male</td>\n",
              "      <td>No</td>\n",
              "      <td>Sat</td>\n",
              "      <td>Dinner</td>\n",
              "      <td>NaN</td>\n",
              "    </tr>\n",
              "    <tr>\n",
              "      <th>freq</th>\n",
              "      <td>NaN</td>\n",
              "      <td>NaN</td>\n",
              "      <td>157</td>\n",
              "      <td>151</td>\n",
              "      <td>87</td>\n",
              "      <td>176</td>\n",
              "      <td>NaN</td>\n",
              "    </tr>\n",
              "    <tr>\n",
              "      <th>mean</th>\n",
              "      <td>19.785943</td>\n",
              "      <td>2.998279</td>\n",
              "      <td>NaN</td>\n",
              "      <td>NaN</td>\n",
              "      <td>NaN</td>\n",
              "      <td>NaN</td>\n",
              "      <td>2.569672</td>\n",
              "    </tr>\n",
              "    <tr>\n",
              "      <th>std</th>\n",
              "      <td>8.902412</td>\n",
              "      <td>1.383638</td>\n",
              "      <td>NaN</td>\n",
              "      <td>NaN</td>\n",
              "      <td>NaN</td>\n",
              "      <td>NaN</td>\n",
              "      <td>0.951100</td>\n",
              "    </tr>\n",
              "    <tr>\n",
              "      <th>min</th>\n",
              "      <td>3.070000</td>\n",
              "      <td>1.000000</td>\n",
              "      <td>NaN</td>\n",
              "      <td>NaN</td>\n",
              "      <td>NaN</td>\n",
              "      <td>NaN</td>\n",
              "      <td>1.000000</td>\n",
              "    </tr>\n",
              "    <tr>\n",
              "      <th>25%</th>\n",
              "      <td>13.347500</td>\n",
              "      <td>2.000000</td>\n",
              "      <td>NaN</td>\n",
              "      <td>NaN</td>\n",
              "      <td>NaN</td>\n",
              "      <td>NaN</td>\n",
              "      <td>2.000000</td>\n",
              "    </tr>\n",
              "    <tr>\n",
              "      <th>50%</th>\n",
              "      <td>17.795000</td>\n",
              "      <td>2.900000</td>\n",
              "      <td>NaN</td>\n",
              "      <td>NaN</td>\n",
              "      <td>NaN</td>\n",
              "      <td>NaN</td>\n",
              "      <td>2.000000</td>\n",
              "    </tr>\n",
              "    <tr>\n",
              "      <th>75%</th>\n",
              "      <td>24.127500</td>\n",
              "      <td>3.562500</td>\n",
              "      <td>NaN</td>\n",
              "      <td>NaN</td>\n",
              "      <td>NaN</td>\n",
              "      <td>NaN</td>\n",
              "      <td>3.000000</td>\n",
              "    </tr>\n",
              "    <tr>\n",
              "      <th>max</th>\n",
              "      <td>50.810000</td>\n",
              "      <td>10.000000</td>\n",
              "      <td>NaN</td>\n",
              "      <td>NaN</td>\n",
              "      <td>NaN</td>\n",
              "      <td>NaN</td>\n",
              "      <td>6.000000</td>\n",
              "    </tr>\n",
              "  </tbody>\n",
              "</table>\n",
              "</div>"
            ],
            "text/plain": [
              "        total_bill         tip   sex smoker  day    time        size\n",
              "count   244.000000  244.000000   244    244  244     244  244.000000\n",
              "unique         NaN         NaN     2      2    4       2         NaN\n",
              "top            NaN         NaN  Male     No  Sat  Dinner         NaN\n",
              "freq           NaN         NaN   157    151   87     176         NaN\n",
              "mean     19.785943    2.998279   NaN    NaN  NaN     NaN    2.569672\n",
              "std       8.902412    1.383638   NaN    NaN  NaN     NaN    0.951100\n",
              "min       3.070000    1.000000   NaN    NaN  NaN     NaN    1.000000\n",
              "25%      13.347500    2.000000   NaN    NaN  NaN     NaN    2.000000\n",
              "50%      17.795000    2.900000   NaN    NaN  NaN     NaN    2.000000\n",
              "75%      24.127500    3.562500   NaN    NaN  NaN     NaN    3.000000\n",
              "max      50.810000   10.000000   NaN    NaN  NaN     NaN    6.000000"
            ]
          },
          "metadata": {
            "tags": []
          },
          "execution_count": 33
        }
      ]
    },
    {
      "cell_type": "markdown",
      "metadata": {
        "id": "YM1r9pHqtJlO"
      },
      "source": [
        "### Selecionando Dados\n",
        "\n",
        "Seleções dos dados são bastante importantes. Você nem sempre estará interessado em exibir ou analisar todos os dados. Por exemplo, você pode ter dados de produção de várias unidades de uma fábrica, mas estar interessado somente em dados das unidades de São Paulo (seleção de linhas ou casos). Ou, você pode ter dados de vendas com diversas informações dos produtos (cor, modelo etc.) e dos clientes (nome, CPF etc.) e quer apenas dados de peso e dimensões do produto, da origem e destino da compra, para analisar os preços de frete (seleção de colunas ou atributos). E mais frequentemente ainda você vai realizar as duas seleções criando *slices* (fatias) dos dados com as informações de interesse.\n",
        "\n"
      ]
    },
    {
      "cell_type": "markdown",
      "metadata": {
        "id": "CxQVxpOS93Bx"
      },
      "source": [
        "### Seleção de Colunas, Seleção de Linhas e de Linhas e Colunas\n",
        "\n",
        "<img src=\"https://pandas.pydata.org/docs/_images/03_subset_columns.svg\" width=320, align=\"center\">\n",
        "<img src=\"https://pandas.pydata.org/docs/_images/03_subset_rows.svg\" width=320, align=\"center\">\n",
        "<img src=\"https://pandas.pydata.org/docs/_images/03_subset_columns_rows.svg\" width=320, align=\"center\">\n",
        "\n"
      ]
    },
    {
      "cell_type": "markdown",
      "metadata": {
        "id": "qBPLru58u2XV"
      },
      "source": [
        "### Selecionando colunas de dados como `pd.Series`\n",
        "\n",
        "As colunas de um `DataFrame` são séries do `Pandas` e podemos selecionar e operar com cada uma das séries de um `DataFrame`. Existem dois modos de seleção\n",
        "\n",
        "```\n",
        "df.<nome do atributo>\n",
        "\n",
        "df['<nome do atributo>']\n",
        "```\n",
        "\n",
        "elas retornam o mesmo resultado e a segunda forma é sempre necessária quando temos nomes de atributos com espaços ou caracteres especiais.\n"
      ]
    },
    {
      "cell_type": "code",
      "metadata": {
        "colab": {
          "base_uri": "https://localhost:8080/"
        },
        "id": "hZI7X1P2vFUW",
        "outputId": "61db96ea-2860-49d4-958c-9d7a45546c9b"
      },
      "source": [
        "print(tips.tip)\n",
        "# ou\n",
        "# print(tips['tip'])"
      ],
      "execution_count": null,
      "outputs": [
        {
          "output_type": "stream",
          "text": [
            "0      1.01\n",
            "1      1.66\n",
            "2      3.50\n",
            "3      3.31\n",
            "4      3.61\n",
            "       ... \n",
            "239    5.92\n",
            "240    2.00\n",
            "241    2.00\n",
            "242    1.75\n",
            "243    3.00\n",
            "Name: tip, Length: 244, dtype: float64\n"
          ],
          "name": "stdout"
        }
      ]
    },
    {
      "cell_type": "markdown",
      "metadata": {
        "id": "xwz8XkxrvciO"
      },
      "source": [
        "Esse conjunto de dados é um `pd.Series` e podemos fazer uma série de operações sobre essa coleção de dados, como calcular a soma ou a média de valores, como em um array `NumPy`."
      ]
    },
    {
      "cell_type": "code",
      "metadata": {
        "colab": {
          "base_uri": "https://localhost:8080/"
        },
        "id": "uXuI7u6tvb20",
        "outputId": "b2e12e7e-1033-4977-9613-64ce7ea3e7c2"
      },
      "source": [
        "tip_series = tips['tip']\n",
        "print(f'Média das gorjetas: USD {tip_series.mean() :.2f} e Total das gorjetas: USD {tip_series.sum() :.2f}')"
      ],
      "execution_count": null,
      "outputs": [
        {
          "output_type": "stream",
          "text": [
            "Média das gorjetas: USD 3.00 e Total das gorjetas: USD 731.58\n"
          ],
          "name": "stdout"
        }
      ]
    },
    {
      "cell_type": "markdown",
      "metadata": {
        "id": "nIXO54pUwKpL"
      },
      "source": [
        "Pode ser útil também você transformar uma `pd.Series` em uma lista `Python` para que você possa realizar operações de listas que você já conhece."
      ]
    },
    {
      "cell_type": "code",
      "metadata": {
        "colab": {
          "base_uri": "https://localhost:8080/"
        },
        "id": "wjxckq-twJni",
        "outputId": "bf154ada-fd1b-42f6-eb9f-bce4132c0b41"
      },
      "source": [
        "dias = tips.day\n",
        "dias = dias.to_list()\n",
        "dias.count('Sat')"
      ],
      "execution_count": null,
      "outputs": [
        {
          "output_type": "execute_result",
          "data": {
            "text/plain": [
              "87"
            ]
          },
          "metadata": {
            "tags": []
          },
          "execution_count": 49
        }
      ]
    },
    {
      "cell_type": "markdown",
      "metadata": {
        "id": "GG_zHqt4lbUt"
      },
      "source": [
        "### Selecionando uma ou Mais Colunas como `pd.DataFrame`\n",
        "\n",
        "<img src=\"https://pandas.pydata.org/docs/_images/03_subset_columns.svg\" width=320, align=\"center\">\n",
        "\n",
        "Você pode estar também interessado na seleção de *mais que uma coluna* de dados. Para isso você pode simplesmente informar para o `Pandas` uma **lista de atributos** a serem selecionados. \n",
        "\n",
        "```\n",
        "\n",
        "df [ [ <lista-de-colunas> ] ]\n",
        "\n",
        "```\n",
        "\n",
        "Diferente da seleção anterior que retorna um Série do `Pandas`, a seleção neste formato, com uma ou mais colunas informadas em uma lista, retornará sempre um `DataFrame`, mesmo que você informe uma única coluna. \n",
        "\n"
      ]
    },
    {
      "cell_type": "markdown",
      "metadata": {
        "id": "4KgEBH0_4p04"
      },
      "source": [
        "A seleção como `DataFrame` permite a seleção de várias séries de dados (atributos) para construírmos subconjuntos dos dados. Essas seleções de dados retornam `DataFrames` e todas as operações sobre `DataFrames` são aplicáveis sobre essas seleções. "
      ]
    },
    {
      "cell_type": "code",
      "metadata": {
        "colab": {
          "base_uri": "https://localhost:8080/"
        },
        "id": "ZQPgXL075TlJ",
        "outputId": "8998ab6f-cb00-4e3b-a852-221b0068c1c0"
      },
      "source": [
        "tips.columns"
      ],
      "execution_count": null,
      "outputs": [
        {
          "output_type": "execute_result",
          "data": {
            "text/plain": [
              "Index(['total_bill', 'tip', 'sex', 'smoker', 'day', 'time', 'size'], dtype='object')"
            ]
          },
          "metadata": {
            "tags": []
          },
          "execution_count": 50
        }
      ]
    },
    {
      "cell_type": "code",
      "metadata": {
        "colab": {
          "base_uri": "https://localhost:8080/",
          "height": 204
        },
        "id": "oaASGjGn4nzn",
        "outputId": "4bd81ba2-c6cf-4ca8-ffbf-2ada46749f91"
      },
      "source": [
        "selected_tips = tips[['total_bill', 'tip', 'size']]\n",
        "\n",
        "selected_tips.head() # um novo dataframe com atributos selecionados"
      ],
      "execution_count": null,
      "outputs": [
        {
          "output_type": "execute_result",
          "data": {
            "text/html": [
              "<div>\n",
              "<style scoped>\n",
              "    .dataframe tbody tr th:only-of-type {\n",
              "        vertical-align: middle;\n",
              "    }\n",
              "\n",
              "    .dataframe tbody tr th {\n",
              "        vertical-align: top;\n",
              "    }\n",
              "\n",
              "    .dataframe thead th {\n",
              "        text-align: right;\n",
              "    }\n",
              "</style>\n",
              "<table border=\"1\" class=\"dataframe\">\n",
              "  <thead>\n",
              "    <tr style=\"text-align: right;\">\n",
              "      <th></th>\n",
              "      <th>total_bill</th>\n",
              "      <th>tip</th>\n",
              "      <th>size</th>\n",
              "    </tr>\n",
              "  </thead>\n",
              "  <tbody>\n",
              "    <tr>\n",
              "      <th>0</th>\n",
              "      <td>16.99</td>\n",
              "      <td>1.01</td>\n",
              "      <td>2</td>\n",
              "    </tr>\n",
              "    <tr>\n",
              "      <th>1</th>\n",
              "      <td>10.34</td>\n",
              "      <td>1.66</td>\n",
              "      <td>3</td>\n",
              "    </tr>\n",
              "    <tr>\n",
              "      <th>2</th>\n",
              "      <td>21.01</td>\n",
              "      <td>3.50</td>\n",
              "      <td>3</td>\n",
              "    </tr>\n",
              "    <tr>\n",
              "      <th>3</th>\n",
              "      <td>23.68</td>\n",
              "      <td>3.31</td>\n",
              "      <td>2</td>\n",
              "    </tr>\n",
              "    <tr>\n",
              "      <th>4</th>\n",
              "      <td>24.59</td>\n",
              "      <td>3.61</td>\n",
              "      <td>4</td>\n",
              "    </tr>\n",
              "  </tbody>\n",
              "</table>\n",
              "</div>"
            ],
            "text/plain": [
              "   total_bill   tip  size\n",
              "0       16.99  1.01     2\n",
              "1       10.34  1.66     3\n",
              "2       21.01  3.50     3\n",
              "3       23.68  3.31     2\n",
              "4       24.59  3.61     4"
            ]
          },
          "metadata": {
            "tags": []
          },
          "execution_count": 51
        }
      ]
    },
    {
      "cell_type": "markdown",
      "metadata": {
        "id": "BRsdhyMP5zdj"
      },
      "source": [
        "$\\rightarrow$ *A seleção com uma ou mais colunas informadas em uma lista, retorna um `DataFrame`. Note que `df['tip']` retorna um `pd.Series`, enquanto, selecionar `df[['tip']]` retorna um `pd.DataFrame` de uma única coluna.*\n",
        "\n"
      ]
    },
    {
      "cell_type": "markdown",
      "metadata": {
        "id": "7lmI5A7U50Yx"
      },
      "source": [
        "De modo geral, você pode empreguar a seleção de `pd.Series` se quiser selecionar um único atributo, e empregar a seleção `pd.DataFrame` quando estiver interessado na criação de subconjuntos de dados. "
      ]
    },
    {
      "cell_type": "markdown",
      "metadata": {
        "id": "qEzJ1rKO6q0g"
      },
      "source": [
        "### Selecionando Maiores e Menores\n",
        "\n",
        "Veremos mais adiante como fazer seleção de linhas, mas aqui já é oportuno vermos como selecionar linhas que contenham os maiores e os menores valores da coleção."
      ]
    },
    {
      "cell_type": "code",
      "metadata": {
        "colab": {
          "base_uri": "https://localhost:8080/",
          "height": 204
        },
        "id": "Hh0b1ooz6qIS",
        "outputId": "3921fe4c-fd60-43d1-bf05-3c847b30d98a"
      },
      "source": [
        "tips.nsmallest(5,'total_bill')"
      ],
      "execution_count": null,
      "outputs": [
        {
          "output_type": "execute_result",
          "data": {
            "text/html": [
              "<div>\n",
              "<style scoped>\n",
              "    .dataframe tbody tr th:only-of-type {\n",
              "        vertical-align: middle;\n",
              "    }\n",
              "\n",
              "    .dataframe tbody tr th {\n",
              "        vertical-align: top;\n",
              "    }\n",
              "\n",
              "    .dataframe thead th {\n",
              "        text-align: right;\n",
              "    }\n",
              "</style>\n",
              "<table border=\"1\" class=\"dataframe\">\n",
              "  <thead>\n",
              "    <tr style=\"text-align: right;\">\n",
              "      <th></th>\n",
              "      <th>total_bill</th>\n",
              "      <th>tip</th>\n",
              "      <th>sex</th>\n",
              "      <th>smoker</th>\n",
              "      <th>day</th>\n",
              "      <th>time</th>\n",
              "      <th>size</th>\n",
              "    </tr>\n",
              "  </thead>\n",
              "  <tbody>\n",
              "    <tr>\n",
              "      <th>67</th>\n",
              "      <td>3.07</td>\n",
              "      <td>1.00</td>\n",
              "      <td>Female</td>\n",
              "      <td>Yes</td>\n",
              "      <td>Sat</td>\n",
              "      <td>Dinner</td>\n",
              "      <td>1</td>\n",
              "    </tr>\n",
              "    <tr>\n",
              "      <th>92</th>\n",
              "      <td>5.75</td>\n",
              "      <td>1.00</td>\n",
              "      <td>Female</td>\n",
              "      <td>Yes</td>\n",
              "      <td>Fri</td>\n",
              "      <td>Dinner</td>\n",
              "      <td>2</td>\n",
              "    </tr>\n",
              "    <tr>\n",
              "      <th>111</th>\n",
              "      <td>7.25</td>\n",
              "      <td>1.00</td>\n",
              "      <td>Female</td>\n",
              "      <td>No</td>\n",
              "      <td>Sat</td>\n",
              "      <td>Dinner</td>\n",
              "      <td>1</td>\n",
              "    </tr>\n",
              "    <tr>\n",
              "      <th>172</th>\n",
              "      <td>7.25</td>\n",
              "      <td>5.15</td>\n",
              "      <td>Male</td>\n",
              "      <td>Yes</td>\n",
              "      <td>Sun</td>\n",
              "      <td>Dinner</td>\n",
              "      <td>2</td>\n",
              "    </tr>\n",
              "    <tr>\n",
              "      <th>149</th>\n",
              "      <td>7.51</td>\n",
              "      <td>2.00</td>\n",
              "      <td>Male</td>\n",
              "      <td>No</td>\n",
              "      <td>Thur</td>\n",
              "      <td>Lunch</td>\n",
              "      <td>2</td>\n",
              "    </tr>\n",
              "  </tbody>\n",
              "</table>\n",
              "</div>"
            ],
            "text/plain": [
              "     total_bill   tip     sex smoker   day    time  size\n",
              "67         3.07  1.00  Female    Yes   Sat  Dinner     1\n",
              "92         5.75  1.00  Female    Yes   Fri  Dinner     2\n",
              "111        7.25  1.00  Female     No   Sat  Dinner     1\n",
              "172        7.25  5.15    Male    Yes   Sun  Dinner     2\n",
              "149        7.51  2.00    Male     No  Thur   Lunch     2"
            ]
          },
          "metadata": {
            "tags": []
          },
          "execution_count": 52
        }
      ]
    },
    {
      "cell_type": "code",
      "metadata": {
        "colab": {
          "base_uri": "https://localhost:8080/",
          "height": 142
        },
        "id": "hh4zE0Vl7E-E",
        "outputId": "e6d63268-e448-449d-c3d0-2dc56fbe20ad"
      },
      "source": [
        "tips_top3 = tips.nlargest(3,'total_bill')\n",
        "tips_top3"
      ],
      "execution_count": null,
      "outputs": [
        {
          "output_type": "execute_result",
          "data": {
            "text/html": [
              "<div>\n",
              "<style scoped>\n",
              "    .dataframe tbody tr th:only-of-type {\n",
              "        vertical-align: middle;\n",
              "    }\n",
              "\n",
              "    .dataframe tbody tr th {\n",
              "        vertical-align: top;\n",
              "    }\n",
              "\n",
              "    .dataframe thead th {\n",
              "        text-align: right;\n",
              "    }\n",
              "</style>\n",
              "<table border=\"1\" class=\"dataframe\">\n",
              "  <thead>\n",
              "    <tr style=\"text-align: right;\">\n",
              "      <th></th>\n",
              "      <th>total_bill</th>\n",
              "      <th>tip</th>\n",
              "      <th>sex</th>\n",
              "      <th>smoker</th>\n",
              "      <th>day</th>\n",
              "      <th>time</th>\n",
              "      <th>size</th>\n",
              "    </tr>\n",
              "  </thead>\n",
              "  <tbody>\n",
              "    <tr>\n",
              "      <th>170</th>\n",
              "      <td>50.81</td>\n",
              "      <td>10.00</td>\n",
              "      <td>Male</td>\n",
              "      <td>Yes</td>\n",
              "      <td>Sat</td>\n",
              "      <td>Dinner</td>\n",
              "      <td>3</td>\n",
              "    </tr>\n",
              "    <tr>\n",
              "      <th>212</th>\n",
              "      <td>48.33</td>\n",
              "      <td>9.00</td>\n",
              "      <td>Male</td>\n",
              "      <td>No</td>\n",
              "      <td>Sat</td>\n",
              "      <td>Dinner</td>\n",
              "      <td>4</td>\n",
              "    </tr>\n",
              "    <tr>\n",
              "      <th>59</th>\n",
              "      <td>48.27</td>\n",
              "      <td>6.73</td>\n",
              "      <td>Male</td>\n",
              "      <td>No</td>\n",
              "      <td>Sat</td>\n",
              "      <td>Dinner</td>\n",
              "      <td>4</td>\n",
              "    </tr>\n",
              "  </tbody>\n",
              "</table>\n",
              "</div>"
            ],
            "text/plain": [
              "     total_bill    tip   sex smoker  day    time  size\n",
              "170       50.81  10.00  Male    Yes  Sat  Dinner     3\n",
              "212       48.33   9.00  Male     No  Sat  Dinner     4\n",
              "59        48.27   6.73  Male     No  Sat  Dinner     4"
            ]
          },
          "metadata": {
            "tags": []
          },
          "execution_count": 53
        }
      ]
    },
    {
      "cell_type": "markdown",
      "metadata": {
        "id": "o393yrTc79_W"
      },
      "source": [
        "### Alterando e Incluindo Colunas de Dados\n",
        "\n",
        "Muitas vezes é necessário você criar atributos derivados a partir dos dados originais, como converter valores para R\\$ , criar um atributo com o valor das contas descontando a gorjeta ou o valor da conta dividido pelos participantes da mesa. A exemplo do `NumPy`, essa é uma grande facilidade do `Pandas` que, sendo orientado a colunas,  permite realizar operações sobre uma coluna de dados (ou mesmo toda a coleção) sem a necessidade de iterações ou laços de programa. "
      ]
    },
    {
      "cell_type": "code",
      "metadata": {
        "colab": {
          "base_uri": "https://localhost:8080/",
          "height": 204
        },
        "id": "FCX6WInh9E23",
        "outputId": "28806783-3759-4fbd-9202-5aaf43981a5a"
      },
      "source": [
        "dolar_real_rate = 5.8\n",
        "tips['total_bill'] = tips['total_bill'] * dolar_real_rate         # alterando    \n",
        "tips['tip'] = tips['tip'] * dolar_real_rate                       # alterando\n",
        "\n",
        "tips['total_bill_minus_tips'] = tips['total_bill'] - tips['tip']    # incluindo um novo atributo\n",
        "tips['bill_by_head'] = tips['total_bill'] / tips['size']            # incluindo um novo atributo\n",
        "tips.head()"
      ],
      "execution_count": null,
      "outputs": [
        {
          "output_type": "execute_result",
          "data": {
            "text/html": [
              "<div>\n",
              "<style scoped>\n",
              "    .dataframe tbody tr th:only-of-type {\n",
              "        vertical-align: middle;\n",
              "    }\n",
              "\n",
              "    .dataframe tbody tr th {\n",
              "        vertical-align: top;\n",
              "    }\n",
              "\n",
              "    .dataframe thead th {\n",
              "        text-align: right;\n",
              "    }\n",
              "</style>\n",
              "<table border=\"1\" class=\"dataframe\">\n",
              "  <thead>\n",
              "    <tr style=\"text-align: right;\">\n",
              "      <th></th>\n",
              "      <th>total_bill</th>\n",
              "      <th>tip</th>\n",
              "      <th>sex</th>\n",
              "      <th>smoker</th>\n",
              "      <th>day</th>\n",
              "      <th>time</th>\n",
              "      <th>size</th>\n",
              "      <th>total_bill_minus_tips</th>\n",
              "      <th>bill_by_head</th>\n",
              "    </tr>\n",
              "  </thead>\n",
              "  <tbody>\n",
              "    <tr>\n",
              "      <th>0</th>\n",
              "      <td>98.542</td>\n",
              "      <td>5.858</td>\n",
              "      <td>Female</td>\n",
              "      <td>No</td>\n",
              "      <td>Sun</td>\n",
              "      <td>Dinner</td>\n",
              "      <td>2</td>\n",
              "      <td>92.684</td>\n",
              "      <td>49.271000</td>\n",
              "    </tr>\n",
              "    <tr>\n",
              "      <th>1</th>\n",
              "      <td>59.972</td>\n",
              "      <td>9.628</td>\n",
              "      <td>Male</td>\n",
              "      <td>No</td>\n",
              "      <td>Sun</td>\n",
              "      <td>Dinner</td>\n",
              "      <td>3</td>\n",
              "      <td>50.344</td>\n",
              "      <td>19.990667</td>\n",
              "    </tr>\n",
              "    <tr>\n",
              "      <th>2</th>\n",
              "      <td>121.858</td>\n",
              "      <td>20.300</td>\n",
              "      <td>Male</td>\n",
              "      <td>No</td>\n",
              "      <td>Sun</td>\n",
              "      <td>Dinner</td>\n",
              "      <td>3</td>\n",
              "      <td>101.558</td>\n",
              "      <td>40.619333</td>\n",
              "    </tr>\n",
              "    <tr>\n",
              "      <th>3</th>\n",
              "      <td>137.344</td>\n",
              "      <td>19.198</td>\n",
              "      <td>Male</td>\n",
              "      <td>No</td>\n",
              "      <td>Sun</td>\n",
              "      <td>Dinner</td>\n",
              "      <td>2</td>\n",
              "      <td>118.146</td>\n",
              "      <td>68.672000</td>\n",
              "    </tr>\n",
              "    <tr>\n",
              "      <th>4</th>\n",
              "      <td>142.622</td>\n",
              "      <td>20.938</td>\n",
              "      <td>Female</td>\n",
              "      <td>No</td>\n",
              "      <td>Sun</td>\n",
              "      <td>Dinner</td>\n",
              "      <td>4</td>\n",
              "      <td>121.684</td>\n",
              "      <td>35.655500</td>\n",
              "    </tr>\n",
              "  </tbody>\n",
              "</table>\n",
              "</div>"
            ],
            "text/plain": [
              "   total_bill     tip     sex  ... size total_bill_minus_tips bill_by_head\n",
              "0      98.542   5.858  Female  ...    2                92.684    49.271000\n",
              "1      59.972   9.628    Male  ...    3                50.344    19.990667\n",
              "2     121.858  20.300    Male  ...    3               101.558    40.619333\n",
              "3     137.344  19.198    Male  ...    2               118.146    68.672000\n",
              "4     142.622  20.938  Female  ...    4               121.684    35.655500\n",
              "\n",
              "[5 rows x 9 columns]"
            ]
          },
          "metadata": {
            "tags": []
          },
          "execution_count": 54
        }
      ]
    },
    {
      "cell_type": "markdown",
      "metadata": {
        "id": "tdhcbRo5ntzV"
      },
      "source": [
        "### Selecionar Linhas \n",
        "\n",
        "<img src=\"https://pandas.pydata.org/docs/_images/03_subset_rows.svg\" width=320, align=\"center\">\n",
        "\n",
        "A seleção de linhas é mais interessante por que podemos especificar condições para os valores que buscamos. Por exemplo, você pode selecionar o tipo de peças que deseja ver em um `DataFrame` com dados de vários componentes, ou selecionar as unidades de fábrica de uma certa cidade que você deseja verificar a produção.\n",
        "\n",
        "A seleção é um predicado lógico,  \n",
        "\n",
        "```\n",
        "df [ <critério de seleção> ]\n",
        "```\n",
        "\n",
        "Exemplos\n",
        "\n",
        "```\n",
        "df [ nome_coluna == valor ]\n",
        "df [ nome_coluna != valor ]\n",
        "df [ nome_coluna > valor ]\n",
        "```"
      ]
    },
    {
      "cell_type": "markdown",
      "metadata": {
        "id": "MDLzlemMIOcB"
      },
      "source": [
        "Podemos, assim, selecionar os dados somente de não fumantes ou fumantes:"
      ]
    },
    {
      "cell_type": "code",
      "metadata": {
        "id": "eaOZRmZWns9a"
      },
      "source": [
        "tips_nao_fumantes = tips[ tips.smoker == 'No' ]\n",
        "tips_fumantes = tips[ tips.smoker == 'Yes' ]"
      ],
      "execution_count": null,
      "outputs": []
    },
    {
      "cell_type": "markdown",
      "metadata": {
        "id": "AWXIM91FrMkH"
      },
      "source": [
        "### Seleção de Linhas e Colunas\n",
        "\n",
        "<img src=\"https://pandas.pydata.org/docs/_images/03_subset_columns_rows.svg\" width=320, align=\"center\">\n",
        "\n",
        "O uso mais geral das seleções é o de seleções conjuntas de linhas e colunas de dados, e nos referimos a esse subconjunto dos dados de *slice* (fatia) dos dados.\n",
        "\n",
        "Seguindo uma boa prática sempre faremos primeiro a seleção das linhas,\n",
        "\n",
        "```\n",
        "df [ <critério de seleção> ] ...\n",
        "\n",
        "...Selecionando uma coluna\n",
        "df [ <critério de seleção> ].nome_coluna                  pd.Series\n",
        "df [ <critério de seleção> ]['nome_coluna']\n",
        "\n",
        "...Selecionando uma ou mais colunas\n",
        "df [ <critério de seleção> ][ [<lista-de-colunas>] ]      pd.DataFrame\n",
        "\n",
        "```\n"
      ]
    },
    {
      "cell_type": "markdown",
      "metadata": {
        "id": "b-yTIEivJv-K"
      },
      "source": [
        "Com isso podemos fazer inúmeras seleções de dados que temos interesse em visualizar ou analisar, e responder a muitas perguntas sobre os dados."
      ]
    },
    {
      "cell_type": "markdown",
      "metadata": {
        "id": "RuHSo-GdIbHJ"
      },
      "source": [
        "- **Qual a proporção de Clientes Fumantes?**"
      ]
    },
    {
      "cell_type": "code",
      "metadata": {
        "colab": {
          "base_uri": "https://localhost:8080/"
        },
        "id": "EukjeLxs_jL4",
        "outputId": "03875f0c-a5d3-41ba-947d-08944d497c71"
      },
      "source": [
        "print(f'Percentual de Clientes Fumantes {len( tips_fumantes ) / len( tips ) :.2f} %')"
      ],
      "execution_count": null,
      "outputs": [
        {
          "output_type": "stream",
          "text": [
            "Percentual de Clientes Fumantes 0.38 %\n"
          ],
          "name": "stdout"
        }
      ]
    },
    {
      "cell_type": "markdown",
      "metadata": {
        "id": "K0zJ7f0gsDHb"
      },
      "source": [
        "- **Fumantes ou Mulheres, pagam mais gorjeta (em média) ?**"
      ]
    },
    {
      "cell_type": "code",
      "metadata": {
        "colab": {
          "base_uri": "https://localhost:8080/"
        },
        "id": "pihtXjD1r9Qn",
        "outputId": "bc55096d-c0c4-4a17-a282-a63714d13312"
      },
      "source": [
        "tips[ tips.smoker == 'Yes' ]['tip'].mean() > tips[ tips.smoker == 'No' ]['tip'].mean()  "
      ],
      "execution_count": null,
      "outputs": [
        {
          "output_type": "execute_result",
          "data": {
            "text/plain": [
              "True"
            ]
          },
          "metadata": {
            "tags": []
          },
          "execution_count": 63
        }
      ]
    },
    {
      "cell_type": "code",
      "metadata": {
        "colab": {
          "base_uri": "https://localhost:8080/"
        },
        "id": "P25kOuvjAR07",
        "outputId": "67e4a9f3-2255-4ef0-f1b3-a3ec1f9d1b1e"
      },
      "source": [
        "tips[ tips.sex == 'Female' ]['tip'].mean() > tips[ tips.sex == 'Male' ]['tip'].mean()  "
      ],
      "execution_count": null,
      "outputs": [
        {
          "output_type": "execute_result",
          "data": {
            "text/plain": [
              "False"
            ]
          },
          "metadata": {
            "tags": []
          },
          "execution_count": 65
        }
      ]
    },
    {
      "cell_type": "markdown",
      "metadata": {
        "id": "hsUjNahCA0W9"
      },
      "source": [
        "As selecões e criação desses subconjuntos de dados, como você poderá ver, têm um papel muito importante na construção de visualizações e entendimento dos dados pois, em muitos casos, recorremos a esses subconjuntos para produzir as visualizações, como no exemplo abaixo, em que observamos os valores das gorjetas de homens e mulheres. "
      ]
    },
    {
      "cell_type": "code",
      "metadata": {
        "colab": {
          "base_uri": "https://localhost:8080/",
          "height": 296
        },
        "id": "9l_-Ig1HA8ji",
        "outputId": "d5fa0508-0f78-463a-eafb-f21820189eb1"
      },
      "source": [
        "import matplotlib.pyplot as plt\n",
        "plt.hist(tips[ tips.sex == 'Male' ]['tip'], label='Homens')\n",
        "plt.hist(tips[ tips.sex == 'Female' ]['tip'], label='Mulheres')\n",
        "\n",
        "plt.xlabel('Valor das Gorjetas')\n",
        "plt.ylabel('Quantidades Pagas')\n",
        "plt.title('Distribuição das Gorjetas', fontsize=14, weight='bold')\n",
        "plt.legend(title='$\\\\bf{Gorjetas}$')\n",
        "plt.show()"
      ],
      "execution_count": null,
      "outputs": [
        {
          "output_type": "display_data",
          "data": {
            "image/png": "[encoded data removed]",
            "text/plain": [
              "<Figure size 432x288 with 1 Axes>"
            ]
          },
          "metadata": {
            "tags": [],
            "needs_background": "light"
          }
        }
      ]
    },
    {
      "cell_type": "markdown",
      "metadata": {
        "id": "EBRZgUtswHcp"
      },
      "source": [
        "O `Pandas` ainda conta com uma série de operações para manipulação e transformação dos dados como funções de joins e merge de tabelas, groupby etc. empregaremos eventualmente essas operações ao longo do texto e para maiores detalhes você poderá consultar a documentação do `Pandas` ou outras referências online."
      ]
    }
  ]
}