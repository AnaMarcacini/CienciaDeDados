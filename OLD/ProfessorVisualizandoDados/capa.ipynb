{
  "nbformat": 4,
  "nbformat_minor": 0,
  "metadata": {
    "colab": {
      "name": "capa.ipynb",
      "provenance": [],
      "collapsed_sections": [],
      "authorship_tag": "ABX9TyNPX46VfpJtn+uQ2/6Y97iX",
      "include_colab_link": true
    },
    "kernelspec": {
      "name": "python3",
      "display_name": "Python 3"
    },
    "language_info": {
      "name": "python"
    }
  },
  "cells": [
    {
      "cell_type": "markdown",
      "metadata": {
        "id": "view-in-github",
        "colab_type": "text"
      },
      "source": [
        "<a href=\"https://colab.research.google.com/github/Rogerio-mack/Visualizacao-de-Dados-em-Python/blob/main/capa.ipynb\" target=\"_parent\"><img src=\"https://colab.research.google.com/assets/colab-badge.svg\" alt=\"Open In Colab\"/></a>"
      ]
    },
    {
      "cell_type": "markdown",
      "metadata": {
        "id": "OcEZHyZ-4ptM"
      },
      "source": [
        "# **Uma Introdução à Visualização de Dados com Python**\n",
        "\n",
        "### *Rogério de Oliveira* \n",
        "\n",
        "<br>\n",
        "<hr>\n",
        "<br>\n",
        "<br>\n",
        "\n",
        "\n",
        "#[Prefácio](https://colab.research.google.com/github/Rogerio-mack/Visualizacao-de-Dados-em-Python/blob/main/intro.ipynb)\n",
        "\n",
        "#[Introdução](https://colab.research.google.com/github/Rogerio-mack/Visualizacao-de-Dados-em-Python/blob/main/c0_intro.ipynb)\n",
        "\n",
        "#[Básico: Colab, Python, NumPy e Pandas](https://colab.research.google.com/github/Rogerio-mack/Visualizacao-de-Dados-em-Python/blob/main/c0_parte_1.ipynb)\n",
        "\n",
        "#[Gráficos com Matplotlib](https://colab.research.google.com/github/Rogerio-mack/Visualizacao-de-Dados-em-Python/blob/main/c2_parte_1.ipynb)\n",
        "\n",
        "#[Evolução](https://colab.research.google.com/github/Rogerio-mack/Visualizacao-de-Dados-em-Python/blob/main/c3_parte_1.ipynb)\n",
        "\n",
        "#[Distribuição](https://colab.research.google.com/github/Rogerio-mack/Visualizacao-de-Dados-em-Python/blob/main/c4_parte_1.ipynb)\n",
        "\n",
        "#[Quantidades e Proporções](https://colab.research.google.com/github/Rogerio-mack/Visualizacao-de-Dados-em-Python/blob/main/c5_parte_1.ipynb)\n",
        "\n",
        "#[Relações](https://colab.research.google.com/github/Rogerio-mack/Visualizacao-de-Dados-em-Python/blob/main/c6_parte_1.ipynb)\n",
        "\n",
        "#[Boas Práticas de Visualização](https://colab.research.google.com/github/Rogerio-mack/Visualizacao-de-Dados-em-Python/blob/main/c7_parte_1.ipynb)\n",
        "\n",
        "#[Bibliografia e Recursos](https://colab.research.google.com/github/Rogerio-mack/Visualizacao-de-Dados-em-Python/blob/main/refs.ipynb)\n"
      ]
    }
  ]
}