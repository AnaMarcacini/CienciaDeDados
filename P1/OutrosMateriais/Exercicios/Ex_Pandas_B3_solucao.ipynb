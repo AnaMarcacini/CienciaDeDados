{
  "cells": [
    {
      "cell_type": "markdown",
      "metadata": {
        "id": "RJiGvGqyPEzF"
      },
      "source": [
        "<head>\n",
        "  <meta name=\"author\" content=\"Rogério de Oliveira\">\n",
        "  <meta institution=\"author\" content=\"ITM\">\n",
        "</head>\n",
        "\n",
        "<img src=\"https://maua.br/images/selo-60-anos-maua.svg\" width=300, align=\"right\">\n",
        "<!-- <h1 align=left><font size = 6, style=\"color:rgb(200,0,0)\"> optional title </font></h1> -->\n"
      ]
    },
    {
      "cell_type": "markdown",
      "metadata": {
        "id": "dEyV_GqcqtL1"
      },
      "source": [
        "# Lab: .loc, .iloc, alterações de dados\n",
        "\n",
        "Referências e Materiais úteis para este Lab são as notas de aula e o  [Pandas User Guide](https://pandas.pydata.org/docs/user_guide/index.html#user-guide)\n",
        "\n"
      ]
    },
    {
      "cell_type": "code",
      "execution_count": 1,
      "metadata": {
        "id": "aA7x9VBqEhqM"
      },
      "outputs": [],
      "source": [
        "import pandas as pd\n",
        "import numpy as np"
      ]
    },
    {
      "cell_type": "markdown",
      "metadata": {
        "id": "te1NO4UoLvgn"
      },
      "source": [
        "## **CASE Ações B3**\n",
        "\n"
      ]
    },
    {
      "cell_type": "markdown",
      "metadata": {
        "id": "dztFi4MAvp-t"
      },
      "source": [
        "## Instale o yahoo finance"
      ]
    },
    {
      "cell_type": "code",
      "execution_count": 2,
      "metadata": {
        "id": "d293ZF4CcTqz"
      },
      "outputs": [],
      "source": [
        "%%capture\n",
        "!pip install yfinance"
      ]
    },
    {
      "cell_type": "markdown",
      "metadata": {
        "id": "UO8GjrBevy3C"
      },
      "source": [
        "## Extraia dos dados de alguns ativos\n",
        "\n",
        "São aqui extraídos os dados taxa do dólar, ações da Petrobrás, Itaú e Vale em dólar, assim como o índice bovespa."
      ]
    },
    {
      "cell_type": "code",
      "execution_count": 3,
      "metadata": {
        "colab": {
          "base_uri": "https://localhost:8080/",
          "height": 422
        },
        "id": "AEfUcp18s-Di",
        "outputId": "294ad468-bed8-47c4-8fff-0dbe4a7a3171"
      },
      "outputs": [
        {
          "name": "stderr",
          "output_type": "stream",
          "text": [
            "[*********************100%%**********************]  5 of 5 completed\n"
          ]
        },
        {
          "data": {
            "text/html": [
              "<div>\n",
              "<style scoped>\n",
              "    .dataframe tbody tr th:only-of-type {\n",
              "        vertical-align: middle;\n",
              "    }\n",
              "\n",
              "    .dataframe tbody tr th {\n",
              "        vertical-align: top;\n",
              "    }\n",
              "\n",
              "    .dataframe thead tr th {\n",
              "        text-align: left;\n",
              "    }\n",
              "\n",
              "    .dataframe thead tr:last-of-type th {\n",
              "        text-align: right;\n",
              "    }\n",
              "</style>\n",
              "<table border=\"1\" class=\"dataframe\">\n",
              "  <thead>\n",
              "    <tr>\n",
              "      <th>Price</th>\n",
              "      <th colspan=\"5\" halign=\"left\">Adj Close</th>\n",
              "      <th colspan=\"5\" halign=\"left\">Close</th>\n",
              "      <th>...</th>\n",
              "      <th colspan=\"5\" halign=\"left\">Open</th>\n",
              "      <th colspan=\"5\" halign=\"left\">Volume</th>\n",
              "    </tr>\n",
              "    <tr>\n",
              "      <th>Ticker</th>\n",
              "      <th>BRL=X</th>\n",
              "      <th>ITUB4.SA</th>\n",
              "      <th>PETR4.SA</th>\n",
              "      <th>VALE3.SA</th>\n",
              "      <th>^BVSP</th>\n",
              "      <th>BRL=X</th>\n",
              "      <th>ITUB4.SA</th>\n",
              "      <th>PETR4.SA</th>\n",
              "      <th>VALE3.SA</th>\n",
              "      <th>^BVSP</th>\n",
              "      <th>...</th>\n",
              "      <th>BRL=X</th>\n",
              "      <th>ITUB4.SA</th>\n",
              "      <th>PETR4.SA</th>\n",
              "      <th>VALE3.SA</th>\n",
              "      <th>^BVSP</th>\n",
              "      <th>BRL=X</th>\n",
              "      <th>ITUB4.SA</th>\n",
              "      <th>PETR4.SA</th>\n",
              "      <th>VALE3.SA</th>\n",
              "      <th>^BVSP</th>\n",
              "    </tr>\n",
              "    <tr>\n",
              "      <th>Date</th>\n",
              "      <th></th>\n",
              "      <th></th>\n",
              "      <th></th>\n",
              "      <th></th>\n",
              "      <th></th>\n",
              "      <th></th>\n",
              "      <th></th>\n",
              "      <th></th>\n",
              "      <th></th>\n",
              "      <th></th>\n",
              "      <th></th>\n",
              "      <th></th>\n",
              "      <th></th>\n",
              "      <th></th>\n",
              "      <th></th>\n",
              "      <th></th>\n",
              "      <th></th>\n",
              "      <th></th>\n",
              "      <th></th>\n",
              "      <th></th>\n",
              "      <th></th>\n",
              "    </tr>\n",
              "  </thead>\n",
              "  <tbody>\n",
              "    <tr>\n",
              "      <th>2023-01-02</th>\n",
              "      <td>5.285500</td>\n",
              "      <td>22.463795</td>\n",
              "      <td>17.709478</td>\n",
              "      <td>80.482178</td>\n",
              "      <td>106376.0</td>\n",
              "      <td>5.285500</td>\n",
              "      <td>24.490000</td>\n",
              "      <td>22.920000</td>\n",
              "      <td>89.400002</td>\n",
              "      <td>106376.0</td>\n",
              "      <td>...</td>\n",
              "      <td>5.285500</td>\n",
              "      <td>24.430000</td>\n",
              "      <td>23.540001</td>\n",
              "      <td>88.680000</td>\n",
              "      <td>109734.0</td>\n",
              "      <td>0</td>\n",
              "      <td>23340700.0</td>\n",
              "      <td>78424700.0</td>\n",
              "      <td>12783800.0</td>\n",
              "      <td>8130500.0</td>\n",
              "    </tr>\n",
              "    <tr>\n",
              "      <th>2023-01-03</th>\n",
              "      <td>5.360131</td>\n",
              "      <td>21.995989</td>\n",
              "      <td>17.261332</td>\n",
              "      <td>80.338135</td>\n",
              "      <td>104166.0</td>\n",
              "      <td>5.360131</td>\n",
              "      <td>23.980000</td>\n",
              "      <td>22.340000</td>\n",
              "      <td>89.239998</td>\n",
              "      <td>104166.0</td>\n",
              "      <td>...</td>\n",
              "      <td>5.360131</td>\n",
              "      <td>24.490000</td>\n",
              "      <td>22.940001</td>\n",
              "      <td>89.400002</td>\n",
              "      <td>106377.0</td>\n",
              "      <td>0</td>\n",
              "      <td>29873800.0</td>\n",
              "      <td>96750300.0</td>\n",
              "      <td>25332600.0</td>\n",
              "      <td>14466700.0</td>\n",
              "    </tr>\n",
              "    <tr>\n",
              "      <th>2023-01-04</th>\n",
              "      <td>5.478500</td>\n",
              "      <td>22.060196</td>\n",
              "      <td>17.809923</td>\n",
              "      <td>80.482178</td>\n",
              "      <td>105334.0</td>\n",
              "      <td>5.478500</td>\n",
              "      <td>24.049999</td>\n",
              "      <td>23.049999</td>\n",
              "      <td>89.400002</td>\n",
              "      <td>105334.0</td>\n",
              "      <td>...</td>\n",
              "      <td>5.478500</td>\n",
              "      <td>24.059999</td>\n",
              "      <td>21.959999</td>\n",
              "      <td>89.300003</td>\n",
              "      <td>104167.0</td>\n",
              "      <td>0</td>\n",
              "      <td>29881500.0</td>\n",
              "      <td>129504000.0</td>\n",
              "      <td>26395300.0</td>\n",
              "      <td>14451200.0</td>\n",
              "    </tr>\n",
              "    <tr>\n",
              "      <th>2023-01-05</th>\n",
              "      <td>5.430100</td>\n",
              "      <td>22.748144</td>\n",
              "      <td>18.451235</td>\n",
              "      <td>81.832550</td>\n",
              "      <td>107518.0</td>\n",
              "      <td>5.430100</td>\n",
              "      <td>24.799999</td>\n",
              "      <td>23.879999</td>\n",
              "      <td>90.900002</td>\n",
              "      <td>107518.0</td>\n",
              "      <td>...</td>\n",
              "      <td>5.430100</td>\n",
              "      <td>24.100000</td>\n",
              "      <td>23.340000</td>\n",
              "      <td>89.459999</td>\n",
              "      <td>105336.0</td>\n",
              "      <td>0</td>\n",
              "      <td>36322800.0</td>\n",
              "      <td>73886000.0</td>\n",
              "      <td>29085600.0</td>\n",
              "      <td>15512000.0</td>\n",
              "    </tr>\n",
              "    <tr>\n",
              "      <th>2023-01-06</th>\n",
              "      <td>5.349800</td>\n",
              "      <td>23.142569</td>\n",
              "      <td>18.343063</td>\n",
              "      <td>83.128906</td>\n",
              "      <td>108836.0</td>\n",
              "      <td>5.349800</td>\n",
              "      <td>25.230000</td>\n",
              "      <td>23.740000</td>\n",
              "      <td>92.339996</td>\n",
              "      <td>108836.0</td>\n",
              "      <td>...</td>\n",
              "      <td>5.349800</td>\n",
              "      <td>24.930000</td>\n",
              "      <td>23.940001</td>\n",
              "      <td>91.000000</td>\n",
              "      <td>107642.0</td>\n",
              "      <td>0</td>\n",
              "      <td>37628200.0</td>\n",
              "      <td>51851500.0</td>\n",
              "      <td>31420600.0</td>\n",
              "      <td>12626600.0</td>\n",
              "    </tr>\n",
              "  </tbody>\n",
              "</table>\n",
              "<p>5 rows × 30 columns</p>\n",
              "</div>"
            ],
            "text/plain": [
              "Price      Adj Close                                                Close  \\\n",
              "Ticker         BRL=X   ITUB4.SA   PETR4.SA   VALE3.SA     ^BVSP     BRL=X   \n",
              "Date                                                                        \n",
              "2023-01-02  5.285500  22.463795  17.709478  80.482178  106376.0  5.285500   \n",
              "2023-01-03  5.360131  21.995989  17.261332  80.338135  104166.0  5.360131   \n",
              "2023-01-04  5.478500  22.060196  17.809923  80.482178  105334.0  5.478500   \n",
              "2023-01-05  5.430100  22.748144  18.451235  81.832550  107518.0  5.430100   \n",
              "2023-01-06  5.349800  23.142569  18.343063  83.128906  108836.0  5.349800   \n",
              "\n",
              "Price                                                  ...      Open  \\\n",
              "Ticker       ITUB4.SA   PETR4.SA   VALE3.SA     ^BVSP  ...     BRL=X   \n",
              "Date                                                   ...             \n",
              "2023-01-02  24.490000  22.920000  89.400002  106376.0  ...  5.285500   \n",
              "2023-01-03  23.980000  22.340000  89.239998  104166.0  ...  5.360131   \n",
              "2023-01-04  24.049999  23.049999  89.400002  105334.0  ...  5.478500   \n",
              "2023-01-05  24.799999  23.879999  90.900002  107518.0  ...  5.430100   \n",
              "2023-01-06  25.230000  23.740000  92.339996  108836.0  ...  5.349800   \n",
              "\n",
              "Price                                                 Volume              \\\n",
              "Ticker       ITUB4.SA   PETR4.SA   VALE3.SA     ^BVSP  BRL=X    ITUB4.SA   \n",
              "Date                                                                       \n",
              "2023-01-02  24.430000  23.540001  88.680000  109734.0      0  23340700.0   \n",
              "2023-01-03  24.490000  22.940001  89.400002  106377.0      0  29873800.0   \n",
              "2023-01-04  24.059999  21.959999  89.300003  104167.0      0  29881500.0   \n",
              "2023-01-05  24.100000  23.340000  89.459999  105336.0      0  36322800.0   \n",
              "2023-01-06  24.930000  23.940001  91.000000  107642.0      0  37628200.0   \n",
              "\n",
              "Price                                            \n",
              "Ticker         PETR4.SA    VALE3.SA       ^BVSP  \n",
              "Date                                             \n",
              "2023-01-02   78424700.0  12783800.0   8130500.0  \n",
              "2023-01-03   96750300.0  25332600.0  14466700.0  \n",
              "2023-01-04  129504000.0  26395300.0  14451200.0  \n",
              "2023-01-05   73886000.0  29085600.0  15512000.0  \n",
              "2023-01-06   51851500.0  31420600.0  12626600.0  \n",
              "\n",
              "[5 rows x 30 columns]"
            ]
          },
          "execution_count": 3,
          "metadata": {},
          "output_type": "execute_result"
        }
      ],
      "source": [
        "import yfinance as yf\n",
        "\n",
        "df = yf.download(['^BVSP', 'PETR4.SA', 'ITUB4.SA', 'VALE3.SA', 'BRL=X'],'2023-01-01','2024-01-01')\n",
        "df.head()"
      ]
    },
    {
      "cell_type": "markdown",
      "metadata": {
        "id": "0Vk2ZsMUu8DK"
      },
      "source": [
        "# Q1.\n",
        "\n",
        "Verifique os nomes das colunas. As colunas são um índice composto e hierárquico. Altere o df para conter apenas os valores de fechamento diário dos ativos (`Adj Close`).\n"
      ]
    },
    {
      "cell_type": "code",
      "execution_count": 4,
      "metadata": {},
      "outputs": [
        {
          "data": {
            "text/html": [
              "<div>\n",
              "<style scoped>\n",
              "    .dataframe tbody tr th:only-of-type {\n",
              "        vertical-align: middle;\n",
              "    }\n",
              "\n",
              "    .dataframe tbody tr th {\n",
              "        vertical-align: top;\n",
              "    }\n",
              "\n",
              "    .dataframe thead th {\n",
              "        text-align: right;\n",
              "    }\n",
              "</style>\n",
              "<table border=\"1\" class=\"dataframe\">\n",
              "  <thead>\n",
              "    <tr style=\"text-align: right;\">\n",
              "      <th>Ticker</th>\n",
              "      <th>BRL=X</th>\n",
              "      <th>ITUB4.SA</th>\n",
              "      <th>PETR4.SA</th>\n",
              "      <th>VALE3.SA</th>\n",
              "      <th>^BVSP</th>\n",
              "    </tr>\n",
              "    <tr>\n",
              "      <th>Date</th>\n",
              "      <th></th>\n",
              "      <th></th>\n",
              "      <th></th>\n",
              "      <th></th>\n",
              "      <th></th>\n",
              "    </tr>\n",
              "  </thead>\n",
              "  <tbody>\n",
              "    <tr>\n",
              "      <th>2023-01-02</th>\n",
              "      <td>5.285500</td>\n",
              "      <td>22.463795</td>\n",
              "      <td>17.709478</td>\n",
              "      <td>80.482178</td>\n",
              "      <td>106376.0</td>\n",
              "    </tr>\n",
              "    <tr>\n",
              "      <th>2023-01-03</th>\n",
              "      <td>5.360131</td>\n",
              "      <td>21.995989</td>\n",
              "      <td>17.261332</td>\n",
              "      <td>80.338135</td>\n",
              "      <td>104166.0</td>\n",
              "    </tr>\n",
              "    <tr>\n",
              "      <th>2023-01-04</th>\n",
              "      <td>5.478500</td>\n",
              "      <td>22.060196</td>\n",
              "      <td>17.809923</td>\n",
              "      <td>80.482178</td>\n",
              "      <td>105334.0</td>\n",
              "    </tr>\n",
              "    <tr>\n",
              "      <th>2023-01-05</th>\n",
              "      <td>5.430100</td>\n",
              "      <td>22.748144</td>\n",
              "      <td>18.451235</td>\n",
              "      <td>81.832550</td>\n",
              "      <td>107518.0</td>\n",
              "    </tr>\n",
              "    <tr>\n",
              "      <th>2023-01-06</th>\n",
              "      <td>5.349800</td>\n",
              "      <td>23.142569</td>\n",
              "      <td>18.343063</td>\n",
              "      <td>83.128906</td>\n",
              "      <td>108836.0</td>\n",
              "    </tr>\n",
              "    <tr>\n",
              "      <th>...</th>\n",
              "      <td>...</td>\n",
              "      <td>...</td>\n",
              "      <td>...</td>\n",
              "      <td>...</td>\n",
              "      <td>...</td>\n",
              "    </tr>\n",
              "    <tr>\n",
              "      <th>2023-12-25</th>\n",
              "      <td>4.869844</td>\n",
              "      <td>NaN</td>\n",
              "      <td>NaN</td>\n",
              "      <td>NaN</td>\n",
              "      <td>NaN</td>\n",
              "    </tr>\n",
              "    <tr>\n",
              "      <th>2023-12-26</th>\n",
              "      <td>4.869744</td>\n",
              "      <td>32.303120</td>\n",
              "      <td>37.330002</td>\n",
              "      <td>73.377686</td>\n",
              "      <td>133533.0</td>\n",
              "    </tr>\n",
              "    <tr>\n",
              "      <th>2023-12-27</th>\n",
              "      <td>4.813500</td>\n",
              "      <td>32.523911</td>\n",
              "      <td>37.360001</td>\n",
              "      <td>74.085999</td>\n",
              "      <td>134194.0</td>\n",
              "    </tr>\n",
              "    <tr>\n",
              "      <th>2023-12-28</th>\n",
              "      <td>4.826100</td>\n",
              "      <td>32.610310</td>\n",
              "      <td>37.240002</td>\n",
              "      <td>73.894554</td>\n",
              "      <td>134185.0</td>\n",
              "    </tr>\n",
              "    <tr>\n",
              "      <th>2023-12-29</th>\n",
              "      <td>4.850200</td>\n",
              "      <td>NaN</td>\n",
              "      <td>NaN</td>\n",
              "      <td>NaN</td>\n",
              "      <td>NaN</td>\n",
              "    </tr>\n",
              "  </tbody>\n",
              "</table>\n",
              "<p>260 rows × 5 columns</p>\n",
              "</div>"
            ],
            "text/plain": [
              "Ticker         BRL=X   ITUB4.SA   PETR4.SA   VALE3.SA     ^BVSP\n",
              "Date                                                           \n",
              "2023-01-02  5.285500  22.463795  17.709478  80.482178  106376.0\n",
              "2023-01-03  5.360131  21.995989  17.261332  80.338135  104166.0\n",
              "2023-01-04  5.478500  22.060196  17.809923  80.482178  105334.0\n",
              "2023-01-05  5.430100  22.748144  18.451235  81.832550  107518.0\n",
              "2023-01-06  5.349800  23.142569  18.343063  83.128906  108836.0\n",
              "...              ...        ...        ...        ...       ...\n",
              "2023-12-25  4.869844        NaN        NaN        NaN       NaN\n",
              "2023-12-26  4.869744  32.303120  37.330002  73.377686  133533.0\n",
              "2023-12-27  4.813500  32.523911  37.360001  74.085999  134194.0\n",
              "2023-12-28  4.826100  32.610310  37.240002  73.894554  134185.0\n",
              "2023-12-29  4.850200        NaN        NaN        NaN       NaN\n",
              "\n",
              "[260 rows x 5 columns]"
            ]
          },
          "execution_count": 4,
          "metadata": {},
          "output_type": "execute_result"
        }
      ],
      "source": [
        "df = df['Adj Close']\n",
        "df"
      ]
    },
    {
      "cell_type": "markdown",
      "metadata": {},
      "source": [
        "## Gabarito"
      ]
    },
    {
      "cell_type": "code",
      "execution_count": 5,
      "metadata": {
        "colab": {
          "base_uri": "https://localhost:8080/"
        },
        "id": "SdqHU1dBw_Fb",
        "outputId": "c143d68a-b6c6-42c0-a4d3-4a827a343814"
      },
      "outputs": [
        {
          "name": "stdout",
          "output_type": "stream",
          "text": [
            "Index(['BRL=X', 'ITUB4.SA', 'PETR4.SA', 'VALE3.SA', '^BVSP'], dtype='object', name='Ticker')\n"
          ]
        }
      ],
      "source": [
        "print(df.columns)"
      ]
    },
    {
      "cell_type": "markdown",
      "metadata": {
        "id": "_870dddqxE3l"
      },
      "source": [
        "O resultado deve se parecer com:"
      ]
    },
    {
      "cell_type": "code",
      "execution_count": 6,
      "metadata": {
        "colab": {
          "base_uri": "https://localhost:8080/"
        },
        "id": "rwlhciNgDNMi",
        "outputId": "b8be8d3c-e7c6-455b-a24f-4ab581f9e41c"
      },
      "outputs": [
        {
          "data": {
            "text/plain": [
              "Index(['BRL=X', 'ITUB4.SA', 'PETR4.SA', 'VALE3.SA', '^BVSP'], dtype='object', name='Ticker')"
            ]
          },
          "execution_count": 6,
          "metadata": {},
          "output_type": "execute_result"
        }
      ],
      "source": [
        "df.columns[0:5]"
      ]
    },
    {
      "cell_type": "code",
      "execution_count": 7,
      "metadata": {
        "colab": {
          "base_uri": "https://localhost:8080/"
        },
        "id": "6trsP6AVDVeR",
        "outputId": "e7601616-431d-457b-c302-659da8e9c9f4"
      },
      "outputs": [
        {
          "name": "stdout",
          "output_type": "stream",
          "text": [
            "skipping alternative solution\n"
          ]
        }
      ],
      "source": [
        "%%script echo skipping alternative solution\n",
        "df = df[[('Adj Close',    'BRL=X'),\n",
        "            ('Adj Close', 'ITUB4.SA'),\n",
        "            ('Adj Close', 'PETR4.SA'),\n",
        "            ('Adj Close', 'VALE3.SA'),\n",
        "            ('Adj Close',    '^BVSP')]]\n",
        "\n",
        "df.head()"
      ]
    },
    {
      "cell_type": "markdown",
      "metadata": {
        "id": "XaIrYDUtwj33"
      },
      "source": [
        "Qual a soma total dos valores desse novo df?"
      ]
    },
    {
      "cell_type": "code",
      "execution_count": 8,
      "metadata": {
        "colab": {
          "base_uri": "https://localhost:8080/"
        },
        "id": "-AnuWcZJwpcn",
        "outputId": "070a14a4-07ab-416a-df71-13f641c12049"
      },
      "outputs": [
        {
          "data": {
            "text/plain": [
              "28351377.40610838"
            ]
          },
          "execution_count": 8,
          "metadata": {},
          "output_type": "execute_result"
        }
      ],
      "source": [
        "df.sum().sum()"
      ]
    },
    {
      "cell_type": "markdown",
      "metadata": {
        "id": "PBwv8I2bb-6F"
      },
      "source": [
        "# Q2.\n",
        "\n",
        "Converta os valores cabíves para reais."
      ]
    },
    {
      "cell_type": "markdown",
      "metadata": {
        "id": "l00D_nw9yNxT"
      },
      "source": [
        "O resultado deve se parecer com:"
      ]
    },
    {
      "cell_type": "code",
      "execution_count": 9,
      "metadata": {
        "colab": {
          "base_uri": "https://localhost:8080/",
          "height": 238
        },
        "id": "SJ9c_J96bpXj",
        "outputId": "2538f6e9-5096-41b7-be06-6676072e2c28"
      },
      "outputs": [
        {
          "data": {
            "text/html": [
              "<div>\n",
              "<style scoped>\n",
              "    .dataframe tbody tr th:only-of-type {\n",
              "        vertical-align: middle;\n",
              "    }\n",
              "\n",
              "    .dataframe tbody tr th {\n",
              "        vertical-align: top;\n",
              "    }\n",
              "\n",
              "    .dataframe thead th {\n",
              "        text-align: right;\n",
              "    }\n",
              "</style>\n",
              "<table border=\"1\" class=\"dataframe\">\n",
              "  <thead>\n",
              "    <tr style=\"text-align: right;\">\n",
              "      <th>Ticker</th>\n",
              "      <th>BRL=X</th>\n",
              "      <th>ITUB4.SA</th>\n",
              "      <th>PETR4.SA</th>\n",
              "      <th>VALE3.SA</th>\n",
              "      <th>^BVSP</th>\n",
              "    </tr>\n",
              "    <tr>\n",
              "      <th>Date</th>\n",
              "      <th></th>\n",
              "      <th></th>\n",
              "      <th></th>\n",
              "      <th></th>\n",
              "      <th></th>\n",
              "    </tr>\n",
              "  </thead>\n",
              "  <tbody>\n",
              "    <tr>\n",
              "      <th>2023-01-02</th>\n",
              "      <td>5.285500</td>\n",
              "      <td>118.732388</td>\n",
              "      <td>93.603449</td>\n",
              "      <td>425.388554</td>\n",
              "      <td>106376.0</td>\n",
              "    </tr>\n",
              "    <tr>\n",
              "      <th>2023-01-03</th>\n",
              "      <td>5.360131</td>\n",
              "      <td>117.901377</td>\n",
              "      <td>92.522995</td>\n",
              "      <td>430.622910</td>\n",
              "      <td>104166.0</td>\n",
              "    </tr>\n",
              "    <tr>\n",
              "      <th>2023-01-04</th>\n",
              "      <td>5.478500</td>\n",
              "      <td>120.856781</td>\n",
              "      <td>97.571662</td>\n",
              "      <td>440.921602</td>\n",
              "      <td>105334.0</td>\n",
              "    </tr>\n",
              "    <tr>\n",
              "      <th>2023-01-05</th>\n",
              "      <td>5.430100</td>\n",
              "      <td>123.524697</td>\n",
              "      <td>100.192050</td>\n",
              "      <td>444.358927</td>\n",
              "      <td>107518.0</td>\n",
              "    </tr>\n",
              "    <tr>\n",
              "      <th>2023-01-06</th>\n",
              "      <td>5.349800</td>\n",
              "      <td>123.808116</td>\n",
              "      <td>98.131722</td>\n",
              "      <td>444.723032</td>\n",
              "      <td>108836.0</td>\n",
              "    </tr>\n",
              "  </tbody>\n",
              "</table>\n",
              "</div>"
            ],
            "text/plain": [
              "Ticker         BRL=X    ITUB4.SA    PETR4.SA    VALE3.SA     ^BVSP\n",
              "Date                                                              \n",
              "2023-01-02  5.285500  118.732388   93.603449  425.388554  106376.0\n",
              "2023-01-03  5.360131  117.901377   92.522995  430.622910  104166.0\n",
              "2023-01-04  5.478500  120.856781   97.571662  440.921602  105334.0\n",
              "2023-01-05  5.430100  123.524697  100.192050  444.358927  107518.0\n",
              "2023-01-06  5.349800  123.808116   98.131722  444.723032  108836.0"
            ]
          },
          "execution_count": 9,
          "metadata": {},
          "output_type": "execute_result"
        }
      ],
      "source": [
        "for column in ['ITUB4.SA', 'PETR4.SA', 'VALE3.SA']:\n",
        "  df[column] = df[column] * df['BRL=X']\n",
        "\n",
        "df.head()"
      ]
    },
    {
      "cell_type": "markdown",
      "metadata": {
        "id": "QaVkZ2ClyTrb"
      },
      "source": [
        "Qual o preço médio das ações no período?"
      ]
    },
    {
      "cell_type": "code",
      "execution_count": 10,
      "metadata": {
        "colab": {
          "base_uri": "https://localhost:8080/"
        },
        "id": "mqWRHpJMx73H",
        "outputId": "f41fcbbb-e51d-4efe-e5b6-35eb8c147871"
      },
      "outputs": [
        {
          "data": {
            "text/plain": [
              "Ticker\n",
              "ITUB4.SA    127.678873\n",
              "PETR4.SA    132.653838\n",
              "VALE3.SA    342.970196\n",
              "dtype: float64"
            ]
          },
          "execution_count": 10,
          "metadata": {},
          "output_type": "execute_result"
        }
      ],
      "source": [
        "df[['ITUB4.SA', 'PETR4.SA', 'VALE3.SA']].mean()"
      ]
    },
    {
      "cell_type": "markdown",
      "metadata": {
        "id": "jVtai3IoygbB"
      },
      "source": [
        "# Q3.\n",
        "\n",
        "Existem valores nulos (ausentes) em algumas linhas. São datas em que não existem valores dos ativos, por exemplo, por feriado na bolsa de São Paulo.\n",
        "\n",
        "Para quantos dias no período não há valores das ações?"
      ]
    },
    {
      "cell_type": "markdown",
      "metadata": {
        "id": "Ze9seojt09QB"
      },
      "source": [
        "**Dica:** você pode empregar `df.isnull()`, mas já apresentamos uma outra forma que você pode usar."
      ]
    },
    {
      "cell_type": "code",
      "execution_count": 11,
      "metadata": {
        "colab": {
          "base_uri": "https://localhost:8080/"
        },
        "id": "ulXUwOiguDbG",
        "outputId": "20721ff3-2806-46e3-87b2-c92423a5af81"
      },
      "outputs": [
        {
          "name": "stdout",
          "output_type": "stream",
          "text": [
            "<class 'pandas.core.frame.DataFrame'>\n",
            "DatetimeIndex: 260 entries, 2023-01-02 to 2023-12-29\n",
            "Freq: B\n",
            "Data columns (total 5 columns):\n",
            " #   Column    Non-Null Count  Dtype  \n",
            "---  ------    --------------  -----  \n",
            " 0   BRL=X     260 non-null    float64\n",
            " 1   ITUB4.SA  248 non-null    float64\n",
            " 2   PETR4.SA  248 non-null    float64\n",
            " 3   VALE3.SA  248 non-null    float64\n",
            " 4   ^BVSP     248 non-null    float64\n",
            "dtypes: float64(5)\n",
            "memory usage: 12.2 KB\n"
          ]
        }
      ],
      "source": [
        "df.info()"
      ]
    },
    {
      "cell_type": "code",
      "execution_count": 12,
      "metadata": {
        "colab": {
          "base_uri": "https://localhost:8080/"
        },
        "id": "MOUbgOSTy8cy",
        "outputId": "fc3f619d-e179-45fb-99d1-c9cd6ee6dc28"
      },
      "outputs": [
        {
          "data": {
            "text/plain": [
              "Ticker\n",
              "BRL=X        0\n",
              "ITUB4.SA    12\n",
              "PETR4.SA    12\n",
              "VALE3.SA    12\n",
              "^BVSP       12\n",
              "dtype: int64"
            ]
          },
          "execution_count": 12,
          "metadata": {},
          "output_type": "execute_result"
        }
      ],
      "source": [
        "df.isnull().sum()"
      ]
    },
    {
      "cell_type": "markdown",
      "metadata": {
        "id": "_5Hm2ywTdMAU"
      },
      "source": [
        "# Q4.\n",
        "\n",
        "Qual ativo rendeu mais no período? Você pode calcular o percentual de aumento ou descréscimo do ativo do início ao fim do período."
      ]
    },
    {
      "cell_type": "code",
      "execution_count": 13,
      "metadata": {
        "colab": {
          "base_uri": "https://localhost:8080/"
        },
        "id": "M7qnIHJUF33m",
        "outputId": "8a8fada8-9cd5-4d39-bf0d-dd05e9c6b610"
      },
      "outputs": [
        {
          "data": {
            "text/plain": [
              "Index(['BRL=X', 'ITUB4.SA', 'PETR4.SA', 'VALE3.SA', '^BVSP'], dtype='object', name='Ticker')"
            ]
          },
          "execution_count": 13,
          "metadata": {},
          "output_type": "execute_result"
        }
      ],
      "source": [
        "df.columns"
      ]
    },
    {
      "cell_type": "code",
      "execution_count": 14,
      "metadata": {
        "colab": {
          "base_uri": "https://localhost:8080/",
          "height": 430
        },
        "id": "nCkEI-MlFzR3",
        "outputId": "2250a958-9f99-4742-ccf4-7ee2d9ecf98d"
      },
      "outputs": [
        {
          "data": {
            "image/png": "[encoded data removed]",
            "text/plain": [
              "<Figure size 640x480 with 1 Axes>"
            ]
          },
          "metadata": {},
          "output_type": "display_data"
        }
      ],
      "source": [
        "import matplotlib.pyplot as plt\n",
        "\n",
        "plt.plot(df[['BRL=X', 'ITUB4.SA', 'PETR4.SA', 'VALE3.SA', '^BVSP']] / df[['BRL=X', 'ITUB4.SA', 'PETR4.SA', 'VALE3.SA', '^BVSP']].max(),\n",
        "         label=['BRL=X', 'ITUB4.SA', 'PETR4.SA', 'VALE3.SA', '^BVSP'])\n",
        "\n",
        "plt.legend()\n",
        "plt.show()"
      ]
    },
    {
      "cell_type": "code",
      "execution_count": 15,
      "metadata": {
        "colab": {
          "base_uri": "https://localhost:8080/",
          "height": 238
        },
        "id": "Ef79jRjjdkmk",
        "outputId": "ead0e16f-c8a5-49bd-fcff-beedeaf2b450"
      },
      "outputs": [
        {
          "data": {
            "text/html": [
              "<div>\n",
              "<style scoped>\n",
              "    .dataframe tbody tr th:only-of-type {\n",
              "        vertical-align: middle;\n",
              "    }\n",
              "\n",
              "    .dataframe tbody tr th {\n",
              "        vertical-align: top;\n",
              "    }\n",
              "\n",
              "    .dataframe thead th {\n",
              "        text-align: right;\n",
              "    }\n",
              "</style>\n",
              "<table border=\"1\" class=\"dataframe\">\n",
              "  <thead>\n",
              "    <tr style=\"text-align: right;\">\n",
              "      <th>Ticker</th>\n",
              "      <th>BRL=X</th>\n",
              "      <th>ITUB4.SA</th>\n",
              "      <th>PETR4.SA</th>\n",
              "      <th>VALE3.SA</th>\n",
              "      <th>^BVSP</th>\n",
              "    </tr>\n",
              "    <tr>\n",
              "      <th>Date</th>\n",
              "      <th></th>\n",
              "      <th></th>\n",
              "      <th></th>\n",
              "      <th></th>\n",
              "      <th></th>\n",
              "    </tr>\n",
              "  </thead>\n",
              "  <tbody>\n",
              "    <tr>\n",
              "      <th>2023-01-02</th>\n",
              "      <td>5.285500</td>\n",
              "      <td>118.732388</td>\n",
              "      <td>93.603449</td>\n",
              "      <td>425.388554</td>\n",
              "      <td>106376.0</td>\n",
              "    </tr>\n",
              "    <tr>\n",
              "      <th>2023-01-03</th>\n",
              "      <td>5.360131</td>\n",
              "      <td>117.901377</td>\n",
              "      <td>92.522995</td>\n",
              "      <td>430.622910</td>\n",
              "      <td>104166.0</td>\n",
              "    </tr>\n",
              "    <tr>\n",
              "      <th>2023-01-04</th>\n",
              "      <td>5.478500</td>\n",
              "      <td>120.856781</td>\n",
              "      <td>97.571662</td>\n",
              "      <td>440.921602</td>\n",
              "      <td>105334.0</td>\n",
              "    </tr>\n",
              "    <tr>\n",
              "      <th>2023-01-05</th>\n",
              "      <td>5.430100</td>\n",
              "      <td>123.524697</td>\n",
              "      <td>100.192050</td>\n",
              "      <td>444.358927</td>\n",
              "      <td>107518.0</td>\n",
              "    </tr>\n",
              "    <tr>\n",
              "      <th>2023-01-06</th>\n",
              "      <td>5.349800</td>\n",
              "      <td>123.808116</td>\n",
              "      <td>98.131722</td>\n",
              "      <td>444.723032</td>\n",
              "      <td>108836.0</td>\n",
              "    </tr>\n",
              "  </tbody>\n",
              "</table>\n",
              "</div>"
            ],
            "text/plain": [
              "Ticker         BRL=X    ITUB4.SA    PETR4.SA    VALE3.SA     ^BVSP\n",
              "Date                                                              \n",
              "2023-01-02  5.285500  118.732388   93.603449  425.388554  106376.0\n",
              "2023-01-03  5.360131  117.901377   92.522995  430.622910  104166.0\n",
              "2023-01-04  5.478500  120.856781   97.571662  440.921602  105334.0\n",
              "2023-01-05  5.430100  123.524697  100.192050  444.358927  107518.0\n",
              "2023-01-06  5.349800  123.808116   98.131722  444.723032  108836.0"
            ]
          },
          "execution_count": 15,
          "metadata": {},
          "output_type": "execute_result"
        }
      ],
      "source": [
        "df.head()"
      ]
    },
    {
      "cell_type": "code",
      "execution_count": 16,
      "metadata": {
        "colab": {
          "base_uri": "https://localhost:8080/",
          "height": 238
        },
        "id": "N7CApxEYzkaz",
        "outputId": "e0daf63f-5b81-4218-c9a1-69525c0fde36"
      },
      "outputs": [
        {
          "data": {
            "text/html": [
              "<div>\n",
              "<style scoped>\n",
              "    .dataframe tbody tr th:only-of-type {\n",
              "        vertical-align: middle;\n",
              "    }\n",
              "\n",
              "    .dataframe tbody tr th {\n",
              "        vertical-align: top;\n",
              "    }\n",
              "\n",
              "    .dataframe thead th {\n",
              "        text-align: right;\n",
              "    }\n",
              "</style>\n",
              "<table border=\"1\" class=\"dataframe\">\n",
              "  <thead>\n",
              "    <tr style=\"text-align: right;\">\n",
              "      <th>Ticker</th>\n",
              "      <th>BRL=X</th>\n",
              "      <th>ITUB4.SA</th>\n",
              "      <th>PETR4.SA</th>\n",
              "      <th>VALE3.SA</th>\n",
              "      <th>^BVSP</th>\n",
              "    </tr>\n",
              "    <tr>\n",
              "      <th>Date</th>\n",
              "      <th></th>\n",
              "      <th></th>\n",
              "      <th></th>\n",
              "      <th></th>\n",
              "      <th></th>\n",
              "    </tr>\n",
              "  </thead>\n",
              "  <tbody>\n",
              "    <tr>\n",
              "      <th>2023-12-25</th>\n",
              "      <td>4.869844</td>\n",
              "      <td>NaN</td>\n",
              "      <td>NaN</td>\n",
              "      <td>NaN</td>\n",
              "      <td>NaN</td>\n",
              "    </tr>\n",
              "    <tr>\n",
              "      <th>2023-12-26</th>\n",
              "      <td>4.869744</td>\n",
              "      <td>157.307917</td>\n",
              "      <td>181.787546</td>\n",
              "      <td>357.330531</td>\n",
              "      <td>133533.0</td>\n",
              "    </tr>\n",
              "    <tr>\n",
              "      <th>2023-12-27</th>\n",
              "      <td>4.813500</td>\n",
              "      <td>156.553841</td>\n",
              "      <td>179.832360</td>\n",
              "      <td>356.612949</td>\n",
              "      <td>134194.0</td>\n",
              "    </tr>\n",
              "    <tr>\n",
              "      <th>2023-12-28</th>\n",
              "      <td>4.826100</td>\n",
              "      <td>157.380611</td>\n",
              "      <td>179.723967</td>\n",
              "      <td>356.622498</td>\n",
              "      <td>134185.0</td>\n",
              "    </tr>\n",
              "    <tr>\n",
              "      <th>2023-12-29</th>\n",
              "      <td>4.850200</td>\n",
              "      <td>NaN</td>\n",
              "      <td>NaN</td>\n",
              "      <td>NaN</td>\n",
              "      <td>NaN</td>\n",
              "    </tr>\n",
              "  </tbody>\n",
              "</table>\n",
              "</div>"
            ],
            "text/plain": [
              "Ticker         BRL=X    ITUB4.SA    PETR4.SA    VALE3.SA     ^BVSP\n",
              "Date                                                              \n",
              "2023-12-25  4.869844         NaN         NaN         NaN       NaN\n",
              "2023-12-26  4.869744  157.307917  181.787546  357.330531  133533.0\n",
              "2023-12-27  4.813500  156.553841  179.832360  356.612949  134194.0\n",
              "2023-12-28  4.826100  157.380611  179.723967  356.622498  134185.0\n",
              "2023-12-29  4.850200         NaN         NaN         NaN       NaN"
            ]
          },
          "execution_count": 16,
          "metadata": {},
          "output_type": "execute_result"
        }
      ],
      "source": [
        "df.tail()"
      ]
    },
    {
      "cell_type": "code",
      "execution_count": 17,
      "metadata": {
        "colab": {
          "base_uri": "https://localhost:8080/"
        },
        "id": "8G-g0AuwdKhD",
        "outputId": "98d1c4f8-678c-4ad9-be40-6bab6f0bd995"
      },
      "outputs": [
        {
          "data": {
            "text/plain": [
              "Ticker\n",
              "BRL=X            5.285500\n",
              "ITUB4.SA       118.732388\n",
              "PETR4.SA        93.603449\n",
              "VALE3.SA       425.388554\n",
              "^BVSP       106376.000000\n",
              "Name: 2023-01-02 00:00:00, dtype: float64"
            ]
          },
          "execution_count": 17,
          "metadata": {},
          "output_type": "execute_result"
        }
      ],
      "source": [
        "df.iloc[0]"
      ]
    },
    {
      "cell_type": "code",
      "execution_count": 18,
      "metadata": {
        "colab": {
          "base_uri": "https://localhost:8080/"
        },
        "id": "xShNjPecdemL",
        "outputId": "8f0b8c98-c875-46b4-cefa-5d5921eba569"
      },
      "outputs": [
        {
          "data": {
            "text/plain": [
              "Ticker\n",
              "BRL=X            4.826100\n",
              "ITUB4.SA       157.380611\n",
              "PETR4.SA       179.723967\n",
              "VALE3.SA       356.622498\n",
              "^BVSP       134185.000000\n",
              "Name: 2023-12-28 00:00:00, dtype: float64"
            ]
          },
          "execution_count": 18,
          "metadata": {},
          "output_type": "execute_result"
        }
      ],
      "source": [
        "df.iloc[-2]"
      ]
    },
    {
      "cell_type": "code",
      "execution_count": 19,
      "metadata": {
        "colab": {
          "base_uri": "https://localhost:8080/"
        },
        "id": "2HbM_nFuzy_L",
        "outputId": "6e709495-8241-482f-8e2b-7023e1f899b3"
      },
      "outputs": [
        {
          "data": {
            "text/plain": [
              "Ticker\n",
              "BRL=X      -0.086917\n",
              "ITUB4.SA    0.325507\n",
              "PETR4.SA    0.920057\n",
              "VALE3.SA   -0.161655\n",
              "^BVSP       0.261422\n",
              "dtype: float64"
            ]
          },
          "execution_count": 19,
          "metadata": {},
          "output_type": "execute_result"
        }
      ],
      "source": [
        "( df.iloc[-2] - df.iloc[0] ) / df.iloc[0]"
      ]
    },
    {
      "cell_type": "code",
      "execution_count": 20,
      "metadata": {
        "colab": {
          "base_uri": "https://localhost:8080/",
          "height": 112
        },
        "id": "O2ykCWBXHDk_",
        "outputId": "77594bdd-193d-45f7-f3cb-2df2810a9083"
      },
      "outputs": [
        {
          "data": {
            "text/html": [
              "<div>\n",
              "<style scoped>\n",
              "    .dataframe tbody tr th:only-of-type {\n",
              "        vertical-align: middle;\n",
              "    }\n",
              "\n",
              "    .dataframe tbody tr th {\n",
              "        vertical-align: top;\n",
              "    }\n",
              "\n",
              "    .dataframe thead th {\n",
              "        text-align: right;\n",
              "    }\n",
              "</style>\n",
              "<table border=\"1\" class=\"dataframe\">\n",
              "  <thead>\n",
              "    <tr style=\"text-align: right;\">\n",
              "      <th>Ticker</th>\n",
              "      <th>BRL=X</th>\n",
              "      <th>ITUB4.SA</th>\n",
              "      <th>PETR4.SA</th>\n",
              "      <th>VALE3.SA</th>\n",
              "      <th>^BVSP</th>\n",
              "    </tr>\n",
              "    <tr>\n",
              "      <th>Date</th>\n",
              "      <th></th>\n",
              "      <th></th>\n",
              "      <th></th>\n",
              "      <th></th>\n",
              "      <th></th>\n",
              "    </tr>\n",
              "  </thead>\n",
              "  <tbody>\n",
              "    <tr>\n",
              "      <th>2023-01-02</th>\n",
              "      <td>5.2855</td>\n",
              "      <td>118.732388</td>\n",
              "      <td>93.603449</td>\n",
              "      <td>425.388554</td>\n",
              "      <td>106376.0</td>\n",
              "    </tr>\n",
              "  </tbody>\n",
              "</table>\n",
              "</div>"
            ],
            "text/plain": [
              "Ticker       BRL=X    ITUB4.SA   PETR4.SA    VALE3.SA     ^BVSP\n",
              "Date                                                           \n",
              "2023-01-02  5.2855  118.732388  93.603449  425.388554  106376.0"
            ]
          },
          "execution_count": 20,
          "metadata": {},
          "output_type": "execute_result"
        }
      ],
      "source": [
        "df.head(1)"
      ]
    },
    {
      "cell_type": "code",
      "execution_count": 21,
      "metadata": {
        "colab": {
          "base_uri": "https://localhost:8080/",
          "height": 143
        },
        "id": "B90ZvyxkHJuV",
        "outputId": "3bff29dd-f43f-47d4-cac7-32444c348b77"
      },
      "outputs": [
        {
          "data": {
            "text/html": [
              "<div>\n",
              "<style scoped>\n",
              "    .dataframe tbody tr th:only-of-type {\n",
              "        vertical-align: middle;\n",
              "    }\n",
              "\n",
              "    .dataframe tbody tr th {\n",
              "        vertical-align: top;\n",
              "    }\n",
              "\n",
              "    .dataframe thead th {\n",
              "        text-align: right;\n",
              "    }\n",
              "</style>\n",
              "<table border=\"1\" class=\"dataframe\">\n",
              "  <thead>\n",
              "    <tr style=\"text-align: right;\">\n",
              "      <th>Ticker</th>\n",
              "      <th>BRL=X</th>\n",
              "      <th>ITUB4.SA</th>\n",
              "      <th>PETR4.SA</th>\n",
              "      <th>VALE3.SA</th>\n",
              "      <th>^BVSP</th>\n",
              "    </tr>\n",
              "    <tr>\n",
              "      <th>Date</th>\n",
              "      <th></th>\n",
              "      <th></th>\n",
              "      <th></th>\n",
              "      <th></th>\n",
              "      <th></th>\n",
              "    </tr>\n",
              "  </thead>\n",
              "  <tbody>\n",
              "    <tr>\n",
              "      <th>2023-12-28</th>\n",
              "      <td>4.8261</td>\n",
              "      <td>157.380611</td>\n",
              "      <td>179.723967</td>\n",
              "      <td>356.622498</td>\n",
              "      <td>134185.0</td>\n",
              "    </tr>\n",
              "    <tr>\n",
              "      <th>2023-12-29</th>\n",
              "      <td>4.8502</td>\n",
              "      <td>NaN</td>\n",
              "      <td>NaN</td>\n",
              "      <td>NaN</td>\n",
              "      <td>NaN</td>\n",
              "    </tr>\n",
              "  </tbody>\n",
              "</table>\n",
              "</div>"
            ],
            "text/plain": [
              "Ticker       BRL=X    ITUB4.SA    PETR4.SA    VALE3.SA     ^BVSP\n",
              "Date                                                            \n",
              "2023-12-28  4.8261  157.380611  179.723967  356.622498  134185.0\n",
              "2023-12-29  4.8502         NaN         NaN         NaN       NaN"
            ]
          },
          "execution_count": 21,
          "metadata": {},
          "output_type": "execute_result"
        }
      ],
      "source": [
        "df.tail(2)"
      ]
    },
    {
      "cell_type": "markdown",
      "metadata": {
        "id": "2U_jZFFzfDDt"
      },
      "source": [
        "# Q5.\n",
        "\n",
        "Substituindo nulos. Substitua os valores nulos pelos valores do dia anterior não nulo. Qual a soma de todos os valores do dataframe alterado?"
      ]
    },
    {
      "cell_type": "markdown",
      "metadata": {
        "id": "QNV3SG2q0uZV"
      },
      "source": [
        "**Dica:** empregue `np.isnan(float('nan'))` para verificar se um valor é nulo."
      ]
    },
    {
      "cell_type": "code",
      "execution_count": 22,
      "metadata": {
        "colab": {
          "base_uri": "https://localhost:8080/"
        },
        "id": "rxJVrZF_HZVO",
        "outputId": "3217a41b-c591-4e50-e2c7-0e14d152bcdc"
      },
      "outputs": [
        {
          "data": {
            "text/plain": [
              "Date\n",
              "2023-01-02    False\n",
              "2023-01-03    False\n",
              "2023-01-04    False\n",
              "2023-01-05    False\n",
              "2023-01-06    False\n",
              "              ...  \n",
              "2023-12-25     True\n",
              "2023-12-26    False\n",
              "2023-12-27    False\n",
              "2023-12-28    False\n",
              "2023-12-29     True\n",
              "Freq: B, Name: PETR4.SA, Length: 260, dtype: bool"
            ]
          },
          "execution_count": 22,
          "metadata": {},
          "output_type": "execute_result"
        }
      ],
      "source": [
        "df['PETR4.SA'].isnull()"
      ]
    },
    {
      "cell_type": "code",
      "execution_count": 23,
      "metadata": {
        "colab": {
          "base_uri": "https://localhost:8080/",
          "height": 238
        },
        "id": "2HbKn4l7fCRv",
        "outputId": "1000eae8-81f1-4c55-de85-fee146735066"
      },
      "outputs": [
        {
          "data": {
            "text/html": [
              "<div>\n",
              "<style scoped>\n",
              "    .dataframe tbody tr th:only-of-type {\n",
              "        vertical-align: middle;\n",
              "    }\n",
              "\n",
              "    .dataframe tbody tr th {\n",
              "        vertical-align: top;\n",
              "    }\n",
              "\n",
              "    .dataframe thead th {\n",
              "        text-align: right;\n",
              "    }\n",
              "</style>\n",
              "<table border=\"1\" class=\"dataframe\">\n",
              "  <thead>\n",
              "    <tr style=\"text-align: right;\">\n",
              "      <th>Ticker</th>\n",
              "      <th>BRL=X</th>\n",
              "      <th>ITUB4.SA</th>\n",
              "      <th>PETR4.SA</th>\n",
              "      <th>VALE3.SA</th>\n",
              "      <th>^BVSP</th>\n",
              "    </tr>\n",
              "    <tr>\n",
              "      <th>Date</th>\n",
              "      <th></th>\n",
              "      <th></th>\n",
              "      <th></th>\n",
              "      <th></th>\n",
              "      <th></th>\n",
              "    </tr>\n",
              "  </thead>\n",
              "  <tbody>\n",
              "    <tr>\n",
              "      <th>2023-02-20</th>\n",
              "      <td>5.165169</td>\n",
              "      <td>NaN</td>\n",
              "      <td>NaN</td>\n",
              "      <td>NaN</td>\n",
              "      <td>NaN</td>\n",
              "    </tr>\n",
              "    <tr>\n",
              "      <th>2023-02-21</th>\n",
              "      <td>5.166700</td>\n",
              "      <td>NaN</td>\n",
              "      <td>NaN</td>\n",
              "      <td>NaN</td>\n",
              "      <td>NaN</td>\n",
              "    </tr>\n",
              "    <tr>\n",
              "      <th>2023-04-07</th>\n",
              "      <td>5.058300</td>\n",
              "      <td>NaN</td>\n",
              "      <td>NaN</td>\n",
              "      <td>NaN</td>\n",
              "      <td>NaN</td>\n",
              "    </tr>\n",
              "    <tr>\n",
              "      <th>2023-04-21</th>\n",
              "      <td>5.047700</td>\n",
              "      <td>NaN</td>\n",
              "      <td>NaN</td>\n",
              "      <td>NaN</td>\n",
              "      <td>NaN</td>\n",
              "    </tr>\n",
              "    <tr>\n",
              "      <th>2023-05-01</th>\n",
              "      <td>4.986000</td>\n",
              "      <td>NaN</td>\n",
              "      <td>NaN</td>\n",
              "      <td>NaN</td>\n",
              "      <td>NaN</td>\n",
              "    </tr>\n",
              "  </tbody>\n",
              "</table>\n",
              "</div>"
            ],
            "text/plain": [
              "Ticker         BRL=X  ITUB4.SA  PETR4.SA  VALE3.SA  ^BVSP\n",
              "Date                                                     \n",
              "2023-02-20  5.165169       NaN       NaN       NaN    NaN\n",
              "2023-02-21  5.166700       NaN       NaN       NaN    NaN\n",
              "2023-04-07  5.058300       NaN       NaN       NaN    NaN\n",
              "2023-04-21  5.047700       NaN       NaN       NaN    NaN\n",
              "2023-05-01  4.986000       NaN       NaN       NaN    NaN"
            ]
          },
          "execution_count": 23,
          "metadata": {},
          "output_type": "execute_result"
        }
      ],
      "source": [
        "df[ df['PETR4.SA'].isnull() ].head()"
      ]
    },
    {
      "cell_type": "code",
      "execution_count": 24,
      "metadata": {
        "id": "R8SrPU0JfvB9"
      },
      "outputs": [],
      "source": [
        "ix_nulos = df[ df['PETR4.SA'].isnull() ].index"
      ]
    },
    {
      "cell_type": "code",
      "execution_count": 25,
      "metadata": {},
      "outputs": [
        {
          "data": {
            "text/plain": [
              "DatetimeIndex(['2023-02-20', '2023-02-21', '2023-04-07', '2023-04-21',\n",
              "               '2023-05-01', '2023-06-08', '2023-09-07', '2023-10-12',\n",
              "               '2023-11-02', '2023-11-15', '2023-12-25', '2023-12-29'],\n",
              "              dtype='datetime64[ns]', name='Date', freq=None)"
            ]
          },
          "execution_count": 25,
          "metadata": {},
          "output_type": "execute_result"
        }
      ],
      "source": [
        "ix_nulos"
      ]
    },
    {
      "cell_type": "code",
      "execution_count": 26,
      "metadata": {
        "id": "N4KPE7xWf2NP"
      },
      "outputs": [],
      "source": [
        "for line in range(0,len(df)):\n",
        "  for column in range(0,df.shape[1]):\n",
        "    if np.isnan( df.iloc[line, column] ):\n",
        "      df.iloc[line, column] = df.iloc[line-1, column]\n"
      ]
    },
    {
      "cell_type": "code",
      "execution_count": 27,
      "metadata": {
        "colab": {
          "base_uri": "https://localhost:8080/",
          "height": 457
        },
        "id": "HIkAkJsXjxHo",
        "outputId": "2c2e1973-1624-4f2e-f972-b7d497cbf3ae"
      },
      "outputs": [
        {
          "data": {
            "text/html": [
              "<div>\n",
              "<style scoped>\n",
              "    .dataframe tbody tr th:only-of-type {\n",
              "        vertical-align: middle;\n",
              "    }\n",
              "\n",
              "    .dataframe tbody tr th {\n",
              "        vertical-align: top;\n",
              "    }\n",
              "\n",
              "    .dataframe thead th {\n",
              "        text-align: right;\n",
              "    }\n",
              "</style>\n",
              "<table border=\"1\" class=\"dataframe\">\n",
              "  <thead>\n",
              "    <tr style=\"text-align: right;\">\n",
              "      <th>Ticker</th>\n",
              "      <th>BRL=X</th>\n",
              "      <th>ITUB4.SA</th>\n",
              "      <th>PETR4.SA</th>\n",
              "      <th>VALE3.SA</th>\n",
              "      <th>^BVSP</th>\n",
              "    </tr>\n",
              "    <tr>\n",
              "      <th>Date</th>\n",
              "      <th></th>\n",
              "      <th></th>\n",
              "      <th></th>\n",
              "      <th></th>\n",
              "      <th></th>\n",
              "    </tr>\n",
              "  </thead>\n",
              "  <tbody>\n",
              "    <tr>\n",
              "      <th>2023-02-20</th>\n",
              "      <td>5.165169</td>\n",
              "      <td>128.715387</td>\n",
              "      <td>106.575359</td>\n",
              "      <td>413.425327</td>\n",
              "      <td>109303.0</td>\n",
              "    </tr>\n",
              "    <tr>\n",
              "      <th>2023-02-21</th>\n",
              "      <td>5.166700</td>\n",
              "      <td>128.715387</td>\n",
              "      <td>106.575359</td>\n",
              "      <td>413.425327</td>\n",
              "      <td>109303.0</td>\n",
              "    </tr>\n",
              "    <tr>\n",
              "      <th>2023-04-07</th>\n",
              "      <td>5.058300</td>\n",
              "      <td>114.225626</td>\n",
              "      <td>93.335439</td>\n",
              "      <td>355.401382</td>\n",
              "      <td>100822.0</td>\n",
              "    </tr>\n",
              "    <tr>\n",
              "      <th>2023-04-21</th>\n",
              "      <td>5.047700</td>\n",
              "      <td>120.772406</td>\n",
              "      <td>104.644358</td>\n",
              "      <td>348.546466</td>\n",
              "      <td>104367.0</td>\n",
              "    </tr>\n",
              "    <tr>\n",
              "      <th>2023-05-01</th>\n",
              "      <td>4.986000</td>\n",
              "      <td>119.918025</td>\n",
              "      <td>102.649029</td>\n",
              "      <td>331.461351</td>\n",
              "      <td>104432.0</td>\n",
              "    </tr>\n",
              "    <tr>\n",
              "      <th>2023-06-08</th>\n",
              "      <td>4.922400</td>\n",
              "      <td>125.390448</td>\n",
              "      <td>123.428039</td>\n",
              "      <td>310.328649</td>\n",
              "      <td>115488.0</td>\n",
              "    </tr>\n",
              "    <tr>\n",
              "      <th>2023-09-07</th>\n",
              "      <td>4.977000</td>\n",
              "      <td>124.975095</td>\n",
              "      <td>160.278294</td>\n",
              "      <td>320.049997</td>\n",
              "      <td>115985.0</td>\n",
              "    </tr>\n",
              "    <tr>\n",
              "      <th>2023-10-12</th>\n",
              "      <td>5.049600</td>\n",
              "      <td>134.442261</td>\n",
              "      <td>170.779061</td>\n",
              "      <td>322.466272</td>\n",
              "      <td>117051.0</td>\n",
              "    </tr>\n",
              "    <tr>\n",
              "      <th>2023-11-02</th>\n",
              "      <td>4.953700</td>\n",
              "      <td>130.247055</td>\n",
              "      <td>170.207654</td>\n",
              "      <td>335.510064</td>\n",
              "      <td>115053.0</td>\n",
              "    </tr>\n",
              "    <tr>\n",
              "      <th>2023-11-15</th>\n",
              "      <td>4.864500</td>\n",
              "      <td>139.314123</td>\n",
              "      <td>170.889971</td>\n",
              "      <td>342.284254</td>\n",
              "      <td>123328.0</td>\n",
              "    </tr>\n",
              "    <tr>\n",
              "      <th>2023-12-25</th>\n",
              "      <td>4.869844</td>\n",
              "      <td>156.103989</td>\n",
              "      <td>179.357347</td>\n",
              "      <td>356.953518</td>\n",
              "      <td>132753.0</td>\n",
              "    </tr>\n",
              "    <tr>\n",
              "      <th>2023-12-29</th>\n",
              "      <td>4.850200</td>\n",
              "      <td>157.380611</td>\n",
              "      <td>179.723967</td>\n",
              "      <td>356.622498</td>\n",
              "      <td>134185.0</td>\n",
              "    </tr>\n",
              "  </tbody>\n",
              "</table>\n",
              "</div>"
            ],
            "text/plain": [
              "Ticker         BRL=X    ITUB4.SA    PETR4.SA    VALE3.SA     ^BVSP\n",
              "Date                                                              \n",
              "2023-02-20  5.165169  128.715387  106.575359  413.425327  109303.0\n",
              "2023-02-21  5.166700  128.715387  106.575359  413.425327  109303.0\n",
              "2023-04-07  5.058300  114.225626   93.335439  355.401382  100822.0\n",
              "2023-04-21  5.047700  120.772406  104.644358  348.546466  104367.0\n",
              "2023-05-01  4.986000  119.918025  102.649029  331.461351  104432.0\n",
              "2023-06-08  4.922400  125.390448  123.428039  310.328649  115488.0\n",
              "2023-09-07  4.977000  124.975095  160.278294  320.049997  115985.0\n",
              "2023-10-12  5.049600  134.442261  170.779061  322.466272  117051.0\n",
              "2023-11-02  4.953700  130.247055  170.207654  335.510064  115053.0\n",
              "2023-11-15  4.864500  139.314123  170.889971  342.284254  123328.0\n",
              "2023-12-25  4.869844  156.103989  179.357347  356.953518  132753.0\n",
              "2023-12-29  4.850200  157.380611  179.723967  356.622498  134185.0"
            ]
          },
          "execution_count": 27,
          "metadata": {},
          "output_type": "execute_result"
        }
      ],
      "source": [
        "df.loc[ ix_nulos ]"
      ]
    },
    {
      "cell_type": "code",
      "execution_count": 28,
      "metadata": {
        "colab": {
          "base_uri": "https://localhost:8080/"
        },
        "id": "3KxvKG1p2oVS",
        "outputId": "c7a222ed-916a-4908-854f-880d13331ae4"
      },
      "outputs": [
        {
          "data": {
            "text/plain": [
              "29860560.73985267"
            ]
          },
          "execution_count": 28,
          "metadata": {},
          "output_type": "execute_result"
        }
      ],
      "source": [
        "df.sum().sum()"
      ]
    },
    {
      "cell_type": "markdown",
      "metadata": {
        "id": "Rh1ozhN_enB1"
      },
      "source": [
        "# Q6.\n",
        "\n",
        "Um bom indicador empregado no  mercado é a quantidade de subidas e descidas que um ativo apresenta de um dia para outro (up & down) ao longo  de um período. Quais ativos tiveram mais dias de *up*?"
      ]
    },
    {
      "cell_type": "markdown",
      "metadata": {
        "id": "TTg906KHVNmX"
      },
      "source": [
        "## Aqui uma solução usando o `.loc`, uma vez que na anterior empregamos o `.iloc`"
      ]
    },
    {
      "cell_type": "code",
      "execution_count": 29,
      "metadata": {
        "colab": {
          "base_uri": "https://localhost:8080/",
          "height": 206
        },
        "id": "F2aOTqRvU1vO",
        "outputId": "da141d9d-5fc9-4589-d1a8-e4c8a4d376ce"
      },
      "outputs": [
        {
          "data": {
            "text/html": [
              "<div>\n",
              "<style scoped>\n",
              "    .dataframe tbody tr th:only-of-type {\n",
              "        vertical-align: middle;\n",
              "    }\n",
              "\n",
              "    .dataframe tbody tr th {\n",
              "        vertical-align: top;\n",
              "    }\n",
              "\n",
              "    .dataframe thead th {\n",
              "        text-align: right;\n",
              "    }\n",
              "</style>\n",
              "<table border=\"1\" class=\"dataframe\">\n",
              "  <thead>\n",
              "    <tr style=\"text-align: right;\">\n",
              "      <th>Ticker</th>\n",
              "      <th>BRL=X</th>\n",
              "      <th>ITUB4.SA</th>\n",
              "      <th>PETR4.SA</th>\n",
              "      <th>VALE3.SA</th>\n",
              "      <th>^BVSP</th>\n",
              "    </tr>\n",
              "  </thead>\n",
              "  <tbody>\n",
              "    <tr>\n",
              "      <th>0</th>\n",
              "      <td>5.285500</td>\n",
              "      <td>118.732388</td>\n",
              "      <td>93.603449</td>\n",
              "      <td>425.388554</td>\n",
              "      <td>106376.0</td>\n",
              "    </tr>\n",
              "    <tr>\n",
              "      <th>1</th>\n",
              "      <td>5.360131</td>\n",
              "      <td>117.901377</td>\n",
              "      <td>92.522995</td>\n",
              "      <td>430.622910</td>\n",
              "      <td>104166.0</td>\n",
              "    </tr>\n",
              "    <tr>\n",
              "      <th>2</th>\n",
              "      <td>5.478500</td>\n",
              "      <td>120.856781</td>\n",
              "      <td>97.571662</td>\n",
              "      <td>440.921602</td>\n",
              "      <td>105334.0</td>\n",
              "    </tr>\n",
              "    <tr>\n",
              "      <th>3</th>\n",
              "      <td>5.430100</td>\n",
              "      <td>123.524697</td>\n",
              "      <td>100.192050</td>\n",
              "      <td>444.358927</td>\n",
              "      <td>107518.0</td>\n",
              "    </tr>\n",
              "    <tr>\n",
              "      <th>4</th>\n",
              "      <td>5.349800</td>\n",
              "      <td>123.808116</td>\n",
              "      <td>98.131722</td>\n",
              "      <td>444.723032</td>\n",
              "      <td>108836.0</td>\n",
              "    </tr>\n",
              "  </tbody>\n",
              "</table>\n",
              "</div>"
            ],
            "text/plain": [
              "Ticker     BRL=X    ITUB4.SA    PETR4.SA    VALE3.SA     ^BVSP\n",
              "0       5.285500  118.732388   93.603449  425.388554  106376.0\n",
              "1       5.360131  117.901377   92.522995  430.622910  104166.0\n",
              "2       5.478500  120.856781   97.571662  440.921602  105334.0\n",
              "3       5.430100  123.524697  100.192050  444.358927  107518.0\n",
              "4       5.349800  123.808116   98.131722  444.723032  108836.0"
            ]
          },
          "execution_count": 29,
          "metadata": {},
          "output_type": "execute_result"
        }
      ],
      "source": [
        "df = df.reset_index(drop=True)\n",
        "df.head()"
      ]
    },
    {
      "cell_type": "code",
      "execution_count": 30,
      "metadata": {
        "colab": {
          "base_uri": "https://localhost:8080/"
        },
        "id": "asGfVH5YkTPq",
        "outputId": "b46fce84-2931-4c8f-d80f-7619f986f455"
      },
      "outputs": [
        {
          "data": {
            "text/plain": [
              "Index(['BRL=X', 'ITUB4.SA', 'PETR4.SA', 'VALE3.SA', '^BVSP'], dtype='object', name='Ticker')"
            ]
          },
          "execution_count": 30,
          "metadata": {},
          "output_type": "execute_result"
        }
      ],
      "source": [
        "df.columns"
      ]
    },
    {
      "cell_type": "code",
      "execution_count": 31,
      "metadata": {
        "colab": {
          "base_uri": "https://localhost:8080/",
          "height": 226
        },
        "id": "5f8fDBVpekOl",
        "outputId": "cf7a4858-bb72-4a40-ee71-53996a6a3cd2"
      },
      "outputs": [
        {
          "data": {
            "text/html": [
              "<div>\n",
              "<style scoped>\n",
              "    .dataframe tbody tr th:only-of-type {\n",
              "        vertical-align: middle;\n",
              "    }\n",
              "\n",
              "    .dataframe tbody tr th {\n",
              "        vertical-align: top;\n",
              "    }\n",
              "\n",
              "    .dataframe thead th {\n",
              "        text-align: right;\n",
              "    }\n",
              "</style>\n",
              "<table border=\"1\" class=\"dataframe\">\n",
              "  <thead>\n",
              "    <tr style=\"text-align: right;\">\n",
              "      <th>Ticker</th>\n",
              "      <th>BRL=X</th>\n",
              "      <th>ITUB4.SA</th>\n",
              "      <th>PETR4.SA</th>\n",
              "      <th>VALE3.SA</th>\n",
              "      <th>^BVSP</th>\n",
              "      <th>BRL=X_up</th>\n",
              "      <th>ITUB4.SA_up</th>\n",
              "      <th>PETR4.SA_up</th>\n",
              "      <th>VALE3.SA_up</th>\n",
              "      <th>^BVSP_up</th>\n",
              "    </tr>\n",
              "  </thead>\n",
              "  <tbody>\n",
              "    <tr>\n",
              "      <th>0</th>\n",
              "      <td>5.285500</td>\n",
              "      <td>118.732388</td>\n",
              "      <td>93.603449</td>\n",
              "      <td>425.388554</td>\n",
              "      <td>106376.0</td>\n",
              "      <td>False</td>\n",
              "      <td>False</td>\n",
              "      <td>False</td>\n",
              "      <td>False</td>\n",
              "      <td>False</td>\n",
              "    </tr>\n",
              "    <tr>\n",
              "      <th>1</th>\n",
              "      <td>5.360131</td>\n",
              "      <td>117.901377</td>\n",
              "      <td>92.522995</td>\n",
              "      <td>430.622910</td>\n",
              "      <td>104166.0</td>\n",
              "      <td>True</td>\n",
              "      <td>False</td>\n",
              "      <td>False</td>\n",
              "      <td>True</td>\n",
              "      <td>False</td>\n",
              "    </tr>\n",
              "    <tr>\n",
              "      <th>2</th>\n",
              "      <td>5.478500</td>\n",
              "      <td>120.856781</td>\n",
              "      <td>97.571662</td>\n",
              "      <td>440.921602</td>\n",
              "      <td>105334.0</td>\n",
              "      <td>True</td>\n",
              "      <td>True</td>\n",
              "      <td>True</td>\n",
              "      <td>True</td>\n",
              "      <td>True</td>\n",
              "    </tr>\n",
              "    <tr>\n",
              "      <th>3</th>\n",
              "      <td>5.430100</td>\n",
              "      <td>123.524697</td>\n",
              "      <td>100.192050</td>\n",
              "      <td>444.358927</td>\n",
              "      <td>107518.0</td>\n",
              "      <td>False</td>\n",
              "      <td>True</td>\n",
              "      <td>True</td>\n",
              "      <td>True</td>\n",
              "      <td>True</td>\n",
              "    </tr>\n",
              "    <tr>\n",
              "      <th>4</th>\n",
              "      <td>5.349800</td>\n",
              "      <td>123.808116</td>\n",
              "      <td>98.131722</td>\n",
              "      <td>444.723032</td>\n",
              "      <td>108836.0</td>\n",
              "      <td>False</td>\n",
              "      <td>True</td>\n",
              "      <td>False</td>\n",
              "      <td>True</td>\n",
              "      <td>True</td>\n",
              "    </tr>\n",
              "  </tbody>\n",
              "</table>\n",
              "</div>"
            ],
            "text/plain": [
              "Ticker     BRL=X    ITUB4.SA    PETR4.SA    VALE3.SA     ^BVSP  BRL=X_up  \\\n",
              "0       5.285500  118.732388   93.603449  425.388554  106376.0     False   \n",
              "1       5.360131  117.901377   92.522995  430.622910  104166.0      True   \n",
              "2       5.478500  120.856781   97.571662  440.921602  105334.0      True   \n",
              "3       5.430100  123.524697  100.192050  444.358927  107518.0     False   \n",
              "4       5.349800  123.808116   98.131722  444.723032  108836.0     False   \n",
              "\n",
              "Ticker  ITUB4.SA_up  PETR4.SA_up  VALE3.SA_up  ^BVSP_up  \n",
              "0             False        False        False     False  \n",
              "1             False        False         True     False  \n",
              "2              True         True         True      True  \n",
              "3              True         True         True      True  \n",
              "4              True        False         True      True  "
            ]
          },
          "execution_count": 31,
          "metadata": {},
          "output_type": "execute_result"
        }
      ],
      "source": [
        "for column in ['BRL=X', 'ITUB4.SA', 'PETR4.SA', 'VALE3.SA', '^BVSP']:\n",
        "  df[column + '_up'] = False\n",
        "\n",
        "for line in df.index[1::]: # salta o primeiro\n",
        "  for column in ['BRL=X', 'ITUB4.SA', 'PETR4.SA', 'VALE3.SA', '^BVSP']: # salta up\n",
        "    if df.loc[line,column] > df.loc[line-1,column]:\n",
        "      df.loc[line,column + '_up'] = True\n",
        "\n",
        "df.head()"
      ]
    },
    {
      "cell_type": "code",
      "execution_count": 32,
      "metadata": {
        "colab": {
          "base_uri": "https://localhost:8080/"
        },
        "id": "T-ESzMpKJMdO",
        "outputId": "80085d5b-5b2f-471c-fe7b-241bc6b73f9f"
      },
      "outputs": [
        {
          "data": {
            "text/plain": [
              "['BRL=X_up', 'ITUB4.SA_up', 'PETR4.SA_up', 'VALE3.SA_up', '^BVSP_up']"
            ]
          },
          "execution_count": 32,
          "metadata": {},
          "output_type": "execute_result"
        }
      ],
      "source": [
        "[x for x in df.columns if '_up' in x]"
      ]
    },
    {
      "cell_type": "code",
      "execution_count": 33,
      "metadata": {
        "colab": {
          "base_uri": "https://localhost:8080/"
        },
        "id": "aUGrQFSwm7EW",
        "outputId": "cd10b121-355d-41e4-dc3d-955a88cf9251"
      },
      "outputs": [
        {
          "data": {
            "text/plain": [
              "Ticker\n",
              "BRL=X_up       0.453846\n",
              "ITUB4.SA_up    0.496154\n",
              "PETR4.SA_up    0.519231\n",
              "VALE3.SA_up    0.430769\n",
              "^BVSP_up       0.480769\n",
              "dtype: float64"
            ]
          },
          "execution_count": 33,
          "metadata": {},
          "output_type": "execute_result"
        }
      ],
      "source": [
        "df[[x for x in df.columns if '_up' in x]].mean()"
      ]
    },
    {
      "cell_type": "markdown",
      "metadata": {
        "id": "OMmngNA33Rbw"
      },
      "source": [
        "## Solução alternativa"
      ]
    },
    {
      "cell_type": "code",
      "execution_count": 34,
      "metadata": {
        "colab": {
          "base_uri": "https://localhost:8080/"
        },
        "id": "zUdvIwKokYOZ",
        "outputId": "64798ed0-4153-408d-8171-bab66f6a0cb6"
      },
      "outputs": [
        {
          "data": {
            "text/plain": [
              "Ticker\n",
              "BRL=X       0.453846\n",
              "ITUB4.SA    0.496154\n",
              "PETR4.SA    0.519231\n",
              "VALE3.SA    0.430769\n",
              "^BVSP       0.480769\n",
              "dtype: float64"
            ]
          },
          "execution_count": 34,
          "metadata": {},
          "output_type": "execute_result"
        }
      ],
      "source": [
        "df_selected = df[['BRL=X', 'ITUB4.SA', 'PETR4.SA', 'VALE3.SA', '^BVSP']]\n",
        "df_selected_shift = df_selected.shift() # df[i] = df[i-1], avança\n",
        "( df_selected - df_selected_shift > 0 ).mean()"
      ]
    },
    {
      "cell_type": "code",
      "execution_count": 35,
      "metadata": {
        "colab": {
          "base_uri": "https://localhost:8080/",
          "height": 395
        },
        "id": "OzsOfm4KphjW",
        "outputId": "836f3a0b-0cab-444b-c49c-1d67e8bdf3af"
      },
      "outputs": [
        {
          "data": {
            "text/html": [
              "<div>\n",
              "<style scoped>\n",
              "    .dataframe tbody tr th:only-of-type {\n",
              "        vertical-align: middle;\n",
              "    }\n",
              "\n",
              "    .dataframe tbody tr th {\n",
              "        vertical-align: top;\n",
              "    }\n",
              "\n",
              "    .dataframe thead th {\n",
              "        text-align: right;\n",
              "    }\n",
              "</style>\n",
              "<table border=\"1\" class=\"dataframe\">\n",
              "  <thead>\n",
              "    <tr style=\"text-align: right;\">\n",
              "      <th>Ticker</th>\n",
              "      <th>BRL=X</th>\n",
              "      <th>ITUB4.SA</th>\n",
              "      <th>PETR4.SA</th>\n",
              "      <th>VALE3.SA</th>\n",
              "      <th>^BVSP</th>\n",
              "    </tr>\n",
              "  </thead>\n",
              "  <tbody>\n",
              "    <tr>\n",
              "      <th>0</th>\n",
              "      <td>5.285500</td>\n",
              "      <td>118.732388</td>\n",
              "      <td>93.603449</td>\n",
              "      <td>425.388554</td>\n",
              "      <td>106376.0</td>\n",
              "    </tr>\n",
              "    <tr>\n",
              "      <th>1</th>\n",
              "      <td>5.360131</td>\n",
              "      <td>117.901377</td>\n",
              "      <td>92.522995</td>\n",
              "      <td>430.622910</td>\n",
              "      <td>104166.0</td>\n",
              "    </tr>\n",
              "    <tr>\n",
              "      <th>2</th>\n",
              "      <td>5.478500</td>\n",
              "      <td>120.856781</td>\n",
              "      <td>97.571662</td>\n",
              "      <td>440.921602</td>\n",
              "      <td>105334.0</td>\n",
              "    </tr>\n",
              "    <tr>\n",
              "      <th>3</th>\n",
              "      <td>5.430100</td>\n",
              "      <td>123.524697</td>\n",
              "      <td>100.192050</td>\n",
              "      <td>444.358927</td>\n",
              "      <td>107518.0</td>\n",
              "    </tr>\n",
              "    <tr>\n",
              "      <th>4</th>\n",
              "      <td>5.349800</td>\n",
              "      <td>123.808116</td>\n",
              "      <td>98.131722</td>\n",
              "      <td>444.723032</td>\n",
              "      <td>108836.0</td>\n",
              "    </tr>\n",
              "  </tbody>\n",
              "</table>\n",
              "</div>"
            ],
            "text/plain": [
              "Ticker     BRL=X    ITUB4.SA    PETR4.SA    VALE3.SA     ^BVSP\n",
              "0       5.285500  118.732388   93.603449  425.388554  106376.0\n",
              "1       5.360131  117.901377   92.522995  430.622910  104166.0\n",
              "2       5.478500  120.856781   97.571662  440.921602  105334.0\n",
              "3       5.430100  123.524697  100.192050  444.358927  107518.0\n",
              "4       5.349800  123.808116   98.131722  444.723032  108836.0"
            ]
          },
          "metadata": {},
          "output_type": "display_data"
        },
        {
          "data": {
            "text/html": [
              "<div>\n",
              "<style scoped>\n",
              "    .dataframe tbody tr th:only-of-type {\n",
              "        vertical-align: middle;\n",
              "    }\n",
              "\n",
              "    .dataframe tbody tr th {\n",
              "        vertical-align: top;\n",
              "    }\n",
              "\n",
              "    .dataframe thead th {\n",
              "        text-align: right;\n",
              "    }\n",
              "</style>\n",
              "<table border=\"1\" class=\"dataframe\">\n",
              "  <thead>\n",
              "    <tr style=\"text-align: right;\">\n",
              "      <th>Ticker</th>\n",
              "      <th>BRL=X</th>\n",
              "      <th>ITUB4.SA</th>\n",
              "      <th>PETR4.SA</th>\n",
              "      <th>VALE3.SA</th>\n",
              "      <th>^BVSP</th>\n",
              "    </tr>\n",
              "  </thead>\n",
              "  <tbody>\n",
              "    <tr>\n",
              "      <th>0</th>\n",
              "      <td>NaN</td>\n",
              "      <td>NaN</td>\n",
              "      <td>NaN</td>\n",
              "      <td>NaN</td>\n",
              "      <td>NaN</td>\n",
              "    </tr>\n",
              "    <tr>\n",
              "      <th>1</th>\n",
              "      <td>5.285500</td>\n",
              "      <td>118.732388</td>\n",
              "      <td>93.603449</td>\n",
              "      <td>425.388554</td>\n",
              "      <td>106376.0</td>\n",
              "    </tr>\n",
              "    <tr>\n",
              "      <th>2</th>\n",
              "      <td>5.360131</td>\n",
              "      <td>117.901377</td>\n",
              "      <td>92.522995</td>\n",
              "      <td>430.622910</td>\n",
              "      <td>104166.0</td>\n",
              "    </tr>\n",
              "    <tr>\n",
              "      <th>3</th>\n",
              "      <td>5.478500</td>\n",
              "      <td>120.856781</td>\n",
              "      <td>97.571662</td>\n",
              "      <td>440.921602</td>\n",
              "      <td>105334.0</td>\n",
              "    </tr>\n",
              "    <tr>\n",
              "      <th>4</th>\n",
              "      <td>5.430100</td>\n",
              "      <td>123.524697</td>\n",
              "      <td>100.192050</td>\n",
              "      <td>444.358927</td>\n",
              "      <td>107518.0</td>\n",
              "    </tr>\n",
              "  </tbody>\n",
              "</table>\n",
              "</div>"
            ],
            "text/plain": [
              "Ticker     BRL=X    ITUB4.SA    PETR4.SA    VALE3.SA     ^BVSP\n",
              "0            NaN         NaN         NaN         NaN       NaN\n",
              "1       5.285500  118.732388   93.603449  425.388554  106376.0\n",
              "2       5.360131  117.901377   92.522995  430.622910  104166.0\n",
              "3       5.478500  120.856781   97.571662  440.921602  105334.0\n",
              "4       5.430100  123.524697  100.192050  444.358927  107518.0"
            ]
          },
          "metadata": {},
          "output_type": "display_data"
        }
      ],
      "source": [
        "display(df_selected.head())\n",
        "display(df_selected_shift.head())"
      ]
    },
    {
      "cell_type": "markdown",
      "metadata": {
        "id": "E3IkLEbnBsHA"
      },
      "source": [
        "# Q7. Extra (Resolvido)\n",
        "\n",
        "Crie uma coluna chamada `carteira` que é composta pelos valores das ações 'ITUB4.SA' e 'PETR4.SA', sendo 0.7 da ação de maior valor e 0.3 da ação de menor ou igual valor."
      ]
    },
    {
      "cell_type": "code",
      "execution_count": 36,
      "metadata": {
        "colab": {
          "base_uri": "https://localhost:8080/",
          "height": 430
        },
        "id": "__SjBWe3CUaP",
        "outputId": "9960f3c5-6817-41cb-dd01-b0c5be8ee1c8"
      },
      "outputs": [
        {
          "data": {
            "image/png": "[encoded data removed]",
            "text/plain": [
              "<Figure size 640x480 with 1 Axes>"
            ]
          },
          "metadata": {},
          "output_type": "display_data"
        }
      ],
      "source": [
        "import matplotlib.pyplot as plt\n",
        "%matplotlib inline\n",
        "\n",
        "plt.plot(df[['ITUB4.SA', 'PETR4.SA']],label=['ITUB4.SA', 'PETR4.SA'])\n",
        "plt.legend()\n",
        "plt.show()"
      ]
    },
    {
      "cell_type": "markdown",
      "metadata": {
        "id": "aIgCviTXjHTb"
      },
      "source": [
        "O código abaixo exibe a \"ideia\" da atribuição dos valores. Mas o *slicing* dos dados não efetiva a transformação."
      ]
    },
    {
      "cell_type": "code",
      "execution_count": 37,
      "metadata": {
        "colab": {
          "base_uri": "https://localhost:8080/"
        },
        "id": "cpL08pE5DURC",
        "outputId": "98848cb8-c666-40af-f1f0-00f7ea9ad875"
      },
      "outputs": [
        {
          "name": "stdout",
          "output_type": "stream",
          "text": [
            "skipping error\n"
          ]
        }
      ],
      "source": [
        "%%script echo 'skipping error'\n",
        "df['carteira'] = 0\n",
        "\n",
        "df[ df['ITUB4.SA'] > df['PETR4.SA'] ]['carteira'] = 0.7 * df[ df['ITUB4.SA'] > df['PETR4.SA'] ]['ITUB4.SA'] + 0.3 * df[ df['ITUB4.SA'] > df['PETR4.SA'] ]['PETR4.SA']\n",
        "df[ df['ITUB4.SA'] <= df['PETR4.SA'] ]['carteira'] = 0.3 * df[ df['ITUB4.SA'] <= df['PETR4.SA'] ]['ITUB4.SA'] + 0.7 * df[ df['ITUB4.SA'] <= df['PETR4.SA'] ]['PETR4.SA']\n",
        "\n",
        "print('After ', df['carteira'].sum() )"
      ]
    },
    {
      "cell_type": "code",
      "execution_count": 38,
      "metadata": {
        "colab": {
          "base_uri": "https://localhost:8080/"
        },
        "id": "WZj7GffkZ8nd",
        "outputId": "470d8563-a46e-4c7b-bd40-17e38513b789"
      },
      "outputs": [
        {
          "name": "stdout",
          "output_type": "stream",
          "text": [
            "skipping error\n"
          ]
        }
      ],
      "source": [
        "%%script echo 'skipping error'\n",
        "df['carteira'] = 0\n",
        "\n",
        "df[ df['ITUB4.SA'] > df['PETR4.SA'] ][['carteira']] = 1\n",
        "\n",
        "print('After ', df['carteira'].sum() )"
      ]
    },
    {
      "cell_type": "markdown",
      "metadata": {
        "id": "SUvIKxQKjrKZ"
      },
      "source": [
        "## Usando o `.loc` (ou `.iloc`)"
      ]
    },
    {
      "cell_type": "code",
      "execution_count": 39,
      "metadata": {
        "colab": {
          "base_uri": "https://localhost:8080/"
        },
        "id": "awpjf-oSanru",
        "outputId": "01f2de50-5729-4d42-80d3-38232ba7b2d8"
      },
      "outputs": [
        {
          "name": "stdout",
          "output_type": "stream",
          "text": [
            "After  116\n"
          ]
        }
      ],
      "source": [
        "df['carteira'] = 0\n",
        "\n",
        "df.loc[ df['ITUB4.SA'] > df['PETR4.SA'],'carteira'] = 1\n",
        "\n",
        "print('After ', df['carteira'].sum() )"
      ]
    },
    {
      "cell_type": "markdown",
      "metadata": {
        "id": "ndFulTnhj5wO"
      },
      "source": [
        "## Cuidado o `.loc` (ou `.iloc`)\n",
        "\n",
        "Acima é a forma correta!"
      ]
    },
    {
      "cell_type": "code",
      "execution_count": 40,
      "metadata": {
        "colab": {
          "base_uri": "https://localhost:8080/"
        },
        "id": "iE3UsslHj5wj",
        "outputId": "e03ba126-25d4-4aac-b520-f62df0b698a3"
      },
      "outputs": [
        {
          "name": "stdout",
          "output_type": "stream",
          "text": [
            "skipping error\n"
          ]
        }
      ],
      "source": [
        "%%script echo 'skipping error'\n",
        "df['carteira'] = 0\n",
        "\n",
        "df.loc[ df['ITUB4.SA'] > df['PETR4.SA']][['carteira']] = 1\n",
        "\n",
        "print('After ', df['carteira'].sum() )"
      ]
    },
    {
      "cell_type": "markdown",
      "metadata": {
        "id": "0zmA3H7qmK5p"
      },
      "source": [
        "Podemos agora efetivar a atribuição correta,\n",
        "\n"
      ]
    },
    {
      "cell_type": "code",
      "execution_count": 41,
      "metadata": {
        "colab": {
          "base_uri": "https://localhost:8080/"
        },
        "id": "1qiUeabXbLL-",
        "outputId": "60fd3c9b-47de-400f-cc6e-cb3d84d75861"
      },
      "outputs": [
        {
          "data": {
            "text/plain": [
              "10"
            ]
          },
          "execution_count": 41,
          "metadata": {},
          "output_type": "execute_result"
        }
      ],
      "source": [
        "df.columns.to_list().index('carteira')"
      ]
    },
    {
      "cell_type": "code",
      "execution_count": 42,
      "metadata": {
        "colab": {
          "base_uri": "https://localhost:8080/"
        },
        "id": "Ml31ud99ZS5i",
        "outputId": "fb8677e7-db2a-41ca-9c20-d9fcf7c64a72"
      },
      "outputs": [
        {
          "name": "stdout",
          "output_type": "stream",
          "text": [
            "After  34957.90046078089\n"
          ]
        }
      ],
      "source": [
        "df['carteira'] = 0\n",
        "\n",
        "df.iloc[ df['ITUB4.SA'] > df['PETR4.SA'], 10] = 0.7 * df[ df['ITUB4.SA'] > df['PETR4.SA'] ]['ITUB4.SA'] + 0.3 * df[ df['ITUB4.SA'] > df['PETR4.SA'] ]['PETR4.SA']\n",
        "df.loc[ df['ITUB4.SA'] <= df['PETR4.SA'], 'carteira'] = 0.3 * df[ df['ITUB4.SA'] <= df['PETR4.SA'] ]['ITUB4.SA'] + 0.7 * df[ df['ITUB4.SA'] <= df['PETR4.SA'] ]['PETR4.SA']\n",
        "\n",
        "print('After ', df['carteira'].sum() )\n"
      ]
    },
    {
      "cell_type": "markdown",
      "metadata": {
        "id": "SnmiTN1TmVtK"
      },
      "source": [
        "E um modo talvez mais elegante seja empregar um vetor de *seleção*,"
      ]
    },
    {
      "cell_type": "code",
      "execution_count": 43,
      "metadata": {
        "colab": {
          "base_uri": "https://localhost:8080/"
        },
        "id": "2lcL4E83gz9j",
        "outputId": "f2ecc299-9da0-4906-c893-78635a3ac504"
      },
      "outputs": [
        {
          "name": "stdout",
          "output_type": "stream",
          "text": [
            "After  34957.90046078089\n"
          ]
        }
      ],
      "source": [
        "df['carteira'] = 0\n",
        "selection = df['ITUB4.SA'] > df['PETR4.SA']\n",
        "\n",
        "df.iloc[ selection, 10] = 0.7 * df[ selection ]['ITUB4.SA'] + 0.3 * df[ selection ]['PETR4.SA']\n",
        "df.loc[ ~selection, 'carteira'] = 0.3 * df[ ~selection ]['ITUB4.SA'] + 0.7 * df[ ~selection ]['PETR4.SA']\n",
        "\n",
        "print('After ', df['carteira'].sum() )"
      ]
    },
    {
      "cell_type": "code",
      "execution_count": 44,
      "metadata": {
        "colab": {
          "base_uri": "https://localhost:8080/",
          "height": 226
        },
        "id": "vvozvIEOmo45",
        "outputId": "116ac3da-e515-46a0-f5ff-a5ae901144f5"
      },
      "outputs": [
        {
          "data": {
            "text/html": [
              "<div>\n",
              "<style scoped>\n",
              "    .dataframe tbody tr th:only-of-type {\n",
              "        vertical-align: middle;\n",
              "    }\n",
              "\n",
              "    .dataframe tbody tr th {\n",
              "        vertical-align: top;\n",
              "    }\n",
              "\n",
              "    .dataframe thead th {\n",
              "        text-align: right;\n",
              "    }\n",
              "</style>\n",
              "<table border=\"1\" class=\"dataframe\">\n",
              "  <thead>\n",
              "    <tr style=\"text-align: right;\">\n",
              "      <th>Ticker</th>\n",
              "      <th>BRL=X</th>\n",
              "      <th>ITUB4.SA</th>\n",
              "      <th>PETR4.SA</th>\n",
              "      <th>VALE3.SA</th>\n",
              "      <th>^BVSP</th>\n",
              "      <th>BRL=X_up</th>\n",
              "      <th>ITUB4.SA_up</th>\n",
              "      <th>PETR4.SA_up</th>\n",
              "      <th>VALE3.SA_up</th>\n",
              "      <th>^BVSP_up</th>\n",
              "      <th>carteira</th>\n",
              "    </tr>\n",
              "  </thead>\n",
              "  <tbody>\n",
              "    <tr>\n",
              "      <th>0</th>\n",
              "      <td>5.285500</td>\n",
              "      <td>118.732388</td>\n",
              "      <td>93.603449</td>\n",
              "      <td>425.388554</td>\n",
              "      <td>106376.0</td>\n",
              "      <td>False</td>\n",
              "      <td>False</td>\n",
              "      <td>False</td>\n",
              "      <td>False</td>\n",
              "      <td>False</td>\n",
              "      <td>111.193706</td>\n",
              "    </tr>\n",
              "    <tr>\n",
              "      <th>1</th>\n",
              "      <td>5.360131</td>\n",
              "      <td>117.901377</td>\n",
              "      <td>92.522995</td>\n",
              "      <td>430.622910</td>\n",
              "      <td>104166.0</td>\n",
              "      <td>True</td>\n",
              "      <td>False</td>\n",
              "      <td>False</td>\n",
              "      <td>True</td>\n",
              "      <td>False</td>\n",
              "      <td>110.287862</td>\n",
              "    </tr>\n",
              "    <tr>\n",
              "      <th>2</th>\n",
              "      <td>5.478500</td>\n",
              "      <td>120.856781</td>\n",
              "      <td>97.571662</td>\n",
              "      <td>440.921602</td>\n",
              "      <td>105334.0</td>\n",
              "      <td>True</td>\n",
              "      <td>True</td>\n",
              "      <td>True</td>\n",
              "      <td>True</td>\n",
              "      <td>True</td>\n",
              "      <td>113.871245</td>\n",
              "    </tr>\n",
              "    <tr>\n",
              "      <th>3</th>\n",
              "      <td>5.430100</td>\n",
              "      <td>123.524697</td>\n",
              "      <td>100.192050</td>\n",
              "      <td>444.358927</td>\n",
              "      <td>107518.0</td>\n",
              "      <td>False</td>\n",
              "      <td>True</td>\n",
              "      <td>True</td>\n",
              "      <td>True</td>\n",
              "      <td>True</td>\n",
              "      <td>116.524903</td>\n",
              "    </tr>\n",
              "    <tr>\n",
              "      <th>4</th>\n",
              "      <td>5.349800</td>\n",
              "      <td>123.808116</td>\n",
              "      <td>98.131722</td>\n",
              "      <td>444.723032</td>\n",
              "      <td>108836.0</td>\n",
              "      <td>False</td>\n",
              "      <td>True</td>\n",
              "      <td>False</td>\n",
              "      <td>True</td>\n",
              "      <td>True</td>\n",
              "      <td>116.105198</td>\n",
              "    </tr>\n",
              "  </tbody>\n",
              "</table>\n",
              "</div>"
            ],
            "text/plain": [
              "Ticker     BRL=X    ITUB4.SA    PETR4.SA    VALE3.SA     ^BVSP  BRL=X_up  \\\n",
              "0       5.285500  118.732388   93.603449  425.388554  106376.0     False   \n",
              "1       5.360131  117.901377   92.522995  430.622910  104166.0      True   \n",
              "2       5.478500  120.856781   97.571662  440.921602  105334.0      True   \n",
              "3       5.430100  123.524697  100.192050  444.358927  107518.0     False   \n",
              "4       5.349800  123.808116   98.131722  444.723032  108836.0     False   \n",
              "\n",
              "Ticker  ITUB4.SA_up  PETR4.SA_up  VALE3.SA_up  ^BVSP_up    carteira  \n",
              "0             False        False        False     False  111.193706  \n",
              "1             False        False         True     False  110.287862  \n",
              "2              True         True         True      True  113.871245  \n",
              "3              True         True         True      True  116.524903  \n",
              "4              True        False         True      True  116.105198  "
            ]
          },
          "execution_count": 44,
          "metadata": {},
          "output_type": "execute_result"
        }
      ],
      "source": [
        "df.iloc[ selection.index ].head()\n",
        "# df.iloc[ selection ].head() # prefira a sintaxe acima"
      ]
    },
    {
      "cell_type": "code",
      "execution_count": 45,
      "metadata": {
        "colab": {
          "base_uri": "https://localhost:8080/",
          "height": 226
        },
        "id": "TX1qXl9MnZvX",
        "outputId": "776b3dce-25c9-489d-9f3f-c7ea53ac8397"
      },
      "outputs": [
        {
          "data": {
            "text/html": [
              "<div>\n",
              "<style scoped>\n",
              "    .dataframe tbody tr th:only-of-type {\n",
              "        vertical-align: middle;\n",
              "    }\n",
              "\n",
              "    .dataframe tbody tr th {\n",
              "        vertical-align: top;\n",
              "    }\n",
              "\n",
              "    .dataframe thead th {\n",
              "        text-align: right;\n",
              "    }\n",
              "</style>\n",
              "<table border=\"1\" class=\"dataframe\">\n",
              "  <thead>\n",
              "    <tr style=\"text-align: right;\">\n",
              "      <th>Ticker</th>\n",
              "      <th>BRL=X</th>\n",
              "      <th>ITUB4.SA</th>\n",
              "      <th>PETR4.SA</th>\n",
              "      <th>VALE3.SA</th>\n",
              "      <th>^BVSP</th>\n",
              "      <th>BRL=X_up</th>\n",
              "      <th>ITUB4.SA_up</th>\n",
              "      <th>PETR4.SA_up</th>\n",
              "      <th>VALE3.SA_up</th>\n",
              "      <th>^BVSP_up</th>\n",
              "      <th>carteira</th>\n",
              "    </tr>\n",
              "  </thead>\n",
              "  <tbody>\n",
              "    <tr>\n",
              "      <th>0</th>\n",
              "      <td>5.285500</td>\n",
              "      <td>118.732388</td>\n",
              "      <td>93.603449</td>\n",
              "      <td>425.388554</td>\n",
              "      <td>106376.0</td>\n",
              "      <td>False</td>\n",
              "      <td>False</td>\n",
              "      <td>False</td>\n",
              "      <td>False</td>\n",
              "      <td>False</td>\n",
              "      <td>111.193706</td>\n",
              "    </tr>\n",
              "    <tr>\n",
              "      <th>1</th>\n",
              "      <td>5.360131</td>\n",
              "      <td>117.901377</td>\n",
              "      <td>92.522995</td>\n",
              "      <td>430.622910</td>\n",
              "      <td>104166.0</td>\n",
              "      <td>True</td>\n",
              "      <td>False</td>\n",
              "      <td>False</td>\n",
              "      <td>True</td>\n",
              "      <td>False</td>\n",
              "      <td>110.287862</td>\n",
              "    </tr>\n",
              "    <tr>\n",
              "      <th>2</th>\n",
              "      <td>5.478500</td>\n",
              "      <td>120.856781</td>\n",
              "      <td>97.571662</td>\n",
              "      <td>440.921602</td>\n",
              "      <td>105334.0</td>\n",
              "      <td>True</td>\n",
              "      <td>True</td>\n",
              "      <td>True</td>\n",
              "      <td>True</td>\n",
              "      <td>True</td>\n",
              "      <td>113.871245</td>\n",
              "    </tr>\n",
              "    <tr>\n",
              "      <th>3</th>\n",
              "      <td>5.430100</td>\n",
              "      <td>123.524697</td>\n",
              "      <td>100.192050</td>\n",
              "      <td>444.358927</td>\n",
              "      <td>107518.0</td>\n",
              "      <td>False</td>\n",
              "      <td>True</td>\n",
              "      <td>True</td>\n",
              "      <td>True</td>\n",
              "      <td>True</td>\n",
              "      <td>116.524903</td>\n",
              "    </tr>\n",
              "    <tr>\n",
              "      <th>4</th>\n",
              "      <td>5.349800</td>\n",
              "      <td>123.808116</td>\n",
              "      <td>98.131722</td>\n",
              "      <td>444.723032</td>\n",
              "      <td>108836.0</td>\n",
              "      <td>False</td>\n",
              "      <td>True</td>\n",
              "      <td>False</td>\n",
              "      <td>True</td>\n",
              "      <td>True</td>\n",
              "      <td>116.105198</td>\n",
              "    </tr>\n",
              "  </tbody>\n",
              "</table>\n",
              "</div>"
            ],
            "text/plain": [
              "Ticker     BRL=X    ITUB4.SA    PETR4.SA    VALE3.SA     ^BVSP  BRL=X_up  \\\n",
              "0       5.285500  118.732388   93.603449  425.388554  106376.0     False   \n",
              "1       5.360131  117.901377   92.522995  430.622910  104166.0      True   \n",
              "2       5.478500  120.856781   97.571662  440.921602  105334.0      True   \n",
              "3       5.430100  123.524697  100.192050  444.358927  107518.0     False   \n",
              "4       5.349800  123.808116   98.131722  444.723032  108836.0     False   \n",
              "\n",
              "Ticker  ITUB4.SA_up  PETR4.SA_up  VALE3.SA_up  ^BVSP_up    carteira  \n",
              "0             False        False        False     False  111.193706  \n",
              "1             False        False         True     False  110.287862  \n",
              "2              True         True         True      True  113.871245  \n",
              "3              True         True         True      True  116.524903  \n",
              "4              True        False         True      True  116.105198  "
            ]
          },
          "execution_count": 45,
          "metadata": {},
          "output_type": "execute_result"
        }
      ],
      "source": [
        "df.loc[ selection ].head()"
      ]
    },
    {
      "cell_type": "markdown",
      "metadata": {
        "id": "o0OZ7zK6n6Qe"
      },
      "source": [
        "# **Concluindo**\n",
        "\n",
        "* Seleção (`read-only`), empregue\n",
        "\n",
        ">> `df[ row-selection-criteria ][ columns-selection-list ]`\n",
        "\n",
        "* Alteração de linhas (`update`) por chave inteira ou rótulo do índice, empregue\n",
        "\n",
        ">> `df.iloc[ rows-position, column-position ]...`, ou\n",
        "\n",
        ">> `df.loc[ rows-key, column-key (name) ]...`\n",
        "\n",
        "* Alteração de linhas (`update`) por seleção de dados, empregue\n",
        "\n",
        ">> `df.loc[ row-selection-criteria, column-key (name) ]...` (*preferencialmente*), ou\n",
        "\n",
        ">> `df.iloc[ row-selection-criteria.index, column-position ]...`\n",
        "\n"
      ]
    }
  ],
  "metadata": {
    "colab": {
      "provenance": []
    },
    "kernelspec": {
      "display_name": "Python 3",
      "name": "python3"
    },
    "language_info": {
      "codemirror_mode": {
        "name": "ipython",
        "version": 3
      },
      "file_extension": ".py",
      "mimetype": "text/x-python",
      "name": "python",
      "nbconvert_exporter": "python",
      "pygments_lexer": "ipython3",
      "version": "3.9.13"
    }
  },
  "nbformat": 4,
  "nbformat_minor": 0
}
