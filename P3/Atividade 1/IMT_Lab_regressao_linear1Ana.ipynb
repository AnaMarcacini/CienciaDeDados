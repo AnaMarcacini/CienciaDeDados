{
  "cells": [
    {
      "cell_type": "markdown",
      "metadata": {
        "id": "80CF3Eq9EXDW"
      },
      "source": [
        "<head>\n",
        "  <meta name=\"author\" content=\"Rogério de Oliveira\">\n",
        "  <meta institution=\"author\" content=\"ITM\">\n",
        "</head>\n",
        "\n",
        "<img src=\"https://maua.br/images/selo-60-anos-maua.svg\" width=300, align=\"right\">\n",
        "<!-- <h1 align=left><font size = 6, style=\"color:rgb(200,0,0)\"> optional title </font></h1> -->\n"
      ]
    },
    {
      "cell_type": "markdown",
      "source": [
        "# **Lab: Regressão Linear**"
      ],
      "metadata": {
        "id": "vrcmfvHQeJDw"
      }
    },
    {
      "cell_type": "markdown",
      "source": [
        "## imports"
      ],
      "metadata": {
        "id": "X0Fqf62pJQyR"
      }
    },
    {
      "cell_type": "code",
      "execution_count": 1,
      "metadata": {
        "id": "g5rumCMoqcAO"
      },
      "outputs": [],
      "source": [
        "import pandas as pd\n",
        "import numpy as np\n",
        "import matplotlib.pyplot as plt\n",
        "%matplotlib inline\n",
        "import seaborn as sns\n",
        "\n",
        "import statsmodels.formula.api as sm\n",
        "\n",
        "from sklearn.linear_model import LinearRegression\n",
        "from sklearn.metrics import mean_squared_error, r2_score"
      ]
    },
    {
      "cell_type": "code",
      "source": [
        "df = sns.load_dataset('penguins')\n",
        "df.head()"
      ],
      "metadata": {
        "id": "uxcwGuZNTyjN",
        "outputId": "84b7b242-37d8-41fe-96fa-45845189a5f3",
        "colab": {
          "base_uri": "https://localhost:8080/",
          "height": 206
        }
      },
      "execution_count": 2,
      "outputs": [
        {
          "output_type": "execute_result",
          "data": {
            "text/plain": [
              "  species     island  bill_length_mm  bill_depth_mm  flipper_length_mm  \\\n",
              "0  Adelie  Torgersen            39.1           18.7              181.0   \n",
              "1  Adelie  Torgersen            39.5           17.4              186.0   \n",
              "2  Adelie  Torgersen            40.3           18.0              195.0   \n",
              "3  Adelie  Torgersen             NaN            NaN                NaN   \n",
              "4  Adelie  Torgersen            36.7           19.3              193.0   \n",
              "\n",
              "   body_mass_g     sex  \n",
              "0       3750.0    Male  \n",
              "1       3800.0  Female  \n",
              "2       3250.0  Female  \n",
              "3          NaN     NaN  \n",
              "4       3450.0  Female  "
            ],
            "text/html": [
              "\n",
              "  <div id=\"df-41e854d3-2c55-4c91-8e20-34e930007d9c\" class=\"colab-df-container\">\n",
              "    <div>\n",
              "<style scoped>\n",
              "    .dataframe tbody tr th:only-of-type {\n",
              "        vertical-align: middle;\n",
              "    }\n",
              "\n",
              "    .dataframe tbody tr th {\n",
              "        vertical-align: top;\n",
              "    }\n",
              "\n",
              "    .dataframe thead th {\n",
              "        text-align: right;\n",
              "    }\n",
              "</style>\n",
              "<table border=\"1\" class=\"dataframe\">\n",
              "  <thead>\n",
              "    <tr style=\"text-align: right;\">\n",
              "      <th></th>\n",
              "      <th>species</th>\n",
              "      <th>island</th>\n",
              "      <th>bill_length_mm</th>\n",
              "      <th>bill_depth_mm</th>\n",
              "      <th>flipper_length_mm</th>\n",
              "      <th>body_mass_g</th>\n",
              "      <th>sex</th>\n",
              "    </tr>\n",
              "  </thead>\n",
              "  <tbody>\n",
              "    <tr>\n",
              "      <th>0</th>\n",
              "      <td>Adelie</td>\n",
              "      <td>Torgersen</td>\n",
              "      <td>39.1</td>\n",
              "      <td>18.7</td>\n",
              "      <td>181.0</td>\n",
              "      <td>3750.0</td>\n",
              "      <td>Male</td>\n",
              "    </tr>\n",
              "    <tr>\n",
              "      <th>1</th>\n",
              "      <td>Adelie</td>\n",
              "      <td>Torgersen</td>\n",
              "      <td>39.5</td>\n",
              "      <td>17.4</td>\n",
              "      <td>186.0</td>\n",
              "      <td>3800.0</td>\n",
              "      <td>Female</td>\n",
              "    </tr>\n",
              "    <tr>\n",
              "      <th>2</th>\n",
              "      <td>Adelie</td>\n",
              "      <td>Torgersen</td>\n",
              "      <td>40.3</td>\n",
              "      <td>18.0</td>\n",
              "      <td>195.0</td>\n",
              "      <td>3250.0</td>\n",
              "      <td>Female</td>\n",
              "    </tr>\n",
              "    <tr>\n",
              "      <th>3</th>\n",
              "      <td>Adelie</td>\n",
              "      <td>Torgersen</td>\n",
              "      <td>NaN</td>\n",
              "      <td>NaN</td>\n",
              "      <td>NaN</td>\n",
              "      <td>NaN</td>\n",
              "      <td>NaN</td>\n",
              "    </tr>\n",
              "    <tr>\n",
              "      <th>4</th>\n",
              "      <td>Adelie</td>\n",
              "      <td>Torgersen</td>\n",
              "      <td>36.7</td>\n",
              "      <td>19.3</td>\n",
              "      <td>193.0</td>\n",
              "      <td>3450.0</td>\n",
              "      <td>Female</td>\n",
              "    </tr>\n",
              "  </tbody>\n",
              "</table>\n",
              "</div>\n",
              "    <div class=\"colab-df-buttons\">\n",
              "\n",
              "  <div class=\"colab-df-container\">\n",
              "    <button class=\"colab-df-convert\" onclick=\"convertToInteractive('df-41e854d3-2c55-4c91-8e20-34e930007d9c')\"\n",
              "            title=\"Convert this dataframe to an interactive table.\"\n",
              "            style=\"display:none;\">\n",
              "\n",
              "  <svg xmlns=\"http://www.w3.org/2000/svg\" height=\"24px\" viewBox=\"0 -960 960 960\">\n",
              "    <path d=\"M120-120v-720h720v720H120Zm60-500h600v-160H180v160Zm220 220h160v-160H400v160Zm0 220h160v-160H400v160ZM180-400h160v-160H180v160Zm440 0h160v-160H620v160ZM180-180h160v-160H180v160Zm440 0h160v-160H620v160Z\"/>\n",
              "  </svg>\n",
              "    </button>\n",
              "\n",
              "  <style>\n",
              "    .colab-df-container {\n",
              "      display:flex;\n",
              "      gap: 12px;\n",
              "    }\n",
              "\n",
              "    .colab-df-convert {\n",
              "      background-color: #E8F0FE;\n",
              "      border: none;\n",
              "      border-radius: 50%;\n",
              "      cursor: pointer;\n",
              "      display: none;\n",
              "      fill: #1967D2;\n",
              "      height: 32px;\n",
              "      padding: 0 0 0 0;\n",
              "      width: 32px;\n",
              "    }\n",
              "\n",
              "    .colab-df-convert:hover {\n",
              "      background-color: #E2EBFA;\n",
              "      box-shadow: 0px 1px 2px rgba(60, 64, 67, 0.3), 0px 1px 3px 1px rgba(60, 64, 67, 0.15);\n",
              "      fill: #174EA6;\n",
              "    }\n",
              "\n",
              "    .colab-df-buttons div {\n",
              "      margin-bottom: 4px;\n",
              "    }\n",
              "\n",
              "    [theme=dark] .colab-df-convert {\n",
              "      background-color: #3B4455;\n",
              "      fill: #D2E3FC;\n",
              "    }\n",
              "\n",
              "    [theme=dark] .colab-df-convert:hover {\n",
              "      background-color: #434B5C;\n",
              "      box-shadow: 0px 1px 3px 1px rgba(0, 0, 0, 0.15);\n",
              "      filter: drop-shadow(0px 1px 2px rgba(0, 0, 0, 0.3));\n",
              "      fill: #FFFFFF;\n",
              "    }\n",
              "  </style>\n",
              "\n",
              "    <script>\n",
              "      const buttonEl =\n",
              "        document.querySelector('#df-41e854d3-2c55-4c91-8e20-34e930007d9c button.colab-df-convert');\n",
              "      buttonEl.style.display =\n",
              "        google.colab.kernel.accessAllowed ? 'block' : 'none';\n",
              "\n",
              "      async function convertToInteractive(key) {\n",
              "        const element = document.querySelector('#df-41e854d3-2c55-4c91-8e20-34e930007d9c');\n",
              "        const dataTable =\n",
              "          await google.colab.kernel.invokeFunction('convertToInteractive',\n",
              "                                                    [key], {});\n",
              "        if (!dataTable) return;\n",
              "\n",
              "        const docLinkHtml = 'Like what you see? Visit the ' +\n",
              "          '<a target=\"_blank\" href=https://colab.research.google.com/notebooks/data_table.ipynb>data table notebook</a>'\n",
              "          + ' to learn more about interactive tables.';\n",
              "        element.innerHTML = '';\n",
              "        dataTable['output_type'] = 'display_data';\n",
              "        await google.colab.output.renderOutput(dataTable, element);\n",
              "        const docLink = document.createElement('div');\n",
              "        docLink.innerHTML = docLinkHtml;\n",
              "        element.appendChild(docLink);\n",
              "      }\n",
              "    </script>\n",
              "  </div>\n",
              "\n",
              "\n",
              "<div id=\"df-9df5a524-6c71-4a62-8567-f1050e970a70\">\n",
              "  <button class=\"colab-df-quickchart\" onclick=\"quickchart('df-9df5a524-6c71-4a62-8567-f1050e970a70')\"\n",
              "            title=\"Suggest charts\"\n",
              "            style=\"display:none;\">\n",
              "\n",
              "<svg xmlns=\"http://www.w3.org/2000/svg\" height=\"24px\"viewBox=\"0 0 24 24\"\n",
              "     width=\"24px\">\n",
              "    <g>\n",
              "        <path d=\"M19 3H5c-1.1 0-2 .9-2 2v14c0 1.1.9 2 2 2h14c1.1 0 2-.9 2-2V5c0-1.1-.9-2-2-2zM9 17H7v-7h2v7zm4 0h-2V7h2v10zm4 0h-2v-4h2v4z\"/>\n",
              "    </g>\n",
              "</svg>\n",
              "  </button>\n",
              "\n",
              "<style>\n",
              "  .colab-df-quickchart {\n",
              "      --bg-color: #E8F0FE;\n",
              "      --fill-color: #1967D2;\n",
              "      --hover-bg-color: #E2EBFA;\n",
              "      --hover-fill-color: #174EA6;\n",
              "      --disabled-fill-color: #AAA;\n",
              "      --disabled-bg-color: #DDD;\n",
              "  }\n",
              "\n",
              "  [theme=dark] .colab-df-quickchart {\n",
              "      --bg-color: #3B4455;\n",
              "      --fill-color: #D2E3FC;\n",
              "      --hover-bg-color: #434B5C;\n",
              "      --hover-fill-color: #FFFFFF;\n",
              "      --disabled-bg-color: #3B4455;\n",
              "      --disabled-fill-color: #666;\n",
              "  }\n",
              "\n",
              "  .colab-df-quickchart {\n",
              "    background-color: var(--bg-color);\n",
              "    border: none;\n",
              "    border-radius: 50%;\n",
              "    cursor: pointer;\n",
              "    display: none;\n",
              "    fill: var(--fill-color);\n",
              "    height: 32px;\n",
              "    padding: 0;\n",
              "    width: 32px;\n",
              "  }\n",
              "\n",
              "  .colab-df-quickchart:hover {\n",
              "    background-color: var(--hover-bg-color);\n",
              "    box-shadow: 0 1px 2px rgba(60, 64, 67, 0.3), 0 1px 3px 1px rgba(60, 64, 67, 0.15);\n",
              "    fill: var(--button-hover-fill-color);\n",
              "  }\n",
              "\n",
              "  .colab-df-quickchart-complete:disabled,\n",
              "  .colab-df-quickchart-complete:disabled:hover {\n",
              "    background-color: var(--disabled-bg-color);\n",
              "    fill: var(--disabled-fill-color);\n",
              "    box-shadow: none;\n",
              "  }\n",
              "\n",
              "  .colab-df-spinner {\n",
              "    border: 2px solid var(--fill-color);\n",
              "    border-color: transparent;\n",
              "    border-bottom-color: var(--fill-color);\n",
              "    animation:\n",
              "      spin 1s steps(1) infinite;\n",
              "  }\n",
              "\n",
              "  @keyframes spin {\n",
              "    0% {\n",
              "      border-color: transparent;\n",
              "      border-bottom-color: var(--fill-color);\n",
              "      border-left-color: var(--fill-color);\n",
              "    }\n",
              "    20% {\n",
              "      border-color: transparent;\n",
              "      border-left-color: var(--fill-color);\n",
              "      border-top-color: var(--fill-color);\n",
              "    }\n",
              "    30% {\n",
              "      border-color: transparent;\n",
              "      border-left-color: var(--fill-color);\n",
              "      border-top-color: var(--fill-color);\n",
              "      border-right-color: var(--fill-color);\n",
              "    }\n",
              "    40% {\n",
              "      border-color: transparent;\n",
              "      border-right-color: var(--fill-color);\n",
              "      border-top-color: var(--fill-color);\n",
              "    }\n",
              "    60% {\n",
              "      border-color: transparent;\n",
              "      border-right-color: var(--fill-color);\n",
              "    }\n",
              "    80% {\n",
              "      border-color: transparent;\n",
              "      border-right-color: var(--fill-color);\n",
              "      border-bottom-color: var(--fill-color);\n",
              "    }\n",
              "    90% {\n",
              "      border-color: transparent;\n",
              "      border-bottom-color: var(--fill-color);\n",
              "    }\n",
              "  }\n",
              "</style>\n",
              "\n",
              "  <script>\n",
              "    async function quickchart(key) {\n",
              "      const quickchartButtonEl =\n",
              "        document.querySelector('#' + key + ' button');\n",
              "      quickchartButtonEl.disabled = true;  // To prevent multiple clicks.\n",
              "      quickchartButtonEl.classList.add('colab-df-spinner');\n",
              "      try {\n",
              "        const charts = await google.colab.kernel.invokeFunction(\n",
              "            'suggestCharts', [key], {});\n",
              "      } catch (error) {\n",
              "        console.error('Error during call to suggestCharts:', error);\n",
              "      }\n",
              "      quickchartButtonEl.classList.remove('colab-df-spinner');\n",
              "      quickchartButtonEl.classList.add('colab-df-quickchart-complete');\n",
              "    }\n",
              "    (() => {\n",
              "      let quickchartButtonEl =\n",
              "        document.querySelector('#df-9df5a524-6c71-4a62-8567-f1050e970a70 button');\n",
              "      quickchartButtonEl.style.display =\n",
              "        google.colab.kernel.accessAllowed ? 'block' : 'none';\n",
              "    })();\n",
              "  </script>\n",
              "</div>\n",
              "\n",
              "    </div>\n",
              "  </div>\n"
            ],
            "application/vnd.google.colaboratory.intrinsic+json": {
              "type": "dataframe",
              "variable_name": "df",
              "summary": "{\n  \"name\": \"df\",\n  \"rows\": 344,\n  \"fields\": [\n    {\n      \"column\": \"species\",\n      \"properties\": {\n        \"dtype\": \"category\",\n        \"num_unique_values\": 3,\n        \"samples\": [\n          \"Adelie\",\n          \"Chinstrap\",\n          \"Gentoo\"\n        ],\n        \"semantic_type\": \"\",\n        \"description\": \"\"\n      }\n    },\n    {\n      \"column\": \"island\",\n      \"properties\": {\n        \"dtype\": \"category\",\n        \"num_unique_values\": 3,\n        \"samples\": [\n          \"Torgersen\",\n          \"Biscoe\",\n          \"Dream\"\n        ],\n        \"semantic_type\": \"\",\n        \"description\": \"\"\n      }\n    },\n    {\n      \"column\": \"bill_length_mm\",\n      \"properties\": {\n        \"dtype\": \"number\",\n        \"std\": 5.4595837139265315,\n        \"min\": 32.1,\n        \"max\": 59.6,\n        \"num_unique_values\": 164,\n        \"samples\": [\n          48.2,\n          49.8,\n          45.1\n        ],\n        \"semantic_type\": \"\",\n        \"description\": \"\"\n      }\n    },\n    {\n      \"column\": \"bill_depth_mm\",\n      \"properties\": {\n        \"dtype\": \"number\",\n        \"std\": 1.9747931568167816,\n        \"min\": 13.1,\n        \"max\": 21.5,\n        \"num_unique_values\": 80,\n        \"samples\": [\n          16.9,\n          18.7,\n          18.6\n        ],\n        \"semantic_type\": \"\",\n        \"description\": \"\"\n      }\n    },\n    {\n      \"column\": \"flipper_length_mm\",\n      \"properties\": {\n        \"dtype\": \"number\",\n        \"std\": 14.061713679356888,\n        \"min\": 172.0,\n        \"max\": 231.0,\n        \"num_unique_values\": 55,\n        \"samples\": [\n          201.0,\n          180.0,\n          212.0\n        ],\n        \"semantic_type\": \"\",\n        \"description\": \"\"\n      }\n    },\n    {\n      \"column\": \"body_mass_g\",\n      \"properties\": {\n        \"dtype\": \"number\",\n        \"std\": 801.9545356980956,\n        \"min\": 2700.0,\n        \"max\": 6300.0,\n        \"num_unique_values\": 94,\n        \"samples\": [\n          4350.0,\n          4150.0,\n          3525.0\n        ],\n        \"semantic_type\": \"\",\n        \"description\": \"\"\n      }\n    },\n    {\n      \"column\": \"sex\",\n      \"properties\": {\n        \"dtype\": \"category\",\n        \"num_unique_values\": 2,\n        \"samples\": [\n          \"Female\",\n          \"Male\"\n        ],\n        \"semantic_type\": \"\",\n        \"description\": \"\"\n      }\n    }\n  ]\n}"
            }
          },
          "metadata": {},
          "execution_count": 2
        }
      ]
    },
    {
      "cell_type": "markdown",
      "source": [
        "# Ex1. Vanilla `statsmodels` I (2.5)\n",
        "\n",
        "Faça um modelo de regressão linear para estimar os valores de `body_mass_g` com base nos demais atributos **numéricos** (considere todas as variáveis independente do $p-value$ indicar o atributo significativo ou não). Com o modelo obtido faça a predição do peso (`body_mass_g`) de pinguins com as seguintes medidas:\n",
        "\n",
        "```\n",
        "bill_length_mm\tbill_depth_mm\tflipper_length_mm\n",
        "      38\t           17\t             190\n",
        "      40\t           21\t             198\n",
        "```\n",
        "\n",
        "**nota**: Lembre-se de verificar a presença de valores nulos, excluindo quaisquer linhas com quaisquer valores ausentes."
      ],
      "metadata": {
        "id": "wUeYiU6YPuUz"
      }
    },
    {
      "cell_type": "code",
      "source": [
        "df.isnull().sum() / len(df)"
      ],
      "metadata": {
        "colab": {
          "base_uri": "https://localhost:8080/",
          "height": 303
        },
        "id": "oGkAcJxVj_uW",
        "outputId": "b4b0cfb2-399f-43cd-9f18-2a7cffb43c9c"
      },
      "execution_count": 3,
      "outputs": [
        {
          "output_type": "execute_result",
          "data": {
            "text/plain": [
              "species              0.000000\n",
              "island               0.000000\n",
              "bill_length_mm       0.005814\n",
              "bill_depth_mm        0.005814\n",
              "flipper_length_mm    0.005814\n",
              "body_mass_g          0.005814\n",
              "sex                  0.031977\n",
              "dtype: float64"
            ],
            "text/html": [
              "<div>\n",
              "<style scoped>\n",
              "    .dataframe tbody tr th:only-of-type {\n",
              "        vertical-align: middle;\n",
              "    }\n",
              "\n",
              "    .dataframe tbody tr th {\n",
              "        vertical-align: top;\n",
              "    }\n",
              "\n",
              "    .dataframe thead th {\n",
              "        text-align: right;\n",
              "    }\n",
              "</style>\n",
              "<table border=\"1\" class=\"dataframe\">\n",
              "  <thead>\n",
              "    <tr style=\"text-align: right;\">\n",
              "      <th></th>\n",
              "      <th>0</th>\n",
              "    </tr>\n",
              "  </thead>\n",
              "  <tbody>\n",
              "    <tr>\n",
              "      <th>species</th>\n",
              "      <td>0.000000</td>\n",
              "    </tr>\n",
              "    <tr>\n",
              "      <th>island</th>\n",
              "      <td>0.000000</td>\n",
              "    </tr>\n",
              "    <tr>\n",
              "      <th>bill_length_mm</th>\n",
              "      <td>0.005814</td>\n",
              "    </tr>\n",
              "    <tr>\n",
              "      <th>bill_depth_mm</th>\n",
              "      <td>0.005814</td>\n",
              "    </tr>\n",
              "    <tr>\n",
              "      <th>flipper_length_mm</th>\n",
              "      <td>0.005814</td>\n",
              "    </tr>\n",
              "    <tr>\n",
              "      <th>body_mass_g</th>\n",
              "      <td>0.005814</td>\n",
              "    </tr>\n",
              "    <tr>\n",
              "      <th>sex</th>\n",
              "      <td>0.031977</td>\n",
              "    </tr>\n",
              "  </tbody>\n",
              "</table>\n",
              "</div><br><label><b>dtype:</b> float64</label>"
            ]
          },
          "metadata": {},
          "execution_count": 3
        }
      ]
    },
    {
      "cell_type": "code",
      "source": [
        "df.isnull().sum()"
      ],
      "metadata": {
        "colab": {
          "base_uri": "https://localhost:8080/",
          "height": 303
        },
        "id": "8FqczMJhkGtV",
        "outputId": "4c15d4e9-b893-4ccd-afd2-dc03260f223b"
      },
      "execution_count": 4,
      "outputs": [
        {
          "output_type": "execute_result",
          "data": {
            "text/plain": [
              "species               0\n",
              "island                0\n",
              "bill_length_mm        2\n",
              "bill_depth_mm         2\n",
              "flipper_length_mm     2\n",
              "body_mass_g           2\n",
              "sex                  11\n",
              "dtype: int64"
            ],
            "text/html": [
              "<div>\n",
              "<style scoped>\n",
              "    .dataframe tbody tr th:only-of-type {\n",
              "        vertical-align: middle;\n",
              "    }\n",
              "\n",
              "    .dataframe tbody tr th {\n",
              "        vertical-align: top;\n",
              "    }\n",
              "\n",
              "    .dataframe thead th {\n",
              "        text-align: right;\n",
              "    }\n",
              "</style>\n",
              "<table border=\"1\" class=\"dataframe\">\n",
              "  <thead>\n",
              "    <tr style=\"text-align: right;\">\n",
              "      <th></th>\n",
              "      <th>0</th>\n",
              "    </tr>\n",
              "  </thead>\n",
              "  <tbody>\n",
              "    <tr>\n",
              "      <th>species</th>\n",
              "      <td>0</td>\n",
              "    </tr>\n",
              "    <tr>\n",
              "      <th>island</th>\n",
              "      <td>0</td>\n",
              "    </tr>\n",
              "    <tr>\n",
              "      <th>bill_length_mm</th>\n",
              "      <td>2</td>\n",
              "    </tr>\n",
              "    <tr>\n",
              "      <th>bill_depth_mm</th>\n",
              "      <td>2</td>\n",
              "    </tr>\n",
              "    <tr>\n",
              "      <th>flipper_length_mm</th>\n",
              "      <td>2</td>\n",
              "    </tr>\n",
              "    <tr>\n",
              "      <th>body_mass_g</th>\n",
              "      <td>2</td>\n",
              "    </tr>\n",
              "    <tr>\n",
              "      <th>sex</th>\n",
              "      <td>11</td>\n",
              "    </tr>\n",
              "  </tbody>\n",
              "</table>\n",
              "</div><br><label><b>dtype:</b> int64</label>"
            ]
          },
          "metadata": {},
          "execution_count": 4
        }
      ]
    },
    {
      "cell_type": "code",
      "source": [
        "print('Before',len(df))\n",
        "df = df.dropna()\n",
        "print('After',len(df))"
      ],
      "metadata": {
        "colab": {
          "base_uri": "https://localhost:8080/"
        },
        "id": "cFwX6RB2kNIa",
        "outputId": "949c51bb-6b14-4aef-b312-580ac14a1bda"
      },
      "execution_count": 6,
      "outputs": [
        {
          "output_type": "stream",
          "name": "stdout",
          "text": [
            "Before 344\n",
            "After 333\n"
          ]
        }
      ]
    },
    {
      "cell_type": "code",
      "source": [
        "df.isnull().sum()"
      ],
      "metadata": {
        "colab": {
          "base_uri": "https://localhost:8080/",
          "height": 303
        },
        "id": "hmxyDQZhkKSI",
        "outputId": "f8e7c318-7059-4173-e7be-f0f4c293ab6a"
      },
      "execution_count": 7,
      "outputs": [
        {
          "output_type": "execute_result",
          "data": {
            "text/plain": [
              "species              0\n",
              "island               0\n",
              "bill_length_mm       0\n",
              "bill_depth_mm        0\n",
              "flipper_length_mm    0\n",
              "body_mass_g          0\n",
              "sex                  0\n",
              "dtype: int64"
            ],
            "text/html": [
              "<div>\n",
              "<style scoped>\n",
              "    .dataframe tbody tr th:only-of-type {\n",
              "        vertical-align: middle;\n",
              "    }\n",
              "\n",
              "    .dataframe tbody tr th {\n",
              "        vertical-align: top;\n",
              "    }\n",
              "\n",
              "    .dataframe thead th {\n",
              "        text-align: right;\n",
              "    }\n",
              "</style>\n",
              "<table border=\"1\" class=\"dataframe\">\n",
              "  <thead>\n",
              "    <tr style=\"text-align: right;\">\n",
              "      <th></th>\n",
              "      <th>0</th>\n",
              "    </tr>\n",
              "  </thead>\n",
              "  <tbody>\n",
              "    <tr>\n",
              "      <th>species</th>\n",
              "      <td>0</td>\n",
              "    </tr>\n",
              "    <tr>\n",
              "      <th>island</th>\n",
              "      <td>0</td>\n",
              "    </tr>\n",
              "    <tr>\n",
              "      <th>bill_length_mm</th>\n",
              "      <td>0</td>\n",
              "    </tr>\n",
              "    <tr>\n",
              "      <th>bill_depth_mm</th>\n",
              "      <td>0</td>\n",
              "    </tr>\n",
              "    <tr>\n",
              "      <th>flipper_length_mm</th>\n",
              "      <td>0</td>\n",
              "    </tr>\n",
              "    <tr>\n",
              "      <th>body_mass_g</th>\n",
              "      <td>0</td>\n",
              "    </tr>\n",
              "    <tr>\n",
              "      <th>sex</th>\n",
              "      <td>0</td>\n",
              "    </tr>\n",
              "  </tbody>\n",
              "</table>\n",
              "</div><br><label><b>dtype:</b> int64</label>"
            ]
          },
          "metadata": {},
          "execution_count": 7
        }
      ]
    },
    {
      "cell_type": "code",
      "source": [
        "import statsmodels.formula.api as sm\n",
        "\n",
        "# Definição do modelo\n",
        "lm = sm.ols(formula='body_mass_g ~ bill_length_mm + bill_depth_mm + flipper_length_mm', data=df)\n",
        "\n",
        "# Treinamento\n",
        "lm = lm.fit()\n",
        "\n",
        "# Resultados\n",
        "print(lm.summary())\n",
        "df_case = pd.DataFrame({'bill_length_mm':[38,40], 'bill_depth_mm':[17,21], 'flipper_length_mm':[190,198]})\n",
        "lm.predict(df_case)"
      ],
      "metadata": {
        "colab": {
          "base_uri": "https://localhost:8080/",
          "height": 673
        },
        "id": "oaXEszl-kSzO",
        "outputId": "5ceb7dbe-94db-4a76-f767-6ac369b76942"
      },
      "execution_count": 8,
      "outputs": [
        {
          "output_type": "stream",
          "name": "stdout",
          "text": [
            "                            OLS Regression Results                            \n",
            "==============================================================================\n",
            "Dep. Variable:            body_mass_g   R-squared:                       0.764\n",
            "Model:                            OLS   Adj. R-squared:                  0.762\n",
            "Method:                 Least Squares   F-statistic:                     354.9\n",
            "Date:                Wed, 28 Aug 2024   Prob (F-statistic):          9.26e-103\n",
            "Time:                        19:58:38   Log-Likelihood:                -2459.8\n",
            "No. Observations:                 333   AIC:                             4928.\n",
            "Df Residuals:                     329   BIC:                             4943.\n",
            "Df Model:                           3                                         \n",
            "Covariance Type:            nonrobust                                         \n",
            "=====================================================================================\n",
            "                        coef    std err          t      P>|t|      [0.025      0.975]\n",
            "-------------------------------------------------------------------------------------\n",
            "Intercept         -6445.4760    566.130    -11.385      0.000   -7559.167   -5331.785\n",
            "bill_length_mm        3.2929      5.366      0.614      0.540      -7.263      13.849\n",
            "bill_depth_mm        17.8364     13.826      1.290      0.198      -9.362      45.035\n",
            "flipper_length_mm    50.7621      2.497     20.327      0.000      45.850      55.675\n",
            "==============================================================================\n",
            "Omnibus:                        5.596   Durbin-Watson:                   1.968\n",
            "Prob(Omnibus):                  0.061   Jarque-Bera (JB):                5.469\n",
            "Skew:                           0.312   Prob(JB):                       0.0649\n",
            "Kurtosis:                       3.068   Cond. No.                     5.44e+03\n",
            "==============================================================================\n",
            "\n",
            "Notes:\n",
            "[1] Standard Errors assume that the covariance matrix of the errors is correctly specified.\n",
            "[2] The condition number is large, 5.44e+03. This might indicate that there are\n",
            "strong multicollinearity or other numerical problems.\n"
          ]
        },
        {
          "output_type": "execute_result",
          "data": {
            "text/plain": [
              "0    3627.676399\n",
              "1    4111.704741\n",
              "dtype: float64"
            ],
            "text/html": [
              "<div>\n",
              "<style scoped>\n",
              "    .dataframe tbody tr th:only-of-type {\n",
              "        vertical-align: middle;\n",
              "    }\n",
              "\n",
              "    .dataframe tbody tr th {\n",
              "        vertical-align: top;\n",
              "    }\n",
              "\n",
              "    .dataframe thead th {\n",
              "        text-align: right;\n",
              "    }\n",
              "</style>\n",
              "<table border=\"1\" class=\"dataframe\">\n",
              "  <thead>\n",
              "    <tr style=\"text-align: right;\">\n",
              "      <th></th>\n",
              "      <th>0</th>\n",
              "    </tr>\n",
              "  </thead>\n",
              "  <tbody>\n",
              "    <tr>\n",
              "      <th>0</th>\n",
              "      <td>3627.676399</td>\n",
              "    </tr>\n",
              "    <tr>\n",
              "      <th>1</th>\n",
              "      <td>4111.704741</td>\n",
              "    </tr>\n",
              "  </tbody>\n",
              "</table>\n",
              "</div><br><label><b>dtype:</b> float64</label>"
            ]
          },
          "metadata": {},
          "execution_count": 8
        }
      ]
    },
    {
      "cell_type": "markdown",
      "source": [
        "# Ex2. Vanilla `statsmodels` II (2.5)\n",
        "\n",
        "Faça um modelo de regressão linear para estimar os valores de `body_mass_g` com base em **todos os atributos preditores significativos**. Com o modelo  obtido faça a predição do peso (`body_mass_g`) de um pinguim do sexo feminino, da especie Adelie e da ilha de Torgersen cujas as demais medidas são a média da medidas de sua espécie e sexo.\n",
        "\n"
      ],
      "metadata": {
        "id": "PtppC8C6Rx5A"
      }
    },
    {
      "cell_type": "code",
      "source": [
        "import statsmodels.formula.api as sm\n",
        "\n",
        "# Definição do modelo\n",
        "lm = sm.ols(formula='body_mass_g ~ species + island + bill_length_mm + bill_depth_mm + flipper_length_mm + sex', data=df)\n",
        "\n",
        "# Treinamento\n",
        "lm = lm.fit()\n",
        "\n",
        "# Resultados\n",
        "print(lm.summary())\n",
        "\n"
      ],
      "metadata": {
        "colab": {
          "base_uri": "https://localhost:8080/"
        },
        "id": "ZnVL7-CslrEB",
        "outputId": "05d9684c-195d-45ba-f03e-287abc9fbd4a"
      },
      "execution_count": 10,
      "outputs": [
        {
          "output_type": "stream",
          "name": "stdout",
          "text": [
            "                            OLS Regression Results                            \n",
            "==============================================================================\n",
            "Dep. Variable:            body_mass_g   R-squared:                       0.875\n",
            "Model:                            OLS   Adj. R-squared:                  0.872\n",
            "Method:                 Least Squares   F-statistic:                     284.1\n",
            "Date:                Wed, 28 Aug 2024   Prob (F-statistic):          1.85e-141\n",
            "Time:                        20:04:47   Log-Likelihood:                -2353.6\n",
            "No. Observations:                 333   AIC:                             4725.\n",
            "Df Residuals:                     324   BIC:                             4760.\n",
            "Df Model:                           8                                         \n",
            "Covariance Type:            nonrobust                                         \n",
            "========================================================================================\n",
            "                           coef    std err          t      P>|t|      [0.025      0.975]\n",
            "----------------------------------------------------------------------------------------\n",
            "Intercept            -1500.0291    575.822     -2.605      0.010   -2632.852    -367.207\n",
            "species[T.Chinstrap]  -260.3063     88.551     -2.940      0.004    -434.513     -86.100\n",
            "species[T.Gentoo]      987.7614    137.238      7.197      0.000     717.771    1257.752\n",
            "island[T.Dream]        -13.1031     58.541     -0.224      0.823    -128.271     102.065\n",
            "island[T.Torgersen]    -48.0636     60.922     -0.789      0.431    -167.915      71.788\n",
            "sex[T.Male]            387.2243     48.138      8.044      0.000     292.521     481.927\n",
            "bill_length_mm          18.1893      7.136      2.549      0.011       4.150      32.229\n",
            "bill_depth_mm           67.5754     19.821      3.409      0.001      28.581     106.570\n",
            "flipper_length_mm       16.2385      2.939      5.524      0.000      10.456      22.021\n",
            "==============================================================================\n",
            "Omnibus:                        1.114   Durbin-Watson:                   2.167\n",
            "Prob(Omnibus):                  0.573   Jarque-Bera (JB):                1.101\n",
            "Skew:                           0.139   Prob(JB):                        0.577\n",
            "Kurtosis:                       2.958   Cond. No.                     7.59e+03\n",
            "==============================================================================\n",
            "\n",
            "Notes:\n",
            "[1] Standard Errors assume that the covariance matrix of the errors is correctly specified.\n",
            "[2] The condition number is large, 7.59e+03. This might indicate that there are\n",
            "strong multicollinearity or other numerical problems.\n"
          ]
        }
      ]
    },
    {
      "cell_type": "code",
      "source": [
        "\n",
        "parametros = pd.DataFrame()\n",
        "parametros[\"parametros\"] = lm.pvalues\n",
        "parametros[\"ABS\"] = parametros.abs()\n",
        "parametros = parametros.sort_values(by=\"ABS\", ascending=False)\n",
        "parametros[\"SIGNIFICATIVO\"] = parametros[\"ABS\"] < 0.05\n",
        "parametros\n"
      ],
      "metadata": {
        "colab": {
          "base_uri": "https://localhost:8080/",
          "height": 331
        },
        "id": "45pFlNLQlYPk",
        "outputId": "808b4558-0302-4dce-91d6-37f160d79d91"
      },
      "execution_count": 11,
      "outputs": [
        {
          "output_type": "execute_result",
          "data": {
            "text/plain": [
              "                        parametros           ABS  SIGNIFICATIVO\n",
              "island[T.Dream]       8.230321e-01  8.230321e-01          False\n",
              "island[T.Torgersen]   4.307221e-01  4.307221e-01          False\n",
              "bill_length_mm        1.126981e-02  1.126981e-02           True\n",
              "Intercept             9.610484e-03  9.610484e-03           True\n",
              "species[T.Chinstrap]  3.522124e-03  3.522124e-03           True\n",
              "bill_depth_mm         7.337653e-04  7.337653e-04           True\n",
              "flipper_length_mm     6.801240e-08  6.801240e-08           True\n",
              "species[T.Gentoo]     4.299347e-12  4.299347e-12           True\n",
              "sex[T.Male]           1.655310e-14  1.655310e-14           True"
            ],
            "text/html": [
              "\n",
              "  <div id=\"df-c557605f-bcc6-410a-8271-9fffb728146f\" class=\"colab-df-container\">\n",
              "    <div>\n",
              "<style scoped>\n",
              "    .dataframe tbody tr th:only-of-type {\n",
              "        vertical-align: middle;\n",
              "    }\n",
              "\n",
              "    .dataframe tbody tr th {\n",
              "        vertical-align: top;\n",
              "    }\n",
              "\n",
              "    .dataframe thead th {\n",
              "        text-align: right;\n",
              "    }\n",
              "</style>\n",
              "<table border=\"1\" class=\"dataframe\">\n",
              "  <thead>\n",
              "    <tr style=\"text-align: right;\">\n",
              "      <th></th>\n",
              "      <th>parametros</th>\n",
              "      <th>ABS</th>\n",
              "      <th>SIGNIFICATIVO</th>\n",
              "    </tr>\n",
              "  </thead>\n",
              "  <tbody>\n",
              "    <tr>\n",
              "      <th>island[T.Dream]</th>\n",
              "      <td>8.230321e-01</td>\n",
              "      <td>8.230321e-01</td>\n",
              "      <td>False</td>\n",
              "    </tr>\n",
              "    <tr>\n",
              "      <th>island[T.Torgersen]</th>\n",
              "      <td>4.307221e-01</td>\n",
              "      <td>4.307221e-01</td>\n",
              "      <td>False</td>\n",
              "    </tr>\n",
              "    <tr>\n",
              "      <th>bill_length_mm</th>\n",
              "      <td>1.126981e-02</td>\n",
              "      <td>1.126981e-02</td>\n",
              "      <td>True</td>\n",
              "    </tr>\n",
              "    <tr>\n",
              "      <th>Intercept</th>\n",
              "      <td>9.610484e-03</td>\n",
              "      <td>9.610484e-03</td>\n",
              "      <td>True</td>\n",
              "    </tr>\n",
              "    <tr>\n",
              "      <th>species[T.Chinstrap]</th>\n",
              "      <td>3.522124e-03</td>\n",
              "      <td>3.522124e-03</td>\n",
              "      <td>True</td>\n",
              "    </tr>\n",
              "    <tr>\n",
              "      <th>bill_depth_mm</th>\n",
              "      <td>7.337653e-04</td>\n",
              "      <td>7.337653e-04</td>\n",
              "      <td>True</td>\n",
              "    </tr>\n",
              "    <tr>\n",
              "      <th>flipper_length_mm</th>\n",
              "      <td>6.801240e-08</td>\n",
              "      <td>6.801240e-08</td>\n",
              "      <td>True</td>\n",
              "    </tr>\n",
              "    <tr>\n",
              "      <th>species[T.Gentoo]</th>\n",
              "      <td>4.299347e-12</td>\n",
              "      <td>4.299347e-12</td>\n",
              "      <td>True</td>\n",
              "    </tr>\n",
              "    <tr>\n",
              "      <th>sex[T.Male]</th>\n",
              "      <td>1.655310e-14</td>\n",
              "      <td>1.655310e-14</td>\n",
              "      <td>True</td>\n",
              "    </tr>\n",
              "  </tbody>\n",
              "</table>\n",
              "</div>\n",
              "    <div class=\"colab-df-buttons\">\n",
              "\n",
              "  <div class=\"colab-df-container\">\n",
              "    <button class=\"colab-df-convert\" onclick=\"convertToInteractive('df-c557605f-bcc6-410a-8271-9fffb728146f')\"\n",
              "            title=\"Convert this dataframe to an interactive table.\"\n",
              "            style=\"display:none;\">\n",
              "\n",
              "  <svg xmlns=\"http://www.w3.org/2000/svg\" height=\"24px\" viewBox=\"0 -960 960 960\">\n",
              "    <path d=\"M120-120v-720h720v720H120Zm60-500h600v-160H180v160Zm220 220h160v-160H400v160Zm0 220h160v-160H400v160ZM180-400h160v-160H180v160Zm440 0h160v-160H620v160ZM180-180h160v-160H180v160Zm440 0h160v-160H620v160Z\"/>\n",
              "  </svg>\n",
              "    </button>\n",
              "\n",
              "  <style>\n",
              "    .colab-df-container {\n",
              "      display:flex;\n",
              "      gap: 12px;\n",
              "    }\n",
              "\n",
              "    .colab-df-convert {\n",
              "      background-color: #E8F0FE;\n",
              "      border: none;\n",
              "      border-radius: 50%;\n",
              "      cursor: pointer;\n",
              "      display: none;\n",
              "      fill: #1967D2;\n",
              "      height: 32px;\n",
              "      padding: 0 0 0 0;\n",
              "      width: 32px;\n",
              "    }\n",
              "\n",
              "    .colab-df-convert:hover {\n",
              "      background-color: #E2EBFA;\n",
              "      box-shadow: 0px 1px 2px rgba(60, 64, 67, 0.3), 0px 1px 3px 1px rgba(60, 64, 67, 0.15);\n",
              "      fill: #174EA6;\n",
              "    }\n",
              "\n",
              "    .colab-df-buttons div {\n",
              "      margin-bottom: 4px;\n",
              "    }\n",
              "\n",
              "    [theme=dark] .colab-df-convert {\n",
              "      background-color: #3B4455;\n",
              "      fill: #D2E3FC;\n",
              "    }\n",
              "\n",
              "    [theme=dark] .colab-df-convert:hover {\n",
              "      background-color: #434B5C;\n",
              "      box-shadow: 0px 1px 3px 1px rgba(0, 0, 0, 0.15);\n",
              "      filter: drop-shadow(0px 1px 2px rgba(0, 0, 0, 0.3));\n",
              "      fill: #FFFFFF;\n",
              "    }\n",
              "  </style>\n",
              "\n",
              "    <script>\n",
              "      const buttonEl =\n",
              "        document.querySelector('#df-c557605f-bcc6-410a-8271-9fffb728146f button.colab-df-convert');\n",
              "      buttonEl.style.display =\n",
              "        google.colab.kernel.accessAllowed ? 'block' : 'none';\n",
              "\n",
              "      async function convertToInteractive(key) {\n",
              "        const element = document.querySelector('#df-c557605f-bcc6-410a-8271-9fffb728146f');\n",
              "        const dataTable =\n",
              "          await google.colab.kernel.invokeFunction('convertToInteractive',\n",
              "                                                    [key], {});\n",
              "        if (!dataTable) return;\n",
              "\n",
              "        const docLinkHtml = 'Like what you see? Visit the ' +\n",
              "          '<a target=\"_blank\" href=https://colab.research.google.com/notebooks/data_table.ipynb>data table notebook</a>'\n",
              "          + ' to learn more about interactive tables.';\n",
              "        element.innerHTML = '';\n",
              "        dataTable['output_type'] = 'display_data';\n",
              "        await google.colab.output.renderOutput(dataTable, element);\n",
              "        const docLink = document.createElement('div');\n",
              "        docLink.innerHTML = docLinkHtml;\n",
              "        element.appendChild(docLink);\n",
              "      }\n",
              "    </script>\n",
              "  </div>\n",
              "\n",
              "\n",
              "<div id=\"df-620af1f8-1531-4469-aedf-709dac8b4ebb\">\n",
              "  <button class=\"colab-df-quickchart\" onclick=\"quickchart('df-620af1f8-1531-4469-aedf-709dac8b4ebb')\"\n",
              "            title=\"Suggest charts\"\n",
              "            style=\"display:none;\">\n",
              "\n",
              "<svg xmlns=\"http://www.w3.org/2000/svg\" height=\"24px\"viewBox=\"0 0 24 24\"\n",
              "     width=\"24px\">\n",
              "    <g>\n",
              "        <path d=\"M19 3H5c-1.1 0-2 .9-2 2v14c0 1.1.9 2 2 2h14c1.1 0 2-.9 2-2V5c0-1.1-.9-2-2-2zM9 17H7v-7h2v7zm4 0h-2V7h2v10zm4 0h-2v-4h2v4z\"/>\n",
              "    </g>\n",
              "</svg>\n",
              "  </button>\n",
              "\n",
              "<style>\n",
              "  .colab-df-quickchart {\n",
              "      --bg-color: #E8F0FE;\n",
              "      --fill-color: #1967D2;\n",
              "      --hover-bg-color: #E2EBFA;\n",
              "      --hover-fill-color: #174EA6;\n",
              "      --disabled-fill-color: #AAA;\n",
              "      --disabled-bg-color: #DDD;\n",
              "  }\n",
              "\n",
              "  [theme=dark] .colab-df-quickchart {\n",
              "      --bg-color: #3B4455;\n",
              "      --fill-color: #D2E3FC;\n",
              "      --hover-bg-color: #434B5C;\n",
              "      --hover-fill-color: #FFFFFF;\n",
              "      --disabled-bg-color: #3B4455;\n",
              "      --disabled-fill-color: #666;\n",
              "  }\n",
              "\n",
              "  .colab-df-quickchart {\n",
              "    background-color: var(--bg-color);\n",
              "    border: none;\n",
              "    border-radius: 50%;\n",
              "    cursor: pointer;\n",
              "    display: none;\n",
              "    fill: var(--fill-color);\n",
              "    height: 32px;\n",
              "    padding: 0;\n",
              "    width: 32px;\n",
              "  }\n",
              "\n",
              "  .colab-df-quickchart:hover {\n",
              "    background-color: var(--hover-bg-color);\n",
              "    box-shadow: 0 1px 2px rgba(60, 64, 67, 0.3), 0 1px 3px 1px rgba(60, 64, 67, 0.15);\n",
              "    fill: var(--button-hover-fill-color);\n",
              "  }\n",
              "\n",
              "  .colab-df-quickchart-complete:disabled,\n",
              "  .colab-df-quickchart-complete:disabled:hover {\n",
              "    background-color: var(--disabled-bg-color);\n",
              "    fill: var(--disabled-fill-color);\n",
              "    box-shadow: none;\n",
              "  }\n",
              "\n",
              "  .colab-df-spinner {\n",
              "    border: 2px solid var(--fill-color);\n",
              "    border-color: transparent;\n",
              "    border-bottom-color: var(--fill-color);\n",
              "    animation:\n",
              "      spin 1s steps(1) infinite;\n",
              "  }\n",
              "\n",
              "  @keyframes spin {\n",
              "    0% {\n",
              "      border-color: transparent;\n",
              "      border-bottom-color: var(--fill-color);\n",
              "      border-left-color: var(--fill-color);\n",
              "    }\n",
              "    20% {\n",
              "      border-color: transparent;\n",
              "      border-left-color: var(--fill-color);\n",
              "      border-top-color: var(--fill-color);\n",
              "    }\n",
              "    30% {\n",
              "      border-color: transparent;\n",
              "      border-left-color: var(--fill-color);\n",
              "      border-top-color: var(--fill-color);\n",
              "      border-right-color: var(--fill-color);\n",
              "    }\n",
              "    40% {\n",
              "      border-color: transparent;\n",
              "      border-right-color: var(--fill-color);\n",
              "      border-top-color: var(--fill-color);\n",
              "    }\n",
              "    60% {\n",
              "      border-color: transparent;\n",
              "      border-right-color: var(--fill-color);\n",
              "    }\n",
              "    80% {\n",
              "      border-color: transparent;\n",
              "      border-right-color: var(--fill-color);\n",
              "      border-bottom-color: var(--fill-color);\n",
              "    }\n",
              "    90% {\n",
              "      border-color: transparent;\n",
              "      border-bottom-color: var(--fill-color);\n",
              "    }\n",
              "  }\n",
              "</style>\n",
              "\n",
              "  <script>\n",
              "    async function quickchart(key) {\n",
              "      const quickchartButtonEl =\n",
              "        document.querySelector('#' + key + ' button');\n",
              "      quickchartButtonEl.disabled = true;  // To prevent multiple clicks.\n",
              "      quickchartButtonEl.classList.add('colab-df-spinner');\n",
              "      try {\n",
              "        const charts = await google.colab.kernel.invokeFunction(\n",
              "            'suggestCharts', [key], {});\n",
              "      } catch (error) {\n",
              "        console.error('Error during call to suggestCharts:', error);\n",
              "      }\n",
              "      quickchartButtonEl.classList.remove('colab-df-spinner');\n",
              "      quickchartButtonEl.classList.add('colab-df-quickchart-complete');\n",
              "    }\n",
              "    (() => {\n",
              "      let quickchartButtonEl =\n",
              "        document.querySelector('#df-620af1f8-1531-4469-aedf-709dac8b4ebb button');\n",
              "      quickchartButtonEl.style.display =\n",
              "        google.colab.kernel.accessAllowed ? 'block' : 'none';\n",
              "    })();\n",
              "  </script>\n",
              "</div>\n",
              "\n",
              "  <div id=\"id_1ee55e63-ef84-49f8-b6b9-758f76a46c09\">\n",
              "    <style>\n",
              "      .colab-df-generate {\n",
              "        background-color: #E8F0FE;\n",
              "        border: none;\n",
              "        border-radius: 50%;\n",
              "        cursor: pointer;\n",
              "        display: none;\n",
              "        fill: #1967D2;\n",
              "        height: 32px;\n",
              "        padding: 0 0 0 0;\n",
              "        width: 32px;\n",
              "      }\n",
              "\n",
              "      .colab-df-generate:hover {\n",
              "        background-color: #E2EBFA;\n",
              "        box-shadow: 0px 1px 2px rgba(60, 64, 67, 0.3), 0px 1px 3px 1px rgba(60, 64, 67, 0.15);\n",
              "        fill: #174EA6;\n",
              "      }\n",
              "\n",
              "      [theme=dark] .colab-df-generate {\n",
              "        background-color: #3B4455;\n",
              "        fill: #D2E3FC;\n",
              "      }\n",
              "\n",
              "      [theme=dark] .colab-df-generate:hover {\n",
              "        background-color: #434B5C;\n",
              "        box-shadow: 0px 1px 3px 1px rgba(0, 0, 0, 0.15);\n",
              "        filter: drop-shadow(0px 1px 2px rgba(0, 0, 0, 0.3));\n",
              "        fill: #FFFFFF;\n",
              "      }\n",
              "    </style>\n",
              "    <button class=\"colab-df-generate\" onclick=\"generateWithVariable('parametros')\"\n",
              "            title=\"Generate code using this dataframe.\"\n",
              "            style=\"display:none;\">\n",
              "\n",
              "  <svg xmlns=\"http://www.w3.org/2000/svg\" height=\"24px\"viewBox=\"0 0 24 24\"\n",
              "       width=\"24px\">\n",
              "    <path d=\"M7,19H8.4L18.45,9,17,7.55,7,17.6ZM5,21V16.75L18.45,3.32a2,2,0,0,1,2.83,0l1.4,1.43a1.91,1.91,0,0,1,.58,1.4,1.91,1.91,0,0,1-.58,1.4L9.25,21ZM18.45,9,17,7.55Zm-12,3A5.31,5.31,0,0,0,4.9,8.1,5.31,5.31,0,0,0,1,6.5,5.31,5.31,0,0,0,4.9,4.9,5.31,5.31,0,0,0,6.5,1,5.31,5.31,0,0,0,8.1,4.9,5.31,5.31,0,0,0,12,6.5,5.46,5.46,0,0,0,6.5,12Z\"/>\n",
              "  </svg>\n",
              "    </button>\n",
              "    <script>\n",
              "      (() => {\n",
              "      const buttonEl =\n",
              "        document.querySelector('#id_1ee55e63-ef84-49f8-b6b9-758f76a46c09 button.colab-df-generate');\n",
              "      buttonEl.style.display =\n",
              "        google.colab.kernel.accessAllowed ? 'block' : 'none';\n",
              "\n",
              "      buttonEl.onclick = () => {\n",
              "        google.colab.notebook.generateWithVariable('parametros');\n",
              "      }\n",
              "      })();\n",
              "    </script>\n",
              "  </div>\n",
              "\n",
              "    </div>\n",
              "  </div>\n"
            ],
            "application/vnd.google.colaboratory.intrinsic+json": {
              "type": "dataframe",
              "variable_name": "parametros",
              "summary": "{\n  \"name\": \"parametros\",\n  \"rows\": 9,\n  \"fields\": [\n    {\n      \"column\": \"parametros\",\n      \"properties\": {\n        \"dtype\": \"number\",\n        \"std\": 0.29184901147993597,\n        \"min\": 1.655309992194674e-14,\n        \"max\": 0.8230321268676168,\n        \"num_unique_values\": 9,\n        \"samples\": [\n          4.29934696658622e-12,\n          0.4307221431421846,\n          0.0007337653096504336\n        ],\n        \"semantic_type\": \"\",\n        \"description\": \"\"\n      }\n    },\n    {\n      \"column\": \"ABS\",\n      \"properties\": {\n        \"dtype\": \"number\",\n        \"std\": 0.29184901147993597,\n        \"min\": 1.655309992194674e-14,\n        \"max\": 0.8230321268676168,\n        \"num_unique_values\": 9,\n        \"samples\": [\n          4.29934696658622e-12,\n          0.4307221431421846,\n          0.0007337653096504336\n        ],\n        \"semantic_type\": \"\",\n        \"description\": \"\"\n      }\n    },\n    {\n      \"column\": \"SIGNIFICATIVO\",\n      \"properties\": {\n        \"dtype\": \"boolean\",\n        \"num_unique_values\": 2,\n        \"samples\": [\n          true,\n          false\n        ],\n        \"semantic_type\": \"\",\n        \"description\": \"\"\n      }\n    }\n  ]\n}"
            }
          },
          "metadata": {},
          "execution_count": 11
        }
      ]
    },
    {
      "cell_type": "code",
      "source": [
        "import statsmodels.formula.api as sm\n",
        "\n",
        "# Definição do modelo\n",
        "lm = sm.ols(formula='body_mass_g ~ species + bill_length_mm + bill_depth_mm + flipper_length_mm + sex', data=df)\n",
        "\n",
        "# Treinamento\n",
        "lm = lm.fit()\n",
        "\n",
        "# Resultados\n",
        "print(lm.summary())\n",
        "\n"
      ],
      "metadata": {
        "colab": {
          "base_uri": "https://localhost:8080/"
        },
        "id": "6JjFBIUbmH7j",
        "outputId": "cc28b2e4-2c91-4ec2-ebd5-62cf6a3b20b8"
      },
      "execution_count": 12,
      "outputs": [
        {
          "output_type": "stream",
          "name": "stdout",
          "text": [
            "                            OLS Regression Results                            \n",
            "==============================================================================\n",
            "Dep. Variable:            body_mass_g   R-squared:                       0.875\n",
            "Model:                            OLS   Adj. R-squared:                  0.873\n",
            "Method:                 Least Squares   F-statistic:                     380.2\n",
            "Date:                Wed, 28 Aug 2024   Prob (F-statistic):          6.82e-144\n",
            "Time:                        20:06:15   Log-Likelihood:                -2354.0\n",
            "No. Observations:                 333   AIC:                             4722.\n",
            "Df Residuals:                     326   BIC:                             4749.\n",
            "Df Model:                           6                                         \n",
            "Covariance Type:            nonrobust                                         \n",
            "========================================================================================\n",
            "                           coef    std err          t      P>|t|      [0.025      0.975]\n",
            "----------------------------------------------------------------------------------------\n",
            "Intercept            -1460.9946    571.308     -2.557      0.011   -2584.911    -337.079\n",
            "species[T.Chinstrap]  -251.4767     81.079     -3.102      0.002    -410.980     -91.973\n",
            "species[T.Gentoo]     1014.6267    129.561      7.831      0.000     759.746    1269.507\n",
            "sex[T.Male]            389.8915     47.848      8.148      0.000     295.761     484.022\n",
            "bill_length_mm          18.2044      7.106      2.562      0.011       4.225      32.184\n",
            "bill_depth_mm           67.2176     19.742      3.405      0.001      28.380     106.055\n",
            "flipper_length_mm       15.9502      2.910      5.482      0.000      10.226      21.674\n",
            "==============================================================================\n",
            "Omnibus:                        0.879   Durbin-Watson:                   2.169\n",
            "Prob(Omnibus):                  0.644   Jarque-Bera (JB):                0.871\n",
            "Skew:                           0.124   Prob(JB):                        0.647\n",
            "Kurtosis:                       2.959   Cond. No.                     7.55e+03\n",
            "==============================================================================\n",
            "\n",
            "Notes:\n",
            "[1] Standard Errors assume that the covariance matrix of the errors is correctly specified.\n",
            "[2] The condition number is large, 7.55e+03. This might indicate that there are\n",
            "strong multicollinearity or other numerical problems.\n"
          ]
        }
      ]
    },
    {
      "cell_type": "code",
      "source": [
        "\n",
        "parametros = pd.DataFrame()\n",
        "parametros[\"parametros\"] = lm.pvalues\n",
        "parametros[\"ABS\"] = parametros.abs()\n",
        "parametros = parametros.sort_values(by=\"ABS\", ascending=False)\n",
        "parametros[\"SIGNIFICATIVO\"] = parametros[\"ABS\"] < 0.05\n",
        "parametros\n"
      ],
      "metadata": {
        "colab": {
          "base_uri": "https://localhost:8080/",
          "height": 269
        },
        "id": "r06kQYgjmLWL",
        "outputId": "29611f32-82fa-4d3c-d251-5436e164d8d1"
      },
      "execution_count": 13,
      "outputs": [
        {
          "output_type": "execute_result",
          "data": {
            "text/plain": [
              "                        parametros           ABS  SIGNIFICATIVO\n",
              "Intercept             1.100170e-02  1.100170e-02           True\n",
              "bill_length_mm        1.086405e-02  1.086405e-02           True\n",
              "species[T.Chinstrap]  2.092677e-03  2.092677e-03           True\n",
              "bill_depth_mm         7.447574e-04  7.447574e-04           True\n",
              "flipper_length_mm     8.440786e-08  8.440786e-08           True\n",
              "species[T.Gentoo]     6.852265e-14  6.852265e-14           True\n",
              "sex[T.Male]           7.971622e-15  7.971622e-15           True"
            ],
            "text/html": [
              "\n",
              "  <div id=\"df-ab36d995-8736-44d8-9fde-aa4bab58cd17\" class=\"colab-df-container\">\n",
              "    <div>\n",
              "<style scoped>\n",
              "    .dataframe tbody tr th:only-of-type {\n",
              "        vertical-align: middle;\n",
              "    }\n",
              "\n",
              "    .dataframe tbody tr th {\n",
              "        vertical-align: top;\n",
              "    }\n",
              "\n",
              "    .dataframe thead th {\n",
              "        text-align: right;\n",
              "    }\n",
              "</style>\n",
              "<table border=\"1\" class=\"dataframe\">\n",
              "  <thead>\n",
              "    <tr style=\"text-align: right;\">\n",
              "      <th></th>\n",
              "      <th>parametros</th>\n",
              "      <th>ABS</th>\n",
              "      <th>SIGNIFICATIVO</th>\n",
              "    </tr>\n",
              "  </thead>\n",
              "  <tbody>\n",
              "    <tr>\n",
              "      <th>Intercept</th>\n",
              "      <td>1.100170e-02</td>\n",
              "      <td>1.100170e-02</td>\n",
              "      <td>True</td>\n",
              "    </tr>\n",
              "    <tr>\n",
              "      <th>bill_length_mm</th>\n",
              "      <td>1.086405e-02</td>\n",
              "      <td>1.086405e-02</td>\n",
              "      <td>True</td>\n",
              "    </tr>\n",
              "    <tr>\n",
              "      <th>species[T.Chinstrap]</th>\n",
              "      <td>2.092677e-03</td>\n",
              "      <td>2.092677e-03</td>\n",
              "      <td>True</td>\n",
              "    </tr>\n",
              "    <tr>\n",
              "      <th>bill_depth_mm</th>\n",
              "      <td>7.447574e-04</td>\n",
              "      <td>7.447574e-04</td>\n",
              "      <td>True</td>\n",
              "    </tr>\n",
              "    <tr>\n",
              "      <th>flipper_length_mm</th>\n",
              "      <td>8.440786e-08</td>\n",
              "      <td>8.440786e-08</td>\n",
              "      <td>True</td>\n",
              "    </tr>\n",
              "    <tr>\n",
              "      <th>species[T.Gentoo]</th>\n",
              "      <td>6.852265e-14</td>\n",
              "      <td>6.852265e-14</td>\n",
              "      <td>True</td>\n",
              "    </tr>\n",
              "    <tr>\n",
              "      <th>sex[T.Male]</th>\n",
              "      <td>7.971622e-15</td>\n",
              "      <td>7.971622e-15</td>\n",
              "      <td>True</td>\n",
              "    </tr>\n",
              "  </tbody>\n",
              "</table>\n",
              "</div>\n",
              "    <div class=\"colab-df-buttons\">\n",
              "\n",
              "  <div class=\"colab-df-container\">\n",
              "    <button class=\"colab-df-convert\" onclick=\"convertToInteractive('df-ab36d995-8736-44d8-9fde-aa4bab58cd17')\"\n",
              "            title=\"Convert this dataframe to an interactive table.\"\n",
              "            style=\"display:none;\">\n",
              "\n",
              "  <svg xmlns=\"http://www.w3.org/2000/svg\" height=\"24px\" viewBox=\"0 -960 960 960\">\n",
              "    <path d=\"M120-120v-720h720v720H120Zm60-500h600v-160H180v160Zm220 220h160v-160H400v160Zm0 220h160v-160H400v160ZM180-400h160v-160H180v160Zm440 0h160v-160H620v160ZM180-180h160v-160H180v160Zm440 0h160v-160H620v160Z\"/>\n",
              "  </svg>\n",
              "    </button>\n",
              "\n",
              "  <style>\n",
              "    .colab-df-container {\n",
              "      display:flex;\n",
              "      gap: 12px;\n",
              "    }\n",
              "\n",
              "    .colab-df-convert {\n",
              "      background-color: #E8F0FE;\n",
              "      border: none;\n",
              "      border-radius: 50%;\n",
              "      cursor: pointer;\n",
              "      display: none;\n",
              "      fill: #1967D2;\n",
              "      height: 32px;\n",
              "      padding: 0 0 0 0;\n",
              "      width: 32px;\n",
              "    }\n",
              "\n",
              "    .colab-df-convert:hover {\n",
              "      background-color: #E2EBFA;\n",
              "      box-shadow: 0px 1px 2px rgba(60, 64, 67, 0.3), 0px 1px 3px 1px rgba(60, 64, 67, 0.15);\n",
              "      fill: #174EA6;\n",
              "    }\n",
              "\n",
              "    .colab-df-buttons div {\n",
              "      margin-bottom: 4px;\n",
              "    }\n",
              "\n",
              "    [theme=dark] .colab-df-convert {\n",
              "      background-color: #3B4455;\n",
              "      fill: #D2E3FC;\n",
              "    }\n",
              "\n",
              "    [theme=dark] .colab-df-convert:hover {\n",
              "      background-color: #434B5C;\n",
              "      box-shadow: 0px 1px 3px 1px rgba(0, 0, 0, 0.15);\n",
              "      filter: drop-shadow(0px 1px 2px rgba(0, 0, 0, 0.3));\n",
              "      fill: #FFFFFF;\n",
              "    }\n",
              "  </style>\n",
              "\n",
              "    <script>\n",
              "      const buttonEl =\n",
              "        document.querySelector('#df-ab36d995-8736-44d8-9fde-aa4bab58cd17 button.colab-df-convert');\n",
              "      buttonEl.style.display =\n",
              "        google.colab.kernel.accessAllowed ? 'block' : 'none';\n",
              "\n",
              "      async function convertToInteractive(key) {\n",
              "        const element = document.querySelector('#df-ab36d995-8736-44d8-9fde-aa4bab58cd17');\n",
              "        const dataTable =\n",
              "          await google.colab.kernel.invokeFunction('convertToInteractive',\n",
              "                                                    [key], {});\n",
              "        if (!dataTable) return;\n",
              "\n",
              "        const docLinkHtml = 'Like what you see? Visit the ' +\n",
              "          '<a target=\"_blank\" href=https://colab.research.google.com/notebooks/data_table.ipynb>data table notebook</a>'\n",
              "          + ' to learn more about interactive tables.';\n",
              "        element.innerHTML = '';\n",
              "        dataTable['output_type'] = 'display_data';\n",
              "        await google.colab.output.renderOutput(dataTable, element);\n",
              "        const docLink = document.createElement('div');\n",
              "        docLink.innerHTML = docLinkHtml;\n",
              "        element.appendChild(docLink);\n",
              "      }\n",
              "    </script>\n",
              "  </div>\n",
              "\n",
              "\n",
              "<div id=\"df-2c83fb5c-aa1e-43e5-98bf-ad2220376e73\">\n",
              "  <button class=\"colab-df-quickchart\" onclick=\"quickchart('df-2c83fb5c-aa1e-43e5-98bf-ad2220376e73')\"\n",
              "            title=\"Suggest charts\"\n",
              "            style=\"display:none;\">\n",
              "\n",
              "<svg xmlns=\"http://www.w3.org/2000/svg\" height=\"24px\"viewBox=\"0 0 24 24\"\n",
              "     width=\"24px\">\n",
              "    <g>\n",
              "        <path d=\"M19 3H5c-1.1 0-2 .9-2 2v14c0 1.1.9 2 2 2h14c1.1 0 2-.9 2-2V5c0-1.1-.9-2-2-2zM9 17H7v-7h2v7zm4 0h-2V7h2v10zm4 0h-2v-4h2v4z\"/>\n",
              "    </g>\n",
              "</svg>\n",
              "  </button>\n",
              "\n",
              "<style>\n",
              "  .colab-df-quickchart {\n",
              "      --bg-color: #E8F0FE;\n",
              "      --fill-color: #1967D2;\n",
              "      --hover-bg-color: #E2EBFA;\n",
              "      --hover-fill-color: #174EA6;\n",
              "      --disabled-fill-color: #AAA;\n",
              "      --disabled-bg-color: #DDD;\n",
              "  }\n",
              "\n",
              "  [theme=dark] .colab-df-quickchart {\n",
              "      --bg-color: #3B4455;\n",
              "      --fill-color: #D2E3FC;\n",
              "      --hover-bg-color: #434B5C;\n",
              "      --hover-fill-color: #FFFFFF;\n",
              "      --disabled-bg-color: #3B4455;\n",
              "      --disabled-fill-color: #666;\n",
              "  }\n",
              "\n",
              "  .colab-df-quickchart {\n",
              "    background-color: var(--bg-color);\n",
              "    border: none;\n",
              "    border-radius: 50%;\n",
              "    cursor: pointer;\n",
              "    display: none;\n",
              "    fill: var(--fill-color);\n",
              "    height: 32px;\n",
              "    padding: 0;\n",
              "    width: 32px;\n",
              "  }\n",
              "\n",
              "  .colab-df-quickchart:hover {\n",
              "    background-color: var(--hover-bg-color);\n",
              "    box-shadow: 0 1px 2px rgba(60, 64, 67, 0.3), 0 1px 3px 1px rgba(60, 64, 67, 0.15);\n",
              "    fill: var(--button-hover-fill-color);\n",
              "  }\n",
              "\n",
              "  .colab-df-quickchart-complete:disabled,\n",
              "  .colab-df-quickchart-complete:disabled:hover {\n",
              "    background-color: var(--disabled-bg-color);\n",
              "    fill: var(--disabled-fill-color);\n",
              "    box-shadow: none;\n",
              "  }\n",
              "\n",
              "  .colab-df-spinner {\n",
              "    border: 2px solid var(--fill-color);\n",
              "    border-color: transparent;\n",
              "    border-bottom-color: var(--fill-color);\n",
              "    animation:\n",
              "      spin 1s steps(1) infinite;\n",
              "  }\n",
              "\n",
              "  @keyframes spin {\n",
              "    0% {\n",
              "      border-color: transparent;\n",
              "      border-bottom-color: var(--fill-color);\n",
              "      border-left-color: var(--fill-color);\n",
              "    }\n",
              "    20% {\n",
              "      border-color: transparent;\n",
              "      border-left-color: var(--fill-color);\n",
              "      border-top-color: var(--fill-color);\n",
              "    }\n",
              "    30% {\n",
              "      border-color: transparent;\n",
              "      border-left-color: var(--fill-color);\n",
              "      border-top-color: var(--fill-color);\n",
              "      border-right-color: var(--fill-color);\n",
              "    }\n",
              "    40% {\n",
              "      border-color: transparent;\n",
              "      border-right-color: var(--fill-color);\n",
              "      border-top-color: var(--fill-color);\n",
              "    }\n",
              "    60% {\n",
              "      border-color: transparent;\n",
              "      border-right-color: var(--fill-color);\n",
              "    }\n",
              "    80% {\n",
              "      border-color: transparent;\n",
              "      border-right-color: var(--fill-color);\n",
              "      border-bottom-color: var(--fill-color);\n",
              "    }\n",
              "    90% {\n",
              "      border-color: transparent;\n",
              "      border-bottom-color: var(--fill-color);\n",
              "    }\n",
              "  }\n",
              "</style>\n",
              "\n",
              "  <script>\n",
              "    async function quickchart(key) {\n",
              "      const quickchartButtonEl =\n",
              "        document.querySelector('#' + key + ' button');\n",
              "      quickchartButtonEl.disabled = true;  // To prevent multiple clicks.\n",
              "      quickchartButtonEl.classList.add('colab-df-spinner');\n",
              "      try {\n",
              "        const charts = await google.colab.kernel.invokeFunction(\n",
              "            'suggestCharts', [key], {});\n",
              "      } catch (error) {\n",
              "        console.error('Error during call to suggestCharts:', error);\n",
              "      }\n",
              "      quickchartButtonEl.classList.remove('colab-df-spinner');\n",
              "      quickchartButtonEl.classList.add('colab-df-quickchart-complete');\n",
              "    }\n",
              "    (() => {\n",
              "      let quickchartButtonEl =\n",
              "        document.querySelector('#df-2c83fb5c-aa1e-43e5-98bf-ad2220376e73 button');\n",
              "      quickchartButtonEl.style.display =\n",
              "        google.colab.kernel.accessAllowed ? 'block' : 'none';\n",
              "    })();\n",
              "  </script>\n",
              "</div>\n",
              "\n",
              "  <div id=\"id_8e354b94-9ff0-4b0d-9675-2c089464abaf\">\n",
              "    <style>\n",
              "      .colab-df-generate {\n",
              "        background-color: #E8F0FE;\n",
              "        border: none;\n",
              "        border-radius: 50%;\n",
              "        cursor: pointer;\n",
              "        display: none;\n",
              "        fill: #1967D2;\n",
              "        height: 32px;\n",
              "        padding: 0 0 0 0;\n",
              "        width: 32px;\n",
              "      }\n",
              "\n",
              "      .colab-df-generate:hover {\n",
              "        background-color: #E2EBFA;\n",
              "        box-shadow: 0px 1px 2px rgba(60, 64, 67, 0.3), 0px 1px 3px 1px rgba(60, 64, 67, 0.15);\n",
              "        fill: #174EA6;\n",
              "      }\n",
              "\n",
              "      [theme=dark] .colab-df-generate {\n",
              "        background-color: #3B4455;\n",
              "        fill: #D2E3FC;\n",
              "      }\n",
              "\n",
              "      [theme=dark] .colab-df-generate:hover {\n",
              "        background-color: #434B5C;\n",
              "        box-shadow: 0px 1px 3px 1px rgba(0, 0, 0, 0.15);\n",
              "        filter: drop-shadow(0px 1px 2px rgba(0, 0, 0, 0.3));\n",
              "        fill: #FFFFFF;\n",
              "      }\n",
              "    </style>\n",
              "    <button class=\"colab-df-generate\" onclick=\"generateWithVariable('parametros')\"\n",
              "            title=\"Generate code using this dataframe.\"\n",
              "            style=\"display:none;\">\n",
              "\n",
              "  <svg xmlns=\"http://www.w3.org/2000/svg\" height=\"24px\"viewBox=\"0 0 24 24\"\n",
              "       width=\"24px\">\n",
              "    <path d=\"M7,19H8.4L18.45,9,17,7.55,7,17.6ZM5,21V16.75L18.45,3.32a2,2,0,0,1,2.83,0l1.4,1.43a1.91,1.91,0,0,1,.58,1.4,1.91,1.91,0,0,1-.58,1.4L9.25,21ZM18.45,9,17,7.55Zm-12,3A5.31,5.31,0,0,0,4.9,8.1,5.31,5.31,0,0,0,1,6.5,5.31,5.31,0,0,0,4.9,4.9,5.31,5.31,0,0,0,6.5,1,5.31,5.31,0,0,0,8.1,4.9,5.31,5.31,0,0,0,12,6.5,5.46,5.46,0,0,0,6.5,12Z\"/>\n",
              "  </svg>\n",
              "    </button>\n",
              "    <script>\n",
              "      (() => {\n",
              "      const buttonEl =\n",
              "        document.querySelector('#id_8e354b94-9ff0-4b0d-9675-2c089464abaf button.colab-df-generate');\n",
              "      buttonEl.style.display =\n",
              "        google.colab.kernel.accessAllowed ? 'block' : 'none';\n",
              "\n",
              "      buttonEl.onclick = () => {\n",
              "        google.colab.notebook.generateWithVariable('parametros');\n",
              "      }\n",
              "      })();\n",
              "    </script>\n",
              "  </div>\n",
              "\n",
              "    </div>\n",
              "  </div>\n"
            ],
            "application/vnd.google.colaboratory.intrinsic+json": {
              "type": "dataframe",
              "variable_name": "parametros",
              "summary": "{\n  \"name\": \"parametros\",\n  \"rows\": 7,\n  \"fields\": [\n    {\n      \"column\": \"parametros\",\n      \"properties\": {\n        \"dtype\": \"number\",\n        \"std\": 0.005112407765602822,\n        \"min\": 7.971622042604006e-15,\n        \"max\": 0.011001704784708423,\n        \"num_unique_values\": 7,\n        \"samples\": [\n          0.011001704784708423,\n          0.01086405318819449,\n          6.852264739823422e-14\n        ],\n        \"semantic_type\": \"\",\n        \"description\": \"\"\n      }\n    },\n    {\n      \"column\": \"ABS\",\n      \"properties\": {\n        \"dtype\": \"number\",\n        \"std\": 0.005112407765602822,\n        \"min\": 7.971622042604006e-15,\n        \"max\": 0.011001704784708423,\n        \"num_unique_values\": 7,\n        \"samples\": [\n          0.011001704784708423,\n          0.01086405318819449,\n          6.852264739823422e-14\n        ],\n        \"semantic_type\": \"\",\n        \"description\": \"\"\n      }\n    },\n    {\n      \"column\": \"SIGNIFICATIVO\",\n      \"properties\": {\n        \"dtype\": \"boolean\",\n        \"num_unique_values\": 1,\n        \"samples\": [\n          true\n        ],\n        \"semantic_type\": \"\",\n        \"description\": \"\"\n      }\n    }\n  ]\n}"
            }
          },
          "metadata": {},
          "execution_count": 13
        }
      ]
    },
    {
      "cell_type": "code",
      "source": [
        "AdelieFem = df[df.species.isin([\"Adelie\"]) & df.sex.isin([\"Female\"]) ]"
      ],
      "metadata": {
        "id": "WmdHsJlol4ZJ"
      },
      "execution_count": 15,
      "outputs": []
    },
    {
      "cell_type": "code",
      "source": [
        "AdelieFem_case = pd.DataFrame({'bill_length_mm':[AdelieFem.bill_length_mm.mean()], 'bill_depth_mm':[AdelieFem.bill_depth_mm.mean()], 'flipper_length_mm':[AdelieFem.flipper_length_mm.mean()],'sex':[\"Female\"],'species':[\"Adelie\"],'island':[\"Torgersen\"]})\n",
        "lm.predict(AdelieFem_case)"
      ],
      "metadata": {
        "colab": {
          "base_uri": "https://localhost:8080/",
          "height": 115
        },
        "id": "muxp35oimSuS",
        "outputId": "5559f166-ed69-4c20-f07b-d1ca0fd8af72"
      },
      "execution_count": 16,
      "outputs": [
        {
          "output_type": "execute_result",
          "data": {
            "text/plain": [
              "0    3397.130037\n",
              "dtype: float64"
            ],
            "text/html": [
              "<div>\n",
              "<style scoped>\n",
              "    .dataframe tbody tr th:only-of-type {\n",
              "        vertical-align: middle;\n",
              "    }\n",
              "\n",
              "    .dataframe tbody tr th {\n",
              "        vertical-align: top;\n",
              "    }\n",
              "\n",
              "    .dataframe thead th {\n",
              "        text-align: right;\n",
              "    }\n",
              "</style>\n",
              "<table border=\"1\" class=\"dataframe\">\n",
              "  <thead>\n",
              "    <tr style=\"text-align: right;\">\n",
              "      <th></th>\n",
              "      <th>0</th>\n",
              "    </tr>\n",
              "  </thead>\n",
              "  <tbody>\n",
              "    <tr>\n",
              "      <th>0</th>\n",
              "      <td>3397.130037</td>\n",
              "    </tr>\n",
              "  </tbody>\n",
              "</table>\n",
              "</div><br><label><b>dtype:</b> float64</label>"
            ]
          },
          "metadata": {},
          "execution_count": 16
        }
      ]
    },
    {
      "cell_type": "markdown",
      "source": [
        "# Ex3. `scikit-learn` (2.5)\n",
        "\n",
        "Faça um modelo de regressão linear, agora empregando o `scikit-learn`, **idêntico ao modelo final obtido no exercício anterior, EXCETO que você deve excluir nesse modelo o intercept.** Obtenha o R2 e o valor previsto para o mesmo caso do exercício anterior.\n",
        "\n",
        "Nota: lembre-se que os resultados, por conta do intercept, divergem e você deverá mesmo fazer o uso do `scikit-learn`.\n"
      ],
      "metadata": {
        "id": "yCP8LJC5Wqqi"
      }
    },
    {
      "cell_type": "code",
      "source": [
        "for coluna in df.columns:\n",
        "  print(coluna)\n",
        "  print(df[coluna].unique())"
      ],
      "metadata": {
        "colab": {
          "base_uri": "https://localhost:8080/"
        },
        "id": "4urNboZEm49m",
        "outputId": "baa33201-476b-490a-8d22-2c3686f64860"
      },
      "execution_count": 17,
      "outputs": [
        {
          "output_type": "stream",
          "name": "stdout",
          "text": [
            "species\n",
            "['Adelie' 'Chinstrap' 'Gentoo']\n",
            "island\n",
            "['Torgersen' 'Biscoe' 'Dream']\n",
            "bill_length_mm\n",
            "[39.1 39.5 40.3 36.7 39.3 38.9 39.2 41.1 38.6 34.6 36.6 38.7 42.5 34.4\n",
            " 46.  37.8 37.7 35.9 38.2 38.8 35.3 40.6 40.5 37.9 37.2 40.9 36.4 42.2\n",
            " 37.6 39.8 36.5 40.8 36.  44.1 37.  39.6 42.3 40.1 35.  42.  34.5 41.4\n",
            " 39.  35.7 41.3 41.6 35.5 41.8 33.5 39.7 45.8 42.8 36.2 42.1 42.9 35.1\n",
            " 37.3 36.3 36.9 38.3 34.  38.1 33.1 43.2 41.  45.6 42.7 40.2 35.2 41.5\n",
            " 38.5 43.1 36.8 37.5 35.6 32.1 40.7 46.5 50.  51.3 45.4 52.7 45.2 46.1\n",
            " 46.6 51.7 47.  52.  45.9 50.5 50.3 58.  46.4 49.2 42.4 48.5 50.6 46.7\n",
            " 49.5 52.8 54.2 51.  49.7 47.5 47.6 46.9 53.5 49.  46.2 50.9 45.5 50.8\n",
            " 50.1 51.5 49.8 48.1 51.4 45.7 50.7 52.2 49.3 50.2 51.9 46.8 55.8 43.5\n",
            " 49.6 48.7 43.3 48.4 45.1 46.3 47.8 48.2 47.3 59.6 49.1 42.6 44.4 44.\n",
            " 45.3 43.6 44.9 45.  43.8 50.4 54.3 47.7 48.6 51.1 52.5 47.4 43.4 52.1\n",
            " 44.5 49.4 55.9 47.2 41.7 53.4 55.1 48.8 49.9]\n",
            "bill_depth_mm\n",
            "[18.7 17.4 18.  19.3 20.6 17.8 19.6 17.6 21.2 21.1 19.  20.7 18.4 21.5\n",
            " 18.3 19.2 18.1 17.2 18.9 18.6 17.9 16.7 17.  20.  18.5 19.1 19.7 16.9\n",
            " 18.8 17.7 19.5 17.5 16.6 18.2 17.1 16.2 19.4 16.8 16.1 20.3 17.3 16.\n",
            " 16.5 20.5 19.8 15.9 20.1 15.5 19.9 20.8 16.4 13.2 16.3 14.1 15.2 14.5\n",
            " 13.5 14.6 15.3 13.4 15.4 13.7 15.7 15.1 14.3 15.8 13.1 15.  14.2 14.8\n",
            " 13.6 13.9 13.3 14.4 13.8 14.9 15.6 14.  14.7]\n",
            "flipper_length_mm\n",
            "[181. 186. 195. 193. 190. 182. 191. 198. 185. 197. 184. 194. 174. 180.\n",
            " 189. 187. 183. 172. 178. 188. 196. 200. 192. 202. 205. 208. 203. 199.\n",
            " 176. 210. 201. 212. 206. 207. 211. 230. 218. 215. 219. 209. 214. 216.\n",
            " 213. 217. 221. 222. 220. 225. 224. 231. 229. 223. 228. 226.]\n",
            "body_mass_g\n",
            "[3750. 3800. 3250. 3450. 3650. 3625. 4675. 3200. 4400. 3700. 4500. 3325.\n",
            " 4200. 3400. 3600. 3950. 3550. 3150. 3900. 3300. 4150. 4650. 3100. 3000.\n",
            " 4600. 3425. 3500. 4300. 4050. 2900. 2850. 3350. 4100. 3050. 4450. 4250.\n",
            " 4000. 4700. 4350. 3725. 4725. 3075. 2925. 3175. 4775. 3825. 4275. 4075.\n",
            " 3775. 3875. 3275. 4475. 3975. 3475. 3525. 3575. 4550. 3850. 4800. 2700.\n",
            " 3675. 5700. 5400. 5200. 5150. 5550. 5850. 6300. 5350. 5000. 5050. 5100.\n",
            " 5650. 5250. 6050. 4950. 4750. 4900. 5300. 4850. 5800. 6000. 5950. 4625.\n",
            " 5450. 5600. 4875. 4925. 4975. 5500. 4575. 4375. 5750.]\n",
            "sex\n",
            "['Male' 'Female']\n"
          ]
        }
      ]
    },
    {
      "cell_type": "code",
      "source": [
        "df[\"Adelie\"] = df.species == \"Adelie\"\n",
        "# df[\"Chinstrap\"] = df.species == \"Chinstrap\"\n",
        "df[\"Gentoo\"] = df.species == \"Gentoo\""
      ],
      "metadata": {
        "id": "JbEMnrZIm4wA"
      },
      "execution_count": 18,
      "outputs": []
    },
    {
      "cell_type": "code",
      "source": [
        "# ['Torgersen' 'Biscoe' 'Dream']\n",
        "# df[\"Biscoe\"] = df.island == \"Biscoe\"\n",
        "df[\"Dream\"] = df.island == \"Dream\"\n",
        "df[\"Torgersen\"] = df.island == \"Torgersen\""
      ],
      "metadata": {
        "id": "c3v2O3ySnlvG"
      },
      "execution_count": 19,
      "outputs": []
    },
    {
      "cell_type": "code",
      "source": [
        "# ['Male' 'Female']\n",
        "df[\"Male\"] = df.sex == \"Male\""
      ],
      "metadata": {
        "id": "P8W2n_mFnoUv"
      },
      "execution_count": 20,
      "outputs": []
    },
    {
      "cell_type": "code",
      "source": [
        "from sklearn import linear_model\n",
        "\n",
        "\n",
        "x = df.drop(columns=[\"body_mass_g\",\"island\",\"species\",\"sex\"])\n",
        "y = df.body_mass_g\n",
        "reg = linear_model.LinearRegression(fit_intercept = False)\n",
        "reg.fit(x, y)\n",
        "AdelieFem_case = pd.DataFrame({'bill_length_mm':[AdelieFem.bill_length_mm.mean()], 'bill_depth_mm':[AdelieFem.bill_depth_mm.mean()], 'flipper_length_mm':[AdelieFem.flipper_length_mm.mean()],'Adelie':[True],'Gentoo':[False],'Dream':[False],'Torgersen':[True],'Male':[False]})\n",
        "\n",
        "y_pred = reg.predict(AdelieFem_case)\n",
        "print(f'Preço estimado (US$ 1000): {y_pred[0]:.2f}')"
      ],
      "metadata": {
        "colab": {
          "base_uri": "https://localhost:8080/"
        },
        "id": "7dFFOSt7nsF2",
        "outputId": "5aeb3864-5754-43e9-ee13-3e13233c7f7c"
      },
      "execution_count": 21,
      "outputs": [
        {
          "output_type": "stream",
          "name": "stdout",
          "text": [
            "Preço estimado (US$ 1000): 3374.86\n"
          ]
        }
      ]
    },
    {
      "cell_type": "code",
      "source": [
        "\n",
        "print(\"Score (R2): \", reg.score(x, y)) # R2"
      ],
      "metadata": {
        "colab": {
          "base_uri": "https://localhost:8080/"
        },
        "id": "qzGBwxrFozZF",
        "outputId": "6e319e09-4c2d-4bf1-fc55-3ba745c2fc1c"
      },
      "execution_count": 26,
      "outputs": [
        {
          "output_type": "stream",
          "name": "stdout",
          "text": [
            "Score (R2):  0.8720024773532022\n"
          ]
        }
      ]
    },
    {
      "cell_type": "code",
      "source": [
        "print(\"Coeficientes: \", dict(zip(reg.feature_names_in_, reg.coef_)))\n"
      ],
      "metadata": {
        "colab": {
          "base_uri": "https://localhost:8080/"
        },
        "id": "KcR1kl-CoZWx",
        "outputId": "b8c6bcf5-9c63-4d7d-df8b-a3c511e65ab8"
      },
      "execution_count": 23,
      "outputs": [
        {
          "output_type": "stream",
          "name": "stdout",
          "text": [
            "Coeficientes:  {'bill_length_mm': 12.444818988135676, 'bill_depth_mm': 48.745845258567684, 'flipper_length_mm': 10.336493366977038, 'Adelie': 149.1083198217481, 'Gentoo': 1280.5003124685504, 'Dream': -28.40232719919959, 'Torgersen': -38.04846603966954, 'Male': 474.9966389153872}\n"
          ]
        }
      ]
    },
    {
      "cell_type": "markdown",
      "source": [
        "# Ex4. Erro e Resíduos (2.5)\n",
        "\n",
        "Empregue o **mesmo modelo final do exercício Ex2.**\n",
        "\n",
        "a. Calcule o MAPE e o RMSE do modelo sobre o conjunto total de dados\n",
        "\n",
        "b. Os resíduos são o erro de previsão do modelo sem quaisquer transformações:\n",
        "\n",
        "$$ Res_i = y_i - \\hat{y_i} $$\n",
        "\n",
        "Verifique graficamente se os resíduos têm distribuição normal."
      ],
      "metadata": {
        "id": "1QcV1HUuZgw0"
      }
    },
    {
      "cell_type": "code",
      "source": [
        "import numpy as np\n",
        "from sklearn.metrics import mean_squared_error, mean_absolute_error\n",
        "\n",
        "def calculate_metrics(y_true, y_pred):\n",
        "    metrics = {}\n",
        "\n",
        "    # Mean Squared Error (MSE)\n",
        "    metrics['MSE'] = mean_squared_error(y_true, y_pred)\n",
        "\n",
        "    # Root Mean Squared Error (RMSE)\n",
        "    metrics['RMSE'] = np.sqrt(metrics['MSE'])\n",
        "\n",
        "    # Mean Absolute Percentage Error (MAPE)\n",
        "    if np.any(y_true == 0):\n",
        "        metrics['MAPE'] = 'Undefined (division by zero)'\n",
        "    else:\n",
        "        metrics['MAPE'] = np.mean(np.abs((y_true - y_pred) / y_true)) * 100\n",
        "\n",
        "    # Mean Absolute Error (MAE)\n",
        "    metrics['MAE'] = mean_absolute_error(y_true, y_pred)\n",
        "\n",
        "    # Symmetric Mean Absolute Percentage Error (sMAPE)\n",
        "    metrics['sMAPE'] = 100/len(y_true) * np.sum(2 * np.abs(y_pred - y_true) / (np.abs(y_true) + np.abs(y_pred)))\n",
        "\n",
        "    # Mean Absolute Deviation (MAD)\n",
        "    metrics['MAD'] = np.mean(np.abs(y_true - np.mean(y_true)))\n",
        "\n",
        "    for key, value in metrics.items():\n",
        "        print(f\"{key}: {value:.2f}\")\n",
        "\n",
        "    return metrics\n",
        "\n",
        "# calculate_metrics(y_true, y_pred)\n"
      ],
      "metadata": {
        "id": "T8zeiQRipKaT"
      },
      "execution_count": 27,
      "outputs": []
    },
    {
      "cell_type": "code",
      "source": [
        "calculate_metrics(df.body_mass_g, reg.predict(df.drop(columns=[\"body_mass_g\",\"island\",\"species\",\"sex\"])))\n"
      ],
      "metadata": {
        "colab": {
          "base_uri": "https://localhost:8080/"
        },
        "id": "oleXFyOrpcN4",
        "outputId": "349ebf2a-e1ae-4633-a0c0-5e6b589f9354"
      },
      "execution_count": 29,
      "outputs": [
        {
          "output_type": "stream",
          "name": "stdout",
          "text": [
            "MSE: 82740.85\n",
            "RMSE: 287.65\n",
            "MAPE: 5.65\n",
            "MAE: 228.32\n",
            "sMAPE: 5.60\n",
            "MAD: 679.89\n"
          ]
        },
        {
          "output_type": "execute_result",
          "data": {
            "text/plain": [
              "{'MSE': 82740.85274178546,\n",
              " 'RMSE': 287.64709757232987,\n",
              " 'MAPE': 5.645942332335314,\n",
              " 'MAE': 228.3176207141703,\n",
              " 'sMAPE': 5.6025598605494675,\n",
              " 'MAD': 679.8902506109714}"
            ]
          },
          "metadata": {},
          "execution_count": 29
        }
      ]
    },
    {
      "cell_type": "code",
      "source": [
        "y_true = df.body_mass_g\n",
        "y_pred = reg.predict(df.drop(columns=[\"body_mass_g\",\"island\",\"species\",\"sex\"]))"
      ],
      "metadata": {
        "id": "FcT8Xf9RqZ37"
      },
      "execution_count": 31,
      "outputs": []
    },
    {
      "cell_type": "code",
      "source": [
        "metrics = {}\n",
        "\n",
        "metrics['MAPE'] = np.mean(np.abs((y_true - y_pred) / y_true)) * 100\n"
      ],
      "metadata": {
        "id": "Sbg8gN6uqNin"
      },
      "execution_count": 33,
      "outputs": []
    },
    {
      "cell_type": "code",
      "source": [
        "    # Mean Squared Error (MSE)\n",
        "metrics['MSE'] = mean_squared_error(y_true, y_pred)\n",
        "\n",
        "    # Root Mean Squared Error (RMSE)\n",
        "metrics['RMSE'] = np.sqrt(metrics['MSE'])"
      ],
      "metadata": {
        "id": "3DdvMW8NqU9L"
      },
      "execution_count": 34,
      "outputs": []
    },
    {
      "cell_type": "code",
      "source": [
        "metrics"
      ],
      "metadata": {
        "colab": {
          "base_uri": "https://localhost:8080/"
        },
        "id": "S_3FOuFcqqME",
        "outputId": "c91f347c-2c47-460f-bb6f-375c4bfce565"
      },
      "execution_count": 35,
      "outputs": [
        {
          "output_type": "execute_result",
          "data": {
            "text/plain": [
              "{'MAPE': 5.645942332335314,\n",
              " 'MSE': 82740.85274178546,\n",
              " 'RMSE': 287.64709757232987}"
            ]
          },
          "metadata": {},
          "execution_count": 35
        }
      ]
    },
    {
      "cell_type": "code",
      "source": [
        "residuos = df.body_mass_g - reg.predict(df.drop(columns=[\"body_mass_g\",\"island\",\"species\",\"sex\"]))"
      ],
      "metadata": {
        "id": "SRrwDFVhrT3J"
      },
      "execution_count": 36,
      "outputs": []
    },
    {
      "cell_type": "code",
      "source": [
        "plt.figure(figsize=(9,3.5))\n",
        "\n",
        "plt.hist(residuos, bins=100) # bins numero de colunas\n"
      ],
      "metadata": {
        "colab": {
          "base_uri": "https://localhost:8080/",
          "height": 965
        },
        "id": "2pSaDs1vrmM0",
        "outputId": "abbf516c-a299-4459-f48b-fc1b02823f5b"
      },
      "execution_count": 39,
      "outputs": [
        {
          "output_type": "execute_result",
          "data": {
            "text/plain": [
              "(array([ 1.,  0.,  0.,  0.,  0.,  0.,  2.,  1.,  1.,  0.,  1.,  3.,  1.,\n",
              "         1.,  1.,  0.,  0.,  6.,  3.,  1.,  2.,  0.,  3.,  6.,  4.,  3.,\n",
              "         2.,  4.,  4.,  6.,  5.,  7.,  3.,  6.,  3.,  7., 10.,  6.,  6.,\n",
              "         7.,  7., 12.,  6., 10.,  7.,  9.,  9.,  8.,  9.,  6.,  7.,  9.,\n",
              "         9.,  9.,  5.,  4.,  4.,  4.,  0.,  8.,  4.,  3.,  7.,  7.,  6.,\n",
              "         5.,  4.,  7.,  3.,  5.,  1.,  2.,  3.,  2.,  1.,  0.,  2.,  2.,\n",
              "         1.,  2.,  1.,  0.,  0.,  2.,  1.,  1.,  0.,  1.,  0.,  1.,  0.,\n",
              "         0.,  0.,  0.,  0.,  0.,  0.,  0.,  0.,  1.]),\n",
              " array([-783.77480529, -766.86789651, -749.96098773, -733.05407896,\n",
              "        -716.14717018, -699.2402614 , -682.33335263, -665.42644385,\n",
              "        -648.51953507, -631.6126263 , -614.70571752, -597.79880874,\n",
              "        -580.89189997, -563.98499119, -547.07808241, -530.17117364,\n",
              "        -513.26426486, -496.35735608, -479.45044731, -462.54353853,\n",
              "        -445.63662975, -428.72972098, -411.8228122 , -394.91590343,\n",
              "        -378.00899465, -361.10208587, -344.1951771 , -327.28826832,\n",
              "        -310.38135954, -293.47445077, -276.56754199, -259.66063321,\n",
              "        -242.75372444, -225.84681566, -208.93990688, -192.03299811,\n",
              "        -175.12608933, -158.21918055, -141.31227178, -124.405363  ,\n",
              "        -107.49845422,  -90.59154545,  -73.68463667,  -56.77772789,\n",
              "         -39.87081912,  -22.96391034,   -6.05700156,   10.84990721,\n",
              "          27.75681599,   44.66372476,   61.57063354,   78.47754232,\n",
              "          95.38445109,  112.29135987,  129.19826865,  146.10517742,\n",
              "         163.0120862 ,  179.91899498,  196.82590375,  213.73281253,\n",
              "         230.63972131,  247.54663008,  264.45353886,  281.36044764,\n",
              "         298.26735641,  315.17426519,  332.08117397,  348.98808274,\n",
              "         365.89499152,  382.8019003 ,  399.70880907,  416.61571785,\n",
              "         433.52262662,  450.4295354 ,  467.33644418,  484.24335295,\n",
              "         501.15026173,  518.05717051,  534.96407928,  551.87098806,\n",
              "         568.77789684,  585.68480561,  602.59171439,  619.49862317,\n",
              "         636.40553194,  653.31244072,  670.2193495 ,  687.12625827,\n",
              "         704.03316705,  720.94007583,  737.8469846 ,  754.75389338,\n",
              "         771.66080216,  788.56771093,  805.47461971,  822.38152848,\n",
              "         839.28843726,  856.19534604,  873.10225481,  890.00916359,\n",
              "         906.91607237]),\n",
              " <BarContainer object of 100 artists>)"
            ]
          },
          "metadata": {},
          "execution_count": 39
        },
        {
          "output_type": "display_data",
          "data": {
            "text/plain": [
              "<Figure size 900x350 with 1 Axes>"
            ],
            "image/png": "[encoded data removed]"
          },
          "metadata": {}
        }
      ]
    },
    {
      "cell_type": "code",
      "source": [
        "\n",
        "# plt.hist(residuos, density=True, cumulative=True, bins=20)"
      ],
      "metadata": {
        "id": "UHqYgT9Jsxk9"
      },
      "execution_count": 41,
      "outputs": []
    },
    {
      "cell_type": "markdown",
      "source": [
        "# Ex5. Diferentes modelos (1.0)\n",
        "\n",
        "Compare o modelo linear do Ex3. (**considere agora o modelo linear com o intercept**) com os modelos robustos e outros dois modelos de regressão não linear do `scikit-learn`, o `SVR` e o `Ridge`. Quais desses modelos apresenta valores de R2 e um erro (RMSE) melhores que da regressão linear?"
      ],
      "metadata": {
        "id": "8gnadz28mby9"
      }
    },
    {
      "cell_type": "code",
      "source": [
        "from sklearn import linear_model\n",
        "\n",
        "\n",
        "x = df.drop(columns=[\"body_mass_g\",\"island\",\"species\",\"sex\"])\n",
        "y = df.body_mass_g\n",
        "reg = linear_model.LinearRegression()\n",
        "reg.fit(x, y)\n",
        "AdelieFem_case = pd.DataFrame({'bill_length_mm':[AdelieFem.bill_length_mm.mean()], 'bill_depth_mm':[AdelieFem.bill_depth_mm.mean()], 'flipper_length_mm':[AdelieFem.flipper_length_mm.mean()],'Adelie':[True],'Gentoo':[False],'Dream':[False],'Torgersen':[True],'Male':[False]})\n",
        "\n",
        "y_pred =  reg.predict(df.drop(columns=[\"body_mass_g\",\"island\",\"species\",\"sex\"]))\n",
        "print(f'Preço estimado (US$ 1000): {y_pred[0]:.2f}')\n",
        "print(\"Coeficientes: \", dict(zip(reg.feature_names_in_, reg.coef_)))\n",
        "\n"
      ],
      "metadata": {
        "colab": {
          "base_uri": "https://localhost:8080/"
        },
        "id": "P4h0LzhavC3d",
        "outputId": "c4910a68-968f-4a41-ddc1-900343c1c423"
      },
      "execution_count": 48,
      "outputs": [
        {
          "output_type": "stream",
          "name": "stdout",
          "text": [
            "Preço estimado (US$ 1000): 3753.16\n",
            "Coeficientes:  {'bill_length_mm': 18.189315088934812, 'bill_depth_mm': 67.57542918866558, 'flipper_length_mm': 16.23850616659588, 'Adelie': 260.306294552343, 'Gentoo': 1248.0677395546431, 'Dream': -13.103051308900538, 'Torgersen': -48.063625808092475, 'Male': 387.22425529644283}\n"
          ]
        }
      ]
    },
    {
      "cell_type": "code",
      "source": [
        "print(\"Intercept: \", reg.intercept_)\n",
        "print(\"Score (R2): \", reg.score(x, y)) # R2\n",
        "print()"
      ],
      "metadata": {
        "colab": {
          "base_uri": "https://localhost:8080/"
        },
        "id": "PdOORjuCvzYB",
        "outputId": "403a9649-4a5d-4fda-b7ea-54a752073f43"
      },
      "execution_count": 55,
      "outputs": [
        {
          "output_type": "stream",
          "name": "stdout",
          "text": [
            "Intercept:  -1760.3353900443071\n",
            "Score (R2):  0.875223107235797\n",
            "\n"
          ]
        }
      ]
    },
    {
      "cell_type": "code",
      "source": [
        "    # Mean Squared Error (MSE)\n",
        "metrica= {}\n",
        "metrica['MSE'] = mean_squared_error(y,y_pred )\n",
        "\n",
        "    # Root Mean Squared Error (RMSE)\n",
        "metrica['RMSE'] = np.sqrt(metrics['MSE'])"
      ],
      "metadata": {
        "id": "TVFQr037wGD8"
      },
      "execution_count": 53,
      "outputs": []
    },
    {
      "cell_type": "code",
      "source": [
        "metrica"
      ],
      "metadata": {
        "colab": {
          "base_uri": "https://localhost:8080/"
        },
        "id": "t7x2eelawecT",
        "outputId": "35128fb2-c50f-4997-b0ff-b6c52279edf9"
      },
      "execution_count": 54,
      "outputs": [
        {
          "output_type": "execute_result",
          "data": {
            "text/plain": [
              "{'MSE': 80658.95570705224, 'RMSE': 284.0052036619263}"
            ]
          },
          "metadata": {},
          "execution_count": 54
        }
      ]
    },
    {
      "cell_type": "code",
      "source": [
        " np.sqrt(mean_squared_error(y,y_pred )"
      ],
      "metadata": {
        "colab": {
          "base_uri": "https://localhost:8080/"
        },
        "id": "Ut-18pOOwstt",
        "outputId": "a8d5f5b7-71e2-4c3a-8eee-e3c8f5fe16c8"
      },
      "execution_count": 56,
      "outputs": [
        {
          "output_type": "execute_result",
          "data": {
            "text/plain": [
              "284.0052036619263"
            ]
          },
          "metadata": {},
          "execution_count": 56
        }
      ]
    },
    {
      "cell_type": "code",
      "source": [
        "from sklearn.svm import SVR\n",
        "from sklearn.linear_model import RANSACRegressor\n",
        "from sklearn.linear_model import TheilSenRegressor\n",
        "# from sklearn.ensemble import Ridge\n",
        "from sklearn.neural_network import MLPRegressor # entradas precisam ser normalizadas\n",
        "\n",
        "\n",
        "# Quais dos modelos apresenta valores de R2 e um erro (RMSE) melhores que da regressão linear?\n",
        "\n",
        "\n",
        "# SVR\n",
        "\n",
        "# HuberRegressor\n",
        "\n",
        "# RANSACRegressor\n",
        "\n",
        "# TheilSenRegressor\n",
        "\n",
        "# Ridge\n",
        "\n",
        "# Nenhum dos modelos\n",
        "\n",
        "\n",
        "from sklearn.linear_model import (LinearRegression, HuberRegressor,\n",
        "                                  RANSACRegressor, TheilSenRegressor)\n",
        "\n",
        "X_train = X_test = df.drop(columns=[\"body_mass_g\",\"island\",\"species\",\"sex\"])\n",
        "y_train = df.body_mass_g\n",
        "base_estimators = [ #Ridge(),\n",
        "                    SVR(),\n",
        "                    HuberRegressor(),\n",
        "                    RANSACRegressor(),\n",
        "                    TheilSenRegressor()]\n",
        "\n",
        "\n",
        "for regressor in base_estimators:\n",
        "\n",
        "  regressor.fit(X_train, y_train)\n",
        "\n",
        "  y_pred = regressor.predict(X_test)\n",
        "\n",
        "  print(str(regressor))\n",
        "  print( np.sqrt(mean_squared_error(y,y_pred )))\n",
        "  print(\"Score (R2): \", reg.score(x, y_pred)) # R2\n",
        "\n",
        "  print()\n",
        "\n",
        "plt.show()\n",
        "\n"
      ],
      "metadata": {
        "id": "wXiOSDNltr4v",
        "colab": {
          "base_uri": "https://localhost:8080/"
        },
        "outputId": "231cecaa-77bc-4808-a17c-ea30d0763997"
      },
      "execution_count": 64,
      "outputs": [
        {
          "output_type": "stream",
          "name": "stdout",
          "text": [
            "SVR()\n",
            "816.7797351359687\n",
            "Score (R2):  -65146.8328741204\n",
            "\n",
            "HuberRegressor()\n",
            "291.39676279568465\n",
            "Score (R2):  0.9921523649536663\n",
            "\n"
          ]
        },
        {
          "output_type": "stream",
          "name": "stderr",
          "text": [
            "/usr/local/lib/python3.10/dist-packages/sklearn/linear_model/_huber.py:342: ConvergenceWarning: lbfgs failed to converge (status=1):\n",
            "STOP: TOTAL NO. of ITERATIONS REACHED LIMIT.\n",
            "\n",
            "Increase the number of iterations (max_iter) or scale the data as shown in:\n",
            "    https://scikit-learn.org/stable/modules/preprocessing.html\n",
            "  self.n_iter_ = _check_optimize_result(\"lbfgs\", opt_res, self.max_iter)\n"
          ]
        },
        {
          "output_type": "stream",
          "name": "stdout",
          "text": [
            "RANSACRegressor()\n",
            "298.172652884215\n",
            "Score (R2):  0.9850660560228548\n",
            "\n",
            "TheilSenRegressor()\n",
            "316.24790965869863\n",
            "Score (R2):  0.9632066949160877\n",
            "\n"
          ]
        }
      ]
    },
    {
      "cell_type": "code",
      "source": [],
      "metadata": {
        "id": "4MI1sfybyB9H"
      },
      "execution_count": null,
      "outputs": []
    }
  ],
  "metadata": {
    "colab": {
      "provenance": []
    },
    "kernelspec": {
      "display_name": "Python 3",
      "name": "python3"
    },
    "language_info": {
      "name": "python"
    }
  },
  "nbformat": 4,
  "nbformat_minor": 0
}