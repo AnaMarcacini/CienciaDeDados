{
  "nbformat": 4,
  "nbformat_minor": 0,
  "metadata": {
    "colab": {
      "name": "index.ipynb",
      "provenance": [],
      "collapsed_sections": [],
      "authorship_tag": "ABX9TyMIAwaxLyHBiJH8pJpGUZ2M",
      "include_colab_link": true
    },
    "kernelspec": {
      "name": "python3",
      "display_name": "Python 3"
    },
    "language_info": {
      "name": "python"
    }
  },
  "cells": [
    {
      "cell_type": "markdown",
      "metadata": {
        "id": "view-in-github",
        "colab_type": "text"
      },
      "source": [
        "<a href=\"https://colab.research.google.com/github/Rogerio-mack/Visualizacao-de-Dados-em-Python/blob/main/index.ipynb\" target=\"_parent\"><img src=\"https://colab.research.google.com/assets/colab-badge.svg\" alt=\"Open In Colab\"/></a>"
      ]
    },
    {
      "cell_type": "markdown",
      "metadata": {
        "id": "OcEZHyZ-4ptM"
      },
      "source": [
        "# **Uma Introdução à Visualização de Dados com Python**\n",
        "\n",
        "### *Rogério de Oliveira* \n",
        "\n",
        "<br>\n",
        "<hr>\n",
        "<br>\n",
        "<br>\n",
        "\n",
        "\n",
        "#[Prefácio](http://meusite.mackenzie.br/rogerio/Visualizacao-de-Dados-em-Python-main/intro.html)\n",
        "\n",
        "#[Introdução](http://meusite.mackenzie.br/rogerio/Visualizacao-de-Dados-em-Python-main/c0_intro.html)\n",
        "\n",
        "#[Básico: Colab, Python, NumPy e Pandas](http://meusite.mackenzie.br/rogerio/Visualizacao-de-Dados-em-Python-main/c0_parte_1.html)\n",
        "\n",
        "#[Gráficos com Matplotlib](http://meusite.mackenzie.br/rogerio/Visualizacao-de-Dados-em-Python-main/c2_parte_1.html)\n",
        "\n",
        "#[Evolução](http://meusite.mackenzie.br/rogerio/Visualizacao-de-Dados-em-Python-main/c3_parte_1.html)\n",
        "\n",
        "#[Distribuição](http://meusite.mackenzie.br/rogerio/Visualizacao-de-Dados-em-Python-main/c4_parte_1.html)\n",
        "\n",
        "#[Quantidades e Proporções](http://meusite.mackenzie.br/rogerio/Visualizacao-de-Dados-em-Python-main/c5_parte_1.html)\n",
        "\n",
        "#[Relações](http://meusite.mackenzie.br/rogerio/Visualizacao-de-Dados-em-Python-main/c6_parte_1.html)\n",
        "\n",
        "#[Boas Práticas de Visualização](http://meusite.mackenzie.br/rogerio/Visualizacao-de-Dados-em-Python-main/c7_parte_1.html)\n",
        "\n",
        "#[Bibliografia e Recursos](http://meusite.mackenzie.br/rogerio/Visualizacao-de-Dados-em-Python-main/refs.html)\n"
      ]
    }
  ]
}