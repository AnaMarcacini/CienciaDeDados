{
 "cells": [
  {
   "cell_type": "markdown",
   "metadata": {},
   "source": [
    "# Conteúdos importantes para a prova\n",
    "\n",
    "1. [Pandas. Combinar dados, transpor e aplicar transformações às colunas, `groupby`.\n",
    "`merge`, `concat`, `transpose`, `apply`, normalização para valores numéricos, `fillna`, `replace` ](#Operacoes)\n",
    "\n",
    "2. Visualização de Dados. Tipos de visualização e gráficos. Elementos gráficos dos Labs:\n",
    "*anottations*, `vlines/lines`, múltiplos gráficos em uma mesma figura, colocar linha de tendência,\n",
    "mapa de calor (incluindo de correlação) etc. https://meusite.mackenzie.br/rogerio/MyBook/_build/html/c7_parte_1.html\n",
    "\n",
    "3. Funções de distribuição de probabilidades. `PDF`, `CDF`, `PPF`, `qqplot`, várias distrubuições \n",
    "com diferentes parâmetros.\n",
    "\n",
    "4. Testes estatíticos. Tabela de testes no último Lab + testes de correlação. Semalhança de curvas.\n",
    "Entender a diferença entre testes paramétricos e não paramétricos, e suas relação com IC.\n",
    "\n",
    "\n",
    "\n",
    "\n",
    "\n",
    "\n",
    "  "
   ]
  },
  {
   "cell_type": "markdown",
   "metadata": {},
   "source": [
    "# Operacoes"
   ]
  },
  {
   "cell_type": "markdown",
   "metadata": {},
   "source": [
    "Pandas. Combinar dados, transpor e aplicar transformações às colunas, groupby. merge, concat, transpose, apply, normalização para valores numéricos, fillna, replace"
   ]
  },
  {
   "cell_type": "markdown",
   "metadata": {},
   "source": [
    "## Merge\n",
    "Combinar dois DataFrames com base em uma ou mais colunas."
   ]
  },
  {
   "cell_type": "code",
   "execution_count": null,
   "metadata": {},
   "outputs": [
    {
     "name": "stdout",
     "output_type": "stream",
     "text": [
      "   ID   Nome  Idade\n",
      "0   1    Ana     23\n",
      "1   2  Bruno     34\n",
      "_________________________________\n",
      "   ID    Nome  Idade\n",
      "0   1     Ana   23.0\n",
      "1   2   Bruno   34.0\n",
      "2   3  Carlos    NaN\n",
      "3   4     NaN   45.0\n",
      "_________________________________\n",
      "   ID    Nome  Idade\n",
      "0   1     Ana   23.0\n",
      "1   2   Bruno   34.0\n",
      "2   3  Carlos    NaN\n",
      "_________________________________\n"
     ]
    }
   ],
   "source": [
    "# Criando DataFrames de exemplo\n",
    "df1 = pd.DataFrame({\n",
    "    'ID': [1, 2, 3],\n",
    "    'Nome': ['Ana', 'Bruno', 'Carlos']\n",
    "})\n",
    "\n",
    "df2 = pd.DataFrame({\n",
    "    'ID': [1, 2, 4],\n",
    "    'Idade': [23, 34, 45]\n",
    "})\n",
    "\n",
    "# Merge usando a coluna 'ID'\n",
    "merged_df = pd.merge(df1, df2, on='ID')\n",
    "print(merged_df)\n",
    "print(\"_________________________________\")\n",
    "# Merge com 'how' definido como 'outer'\n",
    "outer_merged_df = pd.merge(df1, df2, on='ID', how='outer')\n",
    "print(outer_merged_df)\n",
    "print(\"_________________________________\")\n",
    "\n",
    "# Merge com 'how' definido como 'left'\n",
    "left_merged_df = pd.merge(df1, df2, on='ID', how='left')\n",
    "print(left_merged_df)\n",
    "print(\"_________________________________\")\n"
   ]
  },
  {
   "cell_type": "code",
   "execution_count": null,
   "metadata": {},
   "outputs": [
    {
     "name": "stdout",
     "output_type": "stream",
     "text": [
      "   ID   Nome Cidade  Idade\n",
      "0   1    Ana     SP     23\n",
      "1   2  Bruno     RJ     34\n",
      "_________________________________\n",
      "   ID Nome_left Nome_right\n",
      "0   1       Ana      Maria\n",
      "1   2     Bruno       João\n"
     ]
    }
   ],
   "source": [
    "# Exemplo 2: Merge usando múltiplas colunas\n",
    "df1 = pd.DataFrame({\n",
    "    'ID': [1, 2, 3],\n",
    "    'Nome': ['Ana', 'Bruno', 'Carlos'],\n",
    "    'Cidade': ['SP', 'RJ', 'MG']\n",
    "})\n",
    "\n",
    "df2 = pd.DataFrame({\n",
    "    'ID': [1, 2, 4],\n",
    "    'Idade': [23, 34, 45],\n",
    "    'Cidade': ['SP', 'RJ', 'BA']\n",
    "})\n",
    "\n",
    "merged_df_multiple = pd.merge(df1, df2, on=['ID', 'Cidade'])\n",
    "print(merged_df_multiple)\n",
    "\n",
    "# Exemplo 3: Merge com suffixes para colunas com o mesmo nome\n",
    "df3 = pd.DataFrame({\n",
    "    'ID': [1, 2, 3],\n",
    "    'Nome': ['Ana', 'Bruno', 'Carlos']\n",
    "})\n",
    "\n",
    "df4 = pd.DataFrame({\n",
    "    'ID': [1, 2, 4],\n",
    "    'Nome': ['Maria', 'João', 'Pedro']\n",
    "})\n",
    "print(\"_________________________________\")\n",
    "merged_df_suffixes = pd.merge(df3, df4, on='ID', suffixes=('_left', '_right'))\n",
    "print(merged_df_suffixes)\n"
   ]
  },
  {
   "cell_type": "markdown",
   "metadata": {},
   "source": [
    "## Concat\n",
    "Concatenar DataFrames ao longo de um eixo especificado."
   ]
  },
  {
   "cell_type": "code",
   "execution_count": null,
   "metadata": {},
   "outputs": [
    {
     "name": "stdout",
     "output_type": "stream",
     "text": [
      "   ID      Nome\n",
      "0   1       Ana\n",
      "1   2     Bruno\n",
      "2   3    Carlos\n",
      "0   4   Daniela\n",
      "1   5   Eduardo\n",
      "2   6  Fernanda\n",
      "_________________________________\n",
      "   ID    Nome Sobrenome\n",
      "0   1     Ana     Silva\n",
      "1   2   Bruno     Souza\n",
      "2   3  Carlos    Santos\n",
      "_________________________________\n",
      "   ID      Nome\n",
      "0   1       Ana\n",
      "1   2     Bruno\n",
      "2   3    Carlos\n",
      "3   4   Daniela\n",
      "4   5   Eduardo\n",
      "5   6  Fernanda\n",
      "_________________________________\n"
     ]
    }
   ],
   "source": [
    "# Criando DataFrames de exemplo\n",
    "df3 = pd.DataFrame({\n",
    "    'ID': [1, 2, 3],\n",
    "    'Nome': ['Ana', 'Bruno', 'Carlos']\n",
    "})\n",
    "\n",
    "df4 = pd.DataFrame({\n",
    "    'ID': [4, 5, 6],\n",
    "    'Nome': ['Daniela', 'Eduardo', 'Fernanda']\n",
    "})\n",
    "\n",
    "# Concatenação vertical\n",
    "concat_df = pd.concat([df3, df4])\n",
    "print(concat_df)\n",
    "print(\"_________________________________\")\n",
    "\n",
    "# Concatenação horizontal\n",
    "df5 = pd.DataFrame({\n",
    "    'Sobrenome': ['Silva', 'Souza', 'Santos']\n",
    "})\n",
    "\n",
    "concat_df_horizontal = pd.concat([df3, df5], axis=1)\n",
    "print(concat_df_horizontal)\n",
    "print(\"_________________________________\")\n",
    "\n",
    "# Concat com redefinição de índice\n",
    "concat_df_reset_index = pd.concat([df3, df4], ignore_index=True)\n",
    "print(concat_df_reset_index)\n",
    "print(\"_________________________________\")\n"
   ]
  },
  {
   "cell_type": "code",
   "execution_count": null,
   "metadata": {},
   "outputs": [
    {
     "name": "stdout",
     "output_type": "stream",
     "text": [
      "          ID      Nome\n",
      "Grupo1 0   1       Ana\n",
      "       1   2     Bruno\n",
      "       2   3    Carlos\n",
      "Grupo2 0   4   Daniela\n",
      "       1   5   Eduardo\n",
      "       2   6  Fernanda\n",
      "              ID     Nome\n",
      "Grupo  Linha             \n",
      "Grupo1 0       1      Ana\n",
      "       1       2    Bruno\n",
      "Grupo2 0       3   Carlos\n",
      "       1       4  Daniela\n"
     ]
    }
   ],
   "source": [
    "# Exemplo 2: Concat com chaves (keys) para identificação\n",
    "df5 = pd.DataFrame({\n",
    "    'ID': [1, 2, 3],\n",
    "    'Nome': ['Ana', 'Bruno', 'Carlos']\n",
    "})\n",
    "\n",
    "df6 = pd.DataFrame({\n",
    "    'ID': [4, 5, 6],\n",
    "    'Nome': ['Daniela', 'Eduardo', 'Fernanda']\n",
    "})\n",
    "\n",
    "concat_with_keys = pd.concat([df5, df6], keys=['Grupo1', 'Grupo2'])\n",
    "print(concat_with_keys)\n",
    "\n",
    "# Exemplo 3: Concat com níveis de índice (levels)\n",
    "df7 = pd.DataFrame({\n",
    "    'ID': [1, 2],\n",
    "    'Nome': ['Ana', 'Bruno']\n",
    "})\n",
    "\n",
    "df8 = pd.DataFrame({\n",
    "    'ID': [3, 4],\n",
    "    'Nome': ['Carlos', 'Daniela']\n",
    "})\n",
    "\n",
    "concat_with_levels = pd.concat([df7, df8], keys=['Grupo1', 'Grupo2'], names=['Grupo', 'Linha'])\n",
    "print(concat_with_levels)\n"
   ]
  },
  {
   "cell_type": "markdown",
   "metadata": {},
   "source": [
    "## Transpose\n",
    "Transpor o DataFrame, trocando linhas por colunas."
   ]
  },
  {
   "cell_type": "code",
   "execution_count": null,
   "metadata": {},
   "outputs": [
    {
     "name": "stdout",
     "output_type": "stream",
     "text": [
      "   A  B  C\n",
      "0  1  4  7\n",
      "1  2  5  8\n",
      "2  3  6  9\n",
      "_________________________________\n",
      "   0  1  2\n",
      "A  1  2  3\n",
      "B  4  5  6\n",
      "C  7  8  9\n",
      "_________________________________\n",
      "   Linha1  Linha2  Linha3\n",
      "A       1       2       3\n",
      "B       4       5       6\n",
      "C       7       8       9\n",
      "_________________________________\n",
      "  index  Linha1  Linha2  Linha3\n",
      "0     A       1       2       3\n",
      "1     B       4       5       6\n",
      "2     C       7       8       9\n",
      "_________________________________\n"
     ]
    }
   ],
   "source": [
    "# Criando DataFrame de exemplo\n",
    "df6 = pd.DataFrame({\n",
    "    'A': [1, 2, 3],\n",
    "    'B': [4, 5, 6],\n",
    "    'C': [7, 8, 9]\n",
    "})\n",
    "print(df6)\n",
    "print(\"_________________________________\")\n",
    "\n",
    "# Transposição do DataFrame\n",
    "transposed_df = df6.transpose()\n",
    "print(transposed_df)\n",
    "print(\"_________________________________\")\n",
    "\n",
    "# Transposição com mudança de nome das colunas\n",
    "transposed_df.columns = ['Linha1', 'Linha2', 'Linha3']\n",
    "print(transposed_df)\n",
    "print(\"_________________________________\")\n",
    "\n",
    "# Transposição com reset de índice\n",
    "transposed_reset_df = transposed_df.reset_index()\n",
    "print(transposed_reset_df)\n",
    "print(\"_________________________________\")\n"
   ]
  },
  {
   "cell_type": "code",
   "execution_count": null,
   "metadata": {},
   "outputs": [
    {
     "name": "stdout",
     "output_type": "stream",
     "text": [
      "  Original  Linha1  Linha2  Linha3\n",
      "0        A       1       2       3\n",
      "1        B       4       5       6\n",
      "2        C       7       8       9\n",
      "   0  1  2\n",
      "A  x  y  z\n",
      "B  a  b  c\n"
     ]
    }
   ],
   "source": [
    "# Exemplo 2: Transposição e renomeação das colunas com reset de índice\n",
    "df9 = pd.DataFrame({\n",
    "    'A': [1, 2, 3],\n",
    "    'B': [4, 5, 6],\n",
    "    'C': [7, 8, 9]\n",
    "})\n",
    "\n",
    "transposed_renamed = df9.transpose().reset_index()\n",
    "transposed_renamed.columns = ['Original', 'Linha1', 'Linha2', 'Linha3']\n",
    "print(transposed_renamed)\n",
    "\n",
    "# Exemplo 3: Transposição com alteração de tipos\n",
    "df10 = pd.DataFrame({\n",
    "    'A': ['x', 'y', 'z'],\n",
    "    'B': ['a', 'b', 'c']\n",
    "})\n",
    "\n",
    "transposed_with_types = df10.transpose().astype(str)\n",
    "print(transposed_with_types)\n"
   ]
  },
  {
   "cell_type": "markdown",
   "metadata": {},
   "source": [
    "## Apply\n",
    "Aplicar uma função ao longo de um eixo do DataFrame."
   ]
  },
  {
   "cell_type": "code",
   "execution_count": null,
   "metadata": {},
   "outputs": [
    {
     "name": "stdout",
     "output_type": "stream",
     "text": [
      "   Valores  Duplicado      Raiz Categoria\n",
      "0        1          2  1.000000     Baixo\n",
      "1        2          4  1.414214     Baixo\n",
      "2        3          6  1.732051     Médio\n",
      "3        4          8  2.000000     Médio\n",
      "4        5         10  2.236068      Alto\n"
     ]
    }
   ],
   "source": [
    "# Criando DataFrame de exemplo\n",
    "df7 = pd.DataFrame({\n",
    "    'Valores': [1, 2, 3, 4, 5]\n",
    "})\n",
    "\n",
    "# Aplicar função lambda para duplicar os valores\n",
    "df7['Duplicado'] = df7['Valores'].apply(lambda x: x * 2)\n",
    "\n",
    "# Aplicar função numpy sqrt para calcular a raiz quadrada dos valores\n",
    "df7['Raiz'] = df7['Valores'].apply(np.sqrt)\n",
    "\n",
    "# Aplicar função personalizada para categorizar os valores\n",
    "def categorizar(valor):\n",
    "    if valor < 3:\n",
    "        return 'Baixo'\n",
    "    elif valor < 5:\n",
    "        return 'Médio'\n",
    "    else:\n",
    "        return 'Alto'\n",
    "\n",
    "df7['Categoria'] = df7['Valores'].apply(categorizar)\n",
    "print(df7)\n"
   ]
  },
  {
   "cell_type": "code",
   "execution_count": null,
   "metadata": {},
   "outputs": [
    {
     "name": "stdout",
     "output_type": "stream",
     "text": [
      "   Valores       Log\n",
      "0        1  0.000000\n",
      "1        2  0.693147\n",
      "2        3  1.098612\n",
      "3        4  1.386294\n",
      "4        5  1.609438\n",
      "_________________________________\n",
      "   A   B\n",
      "0  2   8\n",
      "1  4  10\n",
      "2  6  12\n"
     ]
    }
   ],
   "source": [
    "# Exemplo 2: Aplicar função numpy log ao longo das colunas\n",
    "df11 = pd.DataFrame({\n",
    "    'Valores': [1, 2, 3, 4, 5]\n",
    "})\n",
    "\n",
    "df11['Log'] = df11['Valores'].apply(np.log)\n",
    "print(df11)\n",
    "\n",
    "# Exemplo 3: Aplicar função usando applymap em todo o DataFrame\n",
    "df12 = pd.DataFrame({\n",
    "    'A': [1, 2, 3],\n",
    "    'B': [4, 5, 6]\n",
    "})\n",
    "print(\"_________________________________\")\n",
    "df12_applymap = df12.applymap(lambda x: x * 2)\n",
    "print(df12_applymap)\n"
   ]
  },
  {
   "cell_type": "markdown",
   "metadata": {},
   "source": [
    "## Groupby\n",
    "Agrupar dados por uma ou mais colunas e aplicar funções de agregação."
   ]
  },
  {
   "cell_type": "code",
   "execution_count": null,
   "metadata": {},
   "outputs": [
    {
     "name": "stdout",
     "output_type": "stream",
     "text": [
      "  Departamento      Salário\n",
      "0           RH  5033.333333\n",
      "1           TI  5900.000000\n",
      "_________________________________\n",
      "  Departamento  Salário\n",
      "0           RH     5200\n",
      "1           TI     6000\n",
      "_________________________________\n",
      "  Departamento  Salário\n",
      "0           RH    15100\n",
      "1           TI    11800\n",
      "_________________________________\n"
     ]
    }
   ],
   "source": [
    "# Criando DataFrame de exemplo\n",
    "df8 = pd.DataFrame({\n",
    "    'Departamento': ['RH', 'TI', 'RH', 'TI', 'RH'],\n",
    "    'Salário': [5000, 6000, 5200, 5800, 4900]\n",
    "})\n",
    "\n",
    "# Agrupar por departamento e calcular a média salarial\n",
    "grouped_df = df8.groupby('Departamento')['Salário'].mean().reset_index()\n",
    "print(grouped_df)\n",
    "print(\"_________________________________\")\n",
    "\n",
    "# Agrupar por departamento e calcular o salário máximo\n",
    "max_salary_df = df8.groupby('Departamento')['Salário'].max().reset_index()\n",
    "print(max_salary_df)\n",
    "\n",
    "print(\"_________________________________\")\n",
    "# Agrupar por departamento e calcular o total salarial\n",
    "total_salary_df = df8.groupby('Departamento')['Salário'].sum().reset_index()\n",
    "print(total_salary_df)\n",
    "\n",
    "print(\"_________________________________\")"
   ]
  },
  {
   "cell_type": "code",
   "execution_count": null,
   "metadata": {},
   "outputs": [
    {
     "name": "stdout",
     "output_type": "stream",
     "text": [
      "  Departamento Local Salário             \n",
      "                        mean   max    sum\n",
      "0           RH    MG  4900.0  4900   4900\n",
      "1           RH    SP  5100.0  5200  10200\n",
      "2           TI    RJ  5900.0  6000  11800\n",
      "   Valor\n",
      "0   20.0\n",
      "1   30.0\n",
      "2   20.0\n",
      "3   30.0\n"
     ]
    }
   ],
   "source": [
    "# Exemplo 2: Agrupar por múltiplas colunas e calcular várias estatísticas\n",
    "df13 = pd.DataFrame({\n",
    "    'Departamento': ['RH', 'TI', 'RH', 'TI', 'RH'],\n",
    "    'Local': ['SP', 'RJ', 'SP', 'RJ', 'MG'],\n",
    "    'Salário': [5000, 6000, 5200, 5800, 4900]\n",
    "})\n",
    "\n",
    "grouped_multiple = df13.groupby(['Departamento', 'Local']).agg({\n",
    "    'Salário': ['mean', 'max', 'sum']\n",
    "}).reset_index()\n",
    "print(grouped_multiple)\n",
    "\n",
    "# Exemplo 3: Agrupar e aplicar transformação personalizada\n",
    "df14 = pd.DataFrame({\n",
    "    'Categoria': ['A', 'B', 'A', 'B'],\n",
    "    'Valor': [10, 20, 30, 40]\n",
    "})\n",
    "\n",
    "def custom_transformation(x):\n",
    "    return x.sum() / x.count()\n",
    "\n",
    "grouped_custom = df14.groupby('Categoria').transform(custom_transformation)\n",
    "print(grouped_custom)\n"
   ]
  },
  {
   "cell_type": "markdown",
   "metadata": {},
   "source": [
    "## Normalização para valores numéricos\n",
    "Normalizar os valores numéricos do DataFrame.\n",
    "\n"
   ]
  },
  {
   "cell_type": "code",
   "execution_count": null,
   "metadata": {},
   "outputs": [
    {
     "name": "stdout",
     "output_type": "stream",
     "text": [
      "   A   B  A_normalizado  B_normalizado\n",
      "0  1  10           0.00           0.00\n",
      "1  2  20           0.25           0.25\n",
      "2  3  30           0.50           0.50\n",
      "3  4  40           0.75           0.75\n",
      "4  5  50           1.00           1.00\n",
      "_________________________________\n",
      "   A   B  A_normalizado  B_normalizado  A_zscore  B_zscore\n",
      "0  1  10           0.00           0.00 -1.264911 -1.264911\n",
      "1  2  20           0.25           0.25 -0.632456 -0.632456\n",
      "2  3  30           0.50           0.50  0.000000  0.000000\n",
      "3  4  40           0.75           0.75  0.632456  0.632456\n",
      "4  5  50           1.00           1.00  1.264911  1.264911\n",
      "_________________________________\n",
      "   A   B  A_normalizado  B_normalizado  A_zscore  B_zscore  A_decimal_scaling  \\\n",
      "0  1  10           0.00           0.00 -1.264911 -1.264911                0.1   \n",
      "1  2  20           0.25           0.25 -0.632456 -0.632456                0.2   \n",
      "2  3  30           0.50           0.50  0.000000  0.000000                0.3   \n",
      "3  4  40           0.75           0.75  0.632456  0.632456                0.4   \n",
      "4  5  50           1.00           1.00  1.264911  1.264911                0.5   \n",
      "\n",
      "   B_decimal_scaling  \n",
      "0                0.1  \n",
      "1                0.2  \n",
      "2                0.3  \n",
      "3                0.4  \n",
      "4                0.5  \n",
      "_________________________________\n"
     ]
    }
   ],
   "source": [
    "# Criando DataFrame de exemplo\n",
    "df9 = pd.DataFrame({\n",
    "    'A': [1, 2, 3, 4, 5],\n",
    "    'B': [10, 20, 30, 40, 50]\n",
    "})\n",
    "\n",
    "# Normalização min-max\n",
    "df9['A_normalizado'] = (df9['A'] - df9['A'].min()) / (df9['A'].max() - df9['A'].min())\n",
    "df9['B_normalizado'] = (df9['B'] - df9['B'].min()) / (df9['B'].max() - df9['B'].min())\n",
    "print(df9)\n",
    "print(\"_________________________________\")\n",
    "# Normalização z-score\n",
    "df9['A_zscore'] = (df9['A'] - df9['A'].mean()) / df9['A'].std()\n",
    "df9['B_zscore'] = (df9['B'] - df9['B'].mean()) / df9['B'].std()\n",
    "print(df9)\n",
    "print(\"_________________________________\")\n",
    "# Normalização decimal scaling\n",
    "df9['A_decimal_scaling'] = df9['A'] / 10**np.ceil(np.log10(df9['A'].abs().max()))\n",
    "df9['B_decimal_scaling'] = df9['B'] / 10**np.ceil(np.log10(df9['B'].abs().max()))\n",
    "print(df9)\n",
    "print(\"_________________________________\")"
   ]
  },
  {
   "cell_type": "code",
   "execution_count": null,
   "metadata": {},
   "outputs": [
    {
     "name": "stdout",
     "output_type": "stream",
     "text": [
      "     A    B\n",
      "0 -0.5 -0.5\n",
      "1  0.0  0.0\n",
      "2  0.5  0.5\n",
      "3  1.0  1.0\n",
      "4  1.5  1.5\n",
      "     A    B\n",
      "0  0.2  0.2\n",
      "1  0.4  0.4\n",
      "2  0.6  0.6\n",
      "3  0.8  0.8\n",
      "4  1.0  1.0\n"
     ]
    }
   ],
   "source": [
    "# Exemplo 2: Normalização por robust scaler (removendo mediana e escalando pela IQR)\n",
    "df15 = pd.DataFrame({\n",
    "    'A': [1, 2, 3, 4, 5],\n",
    "    'B': [10, 20, 30, 40, 50]\n",
    "})\n",
    "\n",
    "q1 = df15.quantile(0.25)\n",
    "q3 = df15.quantile(0.75)\n",
    "iqr = q3 - q1\n",
    "\n",
    "df15_robust = (df15 - q1) / iqr\n",
    "print(df15_robust)\n",
    "\n",
    "# Exemplo 3: Normalização com divisão pelo valor máximo (feature scaling)\n",
    "df16 = pd.DataFrame({\n",
    "    'A': [1, 2, 3, 4, 5],\n",
    "    'B': [10, 20, 30, 40, 50]\n",
    "})\n",
    "\n",
    "df16_feature_scaling = df16 / df16.max()\n",
    "print(df16_feature_scaling)\n"
   ]
  },
  {
   "cell_type": "markdown",
   "metadata": {},
   "source": [
    "##  Fillna\n",
    "Preencher valores ausentes em um DataFrame."
   ]
  },
  {
   "cell_type": "code",
   "execution_count": null,
   "metadata": {},
   "outputs": [
    {
     "name": "stdout",
     "output_type": "stream",
     "text": [
      "_________________________________\n",
      "     A    B\n",
      "0  1.0  NaN\n",
      "1  NaN  2.0\n",
      "2  3.0  NaN\n",
      "3  NaN  4.0\n",
      "4  5.0  5.0\n",
      "_________________________________\n",
      "     A    B\n",
      "0  1.0  0.0\n",
      "1  0.0  2.0\n",
      "2  3.0  0.0\n",
      "3  0.0  4.0\n",
      "4  5.0  5.0\n",
      "_________________________________\n",
      "     A         B\n",
      "0  1.0  3.666667\n",
      "1  3.0  2.000000\n",
      "2  3.0  3.666667\n",
      "3  3.0  4.000000\n",
      "4  5.0  5.000000\n",
      "_________________________________\n",
      "     A    B\n",
      "0  1.0  NaN\n",
      "1  1.0  2.0\n",
      "2  3.0  2.0\n",
      "3  3.0  4.0\n",
      "4  5.0  5.0\n",
      "_________________________________\n"
     ]
    }
   ],
   "source": [
    "# Criando DataFrame de exemplo com valores NaN\n",
    "df10 = pd.DataFrame({\n",
    "    'A': [1, np.nan, 3, np.nan, 5],\n",
    "    'B': [np.nan, 2, np.nan, 4, 5]\n",
    "})\n",
    "\n",
    "print(\"_________________________________\")\n",
    "print(df10)\n",
    "print(\"_________________________________\")\n",
    "# Preencher valores NaN com zero\n",
    "df10_filled_0 = df10.fillna(0)\n",
    "print(df10_filled_0)\n",
    "print(\"_________________________________\")\n",
    "# Preencher valores NaN com a média da coluna\n",
    "df10_filled_mean = df10.fillna(df10.mean())\n",
    "print(df10_filled_mean)\n",
    "print(\"_________________________________\")\n",
    "# Preencher valores NaN com o método ffill (forward fill)\n",
    "df10_filled_ffill = df10.fillna(method='ffill')\n",
    "print(df10_filled_ffill)\n",
    "print(\"_________________________________\")"
   ]
  },
  {
   "cell_type": "code",
   "execution_count": null,
   "metadata": {},
   "outputs": [
    {
     "name": "stdout",
     "output_type": "stream",
     "text": [
      "_________________________________\n",
      "     A    B\n",
      "0  1.0  NaN\n",
      "1  NaN  2.0\n",
      "2  3.0  NaN\n",
      "3  NaN  4.0\n",
      "4  5.0  5.0\n",
      "_________________________________\n",
      "     A    B\n",
      "0  1.0  2.0\n",
      "1  3.0  2.0\n",
      "2  3.0  4.0\n",
      "3  5.0  4.0\n",
      "4  5.0  5.0\n",
      "_________________________________\n",
      "     A    B\n",
      "0  1.0  1.0\n",
      "1  0.0  2.0\n",
      "2  3.0  1.0\n",
      "3  0.0  4.0\n",
      "4  5.0  5.0\n"
     ]
    }
   ],
   "source": [
    "# Exemplo 2: Preencher valores NaN com método bfill (backward fill)\n",
    "df17 = pd.DataFrame({\n",
    "    'A': [1, np.nan, 3, np.nan, 5],\n",
    "    'B': [np.nan, 2, np.nan, 4, 5]\n",
    "})\n",
    "\n",
    "\n",
    "\n",
    "print(\"_________________________________\")\n",
    "print(df17)\n",
    "print(\"_________________________________\")\n",
    "df17_filled_bfill = df17.fillna(method='bfill')\n",
    "print(df17_filled_bfill)\n",
    "\n",
    "# Exemplo 3: Preencher valores NaN com um dicionário de valores\n",
    "df18 = pd.DataFrame({\n",
    "    'A': [1, np.nan, 3, np.nan, 5],\n",
    "    'B': [np.nan, 2, np.nan, 4, 5]\n",
    "})\n",
    "print(\"_________________________________\")\n",
    "df18_filled_dict = df18.fillna({'A': 0, 'B': 1})\n",
    "print(df18_filled_dict)\n"
   ]
  },
  {
   "cell_type": "markdown",
   "metadata": {},
   "source": [
    "##  Replace\n",
    "Substituir valores em um DataFrame."
   ]
  },
  {
   "cell_type": "code",
   "execution_count": null,
   "metadata": {},
   "outputs": [
    {
     "name": "stdout",
     "output_type": "stream",
     "text": [
      "_____________ORIGINAL____________\n",
      "   A       B\n",
      "0  1      um\n",
      "1  2    dois\n",
      "2  3    três\n",
      "3  4  quatro\n",
      "4  5   cinco\n",
      "_________________________________\n",
      "    A       B\n",
      "0  10      um\n",
      "1  20    dois\n",
      "2   3    três\n",
      "3   4  quatro\n",
      "4   5   cinco\n",
      "_________________________________\n",
      "    A       B\n",
      "0  10     dez\n",
      "1   2    dois\n",
      "2   3    três\n",
      "3   4  quatro\n",
      "4   5   cinco\n",
      "_________________________________\n",
      "   A        B\n",
      "0  1       um\n",
      "1  2  numeral\n",
      "2  3     três\n",
      "3  4   quatro\n",
      "4  5    cinco\n",
      "_________________________________\n"
     ]
    }
   ],
   "source": [
    "# Criando DataFrame de exemplo\n",
    "df11 = pd.DataFrame({\n",
    "    'A': [1, 2, 3, 4, 5],\n",
    "    'B': ['um', 'dois', 'três', 'quatro', 'cinco']\n",
    "})\n",
    "\n",
    "print(\"_____________ORIGINAL____________\")\n",
    "\n",
    "print(df11)\n",
    "print(\"_________________________________\")\n",
    "# Substituir valores em uma coluna\n",
    "df11_replaced = df11.replace({'A': {1: 10, 2: 20}})\n",
    "print(df11_replaced)\n",
    "print(\"_________________________________\")\n",
    "# Substituir valores em múltiplas colunas\n",
    "df11_replaced_multiple = df11.replace({1: 10, 'um': 'dez'})\n",
    "print(df11_replaced_multiple)\n",
    "print(\"_________________________________\")\n",
    "# Substituir usando expressões regulares\n",
    "df11_replaced_regex = df11.replace(to_replace=r'^d.*$', value='numeral', regex=True)\n",
    "print(df11_replaced_regex)\n",
    "print(\"_________________________________\")"
   ]
  },
  {
   "cell_type": "code",
   "execution_count": null,
   "metadata": {},
   "outputs": [
    {
     "name": "stdout",
     "output_type": "stream",
     "text": [
      "   A       B  A_replaced\n",
      "0  1      um          10\n",
      "1  2    dois          20\n",
      "2  3    três          30\n",
      "3  4  quatro           4\n",
      "4  5   cinco           5\n",
      "_________________________________\n",
      "      A       B\n",
      "0    XX  XXXXXX\n",
      "1  XXXX   XXXXX\n",
      "2  XXêX    XXXX\n"
     ]
    }
   ],
   "source": [
    "# Exemplo 2: Substituir valores em uma série\n",
    "df19 = pd.DataFrame({\n",
    "    'A': [1, 2, 3, 4, 5],\n",
    "    'B': ['um', 'dois', 'três', 'quatro', 'cinco']\n",
    "})\n",
    "\n",
    "df19['A_replaced'] = df19['A'].replace([1, 2, 3], [10, 20, 30])\n",
    "print(df19)\n",
    "\n",
    "# Exemplo 3: Substituir valores com regex em múltiplas colunas\n",
    "df20 = pd.DataFrame({\n",
    "    'A': ['um', 'dois', 'três'],\n",
    "    'B': ['quatro', 'cinco', 'seis']\n",
    "})\n",
    "print(\"_________________________________\")\n",
    "df20_replaced_regex = df20.replace(to_replace=r'[a-z]', value='X', regex=True)\n",
    "print(df20_replaced_regex)\n"
   ]
  },
  {
   "cell_type": "markdown",
   "metadata": {},
   "source": [
    "# 5"
   ]
  },
  {
   "cell_type": "markdown",
   "metadata": {},
   "source": [
    "# 5"
   ]
  },
  {
   "cell_type": "markdown",
   "metadata": {},
   "source": []
  },
  {
   "cell_type": "markdown",
   "metadata": {},
   "source": []
  },
  {
   "cell_type": "markdown",
   "metadata": {},
   "source": []
  },
  {
   "cell_type": "markdown",
   "metadata": {},
   "source": []
  },
  {
   "cell_type": "markdown",
   "metadata": {},
   "source": []
  },
  {
   "cell_type": "markdown",
   "metadata": {},
   "source": []
  },
  {
   "cell_type": "markdown",
   "metadata": {},
   "source": []
  },
  {
   "cell_type": "markdown",
   "metadata": {},
   "source": []
  }
 ],
 "metadata": {
  "language_info": {
   "name": "python"
  }
 },
 "nbformat": 4,
 "nbformat_minor": 2
}
