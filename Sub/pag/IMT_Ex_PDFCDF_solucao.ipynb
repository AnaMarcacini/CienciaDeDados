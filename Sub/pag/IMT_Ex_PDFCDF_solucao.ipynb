{
  "nbformat": 4,
  "nbformat_minor": 0,
  "metadata": {
    "colab": {
      "provenance": []
    },
    "kernelspec": {
      "name": "python3",
      "display_name": "Python 3"
    },
    "language_info": {
      "name": "python"
    }
  },
  "cells": [
    {
      "cell_type": "markdown",
      "metadata": {
        "id": "80CF3Eq9EXDW"
      },
      "source": [
        "<head>\n",
        "  <meta name=\"author\" content=\"Rogério de Oliveira\">\n",
        "  <meta institution=\"author\" content=\"ITM\">\n",
        "</head>\n",
        "\n",
        "<img src=\"https://maua.br/images/selo-60-anos-maua.svg\" width=300, align=\"right\">\n",
        "<!-- <h1 align=left><font size = 6, style=\"color:rgb(200,0,0)\"> optional title </font></h1> -->\n"
      ]
    },
    {
      "cell_type": "code",
      "source": [
        "import pandas as pd\n",
        "import numpy as np\n",
        "import matplotlib.pyplot as plt\n",
        "import seaborn as sns\n",
        "\n",
        "from scipy.stats import lognorm, norm, expon, weibull_min"
      ],
      "metadata": {
        "id": "6kSLx-rCDmvD"
      },
      "execution_count": null,
      "outputs": []
    },
    {
      "cell_type": "markdown",
      "source": [
        "# **CASE: Vendas Diárias**\n",
        "\n",
        "As vendas diárias de uma loja têm média de R$ 5000. Em geral o volume de vendas tem uma distribuição *lognorm*. O valor do *desvio padrão da distribuição lognormal* é 0.5 (note, este é *s*, *shape* da distribuição lognorm).\n",
        "\n"
      ],
      "metadata": {
        "id": "BT8aYfXiHrNa"
      }
    },
    {
      "cell_type": "code",
      "source": [
        "np.random.seed(1)\n",
        "x = lognorm.rvs(s=0.5, scale=5000, size=60)\n",
        "sns.histplot(x, kde=True)\n",
        "plt.show()\n",
        "x[0:10]"
      ],
      "metadata": {
        "colab": {
          "base_uri": "https://localhost:8080/",
          "height": 482
        },
        "id": "Wv-_GchBF9BE",
        "outputId": "9f857f12-97cf-44bf-b3eb-5ea90aaeb7b3"
      },
      "execution_count": null,
      "outputs": [
        {
          "output_type": "display_data",
          "data": {
            "text/plain": [
              "<Figure size 640x480 with 1 Axes>"
            ],
            "image/png": "[encoded data removed]"
          },
          "metadata": {}
        },
        {
          "output_type": "execute_result",
          "data": {
            "text/plain": [
              "array([11263.9864252 ,  3682.38155891,  3839.53795946,  2924.00309789,\n",
              "        7707.09803598,  1581.96629529, 11963.30196612,  3417.24428614,\n",
              "        5864.73595401,  4413.87383583])"
            ]
          },
          "metadata": {},
          "execution_count": 60
        }
      ]
    },
    {
      "cell_type": "code",
      "source": [
        "shape, loc, scale = lognorm.fit(x, floc=0)  # floc=0 força o deslocamento (loc) a ser 0\n",
        "shape, loc, scale\n"
      ],
      "metadata": {
        "colab": {
          "base_uri": "https://localhost:8080/"
        },
        "id": "bTa79bqgNqDS",
        "outputId": "76c35b05-f612-4a73-fa31-10c3e7d399bd"
      },
      "execution_count": null,
      "outputs": [
        {
          "output_type": "execute_result",
          "data": {
            "text/plain": [
              "(0.4632259381029043, 0, 5020.82910233391)"
            ]
          },
          "metadata": {},
          "execution_count": 61
        }
      ]
    },
    {
      "cell_type": "markdown",
      "source": [
        "# Q2A.\n",
        "\n",
        "Qual a probabilidade das vendas ficarem abaixo de R$ 3000.\n",
        "\n",
        "\n"
      ],
      "metadata": {
        "id": "bKCE-bTmOpXZ"
      }
    },
    {
      "cell_type": "code",
      "source": [
        "lognorm.cdf(3000,s=0.5,scale=5000)"
      ],
      "metadata": {
        "colab": {
          "base_uri": "https://localhost:8080/"
        },
        "id": "VHc5ELYUPFVq",
        "outputId": "7671be8d-1685-47bd-9bfb-bc9df6e2288d"
      },
      "execution_count": null,
      "outputs": [
        {
          "output_type": "execute_result",
          "data": {
            "text/plain": [
              "0.15347299656473"
            ]
          },
          "metadata": {},
          "execution_count": 62
        }
      ]
    },
    {
      "cell_type": "markdown",
      "source": [
        "# Q2B.\n",
        "\n",
        "Qual a probabilidade das vendas ficarem acima de R$ 8000.\n",
        "\n",
        "\n"
      ],
      "metadata": {
        "id": "oXRAU9TwPZnh"
      }
    },
    {
      "cell_type": "code",
      "source": [
        "1 - lognorm.cdf(8000,s=0.5,scale=5000)"
      ],
      "metadata": {
        "colab": {
          "base_uri": "https://localhost:8080/"
        },
        "outputId": "72be0226-bb1c-475e-fe81-ee4bbb7bca10",
        "id": "-4g0NxaHPZnp"
      },
      "execution_count": null,
      "outputs": [
        {
          "output_type": "execute_result",
          "data": {
            "text/plain": [
              "0.17360691875027223"
            ]
          },
          "metadata": {},
          "execution_count": 64
        }
      ]
    },
    {
      "cell_type": "markdown",
      "source": [
        "# Q2C.\n",
        "\n",
        "Qual o valor mínimo que você pode esperar vender em 90% dos dias? (renda mínima garantida)\n",
        "\n",
        "\n"
      ],
      "metadata": {
        "id": "xSApsN4xPmpN"
      }
    },
    {
      "cell_type": "code",
      "source": [
        "lognorm.ppf(1 - 0.9,s=0.5,scale=5000)"
      ],
      "metadata": {
        "colab": {
          "base_uri": "https://localhost:8080/"
        },
        "outputId": "ac0da74b-221e-40ff-e799-bad7fbb0bf70",
        "id": "khDeDPDRPmpO"
      },
      "execution_count": null,
      "outputs": [
        {
          "output_type": "execute_result",
          "data": {
            "text/plain": [
              "2634.4175914801826"
            ]
          },
          "metadata": {},
          "execution_count": 70
        }
      ]
    },
    {
      "cell_type": "markdown",
      "source": [
        "# **CASE: Fila de Atendimento**\n",
        "\n",
        "A fila de atendimento de um serviço de saúde tem nos finais de semana taxa de chegada de 3 pacientes por hora e taxa de atendimento (serviço) de 4 pacientes por hora. Filas desse tipo são modeladas com distribuição exponencial (poisson).\n",
        "\n",
        "Dica: Empregue `mean_time_in_system = 1 / (mu_service - lambda_arrival)` para sua distribuição, e sempre `mu_service > lambda_arrival`.\n",
        "\n"
      ],
      "metadata": {
        "id": "6bhcDFi0SVoT"
      }
    },
    {
      "cell_type": "code",
      "source": [
        "np.random.seed(1)\n",
        "mean_time_in_system = 1 / (4 - 3)\n",
        "\n",
        "x = expon.rvs(scale=mean_time_in_system, size=60)\n",
        "sns.histplot(x, kde=True)\n",
        "plt.show()\n",
        "x[0:10]"
      ],
      "metadata": {
        "colab": {
          "base_uri": "https://localhost:8080/",
          "height": 482
        },
        "id": "oD7nf4rBTMuP",
        "outputId": "4d53d13e-647a-43a3-b18d-836119a36f57"
      },
      "execution_count": null,
      "outputs": [
        {
          "output_type": "display_data",
          "data": {
            "text/plain": [
              "<Figure size 640x480 with 1 Axes>"
            ],
            "image/png": "[encoded data removed]"
          },
          "metadata": {}
        },
        {
          "output_type": "execute_result",
          "data": {
            "text/plain": [
              "array([5.39605837e-01, 1.27412525e+00, 1.14381359e-04, 3.60012755e-01,\n",
              "       1.58709595e-01, 9.68838717e-02, 2.06114634e-01, 4.23976482e-01,\n",
              "       5.05452542e-01, 7.73959775e-01])"
            ]
          },
          "metadata": {},
          "execution_count": 77
        }
      ]
    },
    {
      "cell_type": "markdown",
      "source": [
        "# Q3A.\n",
        "\n",
        "Qual a probabilidade de espera de até 1h na fila de atendimento?"
      ],
      "metadata": {
        "id": "zZ60wPtKV8ht"
      }
    },
    {
      "cell_type": "code",
      "source": [
        "expon.cdf(1, scale=mean_time_in_system)"
      ],
      "metadata": {
        "colab": {
          "base_uri": "https://localhost:8080/"
        },
        "id": "22C_Th1cWIw-",
        "outputId": "965c58d1-2f88-4680-d66d-844c69590854"
      },
      "execution_count": null,
      "outputs": [
        {
          "output_type": "execute_result",
          "data": {
            "text/plain": [
              "0.6321205588285577"
            ]
          },
          "metadata": {},
          "execution_count": 78
        }
      ]
    },
    {
      "cell_type": "markdown",
      "source": [
        "# Q3B.\n",
        "\n",
        "Qual a probabilidade de espera de mais de 1h na fila de atendimento?"
      ],
      "metadata": {
        "id": "Vzht-kzCWRrk"
      }
    },
    {
      "cell_type": "code",
      "source": [
        "1 - expon.cdf(1, scale=mean_time_in_system)"
      ],
      "metadata": {
        "colab": {
          "base_uri": "https://localhost:8080/"
        },
        "outputId": "9d9fea59-2c70-452f-dbc8-584d50fb3e67",
        "id": "XoYNTLKDWRrl"
      },
      "execution_count": null,
      "outputs": [
        {
          "output_type": "execute_result",
          "data": {
            "text/plain": [
              "0.36787944117144233"
            ]
          },
          "metadata": {},
          "execution_count": 79
        }
      ]
    },
    {
      "cell_type": "markdown",
      "source": [
        "# Q3C.\n",
        "\n",
        "O setor precisa garantir, para não ter penalidades, que 90% dos atendimentos são realizados em menos de 2h. O setor está atendendo essa demanda?"
      ],
      "metadata": {
        "id": "boJXgMyOWbog"
      }
    },
    {
      "cell_type": "code",
      "source": [
        "expon.ppf(0.90, scale=mean_time_in_system)"
      ],
      "metadata": {
        "colab": {
          "base_uri": "https://localhost:8080/"
        },
        "outputId": "0580ee2a-7334-41ea-a7d0-8bfe3e3583ae",
        "id": "LbXu7hKmWbog"
      },
      "execution_count": null,
      "outputs": [
        {
          "output_type": "execute_result",
          "data": {
            "text/plain": [
              "2.302585092994046"
            ]
          },
          "metadata": {},
          "execution_count": 84
        }
      ]
    },
    {
      "cell_type": "markdown",
      "source": [
        "# Q3D.\n",
        "\n",
        "Qual o percentual de pacientes atendidos entre 1h e 2h de atendimento?"
      ],
      "metadata": {
        "id": "KPYyCkxwXQ4k"
      }
    },
    {
      "cell_type": "code",
      "source": [
        "(1 - expon.cdf(1, scale=mean_time_in_system)) - (1 - expon.cdf(2, scale=mean_time_in_system))"
      ],
      "metadata": {
        "colab": {
          "base_uri": "https://localhost:8080/"
        },
        "outputId": "39949030-eab2-4bdc-afd2-042273356fb9",
        "id": "1tMpi9nNXQ4s"
      },
      "execution_count": null,
      "outputs": [
        {
          "output_type": "execute_result",
          "data": {
            "text/plain": [
              "0.23254415793482963"
            ]
          },
          "metadata": {},
          "execution_count": 89
        }
      ]
    },
    {
      "cell_type": "markdown",
      "source": [
        "# **CASE: Falha de Peças com Desgaste**\n",
        "\n",
        "Uma peça do trem de pouso de uma aeronave tem uma vida útil de 5000 horas e uma taxa de falhas crescente ao longo do tempo estimada em 1.5."
      ],
      "metadata": {
        "id": "cda7cm73a9XM"
      }
    },
    {
      "cell_type": "code",
      "source": [
        "np.random.seed(1)\n",
        "lambda_scale = 5000  # escala, vida média em horas\n",
        "k_shape = 1.5  # forma, <1 pouquissímas falhas, =1 taxa constante (exponencial), >1.5 taxa aumenta, modelando por exemplo desgaste\n",
        "\n",
        "x = weibull_min.rvs(c=k_shape, scale=lambda_scale, size=60)\n",
        "sns.histplot(x, kde=True)\n",
        "plt.show()\n",
        "x[0:10]"
      ],
      "metadata": {
        "colab": {
          "base_uri": "https://localhost:8080/",
          "height": 482
        },
        "id": "_heHDkfOaf-7",
        "outputId": "dc9e34e4-d35e-4be7-8e84-2ab74555a26c"
      },
      "execution_count": null,
      "outputs": [
        {
          "output_type": "display_data",
          "data": {
            "text/plain": [
              "<Figure size 640x480 with 1 Axes>"
            ],
            "image/png": "[encoded data removed]"
          },
          "metadata": {}
        },
        {
          "output_type": "execute_result",
          "data": {
            "text/plain": [
              "array([3314.01469915, 5876.40094596,   11.78166957, 2530.35776144,\n",
              "       1465.67875777, 1054.72116597, 1744.65364761, 2821.83218212,\n",
              "       3172.66044575, 4214.8513656 ])"
            ]
          },
          "metadata": {},
          "execution_count": 95
        }
      ]
    },
    {
      "cell_type": "markdown",
      "source": [
        "# Q4A.\n",
        "\n",
        "Qual a probabilidade de falha dessa peça em menos de 1000h?"
      ],
      "metadata": {
        "id": "02zlyJ-AbwwP"
      }
    },
    {
      "cell_type": "code",
      "source": [
        "weibull_min.cdf(1000,c=k_shape, scale=lambda_scale)"
      ],
      "metadata": {
        "colab": {
          "base_uri": "https://localhost:8080/"
        },
        "id": "TUmRKND7bu2Y",
        "outputId": "ca1997a2-3f64-4bae-d556-58d122cedd35"
      },
      "execution_count": null,
      "outputs": [
        {
          "output_type": "execute_result",
          "data": {
            "text/plain": [
              "0.08555935639278299"
            ]
          },
          "metadata": {},
          "execution_count": 96
        }
      ]
    },
    {
      "cell_type": "markdown",
      "source": [
        "# Q4B.\n",
        "\n",
        "Você tem 500 peças que foram compradas e instaladas em um lote único (mesma data). Considerando 2000h (cerca de 90 dias), qual estoque de reposição precisa haver para garantir cobrir 90 das falhas nessas próximas 2000h?"
      ],
      "metadata": {
        "id": "KohsL8bacK_7"
      }
    },
    {
      "cell_type": "code",
      "source": [
        "weibull_min.cdf(2000,c=k_shape,scale=lambda_scale) * 500"
      ],
      "metadata": {
        "colab": {
          "base_uri": "https://localhost:8080/"
        },
        "outputId": "c8c62dd6-c571-45d2-f654-3da5b5237a02",
        "id": "n9Uafaq-cK_7"
      },
      "execution_count": null,
      "outputs": [
        {
          "output_type": "execute_result",
          "data": {
            "text/plain": [
              "111.7591534371911"
            ]
          },
          "metadata": {},
          "execution_count": 102
        }
      ]
    },
    {
      "cell_type": "markdown",
      "source": [
        "# Q4C.\n",
        "\n",
        "Qual o tempo de vida dos 10% de peças que apresentam falhas mais cedo?  "
      ],
      "metadata": {
        "id": "C2tMQErndoKq"
      }
    },
    {
      "cell_type": "code",
      "source": [
        "weibull_min.ppf(0.1,c=k_shape,scale=lambda_scale)"
      ],
      "metadata": {
        "colab": {
          "base_uri": "https://localhost:8080/"
        },
        "outputId": "8f661df2-1373-4549-eb53-607d0643194c",
        "id": "9kR-hTS4doKy"
      },
      "execution_count": null,
      "outputs": [
        {
          "output_type": "execute_result",
          "data": {
            "text/plain": [
              "1115.3776281845855"
            ]
          },
          "metadata": {},
          "execution_count": 106
        }
      ]
    }
  ]
}